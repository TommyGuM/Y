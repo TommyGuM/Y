{
 "cells": [
  {
   "cell_type": "markdown",
   "id": "05a9a70f",
   "metadata": {},
   "source": [
    "Привет, Артем.\n",
    "\n",
    "Меня зовут Людмила, и я буду проводить ревью твоего проекта. \n",
    "\n",
    "Предлагаю перейти на «ты», если не против)\n",
    "\n",
    "Но если это не удобно — дай знать, и мы перейдем на «вы». Моя главная задача — не находить сделанные тобою ошибки, а передать свой опыт и помочь тебе стать аналитиком данных.\n",
    "\n",
    "Мои комментарии будут в ячейках «Комментарий от ревьюера».\n",
    "\n",
    "---    \n",
    "<div class=\"alert alert-block alert-danger\">\n",
    "    \n",
    "Критическое замечание, которые следует исправить.\n",
    "</div> \n",
    "    \n",
    "<div class=\"alert alert-block alert-warning\">\n",
    "    \n",
    "Замечание\\совет на будущее.\n",
    "</div>\n",
    "    \n",
    "<div class=\"alert alert-block alert-success\">\n",
    "    \n",
    "Когда всё сделано правильно.\n",
    "</div>\n",
    "    \n",
    "---        \n",
    "    \n",
    "Если ты вносишь изменения в проект по моим рекомендациям, указывай, пожалуйста, это в своих комментариях. Будет удобно, если обозначишь свои комментарии заметным цветом или поместишь \n",
    "\n",
    "<div class=\"alert alert-info\">\n",
    "    \n",
    "в такую ячейку\n",
    "</div>\n",
    "\n",
    "Давай при работе с проектом мы будем общаться с тобой в диалоге, поэтому не удаляй и не перемещай мои комментарии, это поможет мне сделать повторную  проверку проекта быстрее.\n",
    "___"
   ]
  },
  {
   "cell_type": "markdown",
   "id": "c82a4393-f722-4e34-84b4-924fcad2d713",
   "metadata": {},
   "source": [
    "# Исследовательский проект крупного онлайн магазина"
   ]
  },
  {
   "cell_type": "markdown",
   "id": "fa5cbcc9-0630-4cc0-9e12-c63f13581b50",
   "metadata": {
    "jp-MarkdownHeadingCollapsed": true
   },
   "source": [
    "### Описание проекта "
   ]
  },
  {
   "cell_type": "markdown",
   "id": "df884eb0-c5d6-4c30-af49-1bd3ed48eb31",
   "metadata": {},
   "source": [
    "- Вместе с отделом маркетинга мы подготовили список гипотез для увеличения выручки.\n",
    "- Приоритизиреуем гипотезы, запустм A/B-тест и проанализируем результаты.\n",
    " \n",
    "Есть данные о гипотезах, их краткое описание с охватом пользователей и оценкой влияния\n",
    "\n",
    "Также есть датасет о пользователях, заказах, выручке. Определены группы для проведения A/B тестирования, указаны даты."
   ]
  },
  {
   "cell_type": "markdown",
   "id": "d943c24f-d3e9-4e16-9439-ed90aa6d7cb9",
   "metadata": {
    "jp-MarkdownHeadingCollapsed": true
   },
   "source": [
    "### Цель проекта:"
   ]
  },
  {
   "cell_type": "markdown",
   "id": "cfbbfd79-298c-4825-ad29-55b494b074b6",
   "metadata": {},
   "source": [
    "Узнаем, как изменилась приоритизация гипотез при применении RICE и ICE. Сделаем выводы.\n",
    "\n",
    "Проанализировать A/B-тест:\n",
    "\n",
    "- Построим график кумулятивной выручки по группам. \n",
    "- Построим график кумулятивного среднего чека по группам. \n",
    "- Построим график относительного изменения кумулятивного среднего чека группы B к группе A. \n",
    "- Построим график кумулятивного среднего количества заказов на посетителя по группам. \n",
    "- Построим график относительного изменения кумулятивного среднего количества заказов на посетителя группы B к группе A.\n",
    "- Построим точечный график количества заказов по пользователям.\n",
    "- Посчитаем 95-й и 99-й перцентили количества заказов на пользователя. \n",
    "- Построим точечный график стоимостей заказов.  \n",
    "- Посчитаем 95-й и 99-й перцентили стоимости заказов.\n",
    "- Посчитаем статистическую значимость различий в среднем количестве заказов на посетителя между группами по «сырым» данным\n",
    "- Посчитаем статистическую значимость различий в среднем чеке заказа между группами по «сырым» данным\n",
    "- Посчитаем статистическую значимость различий в среднем количестве заказов на посетителя между группами по «очищенным» данным\n",
    "- Посчитаем статистическую значимость различий в среднем чеке заказа между группами по «очищенным» данным\n",
    "\n",
    "Примем соответствующее решение  :\n",
    "1. Остановить тест, зафиксировать победу одной из групп.\n",
    "2. Остановить тест, зафиксировать отсутствие различий между группами.\n",
    "3. Продолжить тест."
   ]
  },
  {
   "cell_type": "markdown",
   "id": "a586c9ab-187f-4e1e-b34c-f894786c41ba",
   "metadata": {
    "jp-MarkdownHeadingCollapsed": true
   },
   "source": [
    "### План работы: "
   ]
  },
  {
   "cell_type": "markdown",
   "id": "568056cc-412b-4337-b32e-17033fe7199d",
   "metadata": {},
   "source": [
    "- Загрузить данные\n",
    "- Произвести предобработку данных. Проверить на пропуски значений, дубликаты, ошибки типов данных.\n",
    "- Применим приоритезации гипотез\n",
    "- Проанализируем A/B тест\n",
    "- Сделаем выводы."
   ]
  },
  {
   "cell_type": "markdown",
   "id": "72e86cbc",
   "metadata": {},
   "source": [
    "<div class=\"alert alert-block alert-success\">\n",
    "    \n",
    "<b>Комментарий от ревьюера</b> Хорошо, что во вступительной части ты указываешь всю важную информацию о проекте.\n",
    "</div>"
   ]
  },
  {
   "cell_type": "markdown",
   "id": "1d2ea1f4-9703-486a-8479-da6814e2fafc",
   "metadata": {
    "jp-MarkdownHeadingCollapsed": true
   },
   "source": [
    "### Импорт библиотек "
   ]
  },
  {
   "cell_type": "code",
   "execution_count": 72,
   "id": "05511c73-9ab1-4930-9b91-cebf687386dd",
   "metadata": {},
   "outputs": [],
   "source": [
    "import pandas as pd\n",
    "import numpy as np\n",
    "import matplotlib.pyplot as plt\n",
    "import seaborn as sns\n",
    "import datetime as dt\n",
    "import scipy.stats as stats\n",
    "\n",
    "import warnings\n",
    "warnings.filterwarnings(action='ignore')"
   ]
  },
  {
   "cell_type": "markdown",
   "id": "7a330502",
   "metadata": {},
   "source": [
    "<div class=\"alert alert-block alert-success\">\n",
    "    \n",
    "<b>Комментарий от ревьюера</b> \n",
    "    \n",
    "Все нужные библиотеки загружены, отлично.\n",
    "</div>"
   ]
  },
  {
   "cell_type": "markdown",
   "id": "14a0f76e-40da-4dc8-9691-366000d55733",
   "metadata": {
    "jp-MarkdownHeadingCollapsed": true
   },
   "source": [
    "### Шаг №1. Загрузка данных"
   ]
  },
  {
   "cell_type": "code",
   "execution_count": 73,
   "id": "6576f531-028d-4f84-a9f3-63b90f66ae00",
   "metadata": {},
   "outputs": [],
   "source": [
    "try:\n",
    "    hypothesis = pd.read_csv('C:\\\\Users\\\\tema-\\\\Downloads\\\\Jupyter\\\\Doc_csv\\\\hypothesis.csv')\n",
    "    orders = pd.read_csv('C:\\\\Users\\\\tema-\\\\Downloads\\\\Jupyter\\\\Doc_csv\\\\orders.csv')\n",
    "    visitors = pd.read_csv('C:\\\\Users\\\\tema-\\\\Downloads\\\\Jupyter\\\\Doc_csv\\\\visitors.csv')\n",
    "except:\n",
    "    hypothesis = pd.read_csv('/datasets/hypothesis.csv')\n",
    "    orders = pd.read_csv('/datasets/orders.csv')\n",
    "    visitors = pd.read_csv('/datasets/visitors.csv')\n"
   ]
  },
  {
   "cell_type": "code",
   "execution_count": 74,
   "id": "b956ff0e-fec1-4df0-8f83-a1fc18c2de65",
   "metadata": {},
   "outputs": [
    {
     "data": {
      "text/plain": [
       "'Данные о гипотезах'"
      ]
     },
     "metadata": {},
     "output_type": "display_data"
    },
    {
     "data": {
      "text/html": [
       "<div>\n",
       "<style scoped>\n",
       "    .dataframe tbody tr th:only-of-type {\n",
       "        vertical-align: middle;\n",
       "    }\n",
       "\n",
       "    .dataframe tbody tr th {\n",
       "        vertical-align: top;\n",
       "    }\n",
       "\n",
       "    .dataframe thead th {\n",
       "        text-align: right;\n",
       "    }\n",
       "</style>\n",
       "<table border=\"1\" class=\"dataframe\">\n",
       "  <thead>\n",
       "    <tr style=\"text-align: right;\">\n",
       "      <th></th>\n",
       "      <th>Hypothesis</th>\n",
       "      <th>Reach</th>\n",
       "      <th>Impact</th>\n",
       "      <th>Confidence</th>\n",
       "      <th>Efforts</th>\n",
       "    </tr>\n",
       "  </thead>\n",
       "  <tbody>\n",
       "    <tr>\n",
       "      <th>0</th>\n",
       "      <td>Добавить два новых канала привлечения трафика, что позволит привлекать на 30% больше пользователей</td>\n",
       "      <td>3</td>\n",
       "      <td>10</td>\n",
       "      <td>8</td>\n",
       "      <td>6</td>\n",
       "    </tr>\n",
       "    <tr>\n",
       "      <th>1</th>\n",
       "      <td>Запустить собственную службу доставки, что сократит срок доставки заказов</td>\n",
       "      <td>2</td>\n",
       "      <td>5</td>\n",
       "      <td>4</td>\n",
       "      <td>10</td>\n",
       "    </tr>\n",
       "    <tr>\n",
       "      <th>2</th>\n",
       "      <td>Добавить блоки рекомендаций товаров на сайт интернет магазина, чтобы повысить конверсию и средний чек заказа</td>\n",
       "      <td>8</td>\n",
       "      <td>3</td>\n",
       "      <td>7</td>\n",
       "      <td>3</td>\n",
       "    </tr>\n",
       "    <tr>\n",
       "      <th>3</th>\n",
       "      <td>Изменить структура категорий, что увеличит конверсию, т.к. пользователи быстрее найдут нужный товар</td>\n",
       "      <td>8</td>\n",
       "      <td>3</td>\n",
       "      <td>3</td>\n",
       "      <td>8</td>\n",
       "    </tr>\n",
       "    <tr>\n",
       "      <th>4</th>\n",
       "      <td>Изменить цвет фона главной страницы, чтобы увеличить вовлеченность пользователей</td>\n",
       "      <td>3</td>\n",
       "      <td>1</td>\n",
       "      <td>1</td>\n",
       "      <td>1</td>\n",
       "    </tr>\n",
       "    <tr>\n",
       "      <th>5</th>\n",
       "      <td>Добавить страницу отзывов клиентов о магазине, что позволит увеличить количество заказов</td>\n",
       "      <td>3</td>\n",
       "      <td>2</td>\n",
       "      <td>2</td>\n",
       "      <td>3</td>\n",
       "    </tr>\n",
       "    <tr>\n",
       "      <th>6</th>\n",
       "      <td>Показать на главной странице баннеры с актуальными акциями и распродажами, чтобы увеличить конверсию</td>\n",
       "      <td>5</td>\n",
       "      <td>3</td>\n",
       "      <td>8</td>\n",
       "      <td>3</td>\n",
       "    </tr>\n",
       "    <tr>\n",
       "      <th>7</th>\n",
       "      <td>Добавить форму подписки на все основные страницы, чтобы собрать базу клиентов для email-рассылок</td>\n",
       "      <td>10</td>\n",
       "      <td>7</td>\n",
       "      <td>8</td>\n",
       "      <td>5</td>\n",
       "    </tr>\n",
       "    <tr>\n",
       "      <th>8</th>\n",
       "      <td>Запустить акцию, дающую скидку на товар в день рождения</td>\n",
       "      <td>1</td>\n",
       "      <td>9</td>\n",
       "      <td>9</td>\n",
       "      <td>5</td>\n",
       "    </tr>\n",
       "  </tbody>\n",
       "</table>\n",
       "</div>"
      ],
      "text/plain": [
       "                                                                                                     Hypothesis  \\\n",
       "0            Добавить два новых канала привлечения трафика, что позволит привлекать на 30% больше пользователей   \n",
       "1                                     Запустить собственную службу доставки, что сократит срок доставки заказов   \n",
       "2  Добавить блоки рекомендаций товаров на сайт интернет магазина, чтобы повысить конверсию и средний чек заказа   \n",
       "3           Изменить структура категорий, что увеличит конверсию, т.к. пользователи быстрее найдут нужный товар   \n",
       "4                              Изменить цвет фона главной страницы, чтобы увеличить вовлеченность пользователей   \n",
       "5                      Добавить страницу отзывов клиентов о магазине, что позволит увеличить количество заказов   \n",
       "6          Показать на главной странице баннеры с актуальными акциями и распродажами, чтобы увеличить конверсию   \n",
       "7              Добавить форму подписки на все основные страницы, чтобы собрать базу клиентов для email-рассылок   \n",
       "8                                                       Запустить акцию, дающую скидку на товар в день рождения   \n",
       "\n",
       "   Reach  Impact  Confidence  Efforts  \n",
       "0      3      10           8        6  \n",
       "1      2       5           4       10  \n",
       "2      8       3           7        3  \n",
       "3      8       3           3        8  \n",
       "4      3       1           1        1  \n",
       "5      3       2           2        3  \n",
       "6      5       3           8        3  \n",
       "7     10       7           8        5  \n",
       "8      1       9           9        5  "
      ]
     },
     "metadata": {},
     "output_type": "display_data"
    },
    {
     "data": {
      "text/plain": [
       "'Данные о заказах'"
      ]
     },
     "metadata": {},
     "output_type": "display_data"
    },
    {
     "data": {
      "text/html": [
       "<div>\n",
       "<style scoped>\n",
       "    .dataframe tbody tr th:only-of-type {\n",
       "        vertical-align: middle;\n",
       "    }\n",
       "\n",
       "    .dataframe tbody tr th {\n",
       "        vertical-align: top;\n",
       "    }\n",
       "\n",
       "    .dataframe thead th {\n",
       "        text-align: right;\n",
       "    }\n",
       "</style>\n",
       "<table border=\"1\" class=\"dataframe\">\n",
       "  <thead>\n",
       "    <tr style=\"text-align: right;\">\n",
       "      <th></th>\n",
       "      <th>transactionId</th>\n",
       "      <th>visitorId</th>\n",
       "      <th>date</th>\n",
       "      <th>revenue</th>\n",
       "      <th>group</th>\n",
       "    </tr>\n",
       "  </thead>\n",
       "  <tbody>\n",
       "    <tr>\n",
       "      <th>0</th>\n",
       "      <td>3667963787</td>\n",
       "      <td>3312258926</td>\n",
       "      <td>2019-08-15</td>\n",
       "      <td>1650</td>\n",
       "      <td>B</td>\n",
       "    </tr>\n",
       "    <tr>\n",
       "      <th>1</th>\n",
       "      <td>2804400009</td>\n",
       "      <td>3642806036</td>\n",
       "      <td>2019-08-15</td>\n",
       "      <td>730</td>\n",
       "      <td>B</td>\n",
       "    </tr>\n",
       "    <tr>\n",
       "      <th>2</th>\n",
       "      <td>2961555356</td>\n",
       "      <td>4069496402</td>\n",
       "      <td>2019-08-15</td>\n",
       "      <td>400</td>\n",
       "      <td>A</td>\n",
       "    </tr>\n",
       "    <tr>\n",
       "      <th>3</th>\n",
       "      <td>3797467345</td>\n",
       "      <td>1196621759</td>\n",
       "      <td>2019-08-15</td>\n",
       "      <td>9759</td>\n",
       "      <td>B</td>\n",
       "    </tr>\n",
       "    <tr>\n",
       "      <th>4</th>\n",
       "      <td>2282983706</td>\n",
       "      <td>2322279887</td>\n",
       "      <td>2019-08-15</td>\n",
       "      <td>2308</td>\n",
       "      <td>B</td>\n",
       "    </tr>\n",
       "    <tr>\n",
       "      <th>...</th>\n",
       "      <td>...</td>\n",
       "      <td>...</td>\n",
       "      <td>...</td>\n",
       "      <td>...</td>\n",
       "      <td>...</td>\n",
       "    </tr>\n",
       "    <tr>\n",
       "      <th>1192</th>\n",
       "      <td>2662137336</td>\n",
       "      <td>3733762160</td>\n",
       "      <td>2019-08-14</td>\n",
       "      <td>6490</td>\n",
       "      <td>B</td>\n",
       "    </tr>\n",
       "    <tr>\n",
       "      <th>1193</th>\n",
       "      <td>2203539145</td>\n",
       "      <td>370388673</td>\n",
       "      <td>2019-08-14</td>\n",
       "      <td>3190</td>\n",
       "      <td>A</td>\n",
       "    </tr>\n",
       "    <tr>\n",
       "      <th>1194</th>\n",
       "      <td>1807773912</td>\n",
       "      <td>573423106</td>\n",
       "      <td>2019-08-14</td>\n",
       "      <td>10550</td>\n",
       "      <td>A</td>\n",
       "    </tr>\n",
       "    <tr>\n",
       "      <th>1195</th>\n",
       "      <td>1947021204</td>\n",
       "      <td>1614305549</td>\n",
       "      <td>2019-08-14</td>\n",
       "      <td>100</td>\n",
       "      <td>A</td>\n",
       "    </tr>\n",
       "    <tr>\n",
       "      <th>1196</th>\n",
       "      <td>3936777065</td>\n",
       "      <td>2108080724</td>\n",
       "      <td>2019-08-15</td>\n",
       "      <td>202740</td>\n",
       "      <td>B</td>\n",
       "    </tr>\n",
       "  </tbody>\n",
       "</table>\n",
       "<p>1197 rows × 5 columns</p>\n",
       "</div>"
      ],
      "text/plain": [
       "      transactionId   visitorId        date  revenue group\n",
       "0        3667963787  3312258926  2019-08-15     1650     B\n",
       "1        2804400009  3642806036  2019-08-15      730     B\n",
       "2        2961555356  4069496402  2019-08-15      400     A\n",
       "3        3797467345  1196621759  2019-08-15     9759     B\n",
       "4        2282983706  2322279887  2019-08-15     2308     B\n",
       "...             ...         ...         ...      ...   ...\n",
       "1192     2662137336  3733762160  2019-08-14     6490     B\n",
       "1193     2203539145   370388673  2019-08-14     3190     A\n",
       "1194     1807773912   573423106  2019-08-14    10550     A\n",
       "1195     1947021204  1614305549  2019-08-14      100     A\n",
       "1196     3936777065  2108080724  2019-08-15   202740     B\n",
       "\n",
       "[1197 rows x 5 columns]"
      ]
     },
     "metadata": {},
     "output_type": "display_data"
    },
    {
     "data": {
      "text/plain": [
       "'Данные о посещениях'"
      ]
     },
     "metadata": {},
     "output_type": "display_data"
    },
    {
     "data": {
      "text/html": [
       "<div>\n",
       "<style scoped>\n",
       "    .dataframe tbody tr th:only-of-type {\n",
       "        vertical-align: middle;\n",
       "    }\n",
       "\n",
       "    .dataframe tbody tr th {\n",
       "        vertical-align: top;\n",
       "    }\n",
       "\n",
       "    .dataframe thead th {\n",
       "        text-align: right;\n",
       "    }\n",
       "</style>\n",
       "<table border=\"1\" class=\"dataframe\">\n",
       "  <thead>\n",
       "    <tr style=\"text-align: right;\">\n",
       "      <th></th>\n",
       "      <th>date</th>\n",
       "      <th>group</th>\n",
       "      <th>visitors</th>\n",
       "    </tr>\n",
       "  </thead>\n",
       "  <tbody>\n",
       "    <tr>\n",
       "      <th>0</th>\n",
       "      <td>2019-08-01</td>\n",
       "      <td>A</td>\n",
       "      <td>719</td>\n",
       "    </tr>\n",
       "    <tr>\n",
       "      <th>1</th>\n",
       "      <td>2019-08-02</td>\n",
       "      <td>A</td>\n",
       "      <td>619</td>\n",
       "    </tr>\n",
       "    <tr>\n",
       "      <th>2</th>\n",
       "      <td>2019-08-03</td>\n",
       "      <td>A</td>\n",
       "      <td>507</td>\n",
       "    </tr>\n",
       "    <tr>\n",
       "      <th>3</th>\n",
       "      <td>2019-08-04</td>\n",
       "      <td>A</td>\n",
       "      <td>717</td>\n",
       "    </tr>\n",
       "    <tr>\n",
       "      <th>4</th>\n",
       "      <td>2019-08-05</td>\n",
       "      <td>A</td>\n",
       "      <td>756</td>\n",
       "    </tr>\n",
       "    <tr>\n",
       "      <th>...</th>\n",
       "      <td>...</td>\n",
       "      <td>...</td>\n",
       "      <td>...</td>\n",
       "    </tr>\n",
       "    <tr>\n",
       "      <th>57</th>\n",
       "      <td>2019-08-27</td>\n",
       "      <td>B</td>\n",
       "      <td>720</td>\n",
       "    </tr>\n",
       "    <tr>\n",
       "      <th>58</th>\n",
       "      <td>2019-08-28</td>\n",
       "      <td>B</td>\n",
       "      <td>654</td>\n",
       "    </tr>\n",
       "    <tr>\n",
       "      <th>59</th>\n",
       "      <td>2019-08-29</td>\n",
       "      <td>B</td>\n",
       "      <td>531</td>\n",
       "    </tr>\n",
       "    <tr>\n",
       "      <th>60</th>\n",
       "      <td>2019-08-30</td>\n",
       "      <td>B</td>\n",
       "      <td>490</td>\n",
       "    </tr>\n",
       "    <tr>\n",
       "      <th>61</th>\n",
       "      <td>2019-08-31</td>\n",
       "      <td>B</td>\n",
       "      <td>718</td>\n",
       "    </tr>\n",
       "  </tbody>\n",
       "</table>\n",
       "<p>62 rows × 3 columns</p>\n",
       "</div>"
      ],
      "text/plain": [
       "          date group  visitors\n",
       "0   2019-08-01     A       719\n",
       "1   2019-08-02     A       619\n",
       "2   2019-08-03     A       507\n",
       "3   2019-08-04     A       717\n",
       "4   2019-08-05     A       756\n",
       "..         ...   ...       ...\n",
       "57  2019-08-27     B       720\n",
       "58  2019-08-28     B       654\n",
       "59  2019-08-29     B       531\n",
       "60  2019-08-30     B       490\n",
       "61  2019-08-31     B       718\n",
       "\n",
       "[62 rows x 3 columns]"
      ]
     },
     "metadata": {},
     "output_type": "display_data"
    }
   ],
   "source": [
    "display('Данные о гипотезах', hypothesis)\n",
    "display('Данные о заказах', orders)\n",
    "display('Данные о посещениях', visitors)"
   ]
  },
  {
   "cell_type": "code",
   "execution_count": 75,
   "id": "e7eb8ae0-9776-4da7-97de-af0ffbfeadeb",
   "metadata": {},
   "outputs": [
    {
     "name": "stdout",
     "output_type": "stream",
     "text": [
      "<class 'pandas.core.frame.DataFrame'>\n",
      "RangeIndex: 9 entries, 0 to 8\n",
      "Data columns (total 5 columns):\n",
      " #   Column      Non-Null Count  Dtype \n",
      "---  ------      --------------  ----- \n",
      " 0   Hypothesis  9 non-null      object\n",
      " 1   Reach       9 non-null      int64 \n",
      " 2   Impact      9 non-null      int64 \n",
      " 3   Confidence  9 non-null      int64 \n",
      " 4   Efforts     9 non-null      int64 \n",
      "dtypes: int64(4), object(1)\n",
      "memory usage: 488.0+ bytes\n"
     ]
    },
    {
     "data": {
      "text/plain": [
       "'Данные о гипотезах'"
      ]
     },
     "metadata": {},
     "output_type": "display_data"
    },
    {
     "data": {
      "text/plain": [
       "None"
      ]
     },
     "metadata": {},
     "output_type": "display_data"
    },
    {
     "name": "stdout",
     "output_type": "stream",
     "text": [
      "<class 'pandas.core.frame.DataFrame'>\n",
      "RangeIndex: 1197 entries, 0 to 1196\n",
      "Data columns (total 5 columns):\n",
      " #   Column         Non-Null Count  Dtype \n",
      "---  ------         --------------  ----- \n",
      " 0   transactionId  1197 non-null   int64 \n",
      " 1   visitorId      1197 non-null   int64 \n",
      " 2   date           1197 non-null   object\n",
      " 3   revenue        1197 non-null   int64 \n",
      " 4   group          1197 non-null   object\n",
      "dtypes: int64(3), object(2)\n",
      "memory usage: 46.9+ KB\n"
     ]
    },
    {
     "data": {
      "text/plain": [
       "'Данные о заказах'"
      ]
     },
     "metadata": {},
     "output_type": "display_data"
    },
    {
     "data": {
      "text/plain": [
       "None"
      ]
     },
     "metadata": {},
     "output_type": "display_data"
    },
    {
     "name": "stdout",
     "output_type": "stream",
     "text": [
      "<class 'pandas.core.frame.DataFrame'>\n",
      "RangeIndex: 62 entries, 0 to 61\n",
      "Data columns (total 3 columns):\n",
      " #   Column    Non-Null Count  Dtype \n",
      "---  ------    --------------  ----- \n",
      " 0   date      62 non-null     object\n",
      " 1   group     62 non-null     object\n",
      " 2   visitors  62 non-null     int64 \n",
      "dtypes: int64(1), object(2)\n",
      "memory usage: 1.6+ KB\n"
     ]
    },
    {
     "data": {
      "text/plain": [
       "'Данные о посещениях'"
      ]
     },
     "metadata": {},
     "output_type": "display_data"
    },
    {
     "data": {
      "text/plain": [
       "None"
      ]
     },
     "metadata": {},
     "output_type": "display_data"
    }
   ],
   "source": [
    "display('Данные о гипотезах', hypothesis.info())\n",
    "display('Данные о заказах', orders.info())\n",
    "display('Данные о посещениях', visitors.info())"
   ]
  },
  {
   "cell_type": "markdown",
   "id": "b1761a0b-1da3-48f4-b1f0-d0252d99fa45",
   "metadata": {},
   "source": [
    "Итоги обзора :\n",
    "- типы данных с датой не приведены к нужному формату\n",
    "- наименования стобцов в разном регистре, без пробелов\n",
    "- пропусков данных не обнаружено"
   ]
  },
  {
   "cell_type": "markdown",
   "id": "987bf962-3814-4463-9a1f-58fc66a93f3a",
   "metadata": {},
   "source": [
    "Данные hypothesis:\n",
    "\n",
    "- hypothesis — краткое описание гипотезы\n",
    "- Reach — охват пользователей по 10-балльной шкале\n",
    "- Impact — влияние на пользователей по  10-балльной шкале\n",
    "- Confidence — уверенность в гипотезе по  10-балльной шкале\n",
    "- Efforts — затраты ресурсов на проверку гипотезыпо 10-балльной шкале\n",
    "\n",
    "Данные orders:\n",
    "\n",
    "- transactionId — идентификатор заказа\n",
    "- visitorId — идентификатор пользователя, совершившего заказ\n",
    "- date — дата, когда был совершён заказ\n",
    "- revenue — выручка заказа\n",
    "- group — группа A/B-теста, в которую попал заказ\n",
    "\n",
    "Данные visitors:\n",
    "\n",
    "- date — дата\n",
    "- group — группа A/B-теста\n",
    "- visitors — количество пользователей в указанную дату в указанной группе A/B-теста"
   ]
  },
  {
   "cell_type": "markdown",
   "id": "bac8b6f8",
   "metadata": {},
   "source": [
    "<div class=\"alert alert-block alert-success\">\n",
    "    \n",
    "**Комментарий ревьюера**\n",
    "\n",
    "Отлично, можно переходить к предобработке данных.\n",
    "</div>"
   ]
  },
  {
   "cell_type": "markdown",
   "id": "15d502ad-a6d4-4037-a81e-9191647bc168",
   "metadata": {},
   "source": [
    "### Шаг №2. Обработка данных"
   ]
  },
  {
   "cell_type": "markdown",
   "id": "7105939a-5f7d-454d-95b4-97369d1f16f6",
   "metadata": {},
   "source": [
    "Наименования столбцов приведем к нужному регистру."
   ]
  },
  {
   "cell_type": "code",
   "execution_count": 76,
   "id": "41abb36e-0807-493a-8b74-128861e2a157",
   "metadata": {},
   "outputs": [
    {
     "data": {
      "text/plain": [
       "Index(['hypothesis', 'reach', 'impact', 'confidence', 'efforts'], dtype='object')"
      ]
     },
     "metadata": {},
     "output_type": "display_data"
    },
    {
     "data": {
      "text/plain": [
       "Index(['transactionid', 'visitorid', 'date', 'revenue', 'group'], dtype='object')"
      ]
     },
     "metadata": {},
     "output_type": "display_data"
    },
    {
     "data": {
      "text/plain": [
       "Index(['date', 'group', 'visitors'], dtype='object')"
      ]
     },
     "metadata": {},
     "output_type": "display_data"
    }
   ],
   "source": [
    "hypothesis.columns = hypothesis.columns.str.lower()\n",
    "orders.columns = orders.columns.str.lower()\n",
    "visitors.columns = visitors.columns.str.lower()\n",
    "\n",
    "display(hypothesis.columns)\n",
    "display(orders.columns)\n",
    "display(visitors.columns)"
   ]
  },
  {
   "cell_type": "markdown",
   "id": "adfdb9c0-33b0-402d-bb9d-f939a6f4b1ef",
   "metadata": {},
   "source": [
    "Разделим нижним подчеркиванием."
   ]
  },
  {
   "cell_type": "code",
   "execution_count": 77,
   "id": "2eadd379-eabb-4349-b5a5-142ce545788e",
   "metadata": {},
   "outputs": [
    {
     "data": {
      "text/plain": [
       "Index(['transaction_id', 'visitor_id', 'date', 'revenue', 'group'], dtype='object')"
      ]
     },
     "metadata": {},
     "output_type": "display_data"
    }
   ],
   "source": [
    "orders = orders.rename(columns={'transactionid': 'transaction_id', 'visitorid': 'visitor_id'}) \n",
    "display(orders.columns)"
   ]
  },
  {
   "cell_type": "markdown",
   "id": "de5b9185-80f9-43df-8f11-35fafdcc86da",
   "metadata": {},
   "source": [
    "Приведем столбцы с датами к нужному формату"
   ]
  },
  {
   "cell_type": "code",
   "execution_count": 78,
   "id": "40667cea-295a-4376-acf5-108e9434a690",
   "metadata": {},
   "outputs": [
    {
     "data": {
      "text/plain": [
       "dtype('<M8[ns]')"
      ]
     },
     "metadata": {},
     "output_type": "display_data"
    },
    {
     "data": {
      "text/plain": [
       "dtype('<M8[ns]')"
      ]
     },
     "metadata": {},
     "output_type": "display_data"
    }
   ],
   "source": [
    "orders['date'] = pd.to_datetime(orders['date'])\n",
    "visitors['date'] = pd.to_datetime(visitors['date'])\n",
    "\n",
    "display(orders['date'].dtypes)\n",
    "display(visitors['date'].dtypes)"
   ]
  },
  {
   "cell_type": "markdown",
   "id": "884398b6",
   "metadata": {},
   "source": [
    "<div class=\"alert alert-block alert-success\">\n",
    "    \n",
    "**Комментарий от ревьюера**\n",
    "\n",
    "Да, здесь нужно поменять формат даты.\n",
    "</div>"
   ]
  },
  {
   "cell_type": "markdown",
   "id": "6db39719-009e-423e-851e-bb87eae43a5c",
   "metadata": {},
   "source": [
    "Посчитаем наличие явных и неявных дубликатов, так как данные привели к общему регистру"
   ]
  },
  {
   "cell_type": "code",
   "execution_count": 79,
   "id": "391b2da7-4aea-4c55-9931-9bedcb6aba30",
   "metadata": {},
   "outputs": [
    {
     "data": {
      "text/plain": [
       "'Данные о гипотезах'"
      ]
     },
     "metadata": {},
     "output_type": "display_data"
    },
    {
     "data": {
      "text/plain": [
       "0"
      ]
     },
     "metadata": {},
     "output_type": "display_data"
    },
    {
     "data": {
      "text/plain": [
       "'Данные о заказах'"
      ]
     },
     "metadata": {},
     "output_type": "display_data"
    },
    {
     "data": {
      "text/plain": [
       "0"
      ]
     },
     "metadata": {},
     "output_type": "display_data"
    },
    {
     "data": {
      "text/plain": [
       "'Данные о посещениях'"
      ]
     },
     "metadata": {},
     "output_type": "display_data"
    },
    {
     "data": {
      "text/plain": [
       "0"
      ]
     },
     "metadata": {},
     "output_type": "display_data"
    }
   ],
   "source": [
    "display('Данные о гипотезах', hypothesis.duplicated().sum())\n",
    "display('Данные о заказах', orders.duplicated().sum())\n",
    "display('Данные о посещениях', visitors.duplicated().sum())"
   ]
  },
  {
   "cell_type": "markdown",
   "id": "5a287b48-9358-446d-95da-744837507741",
   "metadata": {},
   "source": [
    "Проверим попадают ли пользователи одновременно в две группы."
   ]
  },
  {
   "cell_type": "code",
   "execution_count": 118,
   "id": "af6cb708-5f7c-4e8c-84c1-aec12cdf181c",
   "metadata": {},
   "outputs": [
    {
     "data": {
      "text/plain": [
       "1031"
      ]
     },
     "execution_count": 118,
     "metadata": {},
     "output_type": "execute_result"
    }
   ],
   "source": [
    "visitorAB = orders.groupby('visitor_id').agg({'group':'sum'}).reset_index()\n",
    "visitorAB['visitor_id'].count()"
   ]
  },
  {
   "cell_type": "code",
   "execution_count": 112,
   "id": "70ef90b1-dd86-4800-ba97-c7f5490fb861",
   "metadata": {},
   "outputs": [
    {
     "data": {
      "text/plain": [
       "visitor_id    35\n",
       "group         35\n",
       "dtype: int64"
      ]
     },
     "execution_count": 112,
     "metadata": {},
     "output_type": "execute_result"
    }
   ],
   "source": [
    "visitorAB[(visitorAB.group == 'AB') | (visitorAB.group == 'BA')].count()"
   ]
  },
  {
   "cell_type": "markdown",
   "id": "da8cb245",
   "metadata": {},
   "source": [
    "<div class=\"alert alert-block alert-warning\">\n",
    "    \n",
    "**Комментарий от ревьюера**\n",
    "\n",
    "Полезно выполнить проверку, не попадают ли какие-то пользователи в обе группы - по таблице с заказами.\n",
    "\n",
    "</div>"
   ]
  },
  {
   "cell_type": "markdown",
   "id": "d0e94e49-3a02-4a02-8fcc-59c72b7917dc",
   "metadata": {},
   "source": [
    "<div class=\"alert alert-info\">\n",
    "    \n",
    "Обнаружено 35 пользователей которые одновременно попадают в две группы одновременно, пока не понимаю честно как быть с такой информацией, исключить их или игнорировать\n",
    "</div>"
   ]
  },
  {
   "cell_type": "markdown",
   "id": "d32592fc-4e6d-4715-8834-60c64fadb59d",
   "metadata": {},
   "source": [
    "### Шаг №3. Приоритизация гипотез"
   ]
  },
  {
   "cell_type": "markdown",
   "id": "979398c5-a0c7-4afc-af1b-0ecbcce6dcf7",
   "metadata": {},
   "source": [
    "- Применим ICE для приоритизации гипотез. Отсортируем их по убыванию приоритета\n",
    "- Применим RICE для приоритизации гипотез. Отсортируем их по убыванию приоритета\n",
    "- Укажем, как изменилась приоритизация гипотез при применении RICE вместо ICE. Объясним, почему так произошло."
   ]
  },
  {
   "cell_type": "markdown",
   "id": "c6b97e0b-f32e-42c1-bce4-1921d6887359",
   "metadata": {},
   "source": [
    "Создаем новый столбец ice и отсортируем по убыванию приоритета"
   ]
  },
  {
   "cell_type": "code",
   "execution_count": 82,
   "id": "3258ecc0-caf6-4104-b079-8e189ecc4876",
   "metadata": {},
   "outputs": [],
   "source": [
    "hypothesis['ice'] = round((hypothesis['impact'] * hypothesis['confidence'])/hypothesis['efforts'], 3)"
   ]
  },
  {
   "cell_type": "code",
   "execution_count": 83,
   "id": "60d424af-178e-4c90-9532-fa2bf6312022",
   "metadata": {},
   "outputs": [],
   "source": [
    "pd.set_option('display.max_colwidth', None)"
   ]
  },
  {
   "cell_type": "code",
   "execution_count": 84,
   "id": "ae590c81-fc36-4fb2-abef-c83583993f5f",
   "metadata": {},
   "outputs": [
    {
     "data": {
      "text/html": [
       "<div>\n",
       "<style scoped>\n",
       "    .dataframe tbody tr th:only-of-type {\n",
       "        vertical-align: middle;\n",
       "    }\n",
       "\n",
       "    .dataframe tbody tr th {\n",
       "        vertical-align: top;\n",
       "    }\n",
       "\n",
       "    .dataframe thead th {\n",
       "        text-align: right;\n",
       "    }\n",
       "</style>\n",
       "<table border=\"1\" class=\"dataframe\">\n",
       "  <thead>\n",
       "    <tr style=\"text-align: right;\">\n",
       "      <th></th>\n",
       "      <th>hypothesis</th>\n",
       "      <th>ice</th>\n",
       "    </tr>\n",
       "  </thead>\n",
       "  <tbody>\n",
       "    <tr>\n",
       "      <th>8</th>\n",
       "      <td>Запустить акцию, дающую скидку на товар в день рождения</td>\n",
       "      <td>16.200</td>\n",
       "    </tr>\n",
       "    <tr>\n",
       "      <th>0</th>\n",
       "      <td>Добавить два новых канала привлечения трафика, что позволит привлекать на 30% больше пользователей</td>\n",
       "      <td>13.333</td>\n",
       "    </tr>\n",
       "    <tr>\n",
       "      <th>7</th>\n",
       "      <td>Добавить форму подписки на все основные страницы, чтобы собрать базу клиентов для email-рассылок</td>\n",
       "      <td>11.200</td>\n",
       "    </tr>\n",
       "    <tr>\n",
       "      <th>6</th>\n",
       "      <td>Показать на главной странице баннеры с актуальными акциями и распродажами, чтобы увеличить конверсию</td>\n",
       "      <td>8.000</td>\n",
       "    </tr>\n",
       "    <tr>\n",
       "      <th>2</th>\n",
       "      <td>Добавить блоки рекомендаций товаров на сайт интернет магазина, чтобы повысить конверсию и средний чек заказа</td>\n",
       "      <td>7.000</td>\n",
       "    </tr>\n",
       "    <tr>\n",
       "      <th>1</th>\n",
       "      <td>Запустить собственную службу доставки, что сократит срок доставки заказов</td>\n",
       "      <td>2.000</td>\n",
       "    </tr>\n",
       "    <tr>\n",
       "      <th>5</th>\n",
       "      <td>Добавить страницу отзывов клиентов о магазине, что позволит увеличить количество заказов</td>\n",
       "      <td>1.333</td>\n",
       "    </tr>\n",
       "    <tr>\n",
       "      <th>3</th>\n",
       "      <td>Изменить структура категорий, что увеличит конверсию, т.к. пользователи быстрее найдут нужный товар</td>\n",
       "      <td>1.125</td>\n",
       "    </tr>\n",
       "    <tr>\n",
       "      <th>4</th>\n",
       "      <td>Изменить цвет фона главной страницы, чтобы увеличить вовлеченность пользователей</td>\n",
       "      <td>1.000</td>\n",
       "    </tr>\n",
       "  </tbody>\n",
       "</table>\n",
       "</div>"
      ],
      "text/plain": [
       "                                                                                                     hypothesis  \\\n",
       "8                                                       Запустить акцию, дающую скидку на товар в день рождения   \n",
       "0            Добавить два новых канала привлечения трафика, что позволит привлекать на 30% больше пользователей   \n",
       "7              Добавить форму подписки на все основные страницы, чтобы собрать базу клиентов для email-рассылок   \n",
       "6          Показать на главной странице баннеры с актуальными акциями и распродажами, чтобы увеличить конверсию   \n",
       "2  Добавить блоки рекомендаций товаров на сайт интернет магазина, чтобы повысить конверсию и средний чек заказа   \n",
       "1                                     Запустить собственную службу доставки, что сократит срок доставки заказов   \n",
       "5                      Добавить страницу отзывов клиентов о магазине, что позволит увеличить количество заказов   \n",
       "3           Изменить структура категорий, что увеличит конверсию, т.к. пользователи быстрее найдут нужный товар   \n",
       "4                              Изменить цвет фона главной страницы, чтобы увеличить вовлеченность пользователей   \n",
       "\n",
       "      ice  \n",
       "8  16.200  \n",
       "0  13.333  \n",
       "7  11.200  \n",
       "6   8.000  \n",
       "2   7.000  \n",
       "1   2.000  \n",
       "5   1.333  \n",
       "3   1.125  \n",
       "4   1.000  "
      ]
     },
     "metadata": {},
     "output_type": "display_data"
    }
   ],
   "source": [
    "display(hypothesis[['hypothesis', 'ice']].sort_values(by='ice', ascending=False))"
   ]
  },
  {
   "cell_type": "markdown",
   "id": "3367fb45",
   "metadata": {},
   "source": [
    "<div class=\"alert alert-success\">\n",
    "<b> Комментарий от ревьюера</b>\n",
    "\n",
    "Молодец, что скорректировал ширину столбцов, так намного удобнее сравнивать гипотезы. \n",
    "\n",
    "</div>"
   ]
  },
  {
   "cell_type": "markdown",
   "id": "63b53752-6963-406e-9b44-c31fd375917b",
   "metadata": {},
   "source": [
    "Наиболее приоритетные гипотезы по ICE:\n",
    "\n",
    "- Запустить акцию, дающую скидку на товар в день рождения\n",
    "- Добавить два новых канала привлечения трафика, что позволит привлекать на 30% больше пользователей\n",
    "- Добавить форму подписки на все основные страницы, чтобы собрать базу клиентов для email-рассылок"
   ]
  },
  {
   "cell_type": "markdown",
   "id": "5d54f652-e5cf-4d3f-a08b-abeb3a79271d",
   "metadata": {},
   "source": [
    "Создаем новый столбец rice и отсортируем по убыванию приоритета"
   ]
  },
  {
   "cell_type": "code",
   "execution_count": 85,
   "id": "54ed5cf7-3ed9-4743-ad7b-ceec777160a4",
   "metadata": {},
   "outputs": [
    {
     "data": {
      "text/html": [
       "<div>\n",
       "<style scoped>\n",
       "    .dataframe tbody tr th:only-of-type {\n",
       "        vertical-align: middle;\n",
       "    }\n",
       "\n",
       "    .dataframe tbody tr th {\n",
       "        vertical-align: top;\n",
       "    }\n",
       "\n",
       "    .dataframe thead th {\n",
       "        text-align: right;\n",
       "    }\n",
       "</style>\n",
       "<table border=\"1\" class=\"dataframe\">\n",
       "  <thead>\n",
       "    <tr style=\"text-align: right;\">\n",
       "      <th></th>\n",
       "      <th>hypothesis</th>\n",
       "      <th>rice</th>\n",
       "    </tr>\n",
       "  </thead>\n",
       "  <tbody>\n",
       "    <tr>\n",
       "      <th>7</th>\n",
       "      <td>Добавить форму подписки на все основные страницы, чтобы собрать базу клиентов для email-рассылок</td>\n",
       "      <td>112.0</td>\n",
       "    </tr>\n",
       "    <tr>\n",
       "      <th>2</th>\n",
       "      <td>Добавить блоки рекомендаций товаров на сайт интернет магазина, чтобы повысить конверсию и средний чек заказа</td>\n",
       "      <td>56.0</td>\n",
       "    </tr>\n",
       "    <tr>\n",
       "      <th>0</th>\n",
       "      <td>Добавить два новых канала привлечения трафика, что позволит привлекать на 30% больше пользователей</td>\n",
       "      <td>40.0</td>\n",
       "    </tr>\n",
       "    <tr>\n",
       "      <th>6</th>\n",
       "      <td>Показать на главной странице баннеры с актуальными акциями и распродажами, чтобы увеличить конверсию</td>\n",
       "      <td>40.0</td>\n",
       "    </tr>\n",
       "    <tr>\n",
       "      <th>8</th>\n",
       "      <td>Запустить акцию, дающую скидку на товар в день рождения</td>\n",
       "      <td>16.2</td>\n",
       "    </tr>\n",
       "    <tr>\n",
       "      <th>3</th>\n",
       "      <td>Изменить структура категорий, что увеличит конверсию, т.к. пользователи быстрее найдут нужный товар</td>\n",
       "      <td>9.0</td>\n",
       "    </tr>\n",
       "    <tr>\n",
       "      <th>1</th>\n",
       "      <td>Запустить собственную службу доставки, что сократит срок доставки заказов</td>\n",
       "      <td>4.0</td>\n",
       "    </tr>\n",
       "    <tr>\n",
       "      <th>5</th>\n",
       "      <td>Добавить страницу отзывов клиентов о магазине, что позволит увеличить количество заказов</td>\n",
       "      <td>4.0</td>\n",
       "    </tr>\n",
       "    <tr>\n",
       "      <th>4</th>\n",
       "      <td>Изменить цвет фона главной страницы, чтобы увеличить вовлеченность пользователей</td>\n",
       "      <td>3.0</td>\n",
       "    </tr>\n",
       "  </tbody>\n",
       "</table>\n",
       "</div>"
      ],
      "text/plain": [
       "                                                                                                     hypothesis  \\\n",
       "7              Добавить форму подписки на все основные страницы, чтобы собрать базу клиентов для email-рассылок   \n",
       "2  Добавить блоки рекомендаций товаров на сайт интернет магазина, чтобы повысить конверсию и средний чек заказа   \n",
       "0            Добавить два новых канала привлечения трафика, что позволит привлекать на 30% больше пользователей   \n",
       "6          Показать на главной странице баннеры с актуальными акциями и распродажами, чтобы увеличить конверсию   \n",
       "8                                                       Запустить акцию, дающую скидку на товар в день рождения   \n",
       "3           Изменить структура категорий, что увеличит конверсию, т.к. пользователи быстрее найдут нужный товар   \n",
       "1                                     Запустить собственную службу доставки, что сократит срок доставки заказов   \n",
       "5                      Добавить страницу отзывов клиентов о магазине, что позволит увеличить количество заказов   \n",
       "4                              Изменить цвет фона главной страницы, чтобы увеличить вовлеченность пользователей   \n",
       "\n",
       "    rice  \n",
       "7  112.0  \n",
       "2   56.0  \n",
       "0   40.0  \n",
       "6   40.0  \n",
       "8   16.2  \n",
       "3    9.0  \n",
       "1    4.0  \n",
       "5    4.0  \n",
       "4    3.0  "
      ]
     },
     "metadata": {},
     "output_type": "display_data"
    }
   ],
   "source": [
    "hypothesis['rice'] = round((hypothesis['reach'] * hypothesis['impact'] * hypothesis['confidence'])/hypothesis['efforts'], 3)\n",
    "display(hypothesis[['hypothesis', 'rice']].sort_values(by='rice', ascending=False))"
   ]
  },
  {
   "cell_type": "markdown",
   "id": "6aa2fc22",
   "metadata": {},
   "source": [
    "<div class=\"alert alert-block alert-success\">\n",
    "    \n",
    "**Комментарий от ревьюера**\n",
    "\n",
    "Молодец, что выводишь таблицу дважды, каждый раз с сортировкой по одному из фреймворков - так различия в их работе максимально наглядны.\n",
    "</div>"
   ]
  },
  {
   "cell_type": "markdown",
   "id": "ad98a1df-a6c0-498e-807c-191ad64fb626",
   "metadata": {},
   "source": [
    "Наиболее приоритетные гипотезы по RICE:\n",
    "\n",
    "- Добавить форму подписки на все основные страницы, чтобы собрать базу клиентов для email-рассылок\n",
    "- Добавить блоки рекомендаций товаров на сайт интернет магазина, чтобы повысить конверсию и средний чек заказа- \n",
    "- \n",
    "Добавить два новых канала привлечения трафика, что позволит привлекать на 30% больше пользователей"
   ]
  },
  {
   "cell_type": "markdown",
   "id": "e86fa77e-372a-4c78-bf1e-488417ff9761",
   "metadata": {},
   "source": [
    "Вывод:\n",
    "- Наболее перспективная гипотеза по ICE под номером 8 оказалась на пятом месте при расчете RICE. Можем обьяснить это показателем reach(охват) - количество пользователей, которое затронет изменение. Этот показатель также оказал влияние и на другие гипотезы. Учитывая результаты приоритизаций гипотез наиболее важными считаем:\n",
    "\n",
    "7 - Добавить форму подписки на все основные страницы, чтобы собрать базу клиентов для email-рассылок\n",
    "\n",
    "0 - Добавить два новых канала привлечения трафика, что позволит привлекать на 30% больше пользователей\n",
    "\n",
    "6 - Показать на главной странице баннеры с актуальными акциями и распродажами, чтобы увеличить конверсию"
   ]
  },
  {
   "cell_type": "markdown",
   "id": "92204cba",
   "metadata": {},
   "source": [
    "<div class=\"alert alert-block alert-success\">\n",
    "<b>Комментарий от ревьюера</b> \n",
    "    \n",
    "Хороший вывод, в нем есть вся нужная информация.\n",
    "</div>"
   ]
  },
  {
   "cell_type": "markdown",
   "id": "38f13e65-632b-4e75-9b6f-bb88b2a394e6",
   "metadata": {},
   "source": [
    "### Шаг №4. Анализ A/B-теста"
   ]
  },
  {
   "cell_type": "markdown",
   "id": "c61546e4-24f5-4b23-a58f-5d9597203b46",
   "metadata": {},
   "source": [
    "#### График кумулятивной выручки по группам"
   ]
  },
  {
   "cell_type": "code",
   "execution_count": 86,
   "id": "3f985c78-537d-44a8-b170-fa1098547aea",
   "metadata": {},
   "outputs": [
    {
     "data": {
      "text/html": [
       "<div>\n",
       "<style scoped>\n",
       "    .dataframe tbody tr th:only-of-type {\n",
       "        vertical-align: middle;\n",
       "    }\n",
       "\n",
       "    .dataframe tbody tr th {\n",
       "        vertical-align: top;\n",
       "    }\n",
       "\n",
       "    .dataframe thead th {\n",
       "        text-align: right;\n",
       "    }\n",
       "</style>\n",
       "<table border=\"1\" class=\"dataframe\">\n",
       "  <thead>\n",
       "    <tr style=\"text-align: right;\">\n",
       "      <th></th>\n",
       "      <th>date</th>\n",
       "      <th>group</th>\n",
       "      <th>orders</th>\n",
       "      <th>buyers</th>\n",
       "      <th>revenue</th>\n",
       "      <th>visitors</th>\n",
       "    </tr>\n",
       "  </thead>\n",
       "  <tbody>\n",
       "    <tr>\n",
       "      <th>0</th>\n",
       "      <td>2019-08-01</td>\n",
       "      <td>A</td>\n",
       "      <td>24</td>\n",
       "      <td>20</td>\n",
       "      <td>148579</td>\n",
       "      <td>719</td>\n",
       "    </tr>\n",
       "    <tr>\n",
       "      <th>1</th>\n",
       "      <td>2019-08-01</td>\n",
       "      <td>B</td>\n",
       "      <td>21</td>\n",
       "      <td>20</td>\n",
       "      <td>101217</td>\n",
       "      <td>713</td>\n",
       "    </tr>\n",
       "    <tr>\n",
       "      <th>2</th>\n",
       "      <td>2019-08-02</td>\n",
       "      <td>A</td>\n",
       "      <td>44</td>\n",
       "      <td>38</td>\n",
       "      <td>242401</td>\n",
       "      <td>1338</td>\n",
       "    </tr>\n",
       "    <tr>\n",
       "      <th>3</th>\n",
       "      <td>2019-08-02</td>\n",
       "      <td>B</td>\n",
       "      <td>45</td>\n",
       "      <td>43</td>\n",
       "      <td>266748</td>\n",
       "      <td>1294</td>\n",
       "    </tr>\n",
       "    <tr>\n",
       "      <th>4</th>\n",
       "      <td>2019-08-03</td>\n",
       "      <td>A</td>\n",
       "      <td>68</td>\n",
       "      <td>62</td>\n",
       "      <td>354874</td>\n",
       "      <td>1845</td>\n",
       "    </tr>\n",
       "  </tbody>\n",
       "</table>\n",
       "</div>"
      ],
      "text/plain": [
       "        date group  orders  buyers  revenue  visitors\n",
       "0 2019-08-01     A      24      20   148579       719\n",
       "1 2019-08-01     B      21      20   101217       713\n",
       "2 2019-08-02     A      44      38   242401      1338\n",
       "3 2019-08-02     B      45      43   266748      1294\n",
       "4 2019-08-03     A      68      62   354874      1845"
      ]
     },
     "metadata": {},
     "output_type": "display_data"
    }
   ],
   "source": [
    "# создаем массив уникальных пар значений дат и групп теста\n",
    "datesGroups = orders[['date', 'group']].drop_duplicates()\n",
    "\n",
    "# получаем агрегированные кумулятивные по дням данные о заказах \n",
    "ordersAggregated = datesGroups.apply(\n",
    "    lambda x: orders[\n",
    "        np.logical_and(\n",
    "            orders['date'] <= x['date'], orders['group'] == x['group']\n",
    "        )\n",
    "    ].agg(\n",
    "        {\n",
    "            'date': 'max',\n",
    "            'group': 'max',\n",
    "            'transaction_id': 'nunique',\n",
    "            'visitor_id': 'nunique',\n",
    "            'revenue': 'sum',\n",
    "        }\n",
    "    ),\n",
    "    axis=1,\n",
    ").sort_values(by=['date', 'group'])\n",
    "\n",
    "# получаем агрегированные кумулятивные по дням данные о посетителях \n",
    "visitorsAggregated = datesGroups.apply(\n",
    "    lambda x: visitors[\n",
    "        np.logical_and(\n",
    "            visitors['date'] <= x['date'], visitors['group'] == x['group']\n",
    "        )\n",
    "    ].agg(\n",
    "        {\n",
    "            'date': 'max', \n",
    "            'group': 'max', \n",
    "            'visitors': 'sum'\n",
    "        }\n",
    "    ),\n",
    "    axis=1,\n",
    ").sort_values(by=['date', 'group'])\n",
    "\n",
    "# объединяем кумулятивные данные в одной таблице\n",
    "cumulativeData = ordersAggregated.merge(\n",
    "    visitorsAggregated, left_on=['date', 'group'], right_on=['date', 'group']\n",
    ")\n",
    "cumulativeData.columns = [  'date',\n",
    "                            'group',\n",
    "                            'orders',\n",
    "                            'buyers',\n",
    "                            'revenue',\n",
    "                            'visitors'  ]\n",
    "\n",
    "display(cumulativeData.head())"
   ]
  },
  {
   "cell_type": "markdown",
   "id": "f0f7bf93-c8a1-403e-876e-887332427839",
   "metadata": {},
   "source": [
    "Проверим совпадают ли минимальная и максимальная даты в этом датафрейме с минимальной и максимальной датой в исходных данных"
   ]
  },
  {
   "cell_type": "code",
   "execution_count": 132,
   "id": "e2259073-8691-4443-be33-87efa07ecb5d",
   "metadata": {},
   "outputs": [
    {
     "data": {
      "text/plain": [
       "'Максимальные даты'"
      ]
     },
     "metadata": {},
     "output_type": "display_data"
    },
    {
     "data": {
      "text/plain": [
       "Timestamp('2019-08-31 00:00:00')"
      ]
     },
     "metadata": {},
     "output_type": "display_data"
    },
    {
     "data": {
      "text/plain": [
       "Timestamp('2019-08-31 00:00:00')"
      ]
     },
     "metadata": {},
     "output_type": "display_data"
    }
   ],
   "source": [
    "display('Максимальные даты')\n",
    "display(cumulativeData['date'].max())\n",
    "display(orders['date'].max())"
   ]
  },
  {
   "cell_type": "code",
   "execution_count": 133,
   "id": "f6d0c207-56ed-474c-b22c-09a97ff5bb6c",
   "metadata": {},
   "outputs": [
    {
     "data": {
      "text/plain": [
       "'Минимальные даты'"
      ]
     },
     "metadata": {},
     "output_type": "display_data"
    },
    {
     "data": {
      "text/plain": [
       "Timestamp('2019-08-01 00:00:00')"
      ]
     },
     "metadata": {},
     "output_type": "display_data"
    },
    {
     "data": {
      "text/plain": [
       "Timestamp('2019-08-01 00:00:00')"
      ]
     },
     "metadata": {},
     "output_type": "display_data"
    }
   ],
   "source": [
    "display('Минимальные даты')\n",
    "display(cumulativeData['date'].min())\n",
    "display(orders['date'].min())"
   ]
  },
  {
   "cell_type": "markdown",
   "id": "7316250c",
   "metadata": {},
   "source": [
    "<div class=\"alert alert-block alert-warning\">\n",
    "\n",
    "**Комментарий от ревьюера**\n",
    "\n",
    "Здесь можно проверить, корректно ли был создан датафрейм cumulativeData. Например, совпадают ли минимальная и максимальная даты в этом датафрейме с минимальной и максимальной датой в исходных данных.\n",
    "\n",
    "</div>"
   ]
  },
  {
   "cell_type": "markdown",
   "id": "79611a42-7333-4bd0-9e12-3eb72f5fa565",
   "metadata": {},
   "source": [
    "<div class=\"alert alert-info\">\n",
    "    \n",
    "Поправил\n",
    "</div>"
   ]
  },
  {
   "cell_type": "code",
   "execution_count": 87,
   "id": "8aedb1c6-84a6-4aca-adaf-b8cff99edb1d",
   "metadata": {},
   "outputs": [
    {
     "data": {
      "image/png": "[encoded data removed]",
      "text/plain": [
       "<Figure size 1400x1000 with 1 Axes>"
      ]
     },
     "metadata": {},
     "output_type": "display_data"
    }
   ],
   "source": [
    "# датафрейм с кумулятивным количеством заказов и кумулятивной выручкой по дням в группе А\n",
    "cumulativeRevenueA  = cumulativeData[cumulativeData['group'] == 'A'][['date', 'revenue', 'orders']]\n",
    "\n",
    "# датафрейм с кумулятивным количеством заказов и кумулятивной выручкой по дням в группе B\n",
    "cumulativeRevenueB  = cumulativeData[cumulativeData['group'] == 'B'][['date', 'revenue', 'orders']]\n",
    "\n",
    "# задаём размер для графиков\n",
    "plt.figure(figsize=(14, 10))\n",
    "\n",
    "# строим график выручки группы А\n",
    "plt.plot(cumulativeRevenueA['date'], cumulativeRevenueA['revenue'], label = 'A')\n",
    "\n",
    "# строим график выручки группы B\n",
    "plt.plot(cumulativeRevenueB['date'], cumulativeRevenueB['revenue'], label = 'B')\n",
    "\n",
    "plt.grid(visible=True)\n",
    "plt.title('Графики кумулятивной выручки по дням и группам A/B-теста', fontsize=12)\n",
    "plt.xlabel('Дата', fontsize=12)\n",
    "plt.ylabel('Выручка', fontsize=12)\n",
    "plt.legend() \n",
    "plt.show()"
   ]
  },
  {
   "cell_type": "markdown",
   "id": "b9846ca5-ac08-447d-81fe-348e7b1a5c90",
   "metadata": {},
   "source": [
    "Вывод: Выручка равномерно увеличивается в обеих группах за весь период. График выручки группы B в одной точке резко вырос, возможно был рост числа заказов, или о повышение стоимости заказов в выборке в этот конкретный период."
   ]
  },
  {
   "cell_type": "markdown",
   "id": "9be064e8",
   "metadata": {},
   "source": [
    "<div class=\"alert alert-block alert-success\">\n",
    "    \n",
    "**Комментарий от ревьюера**\n",
    "\n",
    "Верно, пока мы не знаем, с чем связан скачок в группе B: с резким увеличением количества заказов или с ростом стоимости.\n",
    "</div>"
   ]
  },
  {
   "cell_type": "markdown",
   "id": "52724d05-3596-4ffa-9ac7-6d947c4146d1",
   "metadata": {
    "jp-MarkdownHeadingCollapsed": true
   },
   "source": [
    "#### График кумулятивного  среднего чека по группам."
   ]
  },
  {
   "cell_type": "code",
   "execution_count": 88,
   "id": "635a2b15-5a7c-42eb-a99b-22d62585cf6d",
   "metadata": {},
   "outputs": [
    {
     "data": {
      "image/png": "[encoded data removed]",
      "text/plain": [
       "<Figure size 1400x1000 with 1 Axes>"
      ]
     },
     "metadata": {},
     "output_type": "display_data"
    }
   ],
   "source": [
    "plt.figure(figsize=(14, 10))\n",
    "plt.plot(cumulativeRevenueA['date'], cumulativeRevenueA['revenue']/cumulativeRevenueA['orders'], label='A')\n",
    "plt.plot(cumulativeRevenueB['date'], cumulativeRevenueB['revenue']/cumulativeRevenueB['orders'], label='B')\n",
    "\n",
    "plt.grid(visible=True)\n",
    "plt.title('Графики кумулятивного среднего чека по дням и группам A/B-тестирования', fontsize=12)\n",
    "plt.xlabel('Дата', fontsize=12)\n",
    "plt.ylabel('Средний чек', fontsize=12)\n",
    "plt.legend() \n",
    "plt.show()"
   ]
  },
  {
   "cell_type": "markdown",
   "id": "e2f32ec4-e000-4463-b8f3-456ba78de4ce",
   "metadata": {},
   "source": [
    "Вывод:"
   ]
  },
  {
   "cell_type": "markdown",
   "id": "30ff7536-8dec-4044-8dba-7b521b79f0fc",
   "metadata": {},
   "source": [
    "Группа А - средний чек вначале резко упал, далее наблюдается резкий рост, стабилизировался в значениях спустя 20 дней. Группа В - средний чек в группе B в одной точке резко вырос, как и выручка. Далее видна линия к снижению среднего чека в этой группе. Наблюдаются значительно разные показатели среднего чека между группами. В группе \"В\" более 9000Р, а группе \"А\" около 7000Р."
   ]
  },
  {
   "cell_type": "markdown",
   "id": "81bc7a28",
   "metadata": {},
   "source": [
    "<div class=\"alert alert-block alert-success\">\n",
    "    \n",
    "**Комментарий от ревьюера**\n",
    "    \n",
    "Да, резкий рост происходит в ту же дату, что и на предыдущем графике.\n",
    "</div>"
   ]
  },
  {
   "cell_type": "markdown",
   "id": "67bf63a2-9471-4729-b612-b25122397510",
   "metadata": {
    "jp-MarkdownHeadingCollapsed": true
   },
   "source": [
    "#### График относительного изменения кумулятивного среднего чека группы B к группе A"
   ]
  },
  {
   "cell_type": "code",
   "execution_count": 89,
   "id": "ab62c5ae-decd-4b38-93c3-0e3f95751bba",
   "metadata": {},
   "outputs": [
    {
     "data": {
      "image/png": "[encoded data removed]",
      "text/plain": [
       "<Figure size 1400x1000 with 1 Axes>"
      ]
     },
     "metadata": {},
     "output_type": "display_data"
    }
   ],
   "source": [
    "# собираем данные в одном датафрейме\n",
    "cumulativeRevenue = cumulativeRevenueA.merge(\n",
    "    cumulativeRevenueB,\n",
    "    left_on='date',\n",
    "    right_on='date',\n",
    "    how='left',\n",
    "    suffixes=['A', 'B'])\n",
    "\n",
    "# задаём размер для графика\n",
    "plt.figure(figsize=(14, 10))\n",
    "\n",
    "# cтроим отношение средних чеков\n",
    "plt.plot(cumulativeRevenue['date'],(cumulativeRevenue['revenueB']/cumulativeRevenue['ordersB'])/\n",
    "                                   (cumulativeRevenue['revenueA']/cumulativeRevenue['ordersA'])-1)\n",
    "\n",
    "# добавляем ось X\n",
    "plt.axhline(y=0, color='black', linestyle='--')\n",
    "\n",
    "plt.grid(visible=True)\n",
    "plt.title('График относительного изменения кумулятивного среднего чека группы B к группе A', fontsize=12)\n",
    "plt.xlabel('Дата', fontsize=12)\n",
    "plt.ylabel('Отношение средних чеков', fontsize=12)\n",
    "plt.show()"
   ]
  },
  {
   "cell_type": "markdown",
   "id": "ce6f7103-3f97-4aeb-85dc-a49680493fce",
   "metadata": {},
   "source": [
    "Вывод: Заметны резкие скачки среднего чека, график показывает себя очень нестабильно, вероятно есть очень крупные заказы."
   ]
  },
  {
   "cell_type": "markdown",
   "id": "14ed58d1",
   "metadata": {},
   "source": [
    "<div class=\"alert alert-block alert-success\">\n",
    "    \n",
    "**Комментарий от ревьюера**\n",
    "    \n",
    "Ты прав, возможно, это влияние крупных заказов и выбросов.\n",
    "</div>"
   ]
  },
  {
   "cell_type": "markdown",
   "id": "c197b55f-c960-4f2c-b3c5-232a09968f20",
   "metadata": {
    "jp-MarkdownHeadingCollapsed": true
   },
   "source": [
    "#### График кумулятивного среднего количества заказов на посетителя по группам"
   ]
  },
  {
   "cell_type": "code",
   "execution_count": 90,
   "id": "0307d08d-6d84-4fbe-862c-8a00170d66ca",
   "metadata": {},
   "outputs": [
    {
     "data": {
      "image/png": "[encoded data removed]",
      "text/plain": [
       "<Figure size 1200x800 with 1 Axes>"
      ]
     },
     "metadata": {},
     "output_type": "display_data"
    }
   ],
   "source": [
    "# считаем среднее количество заказов на посетителя\n",
    "cumulativeData['conversion'] = cumulativeData['orders']/cumulativeData['visitors']\n",
    "\n",
    "# отделяем данные по группе A\n",
    "cumulativeDataA = cumulativeData[cumulativeData['group']=='A']\n",
    "\n",
    "# отделяем данные по группе B\n",
    "cumulativeDataB = cumulativeData[cumulativeData['group']=='B']\n",
    "\n",
    "# задаём размер для графика\n",
    "plt.figure(figsize=(12, 8))\n",
    "\n",
    "# строим графики\n",
    "plt.grid(visible=True)\n",
    "plt.plot(cumulativeDataA['date'], cumulativeDataA['conversion'], label='A')\n",
    "plt.plot(cumulativeDataB['date'], cumulativeDataB['conversion'], label='B')\n",
    "\n",
    "plt.title('График кумулятивного среднего количества заказов на посетителя по группам', fontsize=12)\n",
    "plt.xlabel('Дата', fontsize=12)\n",
    "plt.ylabel('Отношение количества заказов на посетителя', fontsize=12)\n",
    "# задаем масштаб осей\n",
    "plt.axis([dt.datetime(2019, 8, 1), dt.datetime(2019, 9, 1), 0, 0.050]) \n",
    "\n",
    "plt.legend();\n"
   ]
  },
  {
   "cell_type": "markdown",
   "id": "9bd4061f-f71b-47aa-b883-2dcfe63fe1cc",
   "metadata": {},
   "source": [
    "Вывод :\n",
    "Группы колебались около одного значения первые 5 дней, но затем у группы В среднее количество заказов вырвалось вперёд и зафиксировалось, а у группы А — снизилось, заетм зафиксировалось."
   ]
  },
  {
   "cell_type": "markdown",
   "id": "178ee56e",
   "metadata": {},
   "source": [
    "<div class=\"alert alert-block alert-success\">\n",
    "    \n",
    "**Комментарий от ревьюера**\n",
    "    \n",
    "Да, группа В выигрывает на протяжении всего теста.\n",
    "</div>"
   ]
  },
  {
   "cell_type": "markdown",
   "id": "dbc6fbbd-4dc6-4a91-acd2-f29a876db07e",
   "metadata": {
    "jp-MarkdownHeadingCollapsed": true
   },
   "source": [
    "#### График относительного изменения кумулятивного среднего количества заказов на посетителя группы B к группе A"
   ]
  },
  {
   "cell_type": "code",
   "execution_count": 134,
   "id": "f431ca89-af97-4027-876d-4b21f1dc8074",
   "metadata": {},
   "outputs": [
    {
     "data": {
      "image/png": "[encoded data removed]",
      "text/plain": [
       "<Figure size 1200x800 with 1 Axes>"
      ]
     },
     "metadata": {},
     "output_type": "display_data"
    }
   ],
   "source": [
    "mergedCumulativeConversions = cumulativeDataA[['date','conversion']].merge(\n",
    "    cumulativeDataB[['date','conversion']], \n",
    "    left_on='date', \n",
    "    right_on='date', \n",
    "    how='left', \n",
    "    suffixes=['A', 'B'])\n",
    "\n",
    "# задаём размер для графика\n",
    "plt.figure(figsize=(12, 8))\n",
    "\n",
    "plt.grid(visible=True)\n",
    "plt.plot(mergedCumulativeConversions['date'], \n",
    "         mergedCumulativeConversions['conversionB']/mergedCumulativeConversions['conversionA']-1)\n",
    "\n",
    "\n",
    "plt.axhline(y=0, color='black', linestyle='--')\n",
    "plt.axhline(y=0.15, color='red', linestyle='--')\n",
    "\n",
    "# задаем масштаб осей\n",
    "plt.axis([dt.datetime(2019, 8, 1), dt.datetime(2019, 9, 1), -0.14, 0.23])\n",
    "\n",
    "plt.title('График относительного изменения кумулятивного среднего количества заказов на посетителя группы B к группе A', fontsize=10)\n",
    "plt.xlabel('Дата', fontsize=10)\n",
    "plt.ylabel('Отношение относительного изменения', fontsize=10)\n",
    "plt.show();"
   ]
  },
  {
   "cell_type": "markdown",
   "id": "befb9ef9",
   "metadata": {},
   "source": [
    "<div class=\"alert alert-block alert-warning\">\n",
    "    \n",
    "**Комментарий от ревьюера**\n",
    "\n",
    "Красную линию стоит перенести на значение 0.15 по оси y, так как около этого значения намечается тенденция к стабилизации.\n",
    "    \n",
    "</div>"
   ]
  },
  {
   "cell_type": "markdown",
   "id": "1a21f32c-f87c-4c61-a021-efe2834f801e",
   "metadata": {},
   "source": [
    "<div class=\"alert alert-info\">\n",
    "    \n",
    "Поправил\n",
    "</div>"
   ]
  },
  {
   "cell_type": "markdown",
   "id": "c5076984-6d92-4f59-a846-145d36227903",
   "metadata": {},
   "source": [
    "Вывод: В начале теста группа B проигрывала группе A, затем резко возрастает и стабилизируется в районе 11-14 %. Делать какие-либо выводы по тесту рано. Необходимо проанализировать аномалии, возможно получим другую версию событий."
   ]
  },
  {
   "cell_type": "markdown",
   "id": "fb065120-8caf-4e95-810b-466ab09e971a",
   "metadata": {
    "jp-MarkdownHeadingCollapsed": true
   },
   "source": [
    "#### Точечный график количества заказов по пользователям."
   ]
  },
  {
   "cell_type": "markdown",
   "id": "cefc812c-d18d-494a-833e-5369d0a8de78",
   "metadata": {},
   "source": [
    "В начале создадим датафрейм отражающий количество заказов на каждого пользователя"
   ]
  },
  {
   "cell_type": "code",
   "execution_count": 92,
   "id": "a0e6b4cf-628b-4d80-829c-a2bada143031",
   "metadata": {},
   "outputs": [
    {
     "data": {
      "text/html": [
       "<div>\n",
       "<style scoped>\n",
       "    .dataframe tbody tr th:only-of-type {\n",
       "        vertical-align: middle;\n",
       "    }\n",
       "\n",
       "    .dataframe tbody tr th {\n",
       "        vertical-align: top;\n",
       "    }\n",
       "\n",
       "    .dataframe thead th {\n",
       "        text-align: right;\n",
       "    }\n",
       "</style>\n",
       "<table border=\"1\" class=\"dataframe\">\n",
       "  <thead>\n",
       "    <tr style=\"text-align: right;\">\n",
       "      <th></th>\n",
       "      <th>transaction_id</th>\n",
       "      <th>orders</th>\n",
       "    </tr>\n",
       "  </thead>\n",
       "  <tbody>\n",
       "    <tr>\n",
       "      <th>1023</th>\n",
       "      <td>4256040402</td>\n",
       "      <td>11</td>\n",
       "    </tr>\n",
       "    <tr>\n",
       "      <th>591</th>\n",
       "      <td>2458001652</td>\n",
       "      <td>11</td>\n",
       "    </tr>\n",
       "    <tr>\n",
       "      <th>569</th>\n",
       "      <td>2378935119</td>\n",
       "      <td>9</td>\n",
       "    </tr>\n",
       "    <tr>\n",
       "      <th>487</th>\n",
       "      <td>2038680547</td>\n",
       "      <td>8</td>\n",
       "    </tr>\n",
       "    <tr>\n",
       "      <th>44</th>\n",
       "      <td>199603092</td>\n",
       "      <td>5</td>\n",
       "    </tr>\n",
       "    <tr>\n",
       "      <th>744</th>\n",
       "      <td>3062433592</td>\n",
       "      <td>5</td>\n",
       "    </tr>\n",
       "    <tr>\n",
       "      <th>55</th>\n",
       "      <td>237748145</td>\n",
       "      <td>5</td>\n",
       "    </tr>\n",
       "    <tr>\n",
       "      <th>917</th>\n",
       "      <td>3803269165</td>\n",
       "      <td>5</td>\n",
       "    </tr>\n",
       "    <tr>\n",
       "      <th>299</th>\n",
       "      <td>1230306981</td>\n",
       "      <td>5</td>\n",
       "    </tr>\n",
       "    <tr>\n",
       "      <th>897</th>\n",
       "      <td>3717692402</td>\n",
       "      <td>5</td>\n",
       "    </tr>\n",
       "  </tbody>\n",
       "</table>\n",
       "</div>"
      ],
      "text/plain": [
       "      transaction_id  orders\n",
       "1023      4256040402      11\n",
       "591       2458001652      11\n",
       "569       2378935119       9\n",
       "487       2038680547       8\n",
       "44         199603092       5\n",
       "744       3062433592       5\n",
       "55         237748145       5\n",
       "917       3803269165       5\n",
       "299       1230306981       5\n",
       "897       3717692402       5"
      ]
     },
     "metadata": {},
     "output_type": "display_data"
    }
   ],
   "source": [
    "ordersByUsers = (\n",
    "    orders.groupby('visitor_id', as_index=False)\n",
    "    .agg({'transaction_id': 'nunique'})   \n",
    ")\n",
    "ordersByUsers.columns = ['transaction_id', 'orders']\n",
    "\n",
    "display(ordersByUsers.sort_values(by='orders', ascending=False).head(10))"
   ]
  },
  {
   "cell_type": "markdown",
   "id": "df7aeed3-506a-49b7-a491-fbf416249115",
   "metadata": {},
   "source": [
    "Построим гистрограмму распределения количества заказов на одного пользователя."
   ]
  },
  {
   "cell_type": "code",
   "execution_count": 93,
   "id": "49833a88-39be-479b-9903-b40b2bffe082",
   "metadata": {},
   "outputs": [
    {
     "data": {
      "image/png": "[encoded data removed]",
      "text/plain": [
       "<Figure size 1000x500 with 1 Axes>"
      ]
     },
     "metadata": {},
     "output_type": "display_data"
    }
   ],
   "source": [
    "plt.figure(figsize=(10, 5))\n",
    "plt.hist(ordersByUsers['orders'],bins=5)\n",
    "plt.title('Гистограмма распределения количества заказов на одного пользователя', fontsize=10)\n",
    "plt.xlabel('Количество заказов', fontsize=10)\n",
    "plt.ylabel('Количество пользователей', fontsize=10);"
   ]
  },
  {
   "cell_type": "markdown",
   "id": "0612b75d-26b3-4fe5-8a1d-4c4e794c4afa",
   "metadata": {},
   "source": [
    "Вывод: Можно заметить, что приемущественно пользователи совершают 2 заказа, однако есть пользователи которые совершили более 6 и даже 10 заказов, возможно это и есть причина колебаний на графиках"
   ]
  },
  {
   "cell_type": "markdown",
   "id": "bf2d5979-af8a-4b61-93ec-8531cabafaae",
   "metadata": {},
   "source": [
    "Построим точечную диаграмму числа заказов на одного пользователя"
   ]
  },
  {
   "cell_type": "code",
   "execution_count": 154,
   "id": "1652ef33-b733-40d8-a2e0-fec6c413c57f",
   "metadata": {},
   "outputs": [],
   "source": [
    "ordersByUsers_A = (\n",
    "    orders[orders['group'] == 'A']\n",
    "    .groupby('visitor_id', as_index=False)\n",
    "    .agg({'transaction_id': 'nunique'})\n",
    ")\n",
    "ordersByUsers_A.columns = ['transaction_id', 'orders']\n",
    "\n",
    "ordersByUsers_B = (\n",
    "    orders[orders['group'] == 'B']\n",
    "    .groupby('visitor_id', as_index=False)\n",
    "    .agg({'transaction_id': 'nunique'})\n",
    ")\n",
    "ordersByUsers_B.columns = ['transaction_id', 'orders']\n"
   ]
  },
  {
   "cell_type": "code",
   "execution_count": 178,
   "id": "ceab8cbb-d5ed-4aa8-b1cc-3bf88201a9c4",
   "metadata": {},
   "outputs": [
    {
     "name": "stdout",
     "output_type": "stream",
     "text": [
      "True\n"
     ]
    },
    {
     "data": {
      "image/png": "[encoded data removed]",
      "text/plain": [
       "<Figure size 1000x500 with 1 Axes>"
      ]
     },
     "metadata": {},
     "output_type": "display_data"
    }
   ],
   "source": [
    "ax1 = ordersByUsers_A.plot(kind='scatter', x='transaction_id',y='orders',figsize=(10, 5), color='blue',label=\"group A\")\n",
    "\n",
    "ax2 = ordersByUsers_B.plot(kind='scatter', x='transaction_id',y='orders',figsize=(10, 5), color='green',ax=ax1,label=\"group B\")\n",
    "\n",
    "ax3 = ordersByUsers.plot(kind='scatter', x='transaction_id',y='orders',figsize=(10, 5), color='red', ax=ax1,label=\"all group\")\n",
    "\n",
    "\n",
    "plt.title('Диаграмма числа заказов на одного пользователя', fontsize=10)\n",
    "plt.xlabel('Количество пользователей', fontsize=10)\n",
    "plt.ylabel('Количество заказов', fontsize=10);\n",
    "\n",
    "\n",
    "print(ax1 == ax2 == ax3) # True"
   ]
  },
  {
   "cell_type": "markdown",
   "id": "22ce3562-64c4-41bc-92ca-b25e1f03cee0",
   "metadata": {},
   "source": [
    "<div class=\"alert alert-info\">\n",
    "    \n",
    "Долго искал возможность это сделать, незнаю есть ли варианты проще, или я вовсе не правильно сделал.\n",
    "</div>"
   ]
  },
  {
   "cell_type": "markdown",
   "id": "1cd0d574",
   "metadata": {},
   "source": [
    "<div class=\"alert alert-block alert-warning\">\n",
    "    \n",
    "**Комментарий от ревьюера**\n",
    "    \n",
    "Здесь можно добавить еще разбивку по цвету в зависимости от группы.\n",
    "</div>"
   ]
  },
  {
   "cell_type": "markdown",
   "id": "d979b8d4-9436-4e5d-825f-0f6d49233c23",
   "metadata": {},
   "source": [
    "Вывод: На диаграмме стало понятнее распределение заказов, приемущественнее пользователи совершают 1 заказ, так же значительное количество пользователей совершивших 2-3 заказа. Их точная доля не ясна — непонятно, считать их аномалиями или нет. "
   ]
  },
  {
   "cell_type": "markdown",
   "id": "712b9f87-6893-42b7-8d33-5bf25169b7bf",
   "metadata": {
    "jp-MarkdownHeadingCollapsed": true
   },
   "source": [
    "####  95-й и 99-й перцентили количества заказов на пользователя"
   ]
  },
  {
   "cell_type": "code",
   "execution_count": 95,
   "id": "5ee66efe-011d-4ece-a3e1-5909f04c9b70",
   "metadata": {},
   "outputs": [
    {
     "name": "stdout",
     "output_type": "stream",
     "text": [
      "[2. 4.]\n"
     ]
    }
   ],
   "source": [
    "print(np.percentile(ordersByUsers['orders'], [95, 99]))"
   ]
  },
  {
   "cell_type": "markdown",
   "id": "e475cc08-28cb-4987-827f-6648c4ad26e3",
   "metadata": {},
   "source": [
    "Не более 5% пользователей оформляли больше чем 2 заказов. И 1% пользователей заказывали более 4 раз. Выберем 4 заказа на пользователя как нижнюю границу, остальные будем считать аномалиями"
   ]
  },
  {
   "cell_type": "markdown",
   "id": "c6bee206",
   "metadata": {},
   "source": [
    "<div class=\"alert alert-block alert-success\">\n",
    "    \n",
    "**Комментарий от ревьюера**\n",
    "    \n",
    "Такое определение выбросов для количества заказов корректно.\n",
    "</div>"
   ]
  },
  {
   "cell_type": "markdown",
   "id": "dbffed1a-477d-41ac-91fd-cadd86f31ce6",
   "metadata": {
    "jp-MarkdownHeadingCollapsed": true
   },
   "source": [
    "#### Точечный график стоимостей заказов"
   ]
  },
  {
   "cell_type": "markdown",
   "id": "c3ba5e25-cf36-480a-a88c-ed28188beae3",
   "metadata": {},
   "source": [
    "Посмотрим топ 10 по стоимости заказов"
   ]
  },
  {
   "cell_type": "code",
   "execution_count": 96,
   "id": "b7f80b41-5aa0-4203-b327-31a0978f279d",
   "metadata": {},
   "outputs": [
    {
     "data": {
      "text/html": [
       "<div>\n",
       "<style scoped>\n",
       "    .dataframe tbody tr th:only-of-type {\n",
       "        vertical-align: middle;\n",
       "    }\n",
       "\n",
       "    .dataframe tbody tr th {\n",
       "        vertical-align: top;\n",
       "    }\n",
       "\n",
       "    .dataframe thead th {\n",
       "        text-align: right;\n",
       "    }\n",
       "</style>\n",
       "<table border=\"1\" class=\"dataframe\">\n",
       "  <thead>\n",
       "    <tr style=\"text-align: right;\">\n",
       "      <th></th>\n",
       "      <th>transaction_id</th>\n",
       "      <th>visitor_id</th>\n",
       "      <th>date</th>\n",
       "      <th>revenue</th>\n",
       "      <th>group</th>\n",
       "    </tr>\n",
       "  </thead>\n",
       "  <tbody>\n",
       "    <tr>\n",
       "      <th>425</th>\n",
       "      <td>590470918</td>\n",
       "      <td>1920142716</td>\n",
       "      <td>2019-08-19</td>\n",
       "      <td>1294500</td>\n",
       "      <td>B</td>\n",
       "    </tr>\n",
       "    <tr>\n",
       "      <th>1196</th>\n",
       "      <td>3936777065</td>\n",
       "      <td>2108080724</td>\n",
       "      <td>2019-08-15</td>\n",
       "      <td>202740</td>\n",
       "      <td>B</td>\n",
       "    </tr>\n",
       "    <tr>\n",
       "      <th>858</th>\n",
       "      <td>192721366</td>\n",
       "      <td>1316129916</td>\n",
       "      <td>2019-08-27</td>\n",
       "      <td>93940</td>\n",
       "      <td>A</td>\n",
       "    </tr>\n",
       "    <tr>\n",
       "      <th>1136</th>\n",
       "      <td>666610489</td>\n",
       "      <td>1307669133</td>\n",
       "      <td>2019-08-13</td>\n",
       "      <td>92550</td>\n",
       "      <td>A</td>\n",
       "    </tr>\n",
       "    <tr>\n",
       "      <th>744</th>\n",
       "      <td>3668308183</td>\n",
       "      <td>888512513</td>\n",
       "      <td>2019-08-27</td>\n",
       "      <td>86620</td>\n",
       "      <td>B</td>\n",
       "    </tr>\n",
       "    <tr>\n",
       "      <th>682</th>\n",
       "      <td>1216533772</td>\n",
       "      <td>4266935830</td>\n",
       "      <td>2019-08-29</td>\n",
       "      <td>78990</td>\n",
       "      <td>B</td>\n",
       "    </tr>\n",
       "    <tr>\n",
       "      <th>662</th>\n",
       "      <td>1811671147</td>\n",
       "      <td>4266935830</td>\n",
       "      <td>2019-08-29</td>\n",
       "      <td>78990</td>\n",
       "      <td>A</td>\n",
       "    </tr>\n",
       "    <tr>\n",
       "      <th>743</th>\n",
       "      <td>3603576309</td>\n",
       "      <td>4133034833</td>\n",
       "      <td>2019-08-09</td>\n",
       "      <td>67990</td>\n",
       "      <td>A</td>\n",
       "    </tr>\n",
       "    <tr>\n",
       "      <th>1103</th>\n",
       "      <td>1348774318</td>\n",
       "      <td>1164614297</td>\n",
       "      <td>2019-08-12</td>\n",
       "      <td>66350</td>\n",
       "      <td>A</td>\n",
       "    </tr>\n",
       "    <tr>\n",
       "      <th>1099</th>\n",
       "      <td>316924019</td>\n",
       "      <td>148427295</td>\n",
       "      <td>2019-08-12</td>\n",
       "      <td>65710</td>\n",
       "      <td>A</td>\n",
       "    </tr>\n",
       "  </tbody>\n",
       "</table>\n",
       "</div>"
      ],
      "text/plain": [
       "      transaction_id  visitor_id       date  revenue group\n",
       "425        590470918  1920142716 2019-08-19  1294500     B\n",
       "1196      3936777065  2108080724 2019-08-15   202740     B\n",
       "858        192721366  1316129916 2019-08-27    93940     A\n",
       "1136       666610489  1307669133 2019-08-13    92550     A\n",
       "744       3668308183   888512513 2019-08-27    86620     B\n",
       "682       1216533772  4266935830 2019-08-29    78990     B\n",
       "662       1811671147  4266935830 2019-08-29    78990     A\n",
       "743       3603576309  4133034833 2019-08-09    67990     A\n",
       "1103      1348774318  1164614297 2019-08-12    66350     A\n",
       "1099       316924019   148427295 2019-08-12    65710     A"
      ]
     },
     "metadata": {},
     "output_type": "display_data"
    }
   ],
   "source": [
    "display(orders.sort_values(by='revenue', ascending=False).head(10))"
   ]
  },
  {
   "cell_type": "markdown",
   "id": "0715c52d-3be3-4d76-a08a-f4e862e4cebc",
   "metadata": {},
   "source": [
    "Первые два заказа явно превышают следующие показатели, посмотрим на гистограмму."
   ]
  },
  {
   "cell_type": "code",
   "execution_count": 181,
   "id": "a09b98c7-338d-406f-ab83-2ad121a6bcd8",
   "metadata": {},
   "outputs": [
    {
     "data": {
      "image/png": "[encoded data removed]",
      "text/plain": [
       "<Figure size 1000x500 with 1 Axes>"
      ]
     },
     "metadata": {},
     "output_type": "display_data"
    }
   ],
   "source": [
    "plt.figure(figsize=(10, 5))\n",
    "plt.hist(orders['revenue'], bins=10)\n",
    "plt.title('Гистограмма распределения стоимости заказов на одного пользователя', fontsize=12)\n",
    "plt.xlabel('Сумма заказа', fontsize=10)\n",
    "plt.ylabel('Количество пользователей', fontsize=10);"
   ]
  },
  {
   "cell_type": "markdown",
   "id": "19ad1e36",
   "metadata": {},
   "source": [
    "<div class=\"alert alert-block alert-warning\">\n",
    "    \n",
    "**Комментарий от ревьюера**\n",
    "    \n",
    "Чтобы на графике отображался не только один столбец, можно увеличить количество корзин.\n",
    "</div>"
   ]
  },
  {
   "cell_type": "markdown",
   "id": "e2cc5079-b3b8-4aa2-be89-4e011059d144",
   "metadata": {},
   "source": [
    "<div class=\"alert alert-info\">\n",
    "    \n",
    "Поправил\n",
    "</div>"
   ]
  },
  {
   "cell_type": "markdown",
   "id": "a0b445f4-ba61-429c-ab8e-15265b8dbc54",
   "metadata": {},
   "source": [
    "Гистограмма тоже дает мало информации, построим точечную диаграмму"
   ]
  },
  {
   "cell_type": "code",
   "execution_count": 98,
   "id": "45e278e3-26b9-4bb0-98f0-6b2f30b1bf0d",
   "metadata": {},
   "outputs": [
    {
     "data": {
      "image/png": "[encoded data removed]",
      "text/plain": [
       "<Figure size 1000x500 with 1 Axes>"
      ]
     },
     "metadata": {},
     "output_type": "display_data"
    }
   ],
   "source": [
    "x_values = pd.Series(range(0,len(orders['revenue'])))\n",
    "plt.figure(figsize=(10, 5))\n",
    "plt.scatter(x_values, orders['revenue'])\n",
    "plt.title('Диаграмма стоимости заказов на одного пользователя', fontsize=10)\n",
    "plt.xlabel('Количество заказов', fontsize=10)\n",
    "plt.ylabel('Стоимость заказа', fontsize=10);"
   ]
  },
  {
   "cell_type": "markdown",
   "id": "9c0c63ff-1957-48e5-8b87-4b052b2ee138",
   "metadata": {},
   "source": [
    "Попробуем ограничить стоимость заказов, чтобы больше понять в каком диапазоне находятся основное количество пользователй"
   ]
  },
  {
   "cell_type": "code",
   "execution_count": 99,
   "id": "905447a5-e99d-4c08-bd54-067f73c0e38e",
   "metadata": {},
   "outputs": [
    {
     "data": {
      "image/png": "[encoded data removed]",
      "text/plain": [
       "<Figure size 1000x500 with 1 Axes>"
      ]
     },
     "metadata": {},
     "output_type": "display_data"
    }
   ],
   "source": [
    "plt.figure(figsize=(10, 5))\n",
    "plt.grid(visible=True)\n",
    "plt.scatter(x_values, orders['revenue'], alpha=0.5)\n",
    "plt.ylim(0, 150000)\n",
    "plt.title('Точечный график распределения стоимостей заказов', fontsize=14)\n",
    "plt.ylabel('Стоимость заказа', fontsize=10)\n",
    "plt.xlabel('Количество заказов', fontsize=10)\n",
    "plt.show()"
   ]
  },
  {
   "cell_type": "markdown",
   "id": "8bc7b46c",
   "metadata": {},
   "source": [
    "<div class=\"alert alert-block alert-success\">\n",
    "    \n",
    "**Комментарий от ревьюера**\n",
    "\n",
    "Хорошо, что ты добавляешь еще один график, чтобы мы могли рассмотреть основную часть заказов.\n",
    "\n",
    "</div>"
   ]
  },
  {
   "cell_type": "markdown",
   "id": "84c64ca1-036f-4f25-9dad-b6efe910d699",
   "metadata": {},
   "source": [
    "В таком масштабе видно, что основная масса пользователей совершает покупки не более чем на сто тысяч. "
   ]
  },
  {
   "cell_type": "markdown",
   "id": "800bc034-3ea5-4146-833a-d9d5e203e6ba",
   "metadata": {},
   "source": [
    "#### 95-й и 99-й перцентили стоимости заказов."
   ]
  },
  {
   "cell_type": "code",
   "execution_count": 100,
   "id": "36bc5ea6-9154-4f2d-bba0-d10d4db75aad",
   "metadata": {},
   "outputs": [
    {
     "name": "stdout",
     "output_type": "stream",
     "text": [
      "[28000.  58233.2]\n"
     ]
    }
   ],
   "source": [
    "print(np.percentile(orders['revenue'], [95, 99]))"
   ]
  },
  {
   "cell_type": "markdown",
   "id": "4c7947d1-cbc1-4a69-b5f3-11f4c23326e0",
   "metadata": {},
   "source": [
    "Не более 5% пользователей оформляли заказ на стоимость больше чем 28000. И 1% пользователей заказывали более чем на 58233.2 За нижнюю границу можно выбрать стоимость заказа в 28000 и убрать аномальные заказы по этой границе"
   ]
  },
  {
   "cell_type": "markdown",
   "id": "378059fb",
   "metadata": {},
   "source": [
    "<div class=\"alert alert-block alert-success\"> <b>Комментарий от ревьюера</b> \n",
    "    \n",
    "Молодец, что разобрался с аномалиями в данных и корректно освоил расчет кумулятивных метрик.\n",
    "</div>"
   ]
  },
  {
   "cell_type": "markdown",
   "id": "a194beeb-038c-4810-ad9d-909b6110fa60",
   "metadata": {},
   "source": [
    "#### Статистическая значимость различий в среднем количестве заказов на посетителя между группами по «сырым» данным."
   ]
  },
  {
   "cell_type": "markdown",
   "id": "cffba0ac-0f40-4745-9435-2b1a76b7fc9a",
   "metadata": {},
   "source": [
    "Сформулируем гипотезы. \n",
    "\n",
    "Нулевая: Статистически значимых различий в среднем количестве заказов на посетителя между группами по «сырым» данным нет.\n",
    "\n",
    "Альтернативная: Статистически значимых различий в среднем количестве заказов на посетителя между группами по «сырым» данным есть."
   ]
  },
  {
   "cell_type": "markdown",
   "id": "f26713ec-b9fc-48e7-b3d4-2ce6a3555450",
   "metadata": {},
   "source": [
    "Установим статистическую значимость alpha = 0.05"
   ]
  },
  {
   "cell_type": "markdown",
   "id": "b2c08f48",
   "metadata": {},
   "source": [
    "<div class=\"alert alert-block alert-warning\">\n",
    "    \n",
    "**Комментарий от ревьюера**\n",
    "    \n",
    "Формулировки гипотез можно дополнить, чтобы в них было указание на то, что нас интересуют именно статистически значимые различия. Например, так:\n",
    " \n",
    "**Нулевая гипотеза** Статистически значимых различий в ... между группами по ... данным нет.\n",
    "\n",
    "**Альтернативная гипотеза** Статистически значимые различия в ... между группами по ... данным есть.\n",
    "  \n",
    "</div>"
   ]
  },
  {
   "cell_type": "markdown",
   "id": "cc36af8a-2739-405a-8908-f8e450fca275",
   "metadata": {},
   "source": [
    "<div class=\"alert alert-info\">\n",
    "    \n",
    "Поправил\n",
    "</div>"
   ]
  },
  {
   "cell_type": "markdown",
   "id": "196272d1",
   "metadata": {},
   "source": [
    "<div class=\"alert alert-block alert-danger\">\n",
    "    \n",
    "**Комментарий от ревьюера**\n",
    "    \n",
    "Перед проверкой нужно еще указать выбранное значение alpha, чтобы не искать его в коде.\n",
    "</div>"
   ]
  },
  {
   "cell_type": "markdown",
   "id": "4fdff6c2-3fa2-4bf9-88c4-0784e26d3339",
   "metadata": {},
   "source": [
    "<div class=\"alert alert-info\">\n",
    "    \n",
    "Поправил, просто в обучении отсутствовал этот пункт, я так полагаю в применении метода \"mannwhitneyu\" параметр alpha задан по умолчанию. \n",
    "</div>"
   ]
  },
  {
   "cell_type": "markdown",
   "id": "0ba5a266-dab0-4c02-bf12-fc97d4eb938c",
   "metadata": {},
   "source": [
    "Начнём с подготовки данных."
   ]
  },
  {
   "cell_type": "code",
   "execution_count": 101,
   "id": "188b5c03-cd25-40f8-90ce-6a4d8f153d3f",
   "metadata": {},
   "outputs": [],
   "source": [
    "visitorsADaily = visitors[visitors['group'] == 'A'][['date', 'visitors']]\n",
    "visitorsADaily.columns = ['date', 'visitorsPerDateA']\n",
    "\n",
    "visitorsACummulative = visitorsADaily.apply(\n",
    "    lambda x: visitorsADaily[visitorsADaily['date'] <= x['date']].agg(\n",
    "        {'date': 'max', 'visitorsPerDateA': 'sum'}\n",
    "    ),\n",
    "    axis=1,\n",
    ")\n",
    "visitorsACummulative.columns = ['date', 'visitorsCummulativeA']\n",
    "\n",
    "visitorsBDaily = visitors[visitors['group'] == 'B'][['date', 'visitors']]\n",
    "visitorsBDaily.columns = ['date', 'visitorsPerDateB']\n",
    "\n",
    "visitorsBCummulative = visitorsBDaily.apply(\n",
    "    lambda x: visitorsBDaily[visitorsBDaily['date'] <= x['date']].agg(\n",
    "        {'date': 'max', 'visitorsPerDateB': 'sum'}\n",
    "    ),\n",
    "    axis=1,\n",
    ")\n",
    "visitorsBCummulative.columns = ['date', 'visitorsCummulativeB']\n",
    "\n",
    "ordersADaily = (\n",
    "    orders[orders['group'] == 'A'][['date', 'transaction_id', 'visitor_id', 'revenue']]\n",
    "    .groupby('date', as_index=False)\n",
    "    .agg({'transaction_id': pd.Series.nunique, 'revenue': 'sum'})\n",
    ")\n",
    "ordersADaily.columns = ['date', 'ordersPerDateA', 'revenuePerDateA']\n",
    "\n",
    "ordersACummulative = ordersADaily.apply(\n",
    "    lambda x: ordersADaily[ordersADaily['date'] <= x['date']].agg(\n",
    "        {'date': 'max', 'ordersPerDateA': 'sum', 'revenuePerDateA': 'sum'}\n",
    "    ),\n",
    "    axis=1,\n",
    ").sort_values(by=['date'])\n",
    "ordersACummulative.columns = [\n",
    "    'date',\n",
    "    'ordersCummulativeA',\n",
    "    'revenueCummulativeA',\n",
    "]\n",
    "\n",
    "ordersBDaily = (\n",
    "    orders[orders['group'] == 'B'][['date', 'transaction_id', 'visitor_id', 'revenue']]\n",
    "    .groupby('date', as_index=False)\n",
    "    .agg({'transaction_id': pd.Series.nunique, 'revenue': 'sum'})\n",
    ")\n",
    "ordersBDaily.columns = ['date', 'ordersPerDateB', 'revenuePerDateB']\n",
    "\n",
    "ordersBCummulative = ordersBDaily.apply(\n",
    "    lambda x: ordersBDaily[ordersBDaily['date'] <= x['date']].agg(\n",
    "        {'date': 'max', 'ordersPerDateB': 'sum', 'revenuePerDateB': 'sum'}\n",
    "    ),\n",
    "    axis=1,\n",
    ").sort_values(by=['date'])\n",
    "ordersBCummulative.columns = [\n",
    "    'date',\n",
    "    'ordersCummulativeB',\n",
    "    'revenueCummulativeB',\n",
    "]\n",
    "\n",
    "data = (\n",
    "    ordersADaily.merge(\n",
    "        ordersBDaily, left_on='date', right_on='date', how='left'\n",
    "    )\n",
    "    .merge(ordersACummulative, left_on='date', right_on='date', how='left')\n",
    "    .merge(ordersBCummulative, left_on='date', right_on='date', how='left')\n",
    "    .merge(visitorsADaily, left_on='date', right_on='date', how='left')\n",
    "    .merge(visitorsBDaily, left_on='date', right_on='date', how='left')\n",
    "    .merge(visitorsACummulative, left_on='date', right_on='date', how='left')\n",
    "    .merge(visitorsBCummulative, left_on='date', right_on='date', how='left')\n",
    ")\n"
   ]
  },
  {
   "cell_type": "markdown",
   "id": "55daf352",
   "metadata": {},
   "source": [
    "<div class=\"alert alert-block alert-warning\">\n",
    "    \n",
    "**Комментарий от ревьюера**\n",
    "\n",
    "Этот код можно сократить: нам не нужно собирать кумулятивные данные для проверки гипотез, потому что это уже сделано выше.\n",
    "\n",
    "</div>"
   ]
  },
  {
   "cell_type": "markdown",
   "id": "91ab053a-ede0-4aac-be65-e8b8101f2de5",
   "metadata": {},
   "source": [
    "<div class=\"alert alert-info\">\n",
    "Делал по примеру из обучения,честно сделал акцент внимания на анализе данных, а не на коде. При устрании замечания заметил, что выборки по группам и их наименование сильно отличается от примения функций в данном шаге, мне пока что сложно найти решение по сокращению этого пункта, если критично я разберусь и устраню ошибки. Думаю в любом случае акцентирую свое внимание, более детально подойду к этому замечанию. \n",
    "</div>"
   ]
  },
  {
   "cell_type": "markdown",
   "id": "2374ed91-6044-49b5-ad66-24380f8ddd34",
   "metadata": {},
   "source": [
    "Посчитаем статистическую значимость различия в среднем количестве заказов между группами."
   ]
  },
  {
   "cell_type": "markdown",
   "id": "b2a40f13-6d21-4263-8ed0-c33e6bb63b9e",
   "metadata": {},
   "source": [
    "Создадим переменные ordersByUsersA и ordersByUsersB со столбцами ['userId', 'orders']. В них для пользователей, которые заказывали хотя бы 1 раз, укажем число совершённых заказов. "
   ]
  },
  {
   "cell_type": "code",
   "execution_count": 102,
   "id": "433dc608-3f7b-4b8b-8a81-7297f4d0f5bc",
   "metadata": {},
   "outputs": [
    {
     "data": {
      "text/html": [
       "<div>\n",
       "<style scoped>\n",
       "    .dataframe tbody tr th:only-of-type {\n",
       "        vertical-align: middle;\n",
       "    }\n",
       "\n",
       "    .dataframe tbody tr th {\n",
       "        vertical-align: top;\n",
       "    }\n",
       "\n",
       "    .dataframe thead th {\n",
       "        text-align: right;\n",
       "    }\n",
       "</style>\n",
       "<table border=\"1\" class=\"dataframe\">\n",
       "  <thead>\n",
       "    <tr style=\"text-align: right;\">\n",
       "      <th></th>\n",
       "      <th>user_id</th>\n",
       "      <th>orders</th>\n",
       "    </tr>\n",
       "  </thead>\n",
       "  <tbody>\n",
       "    <tr>\n",
       "      <th>499</th>\n",
       "      <td>4256040402</td>\n",
       "      <td>7</td>\n",
       "    </tr>\n",
       "    <tr>\n",
       "      <th>227</th>\n",
       "      <td>2038680547</td>\n",
       "      <td>5</td>\n",
       "    </tr>\n",
       "    <tr>\n",
       "      <th>278</th>\n",
       "      <td>2458001652</td>\n",
       "      <td>5</td>\n",
       "    </tr>\n",
       "    <tr>\n",
       "      <th>269</th>\n",
       "      <td>2378935119</td>\n",
       "      <td>4</td>\n",
       "    </tr>\n",
       "    <tr>\n",
       "      <th>18</th>\n",
       "      <td>199603092</td>\n",
       "      <td>4</td>\n",
       "    </tr>\n",
       "  </tbody>\n",
       "</table>\n",
       "</div>"
      ],
      "text/plain": [
       "        user_id  orders\n",
       "499  4256040402       7\n",
       "227  2038680547       5\n",
       "278  2458001652       5\n",
       "269  2378935119       4\n",
       "18    199603092       4"
      ]
     },
     "metadata": {},
     "output_type": "display_data"
    },
    {
     "data": {
      "text/html": [
       "<div>\n",
       "<style scoped>\n",
       "    .dataframe tbody tr th:only-of-type {\n",
       "        vertical-align: middle;\n",
       "    }\n",
       "\n",
       "    .dataframe tbody tr th {\n",
       "        vertical-align: top;\n",
       "    }\n",
       "\n",
       "    .dataframe thead th {\n",
       "        text-align: right;\n",
       "    }\n",
       "</style>\n",
       "<table border=\"1\" class=\"dataframe\">\n",
       "  <thead>\n",
       "    <tr style=\"text-align: right;\">\n",
       "      <th></th>\n",
       "      <th>user_id</th>\n",
       "      <th>orders</th>\n",
       "    </tr>\n",
       "  </thead>\n",
       "  <tbody>\n",
       "    <tr>\n",
       "      <th>340</th>\n",
       "      <td>2458001652</td>\n",
       "      <td>6</td>\n",
       "    </tr>\n",
       "    <tr>\n",
       "      <th>326</th>\n",
       "      <td>2378935119</td>\n",
       "      <td>5</td>\n",
       "    </tr>\n",
       "    <tr>\n",
       "      <th>501</th>\n",
       "      <td>3717692402</td>\n",
       "      <td>4</td>\n",
       "    </tr>\n",
       "    <tr>\n",
       "      <th>514</th>\n",
       "      <td>3803269165</td>\n",
       "      <td>4</td>\n",
       "    </tr>\n",
       "    <tr>\n",
       "      <th>580</th>\n",
       "      <td>4256040402</td>\n",
       "      <td>4</td>\n",
       "    </tr>\n",
       "  </tbody>\n",
       "</table>\n",
       "</div>"
      ],
      "text/plain": [
       "        user_id  orders\n",
       "340  2458001652       6\n",
       "326  2378935119       5\n",
       "501  3717692402       4\n",
       "514  3803269165       4\n",
       "580  4256040402       4"
      ]
     },
     "metadata": {},
     "output_type": "display_data"
    }
   ],
   "source": [
    "ordersByUsersA = (\n",
    "    orders[orders['group'] == 'A']\n",
    "    .groupby('visitor_id', as_index=False)\n",
    "    .agg({'transaction_id': pd.Series.nunique})\n",
    ")\n",
    "ordersByUsersA.columns = ['user_id', 'orders']\n",
    "\n",
    "ordersByUsersB = (\n",
    "    orders[orders['group'] == 'B']\n",
    "    .groupby('visitor_id', as_index=False)\n",
    "    .agg({'transaction_id': pd.Series.nunique})\n",
    ")\n",
    "ordersByUsersB.columns = ['user_id', 'orders'] \n",
    "\n",
    "display(ordersByUsersA.sort_values(by='orders',ascending =False).head())\n",
    "display(ordersByUsersB.sort_values(by='orders',ascending =False).head())"
   ]
  },
  {
   "cell_type": "markdown",
   "id": "3ce241f5-17f5-451b-8ab3-28346f1e73e7",
   "metadata": {},
   "source": [
    "Объявим переменные sampleA и sampleB, в которых пользователям из разных групп будет соответствовать количество заказов. Тем, кто ничего не заказал, будут соответствовать нули. Это нужно, чтобы подготовить выборки к проверке критерием Манна-Уитни"
   ]
  },
  {
   "cell_type": "code",
   "execution_count": 103,
   "id": "d3aa8a56-ee9b-4121-b74e-4e9d73ef2f92",
   "metadata": {},
   "outputs": [],
   "source": [
    "sampleA = pd.concat([ordersByUsersA['orders'],\n",
    "                     pd.Series(0, index=np.arange(data['visitorsPerDateA'].sum() - len(ordersByUsersA['orders'])), name='orders')],\n",
    "                    axis=0)\n",
    "\n",
    "sampleB = pd.concat([ordersByUsersB['orders'],\n",
    "                     pd.Series(0, index=np.arange(data['visitorsPerDateB'].sum() - len(ordersByUsersB['orders'])), name='orders')],\n",
    "                    axis=0)"
   ]
  },
  {
   "cell_type": "markdown",
   "id": "e566116b-8aec-4ddf-9f6e-ba39518e2689",
   "metadata": {},
   "source": [
    "Применим критерий и отформатируем p-value, округлив его до трёх знаков после запятой."
   ]
  },
  {
   "cell_type": "code",
   "execution_count": 104,
   "id": "dbfe3397-2131-4381-99cb-ab024278e79e",
   "metadata": {},
   "outputs": [
    {
     "name": "stdout",
     "output_type": "stream",
     "text": [
      "p-value = 0.017\n",
      "различие в среднем количестве закзов между группами по «сырым» данным = 0.138\n"
     ]
    }
   ],
   "source": [
    "print('p-value =', '{0:.3f}'.format(stats.mannwhitneyu(sampleA, sampleB)[1]))\n",
    "\n",
    "print('различие в среднем количестве закзов между группами по «сырым» данным =', '{0:.3f}'.format(sampleB.mean() / sampleA.mean() - 1))"
   ]
  },
  {
   "cell_type": "markdown",
   "id": "6a298240-0ff6-42f3-899b-90118b2ef7f7",
   "metadata": {},
   "source": [
    "Первое число — p-value = 0.017 меньше 0.05. Значит, нулевую гипотезу о том, что статистически значимых различий в среднем числе заказов между группами нет, отвергаем. Однако относительный проигрыш группы B равен 13.8% "
   ]
  },
  {
   "cell_type": "markdown",
   "id": "f4b138b3",
   "metadata": {},
   "source": [
    "<div class=\"alert alert-block alert-success\">\n",
    "    \n",
    "**Комментарий от ревьюера**\n",
    "\n",
    "Верно, отвергаем нулевую гипотезу: между группами есть статистически значимое различие.\n",
    "</div>"
   ]
  },
  {
   "cell_type": "markdown",
   "id": "b62ff194-068d-4658-b25d-a615bfb2364b",
   "metadata": {
    "jp-MarkdownHeadingCollapsed": true
   },
   "source": [
    "#### Статистическая значимость различий в среднем чеке заказа между группами по «сырым» данным"
   ]
  },
  {
   "cell_type": "markdown",
   "id": "db8b5cbd-20e1-431d-9f5a-1a4c3884654b",
   "metadata": {},
   "source": [
    "Сформулируем гипотезы. \n",
    "\n",
    "Нулевая: различий в среднем чеке между группами нет.\n",
    "\n",
    "Альтернативная: различия в среднем чеке между группами есть."
   ]
  },
  {
   "cell_type": "code",
   "execution_count": 105,
   "id": "51479d9e-d707-44da-88a0-d1c17ba3d7de",
   "metadata": {},
   "outputs": [
    {
     "name": "stdout",
     "output_type": "stream",
     "text": [
      "p-value = 0.729\n",
      "различие в среднем чеке между группами по «сырым» данным = 0.259\n"
     ]
    }
   ],
   "source": [
    "print('p-value =', '{0:.3f}'\n",
    "      .format(stats.mannwhitneyu(orders[orders['group']=='A']['revenue'], \n",
    "                                 orders[orders['group']=='B']['revenue'])[1]))\n",
    "\n",
    "print('различие в среднем чеке между группами по «сырым» данным =', '{0:.3f}'\n",
    "      .format(orders[orders['group']=='B']['revenue'].mean()/\n",
    "              orders[orders['group']=='A']['revenue'].mean()-1))"
   ]
  },
  {
   "cell_type": "markdown",
   "id": "fed3b951-f615-4641-9af4-dcb29a6e942c",
   "metadata": {},
   "source": [
    "p-value значительно больше 0.05. Значит, причин отвергать нулевую гипотезу и считать, что в среднем чеке есть различия, нет. Однако, средний чек группы B значительно больше среднего чека группы A. Возможно это связано с аномальными данными."
   ]
  },
  {
   "cell_type": "markdown",
   "id": "bdd30cd0",
   "metadata": {},
   "source": [
    "<div class=\"alert alert-block alert-warning\">\n",
    "    \n",
    "**Комментарий от ревьюера**\n",
    "\n",
    "Между группами нет статистически значимого различия. Ты верно указываешь на это, утверждая, что причин отвергать нулевую гипотезу нет. Но затем говоришь, что средний чек группы B значительно больше среднего чека группы A\". Эти выводы противоречат друг другу. Лучше скорректировать эту формулировку. \n",
    "\n",
    "</div>"
   ]
  },
  {
   "cell_type": "markdown",
   "id": "58723b78-9b35-4c4c-9893-a4196fc9959c",
   "metadata": {},
   "source": [
    "<div class=\"alert alert-info\">\n",
    "    \n",
    "Поправил\n",
    "</div>"
   ]
  },
  {
   "cell_type": "markdown",
   "id": "a966ef3f-e2da-4a4e-bb88-b4a47e19a921",
   "metadata": {
    "jp-MarkdownHeadingCollapsed": true
   },
   "source": [
    "#### Статистическая значимость различий в среднем количестве заказов на посетителя между группами по «очищенным» данным"
   ]
  },
  {
   "cell_type": "markdown",
   "id": "9351e4da-f32b-4afe-addd-d0f0d0da1a7c",
   "metadata": {},
   "source": [
    "95-й и 99-й перцентили средних чеков равны 28000 и 58233.2  \n",
    "\n",
    "95-й и 99-й перцентили количества заказов на одного пользователя равны 2 и 4 заказа на пользователя.\n",
    "\n",
    "Примем за аномальных пользователей тех, кто совершил от 2 заказов или совершил заказ дороже 28000. Так мы уберём 5% пользователей с наибольшим числом заказов и 5% пользователей с дорогими заказами. \n",
    "\n",
    "Сделаем срезы пользователей \n",
    "\n",
    "- с числом заказов больше 4 — usersWithManyOrders \n",
    "- совершивших заказы дороже 28000 — usersWithExpensiveOrders. \n",
    "\n",
    "Объединим их в таблице abnormalUsers. \n",
    "\n",
    "А также узнаем, сколько всего аномальных пользователей методом shape()"
   ]
  },
  {
   "cell_type": "code",
   "execution_count": 195,
   "id": "b1a065ce-2420-437e-a607-e79b376e2644",
   "metadata": {},
   "outputs": [
    {
     "name": "stdout",
     "output_type": "stream",
     "text": [
      "1099    148427295\n",
      "18      199603092\n",
      "928     204675465\n",
      "23      237748145\n",
      "37      249864742\n",
      "dtype: int64\n",
      "Количество аномальных пользователей: 74\n"
     ]
    }
   ],
   "source": [
    "usersWithManyOrders = pd.concat(\n",
    "    [\n",
    "        ordersByUsersA[ordersByUsersA['orders'] > np.percentile(ordersByUsersA['orders'], 95)]['user_id'],\n",
    "        ordersByUsersB[ordersByUsersB['orders'] > np.percentile(ordersByUsersB['orders'], 95)]['user_id'],\n",
    "    ],\n",
    "    axis=0,\n",
    ")\n",
    "usersWithExpensiveOrders = orders[orders['revenue'] > np.percentile(orders['revenue'], 95)]['visitor_id']\n",
    "\n",
    "abnormalUsers = (\n",
    "    pd.concat([usersWithManyOrders, usersWithExpensiveOrders], axis=0)\n",
    "    .drop_duplicates()\n",
    "    .sort_values()\n",
    ")\n",
    "print(abnormalUsers.head(5))\n",
    "print('Количество аномальных пользователей:', abnormalUsers.shape[0]) "
   ]
  },
  {
   "cell_type": "markdown",
   "id": "0f881e6b",
   "metadata": {},
   "source": [
    "<div class=\"alert alert-block alert-danger\">\n",
    "    \n",
    "**Комментарий от ревьюера**\n",
    "\n",
    "Лучше избегать ручного ввода значений при фильтрации: можно использовать непосредственно результат расчета выбранного перцентиля. \n",
    "    \n",
    "Для этого вписанные вручную числа надо заменить на такие же расчеты, как ты использовал для границы определения аномальных заказов, только там ты указываешь список перцентилей, а здесь нам нужен один.\n",
    "\n",
    "</div>"
   ]
  },
  {
   "cell_type": "markdown",
   "id": "d87a9bd6-2e22-443f-93bd-ed594320ec8b",
   "metadata": {},
   "source": [
    "<div class=\"alert alert-info\">\n",
    "    \n",
    "Поправил\n",
    "</div>"
   ]
  },
  {
   "cell_type": "markdown",
   "id": "15644fcd-2df8-433c-be11-d615d53011f6",
   "metadata": {},
   "source": [
    "Вывод : Количество аномальных пользователей - 74. \n",
    "\n",
    "Определим, как они повлияли на результаты статистической значимости. Проверим показатели по очищенным данным. "
   ]
  },
  {
   "cell_type": "markdown",
   "id": "5b555e07-ae98-43b8-9af3-06689b667449",
   "metadata": {},
   "source": [
    "Сначала подготовим выборки количества заказов по пользователям по группам теста"
   ]
  },
  {
   "cell_type": "code",
   "execution_count": 107,
   "id": "a7944c0e-0bac-422c-b50e-8c532cb05460",
   "metadata": {},
   "outputs": [],
   "source": [
    "sampleAFiltered = pd.concat([\n",
    "                             ordersByUsersA[np.logical_not(ordersByUsersA['user_id'].isin(abnormalUsers))]['orders'],\n",
    "                             pd.Series(0,\n",
    "                                       index=np.arange(data['visitorsPerDateA'].sum() - len(ordersByUsersA['orders'])),\n",
    "                                       name='orders')\n",
    "                            ],\n",
    "                            axis=0)\n",
    "\n",
    "sampleBFiltered = pd.concat([\n",
    "                            ordersByUsersB[np.logical_not(ordersByUsersB['user_id'].isin(abnormalUsers))]['orders'],\n",
    "                            pd.Series(0,\n",
    "                                      index=np.arange(data['visitorsPerDateB'].sum() - len(ordersByUsersB['orders'])),\n",
    "                                      name='orders')\n",
    "                            ],\n",
    "                            axis=0)"
   ]
  },
  {
   "cell_type": "markdown",
   "id": "6326f802-774e-4327-8854-e60354b3657b",
   "metadata": {},
   "source": [
    "Сформулируем гипотезы. \n",
    "\n",
    "Нулевая: различий в среднем количестве заказов между группами нет.\n",
    "\n",
    "Альтернативная: различия в среднем количестве заказов между группами есть."
   ]
  },
  {
   "cell_type": "markdown",
   "id": "a9e2d02d-3710-4bd9-b127-6b1d5f2d3f1d",
   "metadata": {},
   "source": [
    "Применим статистический критерий Манна-Уитни к полученным выборкам:"
   ]
  },
  {
   "cell_type": "code",
   "execution_count": 108,
   "id": "22ca4955-df07-4e76-bab6-743bbddb2803",
   "metadata": {},
   "outputs": [
    {
     "name": "stdout",
     "output_type": "stream",
     "text": [
      "p-value = 0.013\n",
      "Относительное различие среднем количестве закзов между группами по «очищенным» данным: 0.173\n"
     ]
    }
   ],
   "source": [
    "print('p-value =', '{0:.3f}'.format(stats.mannwhitneyu(sampleAFiltered, sampleBFiltered)[1]))\n",
    "print('Относительное различие среднем количестве закзов между группами по «очищенным» данным:','{0:.3f}'\n",
    "      .format(sampleBFiltered.mean()/sampleAFiltered.mean()-1)) "
   ]
  },
  {
   "cell_type": "markdown",
   "id": "017206b8-ab0a-47c6-b259-50e7d2deac49",
   "metadata": {},
   "source": [
    "Вывод: p-value = 0.013, что меньше 0.05. Это означает, что нулевую гипотезу об отсутствии различий по «очищенным» данным в конверсии между группами можно отвергнуть. По «сырым» данным p-value был равен 0.017. Среднее количество заказов группы В больше среднего группы А. Относительное различие в количестве заказов между группами по «сырым» данным было равно 0.138. Результаты по «очищенным» данным незначительно отличаются от результатов по «сырым» данным"
   ]
  },
  {
   "cell_type": "markdown",
   "id": "e6af469a",
   "metadata": {},
   "source": [
    "<div class=\"alert alert-block alert-success\">\n",
    "    \n",
    "**Комментарий от ревьюера**\n",
    "\n",
    "Верно, при анализе \"очищенных данных\" p-value стало еще меньше и все так же меньше 0.05, следовательно, между группами есть статистически значимые различия.\n",
    "</div>"
   ]
  },
  {
   "cell_type": "markdown",
   "id": "a7032715-09e4-493e-a6fb-690928f5e193",
   "metadata": {
    "jp-MarkdownHeadingCollapsed": true
   },
   "source": [
    "#### Статистическая значимость различий в среднем чеке заказа между группами по «очищенным» данным"
   ]
  },
  {
   "cell_type": "markdown",
   "id": "f7a3c2f9-9a30-4d28-b176-faec2686b44f",
   "metadata": {},
   "source": [
    "Сформулируем гипотезы.\n",
    "\n",
    "Нулевая: различий в среднем чеке между группами нет.\n",
    "\n",
    "Альтернативная: различия в среднем чеке между группами есть."
   ]
  },
  {
   "cell_type": "code",
   "execution_count": 109,
   "id": "60bd4ecc-1b66-4f42-9077-af205de5f321",
   "metadata": {},
   "outputs": [
    {
     "name": "stdout",
     "output_type": "stream",
     "text": [
      "p-value = 0.738\n",
      "Относительное различие в среднем чеке между группами по «очищенным» данным: -0.020\n"
     ]
    }
   ],
   "source": [
    "print('p-value =','{0:.3f}'.format(\n",
    "    \n",
    "        stats.mannwhitneyu(orders[np.logical_and(orders['group'] == 'A',\n",
    "                                                 np.logical_not(orders['visitor_id'].isin(abnormalUsers)))\n",
    "                                 ]['revenue'],\n",
    "                           orders[np.logical_and(orders['group'] == 'B',\n",
    "                                                 np.logical_not(orders['visitor_id'].isin(abnormalUsers)))\n",
    "                                 ]['revenue'],\n",
    "                          )[1]))\n",
    "\n",
    "print('Относительное различие в среднем чеке между группами по «очищенным» данным:',\"{0:.3f}\".format(\n",
    "    \n",
    "            orders[np.logical_and(orders['group'] == 'B',\n",
    "                                  np.logical_not(orders['visitor_id'].isin(abnormalUsers)))\n",
    "                  ]['revenue'].mean()\n",
    "          / orders[np.logical_and(orders['group'] == 'A',\n",
    "                                  np.logical_not(orders['visitor_id'].isin(abnormalUsers)))\n",
    "                  ]['revenue'].mean()\n",
    "        - 1))"
   ]
  },
  {
   "cell_type": "markdown",
   "id": "b0ef16a5-b5c8-47b1-a97b-dceae84d450d",
   "metadata": {},
   "source": [
    "Вывод: p-value = 0.738, что больше 0.05. Нулевую гипотезу не отвергаем. По «сырым» данным p-value был равен 0.729. \n",
    "\n",
    "Однако по «очищенным» данным средний чек группы А больше среднего чека группы В. По «сырым» данным было наоборот, относительное различие в среднем чеке между было 0.259."
   ]
  },
  {
   "cell_type": "markdown",
   "id": "7b1478f4",
   "metadata": {},
   "source": [
    "<div class=\"alert alert-block alert-success\">\n",
    "    \n",
    "**Комментарий от ревьюера**\n",
    "\n",
    "Да, здесь видно, как на относительные различия повлияли выбросы.\n",
    "</div>"
   ]
  },
  {
   "cell_type": "markdown",
   "id": "56d2c885-983c-40b6-9d76-a9761cac7062",
   "metadata": {},
   "source": [
    "#### Общий вывод:"
   ]
  },
  {
   "cell_type": "markdown",
   "id": "a8183308-4caa-4430-9703-936ce49a02e5",
   "metadata": {},
   "source": [
    "Задачей исследования было:\n",
    "\n",
    "- Узнать как изменилась приоритизация гипотез при применении RICE и ICE\n",
    "- Проанализировать A/B-тест.\n",
    "\n",
    "В ходе исследования была вополнена предобработка данных:\n",
    "\n",
    "- Замена названия столбцов, приведение их к нижнему регистру и правильному стилю\n",
    "- Приведение к правильному типу данных в столбцах, содержащих информацию о дате и времени.\n",
    "\n",
    "В ходе приоритизирования гипотез определены наиболее важные из них:\n",
    "\n",
    "- Добавить форму подписки на все основные страницы, чтобы собрать базу клиентов для email-рассылок(гипотеза №7)\n",
    "- Добавить два новых канала привлечения трафика, что позволит привлекать на 30% больше пользователей(гипотеза №0)\n",
    "- Показать на главной странице баннеры с актуальными акциями и распродажами, чтобы увеличить конверсию(гипотеза №6)\n",
    "\n",
    "Основные положения анализа результатов A/B-теста:\n",
    "\n",
    "- Кумулятивный средний чек группы В выше среднего чека группы А на 25.9% к концу теста\n",
    "\n",
    "- Кумулятивное количество заказов группы В выше количества заказов группы А на 13.8% к концу теста\n",
    "\n",
    "- Не более 5% от всех пользователей оформляли больше чем 2 заказа, 1% пользователей оформляли заказ более 4 раз\n",
    "\n",
    "- Не более 5% от всех заказов имеют стоимость больше чем 28 000 рублей, 1% заказов - более 58 233 рублей\n",
    "\n",
    "Статистически значимое различие по количеству заказов между группами присутствует как по «сырым» данным, так и по данным после фильтрации аномалий.\n",
    "\n",
    "- Относительное различие в среднем количестве заказов между группами (отношение среднего количества заказов  группы В к среднему количеству заказов  группы А): 0.138 по «сырым» данным и 0.173 по «очищенным» данным\n",
    "\n",
    "Статистически значимого различия по среднему чеку между группами нет.\n",
    "\n",
    "- Относительное различие в среднем чеке между группами (отношение среднего чека группы В к среднему чеку группы А): 0.259 по «сырым» данным и -0.020 по «очищенным» данным\n",
    "\n",
    "График различия количества заказов между группами показывает, что результаты группы B лучше группы A и есть динамика к улучшению.\n",
    "\n",
    "График различия среднего чека показывает , что результаты группы B направлены к снижению, повлияло наличие крупных заказов. По «очищенным» данным средний чек группы А оказался больше среднего чека группы В.\n",
    "\n",
    "**Итог**: После выполнения исследования, тест следует продолжить. Количество заказов группы B лучше A, но, есть основания полагать, что пристутствует тенденция к снижению среднего чека группы В. Требуется больше времени понаблюдать за этим показателем."
   ]
  },
  {
   "cell_type": "markdown",
   "id": "8ea91d89",
   "metadata": {},
   "source": [
    "<div class=\"alert alert-block alert-danger\">\n",
    "    \n",
    "**Комментарий от ревьюера**\n",
    "    \n",
    "Если ты рекомендуешь продолжать тест, то попробуй спрогнозировать, как долго нужно его продолжать, воспользовавшись специальными сервисами, например занести наши данные в [калькулятор длительности теста](https://vwo.com/tools/ab-test-duration-calculator/), и проверить, достаточно ли времени прошло для принятия решения.\n",
    "</div>"
   ]
  },
  {
   "cell_type": "markdown",
   "id": "22683196-241e-465c-8680-a52569a421fd",
   "metadata": {},
   "source": [
    "<div class=\"alert alert-info\">\n",
    "  Для определения изменений конвверсии на 5% требуется 31 день проведения А/В тестирования, исходя из этого факта можно сделать вывод о том, что время проведения данного теста закончилось. На самом деле можно рекомендовать закончить данный тест и подвести итоги о том, что количество заказов выросло на 17% в то время как средний чек группы В ниже группы А на 20%. Признать тест отрицательным по среднему чеку.  \n",
    "</div>"
   ]
  },
  {
   "cell_type": "markdown",
   "id": "a2ae393c",
   "metadata": {},
   "source": [
    "<div class=\"alert alert-block alert-info\">\n",
    "\n",
    "<b>Итоговый комментарий от ревьюера</b>\n",
    "\n",
    "Благодарю тебя за выполнение проекта. Вижу ты постарался, когда работал над ним. Однако, в проекте есть несколько замечаний, которые надо исправить:\n",
    "\n",
    "* дополнить описание статистических расчетов;\n",
    "* не использовать ручной ввод при фильтрации;\n",
    "* дополнить вывод.\n",
    "       \n",
    "Жду проект после доработки. Уверена, ты справишься. 💪\n",
    "</div>"
   ]
  },
  {
   "cell_type": "code",
   "execution_count": null,
   "id": "540644c8",
   "metadata": {},
   "outputs": [],
   "source": []
  }
 ],
 "metadata": {
  "ExecuteTimeLog": [
   {
    "duration": 1224,
    "start_time": "2024-01-07T10:45:20.689Z"
   },
   {
    "duration": 214,
    "start_time": "2024-01-07T10:45:21.915Z"
   },
   {
    "duration": 26,
    "start_time": "2024-01-07T10:45:22.131Z"
   },
   {
    "duration": 27,
    "start_time": "2024-01-07T10:45:22.158Z"
   },
   {
    "duration": 7,
    "start_time": "2024-01-07T10:45:22.187Z"
   },
   {
    "duration": 5,
    "start_time": "2024-01-07T10:45:22.210Z"
   },
   {
    "duration": 9,
    "start_time": "2024-01-07T10:45:22.216Z"
   },
   {
    "duration": 12,
    "start_time": "2024-01-07T10:45:22.227Z"
   },
   {
    "duration": 4,
    "start_time": "2024-01-07T10:45:22.241Z"
   },
   {
    "duration": 2,
    "start_time": "2024-01-07T10:45:22.248Z"
   },
   {
    "duration": 11,
    "start_time": "2024-01-07T10:45:22.251Z"
   },
   {
    "duration": 49,
    "start_time": "2024-01-07T10:45:22.263Z"
   },
   {
    "duration": 254,
    "start_time": "2024-01-07T10:45:22.314Z"
   },
   {
    "duration": 304,
    "start_time": "2024-01-07T10:45:22.569Z"
   },
   {
    "duration": 238,
    "start_time": "2024-01-07T10:45:22.875Z"
   },
   {
    "duration": 380,
    "start_time": "2024-01-07T10:45:23.114Z"
   },
   {
    "duration": 215,
    "start_time": "2024-01-07T10:45:23.496Z"
   },
   {
    "duration": 327,
    "start_time": "2024-01-07T10:45:23.712Z"
   },
   {
    "duration": 11,
    "start_time": "2024-01-07T10:45:24.040Z"
   },
   {
    "duration": 136,
    "start_time": "2024-01-07T10:45:24.052Z"
   },
   {
    "duration": 138,
    "start_time": "2024-01-07T10:45:24.190Z"
   },
   {
    "duration": 4,
    "start_time": "2024-01-07T10:45:24.329Z"
   },
   {
    "duration": 19,
    "start_time": "2024-01-07T10:45:24.335Z"
   },
   {
    "duration": 210,
    "start_time": "2024-01-07T10:45:24.356Z"
   },
   {
    "duration": 139,
    "start_time": "2024-01-07T10:45:24.567Z"
   },
   {
    "duration": 155,
    "start_time": "2024-01-07T10:45:24.711Z"
   },
   {
    "duration": 3,
    "start_time": "2024-01-07T10:45:24.868Z"
   },
   {
    "duration": 190,
    "start_time": "2024-01-07T10:45:24.874Z"
   },
   {
    "duration": 136,
    "start_time": "2024-01-07T10:45:25.065Z"
   },
   {
    "duration": 11,
    "start_time": "2024-01-07T10:45:25.202Z"
   },
   {
    "duration": 26,
    "start_time": "2024-01-07T10:45:25.214Z"
   },
   {
    "duration": 10,
    "start_time": "2024-01-07T10:45:25.241Z"
   },
   {
    "duration": 7,
    "start_time": "2024-01-07T10:45:25.252Z"
   },
   {
    "duration": 16,
    "start_time": "2024-01-07T10:45:25.261Z"
   },
   {
    "duration": 47,
    "start_time": "2024-01-07T10:45:25.278Z"
   },
   {
    "duration": 12,
    "start_time": "2024-01-07T10:45:25.326Z"
   }
  ],
  "kernelspec": {
   "display_name": "Python 3 (ipykernel)",
   "language": "python",
   "name": "python3"
  },
  "language_info": {
   "codemirror_mode": {
    "name": "ipython",
    "version": 3
   },
   "file_extension": ".py",
   "mimetype": "text/x-python",
   "name": "python",
   "nbconvert_exporter": "python",
   "pygments_lexer": "ipython3",
   "version": "3.9.18"
  },
  "toc": {
   "base_numbering": 1,
   "nav_menu": {},
   "number_sections": true,
   "sideBar": true,
   "skip_h1_title": true,
   "title_cell": "Table of Contents",
   "title_sidebar": "Contents",
   "toc_cell": false,
   "toc_position": {},
   "toc_section_display": true,
   "toc_window_display": false
  }
 },
 "nbformat": 4,
 "nbformat_minor": 5
}
