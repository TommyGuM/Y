{
 "cells": [
  {
   "cell_type": "markdown",
   "id": "ebe89a6e",
   "metadata": {},
   "source": [
    "<div class=\"alert alert-info\"> <b>Здравствуйте, отправлю на ревью не полностью выполненную работу, не знаю с кем посоветоваться, или понять правильно ли я исследую данный проект, укажите пожалуйста на ошибки в уже выполненных пунктах, и посоветуйте, как выолнить работу дальше, или в каком месте искать, может быть у вас есть какой то пример выполнения. С радостью бы на него взглянулю Спасибо.</b> </div>"
   ]
  },
  {
   "cell_type": "markdown",
   "id": "3cef14fc",
   "metadata": {},
   "source": [
    "<div style=\"border:solid lightblue 3px; background:#f7faf8; padding: 20px\">\n",
    "<b>Артем, привет!</b>\n",
    "\n",
    "Меня зовут Владимир Бердников, и я буду проверять твой проект. Предлагаю общаться на «ты», но если это не совсем удобно для тебя — дай знать, и мы перейдем на \"вы\". Моя цель не указать на совершённые тобой ошибки, а поделиться своим опытом и помочь улучшить навыки. \n",
    "    \n",
    "Пожалуйста, не перемещай, не удаляй и не правь мои комментарии. Всё это поможет выполнить повторную проверку твоего проекта оперативнее.\n",
    "\n",
    "При проверке работы я буду отмечать комментарии цветом и примечанием. В конце заголовка комментария указан номер итерации проверки.\n",
    "\n",
    "<div class=\"alert alert-block alert-danger\" style=\"border-radius: 15px; box-shadow: 4px 4px 4px; border: 1px solid \">\n",
    "<h2> Комментарий ревьюера v_1: <a class=\"tocSkip\"></h2>\n",
    "    \n",
    "❌ Комментарии такого цвета нужно исправить, иначе проект не будет принят. \n",
    "</div>\n",
    "\n",
    "<div class=\"alert alert-warning\" style=\"border-radius: 15px; box-shadow: 4px 4px 4px; border: 1px solid \">\n",
    "<h2> Комментарий ревьюера v_1: <a class=\"tocSkip\"> </h2>\n",
    "    \n",
    "⚠️ Такой комментарий является рекомендацией или советом. Mожешь учесть их при выполнении заданий, но их не должно быть больше трех.\n",
    "</div>\n",
    "за\n",
    "<div class=\"alert alert-success\" style=\"border-radius: 15px; box-shadow: 4px 4px 4px; border: 1px solid \">\n",
    "<h2> Комментарий ревьюера v_1: <a class=\"tocSkip\"> </h2>\n",
    "    \n",
    "✅ Так выделены все остальные скомментарии, включая позитивные моменты, пояснения и рассуждения.\n",
    "</div>  \n",
    "    \n",
    "Давай работать нздад проектом в диалоге: если ты что-то меняешь в проекте — пиши об этом в комментариях, например, с помощью такого кода в markdown ячейке:"
   ]
  },
  {
   "cell_type": "markdown",
   "id": "bcd5a8b8",
   "metadata": {},
   "source": [
    "<div class=\"alert alert-info\"  style=\"border-radius: 15px; box-shadow: 4px 4px 4px; border: 1px solid \">\n",
    "    \n",
    "<h2>Комментарий студента v_1: <a class=\"tocSkip\"> </h2>\n",
    "\n",
    "Ок.   "
   ]
  },
  {
   "cell_type": "markdown",
   "id": "098f5720",
   "metadata": {},
   "source": []
  },
  {
   "cell_type": "markdown",
   "id": "6ae2c542",
   "metadata": {},
   "source": [
    "<div class=\"alert alert-block alert-danger\" style=\"border-radius: 15px; box-shadow: 4px 4px 4px; border: 1px solid \">\n",
    "<h2> Комментарий ревьюера v_1: <a class=\"tocSkip\"></h2>\n",
    "    \n",
    "❌ Необходимо добавить вступление (этот пункт есть в блоке курса: Полезные инструкции для учёбы - Оформление проекта - Рекомендации по выполнению проектов):\n",
    "    \t\n",
    "* заголовок\n",
    "* краткое описание проекта (желательно своими словами, не копируя из имеющегося описания)\n",
    "* цель проекта\n",
    "* описание данных (на усмотрение, данные можно описать в самой работе)\n",
    "* план работы.\n",
    "\n",
    "Со вступлением получатель отчета сможет получить общее представление о том, что будет в проекте\n",
    "</div>  \n"
   ]
  },
  {
   "cell_type": "markdown",
   "id": "c048c9a6",
   "metadata": {},
   "source": [
    "<div class=\"alert alert-info\"  style=\"border-radius: 15px; box-shadow: 4px 4px 4px; border: 1px solid \">\n",
    "    \n",
    "<h2>Комментарий студента v_1: <a class=\"tocSkip\"> </h2>\n",
    "\n",
    "Поправил   "
   ]
  },
  {
   "cell_type": "markdown",
   "id": "7bfa70c6",
   "metadata": {},
   "source": [
    "<div class=\"alert alert-success\" style=\"border-radius: 15px; box-shadow: 4px 4px 4px; border: 1px solid \">\n",
    "<h2> Комментарий ревьюера v_2: <a class=\"tocSkip\"> </h2>\n",
    "    \n",
    "✅ Принято"
   ]
  },
  {
   "cell_type": "markdown",
   "id": "b1d1749d",
   "metadata": {},
   "source": [
    "# Исследование популярного сервиса аренды самокатов GoFast"
   ]
  },
  {
   "cell_type": "markdown",
   "id": "202657de",
   "metadata": {},
   "source": [
    "Описание проекта.\n",
    "Предоставленны данные cервиса аренды самокатов GoFast. Данные о некоторых пользователях из нескольких городов, а также об их поездках. Чтобы совершать поездки по городу, пользователи сервиса GoFast пользуются мобильным приложением. В этом проекте проанализируем данные и проверим некоторые гипотезы, которые могут помочь бизнесу вырасти.\n",
    "\n",
    "Сервисом можно пользоваться без подписки:\n",
    "- абонентская плата отсутствует стоимость одной минуты поездки — 8 рублей;\n",
    "- стоимость старта (начала поездки) — 50 рублей;\n",
    "\n",
    "с подпиской Ultra: \n",
    "- абонентская плата — 199 рублей в месяц;\n",
    "- стоимость одной минуты поездки — 6 рублей;\n",
    "- стоимость старта — бесплатно.\n",
    "\n",
    "План работы:\n",
    "- Загрузить данные\n",
    "- Произвести предобработку данных. Проверить на пропуски значений, дубликаты, ошибки типов данных.\n",
    "- Визуализировать и изучить обрботанные данные, выполнить первоначальные наблюдения.\n",
    "- Произвести расчеты на основе полученных данных, выявить закономерности. Обьединить необходимые таблицы, столбцы, добавить новые\n",
    "- Проверить необходимые гипотезы, сделать выводы."
   ]
  },
  {
   "cell_type": "code",
   "execution_count": 2,
   "id": "72576667",
   "metadata": {},
   "outputs": [],
   "source": [
    "import pandas as pd\n",
    "import numpy as np\n",
    "from scipy import stats as st\n",
    "import matplotlib.pyplot as plt "
   ]
  },
  {
   "cell_type": "markdown",
   "id": "e34c26a3",
   "metadata": {},
   "source": [
    "<div class=\"alert alert-success\" style=\"border-radius: 15px; box-shadow: 4px 4px 4px; border: 1px solid \">\n",
    "<h2> Комментарий ревьюера v_1: <a class=\"tocSkip\"> </h2>\n",
    "    \n",
    "✅ Отлично, библиотеки импортированы в начале тетрадки, в отдельной ячейке. "
   ]
  },
  {
   "cell_type": "markdown",
   "id": "c42cbe00",
   "metadata": {},
   "source": [
    "## Шаг 1. Загрузка данных"
   ]
  },
  {
   "cell_type": "code",
   "execution_count": 3,
   "id": "eff9f206",
   "metadata": {},
   "outputs": [
    {
     "data": {
      "text/html": [
       "<div>\n",
       "<style scoped>\n",
       "    .dataframe tbody tr th:only-of-type {\n",
       "        vertical-align: middle;\n",
       "    }\n",
       "\n",
       "    .dataframe tbody tr th {\n",
       "        vertical-align: top;\n",
       "    }\n",
       "\n",
       "    .dataframe thead th {\n",
       "        text-align: right;\n",
       "    }\n",
       "</style>\n",
       "<table border=\"1\" class=\"dataframe\">\n",
       "  <thead>\n",
       "    <tr style=\"text-align: right;\">\n",
       "      <th></th>\n",
       "      <th>user_id</th>\n",
       "      <th>name</th>\n",
       "      <th>age</th>\n",
       "      <th>city</th>\n",
       "      <th>subscription_type</th>\n",
       "    </tr>\n",
       "  </thead>\n",
       "  <tbody>\n",
       "    <tr>\n",
       "      <th>0</th>\n",
       "      <td>1</td>\n",
       "      <td>Кира</td>\n",
       "      <td>22</td>\n",
       "      <td>Тюмень</td>\n",
       "      <td>ultra</td>\n",
       "    </tr>\n",
       "    <tr>\n",
       "      <th>1</th>\n",
       "      <td>2</td>\n",
       "      <td>Станислав</td>\n",
       "      <td>31</td>\n",
       "      <td>Омск</td>\n",
       "      <td>ultra</td>\n",
       "    </tr>\n",
       "    <tr>\n",
       "      <th>2</th>\n",
       "      <td>3</td>\n",
       "      <td>Алексей</td>\n",
       "      <td>20</td>\n",
       "      <td>Москва</td>\n",
       "      <td>ultra</td>\n",
       "    </tr>\n",
       "    <tr>\n",
       "      <th>3</th>\n",
       "      <td>4</td>\n",
       "      <td>Константин</td>\n",
       "      <td>26</td>\n",
       "      <td>Ростов-на-Дону</td>\n",
       "      <td>ultra</td>\n",
       "    </tr>\n",
       "    <tr>\n",
       "      <th>4</th>\n",
       "      <td>5</td>\n",
       "      <td>Адель</td>\n",
       "      <td>28</td>\n",
       "      <td>Омск</td>\n",
       "      <td>ultra</td>\n",
       "    </tr>\n",
       "  </tbody>\n",
       "</table>\n",
       "</div>"
      ],
      "text/plain": [
       "   user_id        name  age            city subscription_type\n",
       "0        1        Кира   22          Тюмень             ultra\n",
       "1        2   Станислав   31            Омск             ultra\n",
       "2        3     Алексей   20          Москва             ultra\n",
       "3        4  Константин   26  Ростов-на-Дону             ultra\n",
       "4        5       Адель   28            Омск             ultra"
      ]
     },
     "execution_count": 3,
     "metadata": {},
     "output_type": "execute_result"
    }
   ],
   "source": [
    "try:\n",
    "    user = pd.read_csv('C:\\\\Users\\\\tema-\\\\Downloads\\\\Jupyter\\\\Doc_csv\\\\users_go.csv')\n",
    "    rides = pd.read_csv('C:\\\\Users\\\\tema-\\\\Downloads\\\\Jupyter\\\\Doc_csv\\\\rides_go.csv')\n",
    "    sub = pd.read_csv('C:\\\\Users\\\\tema-\\\\Downloads\\\\Jupyter\\\\Doc_csv\\\\subscriptions_go.csv') \n",
    "except:\n",
    "    user = pd.read_csv('/datasets/users_go.csv')\n",
    "    rides = pd.read_csv('/datasets/rides_go.csv')\n",
    "    sub = pd.read_csv('/datasets/subscriptions_go.csv')\n",
    "user.head()"
   ]
  },
  {
   "attachments": {
    "image.png": {
     "image/png": "[encoded data removed]"
    }
   },
   "cell_type": "markdown",
   "id": "ebecae34",
   "metadata": {},
   "source": [
    "<div class=\"alert alert-block alert-danger\" style=\"border-radius: 15px; box-shadow: 4px 4px 4px; border: 1px solid \">\n",
    "<h2> Комментарий ревьюера v_1: <a class=\"tocSkip\"></h2>\n",
    "    \n",
    "❌ Ошибка в коде, т.к. локальный путь задан. Я бы советовал использовать конструкцию try-except, чтобы данные загружались у всех.\n",
    "    \n",
    "В конце я оставил еще несколько комментариев. Но, чтобы я мог проверить дальше, необходимо исправить ошибку выше.\n",
    "    \n",
    "![image.png](attachment:image.png)"
   ]
  },
  {
   "cell_type": "markdown",
   "id": "121b3fad",
   "metadata": {},
   "source": [
    "<div class=\"alert alert-info\"  style=\"border-radius: 15px; box-shadow: 4px 4px 4px; border: 1px solid \">\n",
    "    \n",
    "<h2>Комментарий студента v_1: <a class=\"tocSkip\"> </h2>\n",
    "\n",
    "Поправил  "
   ]
  },
  {
   "cell_type": "markdown",
   "id": "94c97867",
   "metadata": {},
   "source": [
    "<div class=\"alert alert-success\" style=\"border-radius: 15px; box-shadow: 4px 4px 4px; border: 1px solid \">\n",
    "<h2> Комментарий ревьюера v_2: <a class=\"tocSkip\"> </h2>\n",
    "    \n",
    "✅ +"
   ]
  },
  {
   "cell_type": "code",
   "execution_count": 4,
   "id": "ab1525c6",
   "metadata": {},
   "outputs": [
    {
     "data": {
      "text/html": [
       "<div>\n",
       "<style scoped>\n",
       "    .dataframe tbody tr th:only-of-type {\n",
       "        vertical-align: middle;\n",
       "    }\n",
       "\n",
       "    .dataframe tbody tr th {\n",
       "        vertical-align: top;\n",
       "    }\n",
       "\n",
       "    .dataframe thead th {\n",
       "        text-align: right;\n",
       "    }\n",
       "</style>\n",
       "<table border=\"1\" class=\"dataframe\">\n",
       "  <thead>\n",
       "    <tr style=\"text-align: right;\">\n",
       "      <th></th>\n",
       "      <th>user_id</th>\n",
       "      <th>distance</th>\n",
       "      <th>duration</th>\n",
       "      <th>date</th>\n",
       "    </tr>\n",
       "  </thead>\n",
       "  <tbody>\n",
       "    <tr>\n",
       "      <th>0</th>\n",
       "      <td>1</td>\n",
       "      <td>4409.919140</td>\n",
       "      <td>25.599769</td>\n",
       "      <td>2021-01-01</td>\n",
       "    </tr>\n",
       "    <tr>\n",
       "      <th>1</th>\n",
       "      <td>1</td>\n",
       "      <td>2617.592153</td>\n",
       "      <td>15.816871</td>\n",
       "      <td>2021-01-18</td>\n",
       "    </tr>\n",
       "    <tr>\n",
       "      <th>2</th>\n",
       "      <td>1</td>\n",
       "      <td>754.159807</td>\n",
       "      <td>6.232113</td>\n",
       "      <td>2021-04-20</td>\n",
       "    </tr>\n",
       "    <tr>\n",
       "      <th>3</th>\n",
       "      <td>1</td>\n",
       "      <td>2694.783254</td>\n",
       "      <td>18.511000</td>\n",
       "      <td>2021-08-11</td>\n",
       "    </tr>\n",
       "    <tr>\n",
       "      <th>4</th>\n",
       "      <td>1</td>\n",
       "      <td>4028.687306</td>\n",
       "      <td>26.265803</td>\n",
       "      <td>2021-08-28</td>\n",
       "    </tr>\n",
       "  </tbody>\n",
       "</table>\n",
       "</div>"
      ],
      "text/plain": [
       "   user_id     distance   duration        date\n",
       "0        1  4409.919140  25.599769  2021-01-01\n",
       "1        1  2617.592153  15.816871  2021-01-18\n",
       "2        1   754.159807   6.232113  2021-04-20\n",
       "3        1  2694.783254  18.511000  2021-08-11\n",
       "4        1  4028.687306  26.265803  2021-08-28"
      ]
     },
     "execution_count": 4,
     "metadata": {},
     "output_type": "execute_result"
    }
   ],
   "source": [
    "rides.head()"
   ]
  },
  {
   "cell_type": "code",
   "execution_count": 5,
   "id": "7447be89",
   "metadata": {},
   "outputs": [
    {
     "data": {
      "text/html": [
       "<div>\n",
       "<style scoped>\n",
       "    .dataframe tbody tr th:only-of-type {\n",
       "        vertical-align: middle;\n",
       "    }\n",
       "\n",
       "    .dataframe tbody tr th {\n",
       "        vertical-align: top;\n",
       "    }\n",
       "\n",
       "    .dataframe thead th {\n",
       "        text-align: right;\n",
       "    }\n",
       "</style>\n",
       "<table border=\"1\" class=\"dataframe\">\n",
       "  <thead>\n",
       "    <tr style=\"text-align: right;\">\n",
       "      <th></th>\n",
       "      <th>subscription_type</th>\n",
       "      <th>minute_price</th>\n",
       "      <th>start_ride_price</th>\n",
       "      <th>subscription_fee</th>\n",
       "    </tr>\n",
       "  </thead>\n",
       "  <tbody>\n",
       "    <tr>\n",
       "      <th>0</th>\n",
       "      <td>free</td>\n",
       "      <td>8</td>\n",
       "      <td>50</td>\n",
       "      <td>0</td>\n",
       "    </tr>\n",
       "    <tr>\n",
       "      <th>1</th>\n",
       "      <td>ultra</td>\n",
       "      <td>6</td>\n",
       "      <td>0</td>\n",
       "      <td>199</td>\n",
       "    </tr>\n",
       "  </tbody>\n",
       "</table>\n",
       "</div>"
      ],
      "text/plain": [
       "  subscription_type  minute_price  start_ride_price  subscription_fee\n",
       "0              free             8                50                 0\n",
       "1             ultra             6                 0               199"
      ]
     },
     "execution_count": 5,
     "metadata": {},
     "output_type": "execute_result"
    }
   ],
   "source": [
    "sub.head()"
   ]
  },
  {
   "cell_type": "markdown",
   "id": "83afee87",
   "metadata": {},
   "source": [
    "В основных данных есть информация о пользователях, их поездках и подписках.\n",
    "##### В таблице с пользователями есть информация:\n",
    "- user_id\tуникальный идентификатор пользователя\n",
    "- name\tимя пользователя\n",
    "- age\tвозраст\n",
    "- city\tгород\n",
    "- subscription_type\tтип подписки (free, ultra)\n",
    "##### В таблице с поездками есть информация:\n",
    "- user_id\tуникальный идентификатор пользователя\n",
    "- distance\tрасстояние, которое пользователь проехал в текущей сессии (в метрах)\n",
    "- duration\tпродолжительность сессии (в минутах) — время с того момента, как пользователь нажал кнопку «Начать поездку» до   момента, как он нажал кнопку «Завершить поездку»\n",
    "- date\tдата совершения поездки\n",
    "##### В таблице с подписками есть информация:\n",
    "- subscription_type\tтип подписки\n",
    "- minute_price\tстоимость одной минуты поездки по данной подписке\n",
    "- start_ride_price\tстоимость начала поездки\n",
    "- subscription_fee\tстоимость ежемесячного платежа"
   ]
  },
  {
   "cell_type": "markdown",
   "id": "e95ebca7",
   "metadata": {},
   "source": [
    "## Шаг 2. Предобработка данных"
   ]
  },
  {
   "cell_type": "markdown",
   "id": "967aba74",
   "metadata": {},
   "source": [
    "### Проверим тип данных"
   ]
  },
  {
   "cell_type": "code",
   "execution_count": 6,
   "id": "af6d202c",
   "metadata": {
    "scrolled": true
   },
   "outputs": [
    {
     "name": "stdout",
     "output_type": "stream",
     "text": [
      "<class 'pandas.core.frame.DataFrame'>\n",
      "RangeIndex: 1565 entries, 0 to 1564\n",
      "Data columns (total 5 columns):\n",
      " #   Column             Non-Null Count  Dtype \n",
      "---  ------             --------------  ----- \n",
      " 0   user_id            1565 non-null   int64 \n",
      " 1   name               1565 non-null   object\n",
      " 2   age                1565 non-null   int64 \n",
      " 3   city               1565 non-null   object\n",
      " 4   subscription_type  1565 non-null   object\n",
      "dtypes: int64(2), object(3)\n",
      "memory usage: 61.3+ KB\n"
     ]
    }
   ],
   "source": [
    "user.info()"
   ]
  },
  {
   "cell_type": "code",
   "execution_count": 7,
   "id": "8d51a7b1",
   "metadata": {},
   "outputs": [
    {
     "name": "stdout",
     "output_type": "stream",
     "text": [
      "<class 'pandas.core.frame.DataFrame'>\n",
      "RangeIndex: 18068 entries, 0 to 18067\n",
      "Data columns (total 4 columns):\n",
      " #   Column    Non-Null Count  Dtype  \n",
      "---  ------    --------------  -----  \n",
      " 0   user_id   18068 non-null  int64  \n",
      " 1   distance  18068 non-null  float64\n",
      " 2   duration  18068 non-null  float64\n",
      " 3   date      18068 non-null  object \n",
      "dtypes: float64(2), int64(1), object(1)\n",
      "memory usage: 564.8+ KB\n"
     ]
    }
   ],
   "source": [
    "rides.info()"
   ]
  },
  {
   "cell_type": "code",
   "execution_count": 8,
   "id": "063caee0",
   "metadata": {
    "scrolled": false
   },
   "outputs": [
    {
     "name": "stdout",
     "output_type": "stream",
     "text": [
      "<class 'pandas.core.frame.DataFrame'>\n",
      "RangeIndex: 2 entries, 0 to 1\n",
      "Data columns (total 4 columns):\n",
      " #   Column             Non-Null Count  Dtype \n",
      "---  ------             --------------  ----- \n",
      " 0   subscription_type  2 non-null      object\n",
      " 1   minute_price       2 non-null      int64 \n",
      " 2   start_ride_price   2 non-null      int64 \n",
      " 3   subscription_fee   2 non-null      int64 \n",
      "dtypes: int64(3), object(1)\n",
      "memory usage: 196.0+ bytes\n"
     ]
    }
   ],
   "source": [
    "sub.info()"
   ]
  },
  {
   "cell_type": "markdown",
   "id": "e80bd16a",
   "metadata": {},
   "source": [
    "<div class=\"alert alert-success\" style=\"border-radius: 15px; box-shadow: 4px 4px 4px; border: 1px solid \">\n",
    "<h2> Комментарий ревьюера v_2: <a class=\"tocSkip\"> </h2>\n",
    "    \n",
    "✅ Хорошо, выведены первые строки трех таблиц, использован метод info(). Можно еще прокомментировать, сколько записей в таблицах, какие в них есть типы данных"
   ]
  },
  {
   "cell_type": "markdown",
   "id": "451d688c",
   "metadata": {},
   "source": [
    "Наименования правильные, тип с датой поменяем на datetime"
   ]
  },
  {
   "cell_type": "code",
   "execution_count": 9,
   "id": "c4dacd9b",
   "metadata": {},
   "outputs": [],
   "source": [
    "rides['date'] = pd.to_datetime(rides['date'], format='%Y-%m-%d')"
   ]
  },
  {
   "cell_type": "code",
   "execution_count": 10,
   "id": "2ac59280",
   "metadata": {},
   "outputs": [
    {
     "name": "stdout",
     "output_type": "stream",
     "text": [
      "<class 'pandas.core.frame.DataFrame'>\n",
      "RangeIndex: 18068 entries, 0 to 18067\n",
      "Data columns (total 4 columns):\n",
      " #   Column    Non-Null Count  Dtype         \n",
      "---  ------    --------------  -----         \n",
      " 0   user_id   18068 non-null  int64         \n",
      " 1   distance  18068 non-null  float64       \n",
      " 2   duration  18068 non-null  float64       \n",
      " 3   date      18068 non-null  datetime64[ns]\n",
      "dtypes: datetime64[ns](1), float64(2), int64(1)\n",
      "memory usage: 564.8 KB\n"
     ]
    }
   ],
   "source": [
    "rides.info()"
   ]
  },
  {
   "cell_type": "markdown",
   "id": "fbd791ae",
   "metadata": {},
   "source": [
    "Порядок"
   ]
  },
  {
   "cell_type": "markdown",
   "id": "5ae7aef9",
   "metadata": {},
   "source": [
    "Создадим новый столбец с номером месяца"
   ]
  },
  {
   "cell_type": "code",
   "execution_count": 11,
   "id": "6f761cd7",
   "metadata": {
    "scrolled": true
   },
   "outputs": [
    {
     "data": {
      "text/html": [
       "<div>\n",
       "<style scoped>\n",
       "    .dataframe tbody tr th:only-of-type {\n",
       "        vertical-align: middle;\n",
       "    }\n",
       "\n",
       "    .dataframe tbody tr th {\n",
       "        vertical-align: top;\n",
       "    }\n",
       "\n",
       "    .dataframe thead th {\n",
       "        text-align: right;\n",
       "    }\n",
       "</style>\n",
       "<table border=\"1\" class=\"dataframe\">\n",
       "  <thead>\n",
       "    <tr style=\"text-align: right;\">\n",
       "      <th></th>\n",
       "      <th>user_id</th>\n",
       "      <th>distance</th>\n",
       "      <th>duration</th>\n",
       "      <th>date</th>\n",
       "      <th>date_month</th>\n",
       "    </tr>\n",
       "  </thead>\n",
       "  <tbody>\n",
       "    <tr>\n",
       "      <th>0</th>\n",
       "      <td>1</td>\n",
       "      <td>4409.919140</td>\n",
       "      <td>25.599769</td>\n",
       "      <td>2021-01-01</td>\n",
       "      <td>1</td>\n",
       "    </tr>\n",
       "    <tr>\n",
       "      <th>1</th>\n",
       "      <td>1</td>\n",
       "      <td>2617.592153</td>\n",
       "      <td>15.816871</td>\n",
       "      <td>2021-01-18</td>\n",
       "      <td>1</td>\n",
       "    </tr>\n",
       "    <tr>\n",
       "      <th>2</th>\n",
       "      <td>1</td>\n",
       "      <td>754.159807</td>\n",
       "      <td>6.232113</td>\n",
       "      <td>2021-04-20</td>\n",
       "      <td>4</td>\n",
       "    </tr>\n",
       "    <tr>\n",
       "      <th>3</th>\n",
       "      <td>1</td>\n",
       "      <td>2694.783254</td>\n",
       "      <td>18.511000</td>\n",
       "      <td>2021-08-11</td>\n",
       "      <td>8</td>\n",
       "    </tr>\n",
       "    <tr>\n",
       "      <th>4</th>\n",
       "      <td>1</td>\n",
       "      <td>4028.687306</td>\n",
       "      <td>26.265803</td>\n",
       "      <td>2021-08-28</td>\n",
       "      <td>8</td>\n",
       "    </tr>\n",
       "  </tbody>\n",
       "</table>\n",
       "</div>"
      ],
      "text/plain": [
       "   user_id     distance   duration       date  date_month\n",
       "0        1  4409.919140  25.599769 2021-01-01           1\n",
       "1        1  2617.592153  15.816871 2021-01-18           1\n",
       "2        1   754.159807   6.232113 2021-04-20           4\n",
       "3        1  2694.783254  18.511000 2021-08-11           8\n",
       "4        1  4028.687306  26.265803 2021-08-28           8"
      ]
     },
     "execution_count": 11,
     "metadata": {},
     "output_type": "execute_result"
    }
   ],
   "source": [
    "rides['date_month'] = rides['date'].dt.month\n",
    "rides.head()"
   ]
  },
  {
   "cell_type": "code",
   "execution_count": 12,
   "id": "ec0d526d",
   "metadata": {},
   "outputs": [
    {
     "name": "stdout",
     "output_type": "stream",
     "text": [
      "<class 'pandas.core.frame.DataFrame'>\n",
      "RangeIndex: 18068 entries, 0 to 18067\n",
      "Data columns (total 5 columns):\n",
      " #   Column      Non-Null Count  Dtype         \n",
      "---  ------      --------------  -----         \n",
      " 0   user_id     18068 non-null  int64         \n",
      " 1   distance    18068 non-null  float64       \n",
      " 2   duration    18068 non-null  float64       \n",
      " 3   date        18068 non-null  datetime64[ns]\n",
      " 4   date_month  18068 non-null  int32         \n",
      "dtypes: datetime64[ns](1), float64(2), int32(1), int64(1)\n",
      "memory usage: 635.3 KB\n"
     ]
    }
   ],
   "source": [
    "rides.info()"
   ]
  },
  {
   "cell_type": "markdown",
   "id": "b80e3ef5",
   "metadata": {},
   "source": [
    "<div class=\"alert alert-warning\" style=\"border-radius: 15px; box-shadow: 4px 4px 4px; border: 1px solid \">\n",
    "<h2> Комментарий ревьюера v_2: <a class=\"tocSkip\"> </h2>\n",
    "    \n",
    "⚠️ Желательно еще проверить, за какой период имеются данные. Создается столбец с номерами месяцев, если здесь несколько лет, следует это учитывать."
   ]
  },
  {
   "cell_type": "markdown",
   "id": "9af2433e",
   "metadata": {},
   "source": [
    "<div class=\"alert alert-info\"  style=\"border-radius: 15px; box-shadow: 4px 4px 4px; border: 1px solid \">\n",
    "    \n",
    "<h2>Комментарий студента v_2: <a class=\"tocSkip\"> </h2>\n",
    "\n",
    "Поправил  "
   ]
  },
  {
   "cell_type": "markdown",
   "id": "52e5f1e4",
   "metadata": {},
   "source": [
    "<div class=\"alert alert-success\" style=\"border-radius: 15px; box-shadow: 4px 4px 4px; border: 1px solid \">\n",
    "<h2> Комментарий ревьюера v_3: <a class=\"tocSkip\"> </h2>\n",
    "    \n",
    "✅ Ок, но желательно оставлять комментарий"
   ]
  },
  {
   "cell_type": "markdown",
   "id": "5069c0d5",
   "metadata": {},
   "source": [
    "Проверим есть ли данные, за дргуие года, чтобы не ошибиться в расчетах."
   ]
  },
  {
   "cell_type": "code",
   "execution_count": 13,
   "id": "2696b8ee",
   "metadata": {},
   "outputs": [
    {
     "data": {
      "text/plain": [
       "array([2021])"
      ]
     },
     "execution_count": 13,
     "metadata": {},
     "output_type": "execute_result"
    }
   ],
   "source": [
    "rides['date_year'] = rides['date'].dt.year\n",
    "rides['date_year'].unique()"
   ]
  },
  {
   "cell_type": "code",
   "execution_count": null,
   "id": "33ec67a0",
   "metadata": {},
   "outputs": [],
   "source": []
  },
  {
   "cell_type": "markdown",
   "id": "14e76466",
   "metadata": {},
   "source": [
    "### Проверим таблицы на пропуски значений"
   ]
  },
  {
   "cell_type": "code",
   "execution_count": 14,
   "id": "1d45b226",
   "metadata": {},
   "outputs": [
    {
     "data": {
      "text/plain": [
       "user_id              0\n",
       "name                 0\n",
       "age                  0\n",
       "city                 0\n",
       "subscription_type    0\n",
       "dtype: int64"
      ]
     },
     "execution_count": 14,
     "metadata": {},
     "output_type": "execute_result"
    }
   ],
   "source": [
    "user.isna().sum()"
   ]
  },
  {
   "cell_type": "code",
   "execution_count": 15,
   "id": "d77ffba6",
   "metadata": {},
   "outputs": [
    {
     "data": {
      "text/plain": [
       "user_id       0\n",
       "distance      0\n",
       "duration      0\n",
       "date          0\n",
       "date_month    0\n",
       "date_year     0\n",
       "dtype: int64"
      ]
     },
     "execution_count": 15,
     "metadata": {},
     "output_type": "execute_result"
    }
   ],
   "source": [
    "rides.isna().sum()"
   ]
  },
  {
   "cell_type": "code",
   "execution_count": 16,
   "id": "efc17eb1",
   "metadata": {},
   "outputs": [
    {
     "data": {
      "text/plain": [
       "subscription_type    0\n",
       "minute_price         0\n",
       "start_ride_price     0\n",
       "subscription_fee     0\n",
       "dtype: int64"
      ]
     },
     "execution_count": 16,
     "metadata": {},
     "output_type": "execute_result"
    }
   ],
   "source": [
    "sub.isna().sum()"
   ]
  },
  {
   "cell_type": "markdown",
   "id": "49ec8255",
   "metadata": {},
   "source": [
    "Пропусков нет."
   ]
  },
  {
   "cell_type": "markdown",
   "id": "e79a7056",
   "metadata": {},
   "source": [
    "### Проверим на дубликаты."
   ]
  },
  {
   "cell_type": "code",
   "execution_count": 17,
   "id": "992b72fd",
   "metadata": {},
   "outputs": [
    {
     "data": {
      "text/plain": [
       "31"
      ]
     },
     "execution_count": 17,
     "metadata": {},
     "output_type": "execute_result"
    }
   ],
   "source": [
    "user.duplicated().sum()"
   ]
  },
  {
   "cell_type": "markdown",
   "id": "83118e55",
   "metadata": {},
   "source": [
    "Из 1565 строк это несущественное количество, удалим эти строки"
   ]
  },
  {
   "cell_type": "code",
   "execution_count": 18,
   "id": "2ef2bd8b",
   "metadata": {},
   "outputs": [
    {
     "data": {
      "text/plain": [
       "0"
      ]
     },
     "execution_count": 18,
     "metadata": {},
     "output_type": "execute_result"
    }
   ],
   "source": [
    "user = user.drop_duplicates().reset_index()\n",
    "user.duplicated().sum()"
   ]
  },
  {
   "cell_type": "code",
   "execution_count": 19,
   "id": "11fcd756",
   "metadata": {},
   "outputs": [
    {
     "name": "stdout",
     "output_type": "stream",
     "text": [
      "<class 'pandas.core.frame.DataFrame'>\n",
      "RangeIndex: 1534 entries, 0 to 1533\n",
      "Data columns (total 6 columns):\n",
      " #   Column             Non-Null Count  Dtype \n",
      "---  ------             --------------  ----- \n",
      " 0   index              1534 non-null   int64 \n",
      " 1   user_id            1534 non-null   int64 \n",
      " 2   name               1534 non-null   object\n",
      " 3   age                1534 non-null   int64 \n",
      " 4   city               1534 non-null   object\n",
      " 5   subscription_type  1534 non-null   object\n",
      "dtypes: int64(3), object(3)\n",
      "memory usage: 72.0+ KB\n"
     ]
    }
   ],
   "source": [
    "user.info()"
   ]
  },
  {
   "cell_type": "code",
   "execution_count": 20,
   "id": "ee2a0a4e",
   "metadata": {},
   "outputs": [
    {
     "data": {
      "text/plain": [
       "0"
      ]
     },
     "execution_count": 20,
     "metadata": {},
     "output_type": "execute_result"
    }
   ],
   "source": [
    "rides.duplicated().sum()"
   ]
  },
  {
   "cell_type": "code",
   "execution_count": 21,
   "id": "120053de",
   "metadata": {},
   "outputs": [
    {
     "data": {
      "text/plain": [
       "0"
      ]
     },
     "execution_count": 21,
     "metadata": {},
     "output_type": "execute_result"
    }
   ],
   "source": [
    "sub.duplicated().sum()"
   ]
  },
  {
   "cell_type": "markdown",
   "id": "89a2fe96",
   "metadata": {},
   "source": [
    "<div class=\"alert alert-success\" style=\"border-radius: 15px; box-shadow: 4px 4px 4px; border: 1px solid \">\n",
    "<h2> Комментарий ревьюера v_2: <a class=\"tocSkip\"> </h2>\n",
    "    \n",
    "✅ Хорошо, проверены пропуски и дубликаты; удалены выявленные дубликаты "
   ]
  },
  {
   "cell_type": "markdown",
   "id": "30883942",
   "metadata": {},
   "source": [
    "<div class=\"alert alert-success\" style=\"border-radius: 15px; box-shadow: 4px 4px 4px; border: 1px solid \">\n",
    "<h2> Комментарий ревьюера v_2: <a class=\"tocSkip\"> </h2>\n",
    "    \n",
    "✅ Дополнительно можно посмотреть, есть ли в столбце с продолжительностью сессии аномалии. Можно сравнить продолжительность сессий и расстояние поездок и прокомментировать, насколько реально можно проехать такое расстояние за указанное время. В случае обнаружения удалять не рекомендуется, лучше сначала выяснить причину их появления.\n",
    "</div>  "
   ]
  },
  {
   "cell_type": "markdown",
   "id": "212593c7",
   "metadata": {},
   "source": [
    "## Шаг 3. Исследовательский анализ данных"
   ]
  },
  {
   "cell_type": "markdown",
   "id": "889be8cf",
   "metadata": {},
   "source": [
    "Опишем и визуализируем общую информацию о пользователях."
   ]
  },
  {
   "cell_type": "code",
   "execution_count": 22,
   "id": "33bbfedb",
   "metadata": {
    "scrolled": false
   },
   "outputs": [
    {
     "data": {
      "image/png": "[encoded data removed]",
      "text/plain": [
       "<Figure size 640x480 with 1 Axes>"
      ]
     },
     "metadata": {},
     "output_type": "display_data"
    }
   ],
   "source": [
    "user.pivot_table(index='city',\n",
    "                 values='user_id', \n",
    "                 aggfunc='count').sort_values('user_id', ascending=False).plot(kind='bar', ec='black')\n",
    "plt.ylabel('Пользователи')\n",
    "plt.title('Количество пользователей по городам');            "
   ]
  },
  {
   "cell_type": "markdown",
   "id": "3d50ecfc",
   "metadata": {},
   "source": [
    "<div class=\"alert alert-block alert-danger\" style=\"border-radius: 15px; box-shadow: 4px 4px 4px; border: 1px solid \">\n",
    "<h2> Комментарий ревьюера v_2: <a class=\"tocSkip\"></h2>\n",
    "    \n",
    "❌ Не хватает заголовка и подписей на осях. Это замечание касается всех визуализаций в этом и последующих проектах."
   ]
  },
  {
   "cell_type": "markdown",
   "id": "aeead818",
   "metadata": {},
   "source": [
    "<div class=\"alert alert-warning\" style=\"border-radius: 15px; box-shadow: 4px 4px 4px; border: 1px solid \">\n",
    "<h2> Комментарий ревьюера v_2: <a class=\"tocSkip\"> </h2>\n",
    "    \n",
    "⚠️ Также советую отсортировать значения, так их проще анализировать.\n",
    "    \n",
    "Чтобы убрать технический аутпут, необходимо добавить `;` в конце"
   ]
  },
  {
   "cell_type": "markdown",
   "id": "122d8e01",
   "metadata": {},
   "source": [
    "<div class=\"alert alert-info\"  style=\"border-radius: 15px; box-shadow: 4px 4px 4px; border: 1px solid \">\n",
    "    \n",
    "<h2>Комментарий студента v_2: <a class=\"tocSkip\"> </h2>\n",
    "\n",
    "Поправил  "
   ]
  },
  {
   "cell_type": "markdown",
   "id": "789bf0b6",
   "metadata": {},
   "source": [
    "<div class=\"alert alert-success\" style=\"border-radius: 15px; box-shadow: 4px 4px 4px; border: 1px solid \">\n",
    "<h2> Комментарий ревьюера v_3: <a class=\"tocSkip\"> </h2>\n",
    "    \n",
    "✅ Отлично"
   ]
  },
  {
   "cell_type": "code",
   "execution_count": 23,
   "id": "b20a8285",
   "metadata": {},
   "outputs": [
    {
     "data": {
      "text/plain": [
       "city\n",
       "Пятигорск         219\n",
       "Екатеринбург      204\n",
       "Ростов-на-Дону    198\n",
       "Краснодар         193\n",
       "Сочи              189\n",
       "Омск              183\n",
       "Тюмень            180\n",
       "Москва            168\n",
       "Name: user_id, dtype: int64"
      ]
     },
     "execution_count": 23,
     "metadata": {},
     "output_type": "execute_result"
    }
   ],
   "source": [
    "user.groupby('city')['user_id'].count().sort_values(ascending=False)"
   ]
  },
  {
   "cell_type": "markdown",
   "id": "87a6a3d1",
   "metadata": {},
   "source": [
    "По всем городам примерно одинаковое количество пользователей из полученных данных, однако Пятигорск оказывается в большинстве 219 пользователей, Москва занимает последнее место из 168 пользователей."
   ]
  },
  {
   "cell_type": "markdown",
   "id": "53868fc6",
   "metadata": {},
   "source": [
    "Соотношение пользователей с подпиской и без подписки."
   ]
  },
  {
   "cell_type": "code",
   "execution_count": 24,
   "id": "03b49e32",
   "metadata": {
    "scrolled": false
   },
   "outputs": [
    {
     "data": {
      "image/png": "[encoded data removed]",
      "text/plain": [
       "<Figure size 640x480 with 1 Axes>"
      ]
     },
     "metadata": {},
     "output_type": "display_data"
    }
   ],
   "source": [
    "user.groupby('subscription_type')['user_id'].count().plot.pie(autopct=\"%.1f\")\n",
    "plt.title('Пользователи')\n",
    "plt.ylabel('');"
   ]
  },
  {
   "cell_type": "markdown",
   "id": "bf707119",
   "metadata": {},
   "source": [
    "54.4% пользователей с уровнем подписки **free**."
   ]
  },
  {
   "cell_type": "markdown",
   "id": "38fb7339",
   "metadata": {},
   "source": [
    "<div class=\"alert alert-block alert-danger\" style=\"border-radius: 15px; box-shadow: 4px 4px 4px; border: 1px solid \">\n",
    "<h2> Комментарий ревьюера v_2: <a class=\"tocSkip\"></h2>\n",
    "    \n",
    "❌ Также необходимо добавить визуализацию. Здесь лучше подойдет диаграмма, позволяющая показать отношение частей к целому. "
   ]
  },
  {
   "cell_type": "markdown",
   "id": "947915f8",
   "metadata": {},
   "source": [
    "<div class=\"alert alert-info\"  style=\"border-radius: 15px; box-shadow: 4px 4px 4px; border: 1px solid \">\n",
    "    \n",
    "<h2>Комментарий студента v_2: <a class=\"tocSkip\"> </h2>\n",
    "\n",
    "Поправил  "
   ]
  },
  {
   "cell_type": "markdown",
   "id": "4c3046d0",
   "metadata": {},
   "source": [
    "<div class=\"alert alert-block alert-danger\" style=\"border-radius: 15px; box-shadow: 4px 4px 4px; border: 1px solid \">\n",
    "<h2> Комментарий ревьюера v_3: <a class=\"tocSkip\"></h2>\n",
    "    \n",
    "❌  Необходимо построить с использованием исходной таблицы. Создание сводной таблицы привело к искажению результатов."
   ]
  },
  {
   "cell_type": "markdown",
   "id": "9a84b8f6",
   "metadata": {},
   "source": [
    "<div class=\"alert alert-info\"  style=\"border-radius: 15px; box-shadow: 4px 4px 4px; border: 1px solid \">\n",
    "    \n",
    "<h2>Комментарий студента v_3: <a class=\"tocSkip\"> </h2>\n",
    "\n",
    "Поправил, понял насколько это важно в очередной раз, спасибо."
   ]
  },
  {
   "cell_type": "markdown",
   "id": "29ec9c7d",
   "metadata": {},
   "source": [
    "Bозраст пользователей"
   ]
  },
  {
   "cell_type": "code",
   "execution_count": 25,
   "id": "1bc4193b",
   "metadata": {},
   "outputs": [
    {
     "data": {
      "text/plain": [
       "Text(0.5, 1.0, 'Количество пользователей по возрасту')"
      ]
     },
     "execution_count": 25,
     "metadata": {},
     "output_type": "execute_result"
    },
    {
     "data": {
      "image/png": "[encoded data removed]",
      "text/plain": [
       "<Figure size 640x480 with 1 Axes>"
      ]
     },
     "metadata": {},
     "output_type": "display_data"
    }
   ],
   "source": [
    "user.pivot_table(index='user_id', values='age').plot(xlabel='Возраст',\n",
    "                                                     ylabel='Количество пользователей',\n",
    "                                                     kind='hist',\n",
    "                                                     ec='black',\n",
    "                                                     grid=True);\n",
    "plt.title('Количество пользователей по возрасту')"
   ]
  },
  {
   "cell_type": "code",
   "execution_count": 26,
   "id": "b7bc2824",
   "metadata": {},
   "outputs": [
    {
     "data": {
      "text/plain": [
       "count    1534.000000\n",
       "mean       24.903520\n",
       "std         4.572367\n",
       "min        12.000000\n",
       "25%        22.000000\n",
       "50%        25.000000\n",
       "75%        28.000000\n",
       "max        43.000000\n",
       "Name: age, dtype: float64"
      ]
     },
     "execution_count": 26,
     "metadata": {},
     "output_type": "execute_result"
    }
   ],
   "source": [
    "user['age'].describe()"
   ]
  },
  {
   "cell_type": "markdown",
   "id": "118e948f",
   "metadata": {},
   "source": [
    "Основной диапазон пользователей находится в промежутке от 22 до 28лет."
   ]
  },
  {
   "cell_type": "markdown",
   "id": "ebcf0bfa",
   "metadata": {},
   "source": [
    "<div class=\"alert alert-warning\" style=\"border-radius: 15px; box-shadow: 4px 4px 4px; border: 1px solid \">\n",
    "<h2> Комментарий ревьюера v_2: <a class=\"tocSkip\"> </h2>\n",
    "    \n",
    "⚠️ Не лишним было бы подробнее изучить данные с использованием функции `describe()`. С ее помощью можно увидеть точное минимальное и максимальное значения, определить медиану и среднее, в качестве диапазона часто встречающихся значений можно выбрать данные от первого до третьего квартиля (25% и 75%). Рекомендация актуальна и для других пунктов (ниже) данного шага.\n",
    "</div>"
   ]
  },
  {
   "cell_type": "markdown",
   "id": "eff6bf9d",
   "metadata": {},
   "source": [
    "<div class=\"alert alert-info\"  style=\"border-radius: 15px; box-shadow: 4px 4px 4px; border: 1px solid \">\n",
    "    \n",
    "<h2>Комментарий студента v_2: <a class=\"tocSkip\"> </h2>\n",
    "\n",
    "Поправил  "
   ]
  },
  {
   "cell_type": "markdown",
   "id": "acffdafd",
   "metadata": {},
   "source": [
    "Расстояние, которое пользователь преодолел за одну поездку"
   ]
  },
  {
   "cell_type": "code",
   "execution_count": 27,
   "id": "136c3e66",
   "metadata": {
    "scrolled": false
   },
   "outputs": [
    {
     "data": {
      "image/png": "[encoded data removed]",
      "text/plain": [
       "<Figure size 640x480 with 1 Axes>"
      ]
     },
     "metadata": {},
     "output_type": "display_data"
    }
   ],
   "source": [
    "rides['distance'].plot(xlabel='Дистанция М',\n",
    "                       ylabel='Количество поездок',\n",
    "                       kind='hist',\n",
    "                       bins=20,\n",
    "                       ec='black',\n",
    "                       grid=True);\n",
    "plt.title('Расстояние пройденное пользователями за 1 поездку');"
   ]
  },
  {
   "cell_type": "markdown",
   "id": "f3d8cfd3",
   "metadata": {},
   "source": [
    "Обратим внимание на пик данных в районе 1000м, похоже на некорректную запись в столбце distance - исследуем это явление."
   ]
  },
  {
   "cell_type": "code",
   "execution_count": 28,
   "id": "3d7f9437",
   "metadata": {},
   "outputs": [
    {
     "data": {
      "text/plain": [
       "count    18068.000000\n",
       "mean      3070.659976\n",
       "std       1116.831209\n",
       "min          0.855683\n",
       "25%       2543.226360\n",
       "50%       3133.609994\n",
       "75%       3776.222735\n",
       "max       7211.007745\n",
       "Name: distance, dtype: float64"
      ]
     },
     "execution_count": 28,
     "metadata": {},
     "output_type": "execute_result"
    }
   ],
   "source": [
    "rides['distance'].describe()"
   ]
  },
  {
   "cell_type": "code",
   "execution_count": 29,
   "id": "4b5062cc",
   "metadata": {},
   "outputs": [
    {
     "data": {
      "image/png": "[encoded data removed]",
      "text/plain": [
       "<Figure size 640x480 with 1 Axes>"
      ]
     },
     "metadata": {},
     "output_type": "display_data"
    }
   ],
   "source": [
    "rides.boxplot('distance')\n",
    "plt.title('Диаграмма размаха расстояния')\n",
    "plt.xlabel('')\n",
    "plt.ylabel('Количество метров');"
   ]
  },
  {
   "cell_type": "code",
   "execution_count": 30,
   "id": "22177739",
   "metadata": {},
   "outputs": [
    {
     "data": {
      "text/plain": [
       "user_id       1796\n",
       "distance      1796\n",
       "duration      1796\n",
       "date          1796\n",
       "date_month    1796\n",
       "date_year     1796\n",
       "dtype: int64"
      ]
     },
     "execution_count": 30,
     "metadata": {},
     "output_type": "execute_result"
    }
   ],
   "source": [
    "rides.query('distance < 1500').count()"
   ]
  },
  {
   "cell_type": "markdown",
   "id": "cf314811",
   "metadata": {},
   "source": [
    "Количество строк до 1500м 1796, конечно это 10% от общих данных, но боюсь, что такие значения могут сильно повлиять на средние показатели расчетов, в отдельных расчетах принять во внимание, этот факт. "
   ]
  },
  {
   "cell_type": "markdown",
   "id": "d8f7fc48",
   "metadata": {},
   "source": [
    "<div class=\"alert alert-success\" style=\"border-radius: 15px; box-shadow: 4px 4px 4px; border: 1px solid \">\n",
    "<h2> Комментарий ревьюера v_3: <a class=\"tocSkip\"> </h2>\n",
    "    \n",
    "✅ Удалять ненужно, особенно учитывая тот факт, что эти пользователи могли приносить выручку."
   ]
  },
  {
   "cell_type": "markdown",
   "id": "8dc689e3",
   "metadata": {},
   "source": [
    "Построим гистограмму без \"выбросов\"."
   ]
  },
  {
   "cell_type": "code",
   "execution_count": 31,
   "id": "625417e0",
   "metadata": {},
   "outputs": [
    {
     "data": {
      "image/png": "[encoded data removed]",
      "text/plain": [
       "<Figure size 640x480 with 1 Axes>"
      ]
     },
     "metadata": {},
     "output_type": "display_data"
    }
   ],
   "source": [
    "rides.query('distance > 1500')['distance'].plot(xlabel='Дистанция М',\n",
    "                       ylabel='Количество поездок',\n",
    "                       kind='hist',\n",
    "                       bins=20,\n",
    "                       ec='black',\n",
    "                       grid=True);\n",
    "plt.title('Расстояние пройденное пользователями за 1 поездку');"
   ]
  },
  {
   "cell_type": "code",
   "execution_count": 32,
   "id": "d61049d9",
   "metadata": {},
   "outputs": [
    {
     "data": {
      "text/plain": [
       "count    16272.000000\n",
       "mean      3331.889043\n",
       "std        826.722577\n",
       "min       1502.431070\n",
       "25%       2742.576736\n",
       "50%       3239.972305\n",
       "75%       3874.561063\n",
       "max       7211.007745\n",
       "Name: distance, dtype: float64"
      ]
     },
     "execution_count": 32,
     "metadata": {},
     "output_type": "execute_result"
    }
   ],
   "source": [
    "rides.query('distance > 1500')['distance'].describe()"
   ]
  },
  {
   "cell_type": "markdown",
   "id": "569dbb19",
   "metadata": {},
   "source": [
    "В итоге получаем диапазон расстояний каждой поездки от 2,7км до 3,8км для каждой поездки."
   ]
  },
  {
   "cell_type": "markdown",
   "id": "63c78785",
   "metadata": {},
   "source": [
    "<div class=\"alert alert-block alert-danger\" style=\"border-radius: 15px; box-shadow: 4px 4px 4px; border: 1px solid \">\n",
    "<h2> Комментарий ревьюера v_2: <a class=\"tocSkip\"></h2>\n",
    "    \n",
    "❌ Таблицу лучше построить не на агрегированных данных, т.к. на гистограмме на исходных данных можно сделать интересные наблюдения. В частности, можно обратить внимание на пик слева. О чем он говорит? \n",
    "    \n",
    "Это замечание касается и следующего пункта"
   ]
  },
  {
   "cell_type": "markdown",
   "id": "3f3b9490",
   "metadata": {},
   "source": [
    "<div class=\"alert alert-info\"  style=\"border-radius: 15px; box-shadow: 4px 4px 4px; border: 1px solid \">\n",
    "    \n",
    "<h2>Комментарий студента v_2: <a class=\"tocSkip\"> </h2>\n",
    "\n",
    "Поправил, но сомневаюсь в правильности"
   ]
  },
  {
   "cell_type": "markdown",
   "id": "fb3a4dba",
   "metadata": {},
   "source": [
    "<div class=\"alert alert-warning\" style=\"border-radius: 15px; box-shadow: 4px 4px 4px; border: 1px solid \">\n",
    "<h2> Комментарий ревьюера v_3: <a class=\"tocSkip\"> </h2>\n",
    "    \n",
    "⚠️ Ниже на графике я бы советовал увеличить количество bin'ов, чтобы детальнее можно было изучить график"
   ]
  },
  {
   "cell_type": "markdown",
   "id": "a16df07e",
   "metadata": {},
   "source": [
    "<div class=\"alert alert-info\"  style=\"border-radius: 15px; box-shadow: 4px 4px 4px; border: 1px solid \">\n",
    "    \n",
    "<h2>Комментарий студента v_3: <a class=\"tocSkip\"> </h2>\n",
    "\n",
    "Поправил"
   ]
  },
  {
   "cell_type": "markdown",
   "id": "75df3f1d",
   "metadata": {},
   "source": [
    "Продолжительность поездок в минутах"
   ]
  },
  {
   "cell_type": "code",
   "execution_count": 33,
   "id": "a9d810ff",
   "metadata": {},
   "outputs": [
    {
     "data": {
      "image/png": "[encoded data removed]",
      "text/plain": [
       "<Figure size 640x480 with 1 Axes>"
      ]
     },
     "metadata": {},
     "output_type": "display_data"
    }
   ],
   "source": [
    "rides['duration'].plot(xlabel='минуты',\n",
    "                       ylabel='Количество пользователей',\n",
    "                       kind='hist',\n",
    "                       bins=30,\n",
    "                       ec='black',\n",
    "                       grid=True)\n",
    "plt.title('Продолжительность поездок в минутах');"
   ]
  },
  {
   "cell_type": "code",
   "execution_count": 34,
   "id": "a981af4a",
   "metadata": {},
   "outputs": [
    {
     "data": {
      "text/plain": [
       "count    18068.000000\n",
       "mean        17.805011\n",
       "std          6.091051\n",
       "min          0.500000\n",
       "25%         13.597563\n",
       "50%         17.678395\n",
       "75%         21.724800\n",
       "max         40.823963\n",
       "Name: duration, dtype: float64"
      ]
     },
     "execution_count": 34,
     "metadata": {},
     "output_type": "execute_result"
    }
   ],
   "source": [
    "rides['duration'].describe()"
   ]
  },
  {
   "cell_type": "markdown",
   "id": "72d00d44",
   "metadata": {},
   "source": [
    "Популярностью пользуются поездки продолжительностью от 13 до 21 минут."
   ]
  },
  {
   "cell_type": "markdown",
   "id": "4ef51331",
   "metadata": {},
   "source": [
    "## Шаг 4. Объединение данных"
   ]
  },
  {
   "cell_type": "markdown",
   "id": "126aa256",
   "metadata": {},
   "source": [
    "Объединим данные о пользователях, поездках и подписках в один датафрейм"
   ]
  },
  {
   "cell_type": "code",
   "execution_count": 35,
   "id": "7b4aa319",
   "metadata": {
    "scrolled": false
   },
   "outputs": [
    {
     "name": "stdout",
     "output_type": "stream",
     "text": [
      "<class 'pandas.core.frame.DataFrame'>\n",
      "RangeIndex: 18068 entries, 0 to 18067\n",
      "Data columns (total 14 columns):\n",
      " #   Column             Non-Null Count  Dtype         \n",
      "---  ------             --------------  -----         \n",
      " 0   index              18068 non-null  int64         \n",
      " 1   user_id            18068 non-null  int64         \n",
      " 2   name               18068 non-null  object        \n",
      " 3   age                18068 non-null  int64         \n",
      " 4   city               18068 non-null  object        \n",
      " 5   subscription_type  18068 non-null  object        \n",
      " 6   distance           18068 non-null  float64       \n",
      " 7   duration           18068 non-null  float64       \n",
      " 8   date               18068 non-null  datetime64[ns]\n",
      " 9   date_month         18068 non-null  int32         \n",
      " 10  date_year          18068 non-null  int32         \n",
      " 11  minute_price       18068 non-null  int64         \n",
      " 12  start_ride_price   18068 non-null  int64         \n",
      " 13  subscription_fee   18068 non-null  int64         \n",
      "dtypes: datetime64[ns](1), float64(2), int32(2), int64(6), object(3)\n",
      "memory usage: 1.8+ MB\n"
     ]
    }
   ],
   "source": [
    "df = user.merge(rides, on='user_id')\n",
    "df = df.merge(sub, on='subscription_type')\n",
    "df.info()"
   ]
  },
  {
   "cell_type": "code",
   "execution_count": 36,
   "id": "556523ed",
   "metadata": {
    "scrolled": true
   },
   "outputs": [
    {
     "data": {
      "text/plain": [
       "index                0\n",
       "user_id              0\n",
       "name                 0\n",
       "age                  0\n",
       "city                 0\n",
       "subscription_type    0\n",
       "distance             0\n",
       "duration             0\n",
       "date                 0\n",
       "date_month           0\n",
       "date_year            0\n",
       "minute_price         0\n",
       "start_ride_price     0\n",
       "subscription_fee     0\n",
       "dtype: int64"
      ]
     },
     "execution_count": 36,
     "metadata": {},
     "output_type": "execute_result"
    }
   ],
   "source": [
    "df.isna().sum()"
   ]
  },
  {
   "cell_type": "code",
   "execution_count": 37,
   "id": "4d52e5e5",
   "metadata": {},
   "outputs": [
    {
     "data": {
      "text/plain": [
       "0"
      ]
     },
     "execution_count": 37,
     "metadata": {},
     "output_type": "execute_result"
    }
   ],
   "source": [
    "df.duplicated().sum()"
   ]
  },
  {
   "cell_type": "code",
   "execution_count": 38,
   "id": "6bbfc37d",
   "metadata": {},
   "outputs": [
    {
     "data": {
      "text/html": [
       "<div>\n",
       "<style scoped>\n",
       "    .dataframe tbody tr th:only-of-type {\n",
       "        vertical-align: middle;\n",
       "    }\n",
       "\n",
       "    .dataframe tbody tr th {\n",
       "        vertical-align: top;\n",
       "    }\n",
       "\n",
       "    .dataframe thead th {\n",
       "        text-align: right;\n",
       "    }\n",
       "</style>\n",
       "<table border=\"1\" class=\"dataframe\">\n",
       "  <thead>\n",
       "    <tr style=\"text-align: right;\">\n",
       "      <th></th>\n",
       "      <th>index</th>\n",
       "      <th>user_id</th>\n",
       "      <th>name</th>\n",
       "      <th>age</th>\n",
       "      <th>city</th>\n",
       "      <th>subscription_type</th>\n",
       "      <th>distance</th>\n",
       "      <th>duration</th>\n",
       "      <th>date</th>\n",
       "      <th>date_month</th>\n",
       "      <th>date_year</th>\n",
       "      <th>minute_price</th>\n",
       "      <th>start_ride_price</th>\n",
       "      <th>subscription_fee</th>\n",
       "    </tr>\n",
       "  </thead>\n",
       "  <tbody>\n",
       "    <tr>\n",
       "      <th>0</th>\n",
       "      <td>0</td>\n",
       "      <td>1</td>\n",
       "      <td>Кира</td>\n",
       "      <td>22</td>\n",
       "      <td>Тюмень</td>\n",
       "      <td>ultra</td>\n",
       "      <td>4409.919140</td>\n",
       "      <td>25.599769</td>\n",
       "      <td>2021-01-01</td>\n",
       "      <td>1</td>\n",
       "      <td>2021</td>\n",
       "      <td>6</td>\n",
       "      <td>0</td>\n",
       "      <td>199</td>\n",
       "    </tr>\n",
       "    <tr>\n",
       "      <th>1</th>\n",
       "      <td>0</td>\n",
       "      <td>1</td>\n",
       "      <td>Кира</td>\n",
       "      <td>22</td>\n",
       "      <td>Тюмень</td>\n",
       "      <td>ultra</td>\n",
       "      <td>2617.592153</td>\n",
       "      <td>15.816871</td>\n",
       "      <td>2021-01-18</td>\n",
       "      <td>1</td>\n",
       "      <td>2021</td>\n",
       "      <td>6</td>\n",
       "      <td>0</td>\n",
       "      <td>199</td>\n",
       "    </tr>\n",
       "    <tr>\n",
       "      <th>2</th>\n",
       "      <td>0</td>\n",
       "      <td>1</td>\n",
       "      <td>Кира</td>\n",
       "      <td>22</td>\n",
       "      <td>Тюмень</td>\n",
       "      <td>ultra</td>\n",
       "      <td>754.159807</td>\n",
       "      <td>6.232113</td>\n",
       "      <td>2021-04-20</td>\n",
       "      <td>4</td>\n",
       "      <td>2021</td>\n",
       "      <td>6</td>\n",
       "      <td>0</td>\n",
       "      <td>199</td>\n",
       "    </tr>\n",
       "    <tr>\n",
       "      <th>3</th>\n",
       "      <td>0</td>\n",
       "      <td>1</td>\n",
       "      <td>Кира</td>\n",
       "      <td>22</td>\n",
       "      <td>Тюмень</td>\n",
       "      <td>ultra</td>\n",
       "      <td>2694.783254</td>\n",
       "      <td>18.511000</td>\n",
       "      <td>2021-08-11</td>\n",
       "      <td>8</td>\n",
       "      <td>2021</td>\n",
       "      <td>6</td>\n",
       "      <td>0</td>\n",
       "      <td>199</td>\n",
       "    </tr>\n",
       "    <tr>\n",
       "      <th>4</th>\n",
       "      <td>0</td>\n",
       "      <td>1</td>\n",
       "      <td>Кира</td>\n",
       "      <td>22</td>\n",
       "      <td>Тюмень</td>\n",
       "      <td>ultra</td>\n",
       "      <td>4028.687306</td>\n",
       "      <td>26.265803</td>\n",
       "      <td>2021-08-28</td>\n",
       "      <td>8</td>\n",
       "      <td>2021</td>\n",
       "      <td>6</td>\n",
       "      <td>0</td>\n",
       "      <td>199</td>\n",
       "    </tr>\n",
       "  </tbody>\n",
       "</table>\n",
       "</div>"
      ],
      "text/plain": [
       "   index  user_id  name  age    city subscription_type     distance  \\\n",
       "0      0        1  Кира   22  Тюмень             ultra  4409.919140   \n",
       "1      0        1  Кира   22  Тюмень             ultra  2617.592153   \n",
       "2      0        1  Кира   22  Тюмень             ultra   754.159807   \n",
       "3      0        1  Кира   22  Тюмень             ultra  2694.783254   \n",
       "4      0        1  Кира   22  Тюмень             ultra  4028.687306   \n",
       "\n",
       "    duration       date  date_month  date_year  minute_price  \\\n",
       "0  25.599769 2021-01-01           1       2021             6   \n",
       "1  15.816871 2021-01-18           1       2021             6   \n",
       "2   6.232113 2021-04-20           4       2021             6   \n",
       "3  18.511000 2021-08-11           8       2021             6   \n",
       "4  26.265803 2021-08-28           8       2021             6   \n",
       "\n",
       "   start_ride_price  subscription_fee  \n",
       "0                 0               199  \n",
       "1                 0               199  \n",
       "2                 0               199  \n",
       "3                 0               199  \n",
       "4                 0               199  "
      ]
     },
     "execution_count": 38,
     "metadata": {},
     "output_type": "execute_result"
    }
   ],
   "source": [
    "df.head()"
   ]
  },
  {
   "cell_type": "code",
   "execution_count": 39,
   "id": "1c346656",
   "metadata": {},
   "outputs": [
    {
     "data": {
      "text/plain": [
       "(18068, 14)"
      ]
     },
     "execution_count": 39,
     "metadata": {},
     "output_type": "execute_result"
    }
   ],
   "source": [
    "df.shape"
   ]
  },
  {
   "cell_type": "markdown",
   "id": "414462b2",
   "metadata": {},
   "source": [
    "После объединения таблиц, все типы данных указаны корректно, дубликатов нет, пропусков значений нет, также количество строк соответствует исходному набору данных, количество записей прежнее."
   ]
  },
  {
   "cell_type": "markdown",
   "id": "5e8ba262",
   "metadata": {},
   "source": [
    "<div class=\"alert alert-block alert-danger\" style=\"border-radius: 15px; box-shadow: 4px 4px 4px; border: 1px solid \">\n",
    "<h2> Комментарий ревьюера v_2: <a class=\"tocSkip\"></h2>\n",
    "    \n",
    "❌ После объединения стоит проверить и написать, прошло ли оно корректно, не были ли потеряны данные или не появились ли лишние записи. Совпадает ли количество записей с одной из исходных таблиц? Имеются ли пропуски?"
   ]
  },
  {
   "cell_type": "markdown",
   "id": "5da18970",
   "metadata": {},
   "source": [
    "<div class=\"alert alert-info\"  style=\"border-radius: 15px; box-shadow: 4px 4px 4px; border: 1px solid \">\n",
    "    \n",
    "<h2>Комментарий студента v_2: <a class=\"tocSkip\"> </h2>\n",
    "\n",
    "Поправил"
   ]
  },
  {
   "cell_type": "markdown",
   "id": "0b321986",
   "metadata": {},
   "source": [
    "<div class=\"alert alert-warning\" style=\"border-radius: 15px; box-shadow: 4px 4px 4px; border: 1px solid \">\n",
    "<h2> Комментарий ревьюера v_3: <a class=\"tocSkip\"> </h2>\n",
    "    \n",
    "⚠️ Еще стоило бы вывести количество записей в созданной таблице с помощью shape"
   ]
  },
  {
   "cell_type": "markdown",
   "id": "1d459bf9",
   "metadata": {},
   "source": [
    "<div class=\"alert alert-info\"  style=\"border-radius: 15px; box-shadow: 4px 4px 4px; border: 1px solid \">\n",
    "    \n",
    "<h2>Комментарий студента v_3: <a class=\"tocSkip\"> </h2>\n",
    "\n",
    "Поправил"
   ]
  },
  {
   "cell_type": "markdown",
   "id": "9b3c2cb3",
   "metadata": {},
   "source": [
    " Создадим ещё два датафрейма о пользователях без подписки и о пользователях с подпиской."
   ]
  },
  {
   "cell_type": "code",
   "execution_count": 40,
   "id": "20b77c2a",
   "metadata": {},
   "outputs": [
    {
     "data": {
      "text/html": [
       "<div>\n",
       "<style scoped>\n",
       "    .dataframe tbody tr th:only-of-type {\n",
       "        vertical-align: middle;\n",
       "    }\n",
       "\n",
       "    .dataframe tbody tr th {\n",
       "        vertical-align: top;\n",
       "    }\n",
       "\n",
       "    .dataframe thead th {\n",
       "        text-align: right;\n",
       "    }\n",
       "</style>\n",
       "<table border=\"1\" class=\"dataframe\">\n",
       "  <thead>\n",
       "    <tr style=\"text-align: right;\">\n",
       "      <th></th>\n",
       "      <th>index</th>\n",
       "      <th>user_id</th>\n",
       "      <th>name</th>\n",
       "      <th>age</th>\n",
       "      <th>city</th>\n",
       "      <th>subscription_type</th>\n",
       "      <th>distance</th>\n",
       "      <th>duration</th>\n",
       "      <th>date</th>\n",
       "      <th>date_month</th>\n",
       "      <th>date_year</th>\n",
       "      <th>minute_price</th>\n",
       "      <th>start_ride_price</th>\n",
       "      <th>subscription_fee</th>\n",
       "    </tr>\n",
       "  </thead>\n",
       "  <tbody>\n",
       "    <tr>\n",
       "      <th>0</th>\n",
       "      <td>0</td>\n",
       "      <td>1</td>\n",
       "      <td>Кира</td>\n",
       "      <td>22</td>\n",
       "      <td>Тюмень</td>\n",
       "      <td>ultra</td>\n",
       "      <td>4409.919140</td>\n",
       "      <td>25.599769</td>\n",
       "      <td>2021-01-01</td>\n",
       "      <td>1</td>\n",
       "      <td>2021</td>\n",
       "      <td>6</td>\n",
       "      <td>0</td>\n",
       "      <td>199</td>\n",
       "    </tr>\n",
       "    <tr>\n",
       "      <th>1</th>\n",
       "      <td>0</td>\n",
       "      <td>1</td>\n",
       "      <td>Кира</td>\n",
       "      <td>22</td>\n",
       "      <td>Тюмень</td>\n",
       "      <td>ultra</td>\n",
       "      <td>2617.592153</td>\n",
       "      <td>15.816871</td>\n",
       "      <td>2021-01-18</td>\n",
       "      <td>1</td>\n",
       "      <td>2021</td>\n",
       "      <td>6</td>\n",
       "      <td>0</td>\n",
       "      <td>199</td>\n",
       "    </tr>\n",
       "    <tr>\n",
       "      <th>2</th>\n",
       "      <td>0</td>\n",
       "      <td>1</td>\n",
       "      <td>Кира</td>\n",
       "      <td>22</td>\n",
       "      <td>Тюмень</td>\n",
       "      <td>ultra</td>\n",
       "      <td>754.159807</td>\n",
       "      <td>6.232113</td>\n",
       "      <td>2021-04-20</td>\n",
       "      <td>4</td>\n",
       "      <td>2021</td>\n",
       "      <td>6</td>\n",
       "      <td>0</td>\n",
       "      <td>199</td>\n",
       "    </tr>\n",
       "    <tr>\n",
       "      <th>3</th>\n",
       "      <td>0</td>\n",
       "      <td>1</td>\n",
       "      <td>Кира</td>\n",
       "      <td>22</td>\n",
       "      <td>Тюмень</td>\n",
       "      <td>ultra</td>\n",
       "      <td>2694.783254</td>\n",
       "      <td>18.511000</td>\n",
       "      <td>2021-08-11</td>\n",
       "      <td>8</td>\n",
       "      <td>2021</td>\n",
       "      <td>6</td>\n",
       "      <td>0</td>\n",
       "      <td>199</td>\n",
       "    </tr>\n",
       "    <tr>\n",
       "      <th>4</th>\n",
       "      <td>0</td>\n",
       "      <td>1</td>\n",
       "      <td>Кира</td>\n",
       "      <td>22</td>\n",
       "      <td>Тюмень</td>\n",
       "      <td>ultra</td>\n",
       "      <td>4028.687306</td>\n",
       "      <td>26.265803</td>\n",
       "      <td>2021-08-28</td>\n",
       "      <td>8</td>\n",
       "      <td>2021</td>\n",
       "      <td>6</td>\n",
       "      <td>0</td>\n",
       "      <td>199</td>\n",
       "    </tr>\n",
       "  </tbody>\n",
       "</table>\n",
       "</div>"
      ],
      "text/plain": [
       "   index  user_id  name  age    city subscription_type     distance  \\\n",
       "0      0        1  Кира   22  Тюмень             ultra  4409.919140   \n",
       "1      0        1  Кира   22  Тюмень             ultra  2617.592153   \n",
       "2      0        1  Кира   22  Тюмень             ultra   754.159807   \n",
       "3      0        1  Кира   22  Тюмень             ultra  2694.783254   \n",
       "4      0        1  Кира   22  Тюмень             ultra  4028.687306   \n",
       "\n",
       "    duration       date  date_month  date_year  minute_price  \\\n",
       "0  25.599769 2021-01-01           1       2021             6   \n",
       "1  15.816871 2021-01-18           1       2021             6   \n",
       "2   6.232113 2021-04-20           4       2021             6   \n",
       "3  18.511000 2021-08-11           8       2021             6   \n",
       "4  26.265803 2021-08-28           8       2021             6   \n",
       "\n",
       "   start_ride_price  subscription_fee  \n",
       "0                 0               199  \n",
       "1                 0               199  \n",
       "2                 0               199  \n",
       "3                 0               199  \n",
       "4                 0               199  "
      ]
     },
     "execution_count": 40,
     "metadata": {},
     "output_type": "execute_result"
    }
   ],
   "source": [
    "df_sub = df[df['subscription_type'] == 'ultra'].reset_index(drop=True) \n",
    "df_sub.head()"
   ]
  },
  {
   "cell_type": "code",
   "execution_count": 41,
   "id": "e3d5d47f",
   "metadata": {
    "scrolled": false
   },
   "outputs": [
    {
     "data": {
      "text/html": [
       "<div>\n",
       "<style scoped>\n",
       "    .dataframe tbody tr th:only-of-type {\n",
       "        vertical-align: middle;\n",
       "    }\n",
       "\n",
       "    .dataframe tbody tr th {\n",
       "        vertical-align: top;\n",
       "    }\n",
       "\n",
       "    .dataframe thead th {\n",
       "        text-align: right;\n",
       "    }\n",
       "</style>\n",
       "<table border=\"1\" class=\"dataframe\">\n",
       "  <thead>\n",
       "    <tr style=\"text-align: right;\">\n",
       "      <th></th>\n",
       "      <th>index</th>\n",
       "      <th>user_id</th>\n",
       "      <th>name</th>\n",
       "      <th>age</th>\n",
       "      <th>city</th>\n",
       "      <th>subscription_type</th>\n",
       "      <th>distance</th>\n",
       "      <th>duration</th>\n",
       "      <th>date</th>\n",
       "      <th>date_month</th>\n",
       "      <th>date_year</th>\n",
       "      <th>minute_price</th>\n",
       "      <th>start_ride_price</th>\n",
       "      <th>subscription_fee</th>\n",
       "    </tr>\n",
       "  </thead>\n",
       "  <tbody>\n",
       "    <tr>\n",
       "      <th>0</th>\n",
       "      <td>699</td>\n",
       "      <td>700</td>\n",
       "      <td>Айдар</td>\n",
       "      <td>22</td>\n",
       "      <td>Омск</td>\n",
       "      <td>free</td>\n",
       "      <td>2515.690719</td>\n",
       "      <td>14.944286</td>\n",
       "      <td>2021-01-02</td>\n",
       "      <td>1</td>\n",
       "      <td>2021</td>\n",
       "      <td>8</td>\n",
       "      <td>50</td>\n",
       "      <td>0</td>\n",
       "    </tr>\n",
       "    <tr>\n",
       "      <th>1</th>\n",
       "      <td>699</td>\n",
       "      <td>700</td>\n",
       "      <td>Айдар</td>\n",
       "      <td>22</td>\n",
       "      <td>Омск</td>\n",
       "      <td>free</td>\n",
       "      <td>846.932642</td>\n",
       "      <td>16.234663</td>\n",
       "      <td>2021-02-01</td>\n",
       "      <td>2</td>\n",
       "      <td>2021</td>\n",
       "      <td>8</td>\n",
       "      <td>50</td>\n",
       "      <td>0</td>\n",
       "    </tr>\n",
       "    <tr>\n",
       "      <th>2</th>\n",
       "      <td>699</td>\n",
       "      <td>700</td>\n",
       "      <td>Айдар</td>\n",
       "      <td>22</td>\n",
       "      <td>Омск</td>\n",
       "      <td>free</td>\n",
       "      <td>4004.434142</td>\n",
       "      <td>20.016628</td>\n",
       "      <td>2021-02-04</td>\n",
       "      <td>2</td>\n",
       "      <td>2021</td>\n",
       "      <td>8</td>\n",
       "      <td>50</td>\n",
       "      <td>0</td>\n",
       "    </tr>\n",
       "    <tr>\n",
       "      <th>3</th>\n",
       "      <td>699</td>\n",
       "      <td>700</td>\n",
       "      <td>Айдар</td>\n",
       "      <td>22</td>\n",
       "      <td>Омск</td>\n",
       "      <td>free</td>\n",
       "      <td>1205.911290</td>\n",
       "      <td>9.782872</td>\n",
       "      <td>2021-02-10</td>\n",
       "      <td>2</td>\n",
       "      <td>2021</td>\n",
       "      <td>8</td>\n",
       "      <td>50</td>\n",
       "      <td>0</td>\n",
       "    </tr>\n",
       "    <tr>\n",
       "      <th>4</th>\n",
       "      <td>699</td>\n",
       "      <td>700</td>\n",
       "      <td>Айдар</td>\n",
       "      <td>22</td>\n",
       "      <td>Омск</td>\n",
       "      <td>free</td>\n",
       "      <td>3047.379435</td>\n",
       "      <td>17.427673</td>\n",
       "      <td>2021-02-14</td>\n",
       "      <td>2</td>\n",
       "      <td>2021</td>\n",
       "      <td>8</td>\n",
       "      <td>50</td>\n",
       "      <td>0</td>\n",
       "    </tr>\n",
       "  </tbody>\n",
       "</table>\n",
       "</div>"
      ],
      "text/plain": [
       "   index  user_id   name  age  city subscription_type     distance   duration  \\\n",
       "0    699      700  Айдар   22  Омск              free  2515.690719  14.944286   \n",
       "1    699      700  Айдар   22  Омск              free   846.932642  16.234663   \n",
       "2    699      700  Айдар   22  Омск              free  4004.434142  20.016628   \n",
       "3    699      700  Айдар   22  Омск              free  1205.911290   9.782872   \n",
       "4    699      700  Айдар   22  Омск              free  3047.379435  17.427673   \n",
       "\n",
       "        date  date_month  date_year  minute_price  start_ride_price  \\\n",
       "0 2021-01-02           1       2021             8                50   \n",
       "1 2021-02-01           2       2021             8                50   \n",
       "2 2021-02-04           2       2021             8                50   \n",
       "3 2021-02-10           2       2021             8                50   \n",
       "4 2021-02-14           2       2021             8                50   \n",
       "\n",
       "   subscription_fee  \n",
       "0                 0  \n",
       "1                 0  \n",
       "2                 0  \n",
       "3                 0  \n",
       "4                 0  "
      ]
     },
     "execution_count": 41,
     "metadata": {},
     "output_type": "execute_result"
    }
   ],
   "source": [
    "df_nsub = df[df['subscription_type'] == 'free'].reset_index(drop=True) \n",
    "df_nsub.head()"
   ]
  },
  {
   "cell_type": "markdown",
   "id": "f3d2293b",
   "metadata": {},
   "source": [
    "<div class=\"alert alert-success\" style=\"border-radius: 15px; box-shadow: 4px 4px 4px; border: 1px solid \">\n",
    "<h2> Комментарий ревьюера v_2: <a class=\"tocSkip\"> </h2>\n",
    "    \n",
    "✅ Отлично, созданы необходимые датафреймы"
   ]
  },
  {
   "cell_type": "markdown",
   "id": "f5ae1a76",
   "metadata": {},
   "source": [
    "##### Визуализируем информацию о расстоянии и времени поездок для пользователей обеих категорий."
   ]
  },
  {
   "cell_type": "markdown",
   "id": "987bd13d",
   "metadata": {},
   "source": [
    "Расстояние для пользователей с подпиской в диапазоне от 2873 до 3616 метров."
   ]
  },
  {
   "cell_type": "code",
   "execution_count": 42,
   "id": "ff35d0a3",
   "metadata": {},
   "outputs": [
    {
     "data": {
      "text/plain": [
       "count    6500.000000\n",
       "mean     3115.445388\n",
       "std       836.895330\n",
       "min       244.210438\n",
       "25%      2785.444017\n",
       "50%      3148.637229\n",
       "75%      3560.574425\n",
       "max      5699.769662\n",
       "Name: distance, dtype: float64"
      ]
     },
     "execution_count": 42,
     "metadata": {},
     "output_type": "execute_result"
    }
   ],
   "source": [
    "df_sub['distance'].describe()"
   ]
  },
  {
   "cell_type": "markdown",
   "id": "c3fcac2e",
   "metadata": {},
   "source": [
    "Расстояние для пользователей без подписки от 2607 до 3988 метров."
   ]
  },
  {
   "cell_type": "code",
   "execution_count": 43,
   "id": "e134a871",
   "metadata": {},
   "outputs": [
    {
     "data": {
      "text/plain": [
       "count    11568.000000\n",
       "mean      3045.495282\n",
       "std       1246.173806\n",
       "min          0.855683\n",
       "25%       2366.562689\n",
       "50%       3114.648465\n",
       "75%       3905.697894\n",
       "max       7211.007745\n",
       "Name: distance, dtype: float64"
      ]
     },
     "execution_count": 43,
     "metadata": {},
     "output_type": "execute_result"
    }
   ],
   "source": [
    "df_nsub['distance'].describe()"
   ]
  },
  {
   "cell_type": "code",
   "execution_count": 44,
   "id": "c10ff31f",
   "metadata": {
    "scrolled": false
   },
   "outputs": [
    {
     "data": {
      "image/png": "[encoded data removed]",
      "text/plain": [
       "<Figure size 640x480 with 1 Axes>"
      ]
     },
     "metadata": {},
     "output_type": "display_data"
    }
   ],
   "source": [
    "bins = np.linspace( 0 ,7000 )\n",
    "plt.hist(df_nsub['distance'], bins, label=['Без подписки'] ,ec='black')\n",
    "plt.hist(df_sub['distance'], bins, label=['С подпиской'],ec='black')\n",
    "plt.legend(loc='upper right')\n",
    "plt.xlabel('Дистанция')\n",
    "plt.ylabel('Пользователи')\n",
    "plt.title('Совмещенный график расстояний пользования')\n",
    "plt.show()"
   ]
  },
  {
   "cell_type": "markdown",
   "id": "8e7cae4d",
   "metadata": {},
   "source": [
    "Дистанция пользователей по медиане не особо отличается с подпиской 3283 на 3360 без подписки. Большим диапазоном расстояния обладает группа пользователей без подписки от 0,1км  до  7,2км. Поездки до 500м чаще встречаются у пользователей без подписки, возможно возникают какие-то проблемы при аренде самокатов в приложении. "
   ]
  },
  {
   "cell_type": "markdown",
   "id": "4932b264",
   "metadata": {},
   "source": [
    "Время сессии для пользователей с подпиской в диапазоне от 15 до 22 минут."
   ]
  },
  {
   "cell_type": "code",
   "execution_count": 45,
   "id": "f58104be",
   "metadata": {},
   "outputs": [
    {
     "data": {
      "text/plain": [
       "count    6500.000000\n",
       "mean       18.541985\n",
       "std         5.572048\n",
       "min         3.760353\n",
       "25%        14.524654\n",
       "50%        18.178153\n",
       "75%        21.884129\n",
       "max        40.823963\n",
       "Name: duration, dtype: float64"
      ]
     },
     "execution_count": 45,
     "metadata": {},
     "output_type": "execute_result"
    }
   ],
   "source": [
    "df_sub['duration'].describe()"
   ]
  },
  {
   "cell_type": "markdown",
   "id": "a5674844",
   "metadata": {},
   "source": [
    "Время сессии для пользователей без подписки "
   ]
  },
  {
   "cell_type": "code",
   "execution_count": 46,
   "id": "51bc595e",
   "metadata": {
    "scrolled": false
   },
   "outputs": [
    {
     "data": {
      "text/plain": [
       "count    11568.000000\n",
       "mean        17.390909\n",
       "std          6.326803\n",
       "min          0.500000\n",
       "25%         12.958437\n",
       "50%         17.326890\n",
       "75%         21.594071\n",
       "max         34.948498\n",
       "Name: duration, dtype: float64"
      ]
     },
     "execution_count": 46,
     "metadata": {},
     "output_type": "execute_result"
    }
   ],
   "source": [
    "df_nsub['duration'].describe()"
   ]
  },
  {
   "cell_type": "markdown",
   "id": "50898987",
   "metadata": {},
   "source": [
    "Время пользования для пользователей без подписки составляет диапазон от 12 до 21 минуты.\n",
    "Время пользования до 3 минут, скорее всего ошибки пользователей начала поздки, либо сбои в программе, необходимо уточнить этот вопрос у коллег, чтобы не было влияния на средние показатели. Пока будем использовать, эти данные необходимы в подсчете выручки."
   ]
  },
  {
   "cell_type": "markdown",
   "id": "bba1dd49",
   "metadata": {},
   "source": [
    "<div class=\"alert alert-block alert-danger\" style=\"border-radius: 15px; box-shadow: 4px 4px 4px; border: 1px solid \">\n",
    "<h2> Комментарий ревьюера v_3: <a class=\"tocSkip\"></h2>\n",
    "    \n",
    "❌ Но в таком случае нужно изучить, а не приносили ли они какую-либо выручку. Ведь неправильно отказываться от учета таких пользователей. Вообще лучше перед тем, как принимать решение о том, что делать с этими данными, стоит выяснить у коллег (гипотетически), как получились такие значения."
   ]
  },
  {
   "cell_type": "markdown",
   "id": "4ab54bf2",
   "metadata": {},
   "source": [
    "<div class=\"alert alert-info\"  style=\"border-radius: 15px; box-shadow: 4px 4px 4px; border: 1px solid \">\n",
    "    \n",
    "<h2>Комментарий студента v_3: <a class=\"tocSkip\"> </h2>\n",
    "\n",
    "Поправил"
   ]
  },
  {
   "cell_type": "code",
   "execution_count": 47,
   "id": "934e111e",
   "metadata": {},
   "outputs": [
    {
     "data": {
      "image/png": "[encoded data removed]",
      "text/plain": [
       "<Figure size 640x480 with 1 Axes>"
      ]
     },
     "metadata": {},
     "output_type": "display_data"
    }
   ],
   "source": [
    "bins = np.linspace( 0,41 )\n",
    "plt.hist(df_nsub['duration'], bins, label=['Без подписки'], ec='black')\n",
    "plt.hist(df_sub['duration'], bins, label=['С подпиской'], ec='black')\n",
    "plt.legend(loc='upper right')\n",
    "plt.xlabel('Минуты')\n",
    "plt.ylabel('Пользователи')\n",
    "plt.title('Совмещенный график времени пользования')\n",
    "plt.show()"
   ]
  },
  {
   "cell_type": "markdown",
   "id": "bb1fd7b6",
   "metadata": {},
   "source": [
    "По времени использования самокатов пользователи с подпиской имеют больший разброс от 3 до 40 минут.\n",
    "Медиана времени у групп практически одинаковая 17,3 на 17,5 минут. \n",
    "в целом графики имеют схожее распределение по времени использования."
   ]
  },
  {
   "cell_type": "markdown",
   "id": "7473d7e0",
   "metadata": {},
   "source": [
    "<div class=\"alert alert-block alert-danger\" style=\"border-radius: 15px; box-shadow: 4px 4px 4px; border: 1px solid \">\n",
    "<h2> Комментарий ревьюера v_2: <a class=\"tocSkip\"></h2>\n",
    "    \n",
    "❌ Здесь также нужно построить визуализации не на агрегированных данных, что позволит, в том числе, увидеть всплески.  "
   ]
  },
  {
   "cell_type": "markdown",
   "id": "4c046bd0",
   "metadata": {},
   "source": [
    "<div class=\"alert alert-info\"  style=\"border-radius: 15px; box-shadow: 4px 4px 4px; border: 1px solid \">\n",
    "    \n",
    "<h2>Комментарий студента v_2: <a class=\"tocSkip\"> </h2>\n",
    "\n",
    "Поправил"
   ]
  },
  {
   "cell_type": "markdown",
   "id": "6a79c2ea",
   "metadata": {},
   "source": [
    "<div class=\"alert alert-warning\" style=\"border-radius: 15px; box-shadow: 4px 4px 4px; border: 1px solid \">\n",
    "<h2> Комментарий ревьюера v_2: <a class=\"tocSkip\"> </h2>\n",
    "    \n",
    "⚠️ Я бы советовал для двух датайфреймов строить не отдельные графики, а совместить их в одной визуализации. В итоге, получится одна визуализация, показывающая распределение расстояния с разбивкой по пользователям с подпиской и без, и аналогичная визуализация, но показывающая распределение времени поездок. [Здесь](https://overcoder.net/q/42473/%D1%81%D0%BE%D1%81%D1%82%D0%B0%D0%B2%D1%8C%D1%82%D0%B5-%D0%B4%D0%B2%D0%B5-%D0%B3%D0%B8%D1%81%D1%82%D0%BE%D0%B3%D1%80%D0%B0%D0%BC%D0%BC%D1%8B-%D0%BE%D0%B4%D0%BD%D0%BE%D0%B2%D1%80%D0%B5%D0%BC%D0%B5%D0%BD%D0%BD%D0%BE-%D1%81-%D0%BF%D0%BE%D0%BC%D0%BE%D1%89%D1%8C%D1%8E-matplotlib) есть примеры.\n",
    "    \n",
    "Также рекомендуется использовать функцию `describe()` на этом шаге.\n",
    "</div>"
   ]
  },
  {
   "cell_type": "markdown",
   "id": "d4204ff1",
   "metadata": {},
   "source": [
    "<div class=\"alert alert-info\"  style=\"border-radius: 15px; box-shadow: 4px 4px 4px; border: 1px solid \">\n",
    "    \n",
    "<h2>Комментарий студента v_2: <a class=\"tocSkip\"> </h2>\n",
    "\n",
    "Поправил"
   ]
  },
  {
   "cell_type": "markdown",
   "id": "d9b325d0",
   "metadata": {},
   "source": [
    "<div class=\"alert alert-block alert-danger\" style=\"border-radius: 15px; box-shadow: 4px 4px 4px; border: 1px solid \">\n",
    "<h2> Комментарий ревьюера v_2: <a class=\"tocSkip\"></h2>\n",
    "    \n",
    "❌ Что касается дистанции, у каких пользователей бОльший диапазон расстояния поездок и чаще встречаются короткие поездки (до 500 м)? \n",
    "    \n",
    "По длительности у каких пользователей чуть бОльший разброс?\n",
    "    \n",
    "Различается ли у них медиана?\n",
    "    \n",
    "Можно ли сказать, что графики сильно различаются друг от друга?"
   ]
  },
  {
   "cell_type": "markdown",
   "id": "847854f2",
   "metadata": {},
   "source": [
    "<div class=\"alert alert-info\"  style=\"border-radius: 15px; box-shadow: 4px 4px 4px; border: 1px solid \">\n",
    "    \n",
    "<h2>Комментарий студента v_2: <a class=\"tocSkip\"> </h2>\n",
    "\n",
    "Поправил"
   ]
  },
  {
   "cell_type": "markdown",
   "id": "91859fb0",
   "metadata": {},
   "source": [
    "<div class=\"alert alert-success\" style=\"border-radius: 15px; box-shadow: 4px 4px 4px; border: 1px solid \">\n",
    "<h2> Комментарий ревьюера v_3: <a class=\"tocSkip\"> </h2>\n",
    "    \n",
    "✅ Принято"
   ]
  },
  {
   "cell_type": "markdown",
   "id": "402d620f",
   "metadata": {},
   "source": [
    "## Шаг 5. Подсчёт выручки"
   ]
  },
  {
   "cell_type": "markdown",
   "id": "5219d1ea",
   "metadata": {},
   "source": [
    " Создадим датафрейм с агрегированными данными о поездках с суммарным расстоянием, количеством поездок и суммарным временем для каждого пользователя за каждый месяц."
   ]
  },
  {
   "cell_type": "markdown",
   "id": "bf4af596",
   "metadata": {},
   "source": [
    "Приведем к целому числу продолжительность поездки в большую сторону"
   ]
  },
  {
   "cell_type": "code",
   "execution_count": 48,
   "id": "13545615",
   "metadata": {},
   "outputs": [],
   "source": [
    "df['duration'] = df['duration'].apply(np.ceil) "
   ]
  },
  {
   "cell_type": "code",
   "execution_count": 49,
   "id": "7788e008",
   "metadata": {},
   "outputs": [
    {
     "data": {
      "text/html": [
       "<div>\n",
       "<style scoped>\n",
       "    .dataframe tbody tr th:only-of-type {\n",
       "        vertical-align: middle;\n",
       "    }\n",
       "\n",
       "    .dataframe tbody tr th {\n",
       "        vertical-align: top;\n",
       "    }\n",
       "\n",
       "    .dataframe thead th {\n",
       "        text-align: right;\n",
       "    }\n",
       "</style>\n",
       "<table border=\"1\" class=\"dataframe\">\n",
       "  <thead>\n",
       "    <tr style=\"text-align: right;\">\n",
       "      <th></th>\n",
       "      <th>user_id</th>\n",
       "      <th>date_month</th>\n",
       "      <th>subscription_type</th>\n",
       "      <th>minute_price</th>\n",
       "      <th>subscription_fee</th>\n",
       "      <th>start_ride_price</th>\n",
       "      <th>date</th>\n",
       "      <th>distance</th>\n",
       "      <th>duration</th>\n",
       "    </tr>\n",
       "  </thead>\n",
       "  <tbody>\n",
       "    <tr>\n",
       "      <th>0</th>\n",
       "      <td>1</td>\n",
       "      <td>1</td>\n",
       "      <td>ultra</td>\n",
       "      <td>6</td>\n",
       "      <td>199</td>\n",
       "      <td>0</td>\n",
       "      <td>2</td>\n",
       "      <td>7027.511294</td>\n",
       "      <td>42.0</td>\n",
       "    </tr>\n",
       "    <tr>\n",
       "      <th>1</th>\n",
       "      <td>1</td>\n",
       "      <td>4</td>\n",
       "      <td>ultra</td>\n",
       "      <td>6</td>\n",
       "      <td>199</td>\n",
       "      <td>0</td>\n",
       "      <td>1</td>\n",
       "      <td>754.159807</td>\n",
       "      <td>7.0</td>\n",
       "    </tr>\n",
       "    <tr>\n",
       "      <th>2</th>\n",
       "      <td>1</td>\n",
       "      <td>8</td>\n",
       "      <td>ultra</td>\n",
       "      <td>6</td>\n",
       "      <td>199</td>\n",
       "      <td>0</td>\n",
       "      <td>2</td>\n",
       "      <td>6723.470560</td>\n",
       "      <td>46.0</td>\n",
       "    </tr>\n",
       "    <tr>\n",
       "      <th>3</th>\n",
       "      <td>1</td>\n",
       "      <td>10</td>\n",
       "      <td>ultra</td>\n",
       "      <td>6</td>\n",
       "      <td>199</td>\n",
       "      <td>0</td>\n",
       "      <td>2</td>\n",
       "      <td>5809.911100</td>\n",
       "      <td>32.0</td>\n",
       "    </tr>\n",
       "    <tr>\n",
       "      <th>4</th>\n",
       "      <td>1</td>\n",
       "      <td>11</td>\n",
       "      <td>ultra</td>\n",
       "      <td>6</td>\n",
       "      <td>199</td>\n",
       "      <td>0</td>\n",
       "      <td>3</td>\n",
       "      <td>7003.499363</td>\n",
       "      <td>56.0</td>\n",
       "    </tr>\n",
       "    <tr>\n",
       "      <th>...</th>\n",
       "      <td>...</td>\n",
       "      <td>...</td>\n",
       "      <td>...</td>\n",
       "      <td>...</td>\n",
       "      <td>...</td>\n",
       "      <td>...</td>\n",
       "      <td>...</td>\n",
       "      <td>...</td>\n",
       "      <td>...</td>\n",
       "    </tr>\n",
       "    <tr>\n",
       "      <th>11326</th>\n",
       "      <td>1534</td>\n",
       "      <td>6</td>\n",
       "      <td>free</td>\n",
       "      <td>8</td>\n",
       "      <td>0</td>\n",
       "      <td>50</td>\n",
       "      <td>2</td>\n",
       "      <td>3409.468534</td>\n",
       "      <td>26.0</td>\n",
       "    </tr>\n",
       "    <tr>\n",
       "      <th>11327</th>\n",
       "      <td>1534</td>\n",
       "      <td>8</td>\n",
       "      <td>free</td>\n",
       "      <td>8</td>\n",
       "      <td>0</td>\n",
       "      <td>50</td>\n",
       "      <td>2</td>\n",
       "      <td>7622.453034</td>\n",
       "      <td>48.0</td>\n",
       "    </tr>\n",
       "    <tr>\n",
       "      <th>11328</th>\n",
       "      <td>1534</td>\n",
       "      <td>9</td>\n",
       "      <td>free</td>\n",
       "      <td>8</td>\n",
       "      <td>0</td>\n",
       "      <td>50</td>\n",
       "      <td>1</td>\n",
       "      <td>4928.173852</td>\n",
       "      <td>23.0</td>\n",
       "    </tr>\n",
       "    <tr>\n",
       "      <th>11329</th>\n",
       "      <td>1534</td>\n",
       "      <td>11</td>\n",
       "      <td>free</td>\n",
       "      <td>8</td>\n",
       "      <td>0</td>\n",
       "      <td>50</td>\n",
       "      <td>4</td>\n",
       "      <td>13350.015305</td>\n",
       "      <td>78.0</td>\n",
       "    </tr>\n",
       "    <tr>\n",
       "      <th>11330</th>\n",
       "      <td>1534</td>\n",
       "      <td>12</td>\n",
       "      <td>free</td>\n",
       "      <td>8</td>\n",
       "      <td>0</td>\n",
       "      <td>50</td>\n",
       "      <td>1</td>\n",
       "      <td>2371.711192</td>\n",
       "      <td>16.0</td>\n",
       "    </tr>\n",
       "  </tbody>\n",
       "</table>\n",
       "<p>11331 rows × 9 columns</p>\n",
       "</div>"
      ],
      "text/plain": [
       "       user_id  date_month subscription_type  minute_price  subscription_fee  \\\n",
       "0            1           1             ultra             6               199   \n",
       "1            1           4             ultra             6               199   \n",
       "2            1           8             ultra             6               199   \n",
       "3            1          10             ultra             6               199   \n",
       "4            1          11             ultra             6               199   \n",
       "...        ...         ...               ...           ...               ...   \n",
       "11326     1534           6              free             8                 0   \n",
       "11327     1534           8              free             8                 0   \n",
       "11328     1534           9              free             8                 0   \n",
       "11329     1534          11              free             8                 0   \n",
       "11330     1534          12              free             8                 0   \n",
       "\n",
       "       start_ride_price  date      distance  duration  \n",
       "0                     0     2   7027.511294      42.0  \n",
       "1                     0     1    754.159807       7.0  \n",
       "2                     0     2   6723.470560      46.0  \n",
       "3                     0     2   5809.911100      32.0  \n",
       "4                     0     3   7003.499363      56.0  \n",
       "...                 ...   ...           ...       ...  \n",
       "11326                50     2   3409.468534      26.0  \n",
       "11327                50     2   7622.453034      48.0  \n",
       "11328                50     1   4928.173852      23.0  \n",
       "11329                50     4  13350.015305      78.0  \n",
       "11330                50     1   2371.711192      16.0  \n",
       "\n",
       "[11331 rows x 9 columns]"
      ]
     },
     "execution_count": 49,
     "metadata": {},
     "output_type": "execute_result"
    }
   ],
   "source": [
    "df_ag = df.pivot_table(index = ['user_id', \n",
    "                                'date_month',\n",
    "                                'subscription_type',\n",
    "                                'minute_price',\n",
    "                                'subscription_fee', \n",
    "                                'start_ride_price'],\n",
    "                       values = ['distance', 'duration','date'],\n",
    "                       aggfunc = ({'distance':'sum','duration':'sum','date':'count'}))\n",
    "df_ag = df_ag.reset_index()\n",
    "df_ag"
   ]
  },
  {
   "cell_type": "markdown",
   "id": "e1c8583c",
   "metadata": {},
   "source": [
    "В этот же датафрейм добавим столбец с помесячной выручкой, которую принёс каждый пользователь. "
   ]
  },
  {
   "cell_type": "markdown",
   "id": "f34cd6a9",
   "metadata": {},
   "source": [
    "<div class=\"alert alert-block alert-danger\" style=\"border-radius: 15px; box-shadow: 4px 4px 4px; border: 1px solid \">\n",
    "<h2> Комментарий ревьюера v_2: <a class=\"tocSkip\"></h2>\n",
    "    \n",
    "❌ Округлять до следующего целого необходимо до создания таблицы с агрегированными данными. Из-за этого выручка не совсем корректно будет рассчитана. В задании написано: \"Продолжительность каждой поездки в каждой строке исходного датафрейма для подсчёта стоимости округляется до следующего целого числа\". Именно исходного, а не только что созданного.\n",
    "</div>"
   ]
  },
  {
   "cell_type": "markdown",
   "id": "90d4e2b3",
   "metadata": {},
   "source": [
    "<div class=\"alert alert-info\"  style=\"border-radius: 15px; box-shadow: 4px 4px 4px; border: 1px solid \">\n",
    "    \n",
    "<h2>Комментарий студента v_2: <a class=\"tocSkip\"> </h2>\n",
    "\n",
    "Поправил"
   ]
  },
  {
   "cell_type": "markdown",
   "id": "b4dc4ddc",
   "metadata": {},
   "source": [
    "Добавим столбец **profit** с помесячной выручкой каждого пользователя ежемесячно."
   ]
  },
  {
   "cell_type": "code",
   "execution_count": 50,
   "id": "be2a567e",
   "metadata": {},
   "outputs": [
    {
     "data": {
      "text/html": [
       "<div>\n",
       "<style scoped>\n",
       "    .dataframe tbody tr th:only-of-type {\n",
       "        vertical-align: middle;\n",
       "    }\n",
       "\n",
       "    .dataframe tbody tr th {\n",
       "        vertical-align: top;\n",
       "    }\n",
       "\n",
       "    .dataframe thead th {\n",
       "        text-align: right;\n",
       "    }\n",
       "</style>\n",
       "<table border=\"1\" class=\"dataframe\">\n",
       "  <thead>\n",
       "    <tr style=\"text-align: right;\">\n",
       "      <th></th>\n",
       "      <th>user_id</th>\n",
       "      <th>date_month</th>\n",
       "      <th>subscription_type</th>\n",
       "      <th>minute_price</th>\n",
       "      <th>subscription_fee</th>\n",
       "      <th>start_ride_price</th>\n",
       "      <th>date</th>\n",
       "      <th>distance</th>\n",
       "      <th>duration</th>\n",
       "      <th>profit</th>\n",
       "    </tr>\n",
       "  </thead>\n",
       "  <tbody>\n",
       "    <tr>\n",
       "      <th>0</th>\n",
       "      <td>1</td>\n",
       "      <td>1</td>\n",
       "      <td>ultra</td>\n",
       "      <td>6</td>\n",
       "      <td>199</td>\n",
       "      <td>0</td>\n",
       "      <td>2</td>\n",
       "      <td>7027.511294</td>\n",
       "      <td>42.0</td>\n",
       "      <td>451.0</td>\n",
       "    </tr>\n",
       "    <tr>\n",
       "      <th>1</th>\n",
       "      <td>1</td>\n",
       "      <td>4</td>\n",
       "      <td>ultra</td>\n",
       "      <td>6</td>\n",
       "      <td>199</td>\n",
       "      <td>0</td>\n",
       "      <td>1</td>\n",
       "      <td>754.159807</td>\n",
       "      <td>7.0</td>\n",
       "      <td>241.0</td>\n",
       "    </tr>\n",
       "    <tr>\n",
       "      <th>2</th>\n",
       "      <td>1</td>\n",
       "      <td>8</td>\n",
       "      <td>ultra</td>\n",
       "      <td>6</td>\n",
       "      <td>199</td>\n",
       "      <td>0</td>\n",
       "      <td>2</td>\n",
       "      <td>6723.470560</td>\n",
       "      <td>46.0</td>\n",
       "      <td>475.0</td>\n",
       "    </tr>\n",
       "    <tr>\n",
       "      <th>3</th>\n",
       "      <td>1</td>\n",
       "      <td>10</td>\n",
       "      <td>ultra</td>\n",
       "      <td>6</td>\n",
       "      <td>199</td>\n",
       "      <td>0</td>\n",
       "      <td>2</td>\n",
       "      <td>5809.911100</td>\n",
       "      <td>32.0</td>\n",
       "      <td>391.0</td>\n",
       "    </tr>\n",
       "    <tr>\n",
       "      <th>4</th>\n",
       "      <td>1</td>\n",
       "      <td>11</td>\n",
       "      <td>ultra</td>\n",
       "      <td>6</td>\n",
       "      <td>199</td>\n",
       "      <td>0</td>\n",
       "      <td>3</td>\n",
       "      <td>7003.499363</td>\n",
       "      <td>56.0</td>\n",
       "      <td>535.0</td>\n",
       "    </tr>\n",
       "    <tr>\n",
       "      <th>...</th>\n",
       "      <td>...</td>\n",
       "      <td>...</td>\n",
       "      <td>...</td>\n",
       "      <td>...</td>\n",
       "      <td>...</td>\n",
       "      <td>...</td>\n",
       "      <td>...</td>\n",
       "      <td>...</td>\n",
       "      <td>...</td>\n",
       "      <td>...</td>\n",
       "    </tr>\n",
       "    <tr>\n",
       "      <th>11326</th>\n",
       "      <td>1534</td>\n",
       "      <td>6</td>\n",
       "      <td>free</td>\n",
       "      <td>8</td>\n",
       "      <td>0</td>\n",
       "      <td>50</td>\n",
       "      <td>2</td>\n",
       "      <td>3409.468534</td>\n",
       "      <td>26.0</td>\n",
       "      <td>308.0</td>\n",
       "    </tr>\n",
       "    <tr>\n",
       "      <th>11327</th>\n",
       "      <td>1534</td>\n",
       "      <td>8</td>\n",
       "      <td>free</td>\n",
       "      <td>8</td>\n",
       "      <td>0</td>\n",
       "      <td>50</td>\n",
       "      <td>2</td>\n",
       "      <td>7622.453034</td>\n",
       "      <td>48.0</td>\n",
       "      <td>484.0</td>\n",
       "    </tr>\n",
       "    <tr>\n",
       "      <th>11328</th>\n",
       "      <td>1534</td>\n",
       "      <td>9</td>\n",
       "      <td>free</td>\n",
       "      <td>8</td>\n",
       "      <td>0</td>\n",
       "      <td>50</td>\n",
       "      <td>1</td>\n",
       "      <td>4928.173852</td>\n",
       "      <td>23.0</td>\n",
       "      <td>234.0</td>\n",
       "    </tr>\n",
       "    <tr>\n",
       "      <th>11329</th>\n",
       "      <td>1534</td>\n",
       "      <td>11</td>\n",
       "      <td>free</td>\n",
       "      <td>8</td>\n",
       "      <td>0</td>\n",
       "      <td>50</td>\n",
       "      <td>4</td>\n",
       "      <td>13350.015305</td>\n",
       "      <td>78.0</td>\n",
       "      <td>824.0</td>\n",
       "    </tr>\n",
       "    <tr>\n",
       "      <th>11330</th>\n",
       "      <td>1534</td>\n",
       "      <td>12</td>\n",
       "      <td>free</td>\n",
       "      <td>8</td>\n",
       "      <td>0</td>\n",
       "      <td>50</td>\n",
       "      <td>1</td>\n",
       "      <td>2371.711192</td>\n",
       "      <td>16.0</td>\n",
       "      <td>178.0</td>\n",
       "    </tr>\n",
       "  </tbody>\n",
       "</table>\n",
       "<p>11331 rows × 10 columns</p>\n",
       "</div>"
      ],
      "text/plain": [
       "       user_id  date_month subscription_type  minute_price  subscription_fee  \\\n",
       "0            1           1             ultra             6               199   \n",
       "1            1           4             ultra             6               199   \n",
       "2            1           8             ultra             6               199   \n",
       "3            1          10             ultra             6               199   \n",
       "4            1          11             ultra             6               199   \n",
       "...        ...         ...               ...           ...               ...   \n",
       "11326     1534           6              free             8                 0   \n",
       "11327     1534           8              free             8                 0   \n",
       "11328     1534           9              free             8                 0   \n",
       "11329     1534          11              free             8                 0   \n",
       "11330     1534          12              free             8                 0   \n",
       "\n",
       "       start_ride_price  date      distance  duration  profit  \n",
       "0                     0     2   7027.511294      42.0   451.0  \n",
       "1                     0     1    754.159807       7.0   241.0  \n",
       "2                     0     2   6723.470560      46.0   475.0  \n",
       "3                     0     2   5809.911100      32.0   391.0  \n",
       "4                     0     3   7003.499363      56.0   535.0  \n",
       "...                 ...   ...           ...       ...     ...  \n",
       "11326                50     2   3409.468534      26.0   308.0  \n",
       "11327                50     2   7622.453034      48.0   484.0  \n",
       "11328                50     1   4928.173852      23.0   234.0  \n",
       "11329                50     4  13350.015305      78.0   824.0  \n",
       "11330                50     1   2371.711192      16.0   178.0  \n",
       "\n",
       "[11331 rows x 10 columns]"
      ]
     },
     "execution_count": 50,
     "metadata": {},
     "output_type": "execute_result"
    }
   ],
   "source": [
    "df_ag['profit'] = ( df_ag['duration']*df_ag['minute_price']\n",
    "                   +df_ag['subscription_fee']\n",
    "                   +df_ag['date']*df_ag['start_ride_price'])\n",
    "df_ag"
   ]
  },
  {
   "cell_type": "markdown",
   "id": "41e4ff37",
   "metadata": {},
   "source": [
    "<div class=\"alert alert-block alert-danger\" style=\"border-radius: 15px; box-shadow: 4px 4px 4px; border: 1px solid \">\n",
    "<h2> Комментарий ревьюера v_2: <a class=\"tocSkip\"></h2>\n",
    "    \n",
    "❌ Чтобы получился корректный результат, лучше использовать колонки из сводной таблицы выше (а тех, которых не хватает, добавить в таблицу выше)"
   ]
  },
  {
   "cell_type": "markdown",
   "id": "07529a16",
   "metadata": {},
   "source": [
    "<div class=\"alert alert-info\"  style=\"border-radius: 15px; box-shadow: 4px 4px 4px; border: 1px solid \">\n",
    "    \n",
    "<h2>Комментарий студента v_2: <a class=\"tocSkip\"> </h2>\n",
    "\n",
    "Поправил"
   ]
  },
  {
   "cell_type": "markdown",
   "id": "1af38272",
   "metadata": {},
   "source": [
    "<div class=\"alert alert-success\" style=\"border-radius: 15px; box-shadow: 4px 4px 4px; border: 1px solid \">\n",
    "<h2> Комментарий ревьюера v_3: <a class=\"tocSkip\"> </h2>\n",
    "    \n",
    "✅ Супер. В данном шаге всё верно"
   ]
  },
  {
   "cell_type": "markdown",
   "id": "41545ac0",
   "metadata": {},
   "source": [
    "## Шаг 6. Проверка гипотез"
   ]
  },
  {
   "cell_type": "markdown",
   "id": "6deb5b96",
   "metadata": {},
   "source": [
    "## 6.1\n",
    "Важно понять, тратят ли пользователи с подпиской больше времени на поездки? Если да, то пользователи с подпиской могут быть «выгоднее» для компании. Проверьте гипотезу. Используйте исходные данные о продолжительности каждой сессии — отдельно для подписчиков и тех, у кого нет подписки."
   ]
  },
  {
   "cell_type": "markdown",
   "id": "537ee982",
   "metadata": {},
   "source": [
    "#### Гипотеза 1. \n",
    "- Нулевая гипотеза:  пользователи с подпиской тратят равное количество времени на поездки с пользовтелями без подписки. \n",
    "\n",
    "- Альтернативная гипотеза : пользователи c подпиской тратят больше времени на поездки, по сравнению с пользователями без подписки.\n",
    "\n",
    "Так как средние показатели этих генеральных совокупностей нормально распределены, воспользуемся методом для проверки гипотезы о равенстве среднего двух генеральных совокупностей ttest_ind()."
   ]
  },
  {
   "cell_type": "markdown",
   "id": "b1053042",
   "metadata": {},
   "source": [
    "<div class=\"alert alert-block alert-danger\" style=\"border-radius: 15px; box-shadow: 4px 4px 4px; border: 1px solid \">\n",
    "<h2> Комментарий ревьюера v_1: <a class=\"tocSkip\"></h2>\n",
    "    \n",
    "❌ Здесь должна быть сформулирована нулевая и альтернативная гипотеза. Это же замечание касается и других пунктов данного раздела. Об этом есть в уроке \"Формулирование гипотез\" в теме \"Проверка гипотез\" раздела \"Статистический анализ данных\".\n",
    "    \n",
    "В п. 1 необходимо проверить гипотезу, используя метод ttest_ind() (урок \"Гипотеза о равенстве средних двух генеральных совокупностей\") и прокомментировать результаты. Этот же метод используется и в п. 3\n",
    "    \n",
    "В п. 2 можно ориентироваться на урок \"Проверка односторонних гипотез в Python\". Стоит прокомментировать после внесения изменений выше, является ли расстояние поездок оптимальным с точки зрения износа самоката. "
   ]
  },
  {
   "cell_type": "markdown",
   "id": "020fb1ed",
   "metadata": {},
   "source": [
    "<div class=\"alert alert-info\"  style=\"border-radius: 15px; box-shadow: 4px 4px 4px; border: 1px solid \">\n",
    "    \n",
    "<h2>Комментарий студента v_1: <a class=\"tocSkip\"> </h2>\n",
    "\n",
    "Поправил, но сомневаюсь"
   ]
  },
  {
   "cell_type": "markdown",
   "id": "a6c1daba",
   "metadata": {},
   "source": [
    "<div class=\"alert alert-block alert-danger\" style=\"border-radius: 15px; box-shadow: 4px 4px 4px; border: 1px solid \">\n",
    "<h2> Комментарий ревьюера v_3: <a class=\"tocSkip\"></h2>\n",
    "    \n",
    "❌ \" пользователи c подпиской тратят больше времени на поездки, пользователи без подписки могут быть «выгоднее» для компании\" - после запятой необходимо убрать формулировку и добавить, по сравнению с кем пользователи с подпиской тратят больше времени "
   ]
  },
  {
   "cell_type": "markdown",
   "id": "3713a9c6",
   "metadata": {},
   "source": [
    "<div class=\"alert alert-info\"  style=\"border-radius: 15px; box-shadow: 4px 4px 4px; border: 1px solid \">\n",
    "    \n",
    "<h2>Комментарий студента v_3: <a class=\"tocSkip\"> </h2>\n",
    "\n",
    "Поправил, но сомневаюсь"
   ]
  },
  {
   "cell_type": "code",
   "execution_count": 51,
   "id": "e9f88445",
   "metadata": {
    "scrolled": true
   },
   "outputs": [
    {
     "name": "stdout",
     "output_type": "stream",
     "text": [
      "p-значение: 1.2804098316645618e-34\n",
      "Отвергаем нулевую гипотезу\n"
     ]
    }
   ],
   "source": [
    "sample_1 = df_sub['duration']\n",
    "sample_2 = df_nsub['duration']\n",
    "\n",
    "alpha = 0.05\n",
    "\n",
    "results = st.ttest_ind(sample_1, sample_2, alternative='greater')\n",
    "\n",
    "print('p-значение:', results.pvalue)\n",
    "\n",
    "if results.pvalue < alpha:\n",
    "    print('Отвергаем нулевую гипотезу')\n",
    "else:\n",
    "    print('Не получилось отвергнуть нулевую гипотезу в сторону альтернативной') "
   ]
  },
  {
   "cell_type": "markdown",
   "id": "209284fd",
   "metadata": {},
   "source": [
    "<div class=\"alert alert-block alert-danger\" style=\"border-radius: 15px; box-shadow: 4px 4px 4px; border: 1px solid \">\n",
    "<h2> Комментарий ревьюера v_3: <a class=\"tocSkip\"></h2>\n",
    "    \n",
    "❌ На этапе 4.2 уже были созданы датафреймы c данными о пользователях без подписки и с подпиской. Вот эти выборки необходимо здесь использовать."
   ]
  },
  {
   "cell_type": "markdown",
   "id": "3b5bbf4e",
   "metadata": {},
   "source": [
    "<div class=\"alert alert-info\"  style=\"border-radius: 15px; box-shadow: 4px 4px 4px; border: 1px solid \">\n",
    "    \n",
    "<h2>Комментарий студента v_3: <a class=\"tocSkip\"> </h2>\n",
    "\n",
    "Поправил"
   ]
  },
  {
   "cell_type": "markdown",
   "id": "c4daffc2",
   "metadata": {},
   "source": [
    "Полученное значение p-value (1.28) больше заданного уровня значимости, поэтому отвергаем нулевую гипотезу в сторону альтернативной. Пользователи  с подпиской тратят большее количество времени на поездки, чем с пользователями без подписки."
   ]
  },
  {
   "cell_type": "markdown",
   "id": "6061b198",
   "metadata": {},
   "source": [
    "## 6.2 \n",
    "Расстояние одной поездки в 3130 метров — оптимальное с точки зрения износа самоката. Можно ли сказать, что среднее расстояние, которое проезжают пользователи с подпиской за одну поездку, не превышает 3130 метров? Проверьте гипотезу и сделайте выводы."
   ]
  },
  {
   "cell_type": "markdown",
   "id": "b27f2bb8",
   "metadata": {},
   "source": [
    "#### Гипотеза 2. \n",
    "- Нулевая гипотеза : Среднее расстояние, которое проезжают пользователи с подпиской за одну поездку, не превышает 3130 метров.\n",
    "- Альтернативная гипотеза : Среднее расстояние, которое проезжают пользователи с подпиской за одну поездку,  превышает  3130 метров."
   ]
  },
  {
   "cell_type": "markdown",
   "id": "cbaa2de6",
   "metadata": {},
   "source": [
    "<div class=\"alert alert-block alert-danger\" style=\"border-radius: 15px; box-shadow: 4px 4px 4px; border: 1px solid \">\n",
    "<h2> Комментарий ревьюера v_3: <a class=\"tocSkip\"></h2>\n",
    "    \n",
    "❌ Альтернативную и нулевую гипотезу нужно поменять местами. В части кода можно ориентироваться на урок \"Проверка односторонних гипотез в Python\"."
   ]
  },
  {
   "cell_type": "markdown",
   "id": "97c1638d",
   "metadata": {},
   "source": [
    "<div class=\"alert alert-info\"  style=\"border-radius: 15px; box-shadow: 4px 4px 4px; border: 1px solid \">\n",
    "    \n",
    "<h2>Комментарий студента v_3: <a class=\"tocSkip\"> </h2>\n",
    "\n",
    "Поправил"
   ]
  },
  {
   "cell_type": "markdown",
   "id": "b69b4dd0",
   "metadata": {},
   "source": [
    "Выберем пользователей с подпиской за 1 поездку."
   ]
  },
  {
   "cell_type": "code",
   "execution_count": 52,
   "id": "eab3d7e7",
   "metadata": {},
   "outputs": [
    {
     "name": "stdout",
     "output_type": "stream",
     "text": [
      "p-значение: 0.9195368847849785\n",
      "Не получилось отвергнуть нулевую гипотезу: расстояние не превышает 3130 метров\n"
     ]
    }
   ],
   "source": [
    "distance =  df_sub['distance']\n",
    "\n",
    "interested_value = 3130\n",
    "\n",
    "alpha = 0.05\n",
    "\n",
    "results = st.ttest_1samp(distance, interested_value, alternative='greater' )\n",
    "\n",
    "print('p-значение:', results.pvalue)\n",
    "\n",
    "if results.pvalue < alpha :\n",
    "    print('Отвергаем нулевую гипотезу: расстояние значимо больше 3130 метров')\n",
    "else:\n",
    "    print('Не получилось отвергнуть нулевую гипотезу: расстояние не превышает 3130 метров')"
   ]
  },
  {
   "cell_type": "markdown",
   "id": "e738a803",
   "metadata": {},
   "source": [
    "Полученное значение p-value (~0.91)  больше заданного уровня значимости, поэтому  не отвергаем нулевую гипотезу в сторону альтернативной. Пользователи с подпиской  в среднем за одну поездку не превышают 3130 метров."
   ]
  },
  {
   "cell_type": "markdown",
   "id": "236783de",
   "metadata": {},
   "source": [
    "## 6.3 \n",
    "Проверьте гипотезу о том, будет ли помесячная выручка от пользователей с подпиской по месяцам выше, чем выручка от пользователей без подписки. Сделайте вывод."
   ]
  },
  {
   "cell_type": "markdown",
   "id": "4b01910f",
   "metadata": {},
   "source": [
    "#### Гипотеза 3. \n",
    "- Нулевая гипотеза : помесячная выручка от пользователей с подпиской по месяцам равна выручке от пользователей без подписки\n",
    "- Альтернативная гипотеза : помесячная выручка от пользователей с подпиской по месяцам больше, чем выручка от пользователей без подписки"
   ]
  },
  {
   "cell_type": "code",
   "execution_count": 53,
   "id": "39300b27",
   "metadata": {},
   "outputs": [
    {
     "name": "stdout",
     "output_type": "stream",
     "text": [
      "p-value: 1.8850394384715216e-31\n",
      "Отвергаем нулевую гипотезу\n"
     ]
    }
   ],
   "source": [
    "alpha = 0.05 \n",
    "\n",
    "first_group_total = df_ag[df_ag['subscription_type'] == 'ultra']['profit']\n",
    "second_group_total = df_ag[df_ag['subscription_type'] == 'free']['profit']\n",
    "\n",
    "results = st.ttest_ind(first_group_total, second_group_total, alternative='greater')\n",
    "\n",
    "print(f'p-value: {results.pvalue}')\n",
    "\n",
    "if results.pvalue < alpha:\n",
    "    print('Отвергаем нулевую гипотезу')\n",
    "else:\n",
    "    print('Нет оснований отвергнуть нулевую гипотезу')"
   ]
  },
  {
   "cell_type": "markdown",
   "id": "8d3f30c0",
   "metadata": {},
   "source": [
    "Полученное значение p-value (1.88)  больше заданного уровня значимости, помесячная выручка от пользователей с подпиской по месяцам меньше, чем выручка от пользователей без подписки."
   ]
  },
  {
   "cell_type": "markdown",
   "id": "7ba4673b",
   "metadata": {},
   "source": [
    "## 6.4\n",
    "Представьте такую ситуацию: техническая команда сервиса обновила сервера, с которыми взаимодействует мобильное приложение. Она надеется, что из-за этого количество обращений в техподдержку значимо снизилось. Некоторый файл содержит для каждого пользователя данные о количестве обращений до обновления и после него. Какой тест вам понадобился бы для проверки этой гипотезы?"
   ]
  },
  {
   "cell_type": "markdown",
   "id": "948d5c71",
   "metadata": {},
   "source": [
    "#### Гипотеза 4. \n",
    "- Нулевая гипотеза : количество обращений в техподдержку осталось прежним\n",
    "- Альтернативная гипотеза : количество обращений в техподдержку значимо снизилось"
   ]
  },
  {
   "cell_type": "markdown",
   "id": "08ce0efd",
   "metadata": {},
   "source": [
    "В этом случае нужно использовать одностороннюю гипотезу для средних двух генеральных совокупностей, у метода ttest_ind() есть параметр alternative, который, может принимать аргумент 'less',  он может использоваться для проверки альтернативной гипотезы, в которой среднее значение первой совокупности **меньше** среднего значения второй совокупности."
   ]
  },
  {
   "cell_type": "markdown",
   "id": "29cc289f",
   "metadata": {},
   "source": [
    "## Итоговый вывод\n"
   ]
  },
  {
   "cell_type": "markdown",
   "id": "7f8f555f",
   "metadata": {},
   "source": [
    "Были рассмотрены данные cервиса аренды самокатов GoFast. Данные о некоторых пользователях из нескольких городов, а также об их поездках. Чтобы совершать поездки по городу, пользователи сервиса GoFast пользуются мобильным приложением.  По всем городам примерно одинаковое количество пользователей из полученных данных, однако Пятигорск оказывается в большинстве 219 пользователей, Москва занимает последнее место из 168 пользователей. \n",
    "- Время пользования самокатом до 3 минут, также поездки до 500м чаще встречаются у пользователей без подписки, возможно возникают какие-то проблемы при аренде самокатов в приложении. \n",
    "- В ходе исследования проекта, пропусков и дубликатов значений обнаружено не было.\n",
    "- 54.4% пользователей с уровнем подписки **free**\n",
    "- Основной диапазон пользователей находится в промежутке от 22 до 28лет.\n",
    "- Количество поездок до 1500м состовляет 10% от общего количества.\n",
    "- Популярностью пользуются поездки продолжительностью от 13 до 21 минут.\n",
    "\n",
    "Было рассмотрено 3 гипотезы из которых можно сделать вывод:\n",
    "- Пользователи с подпиской тратят большее количество времени на поездки, чем с пользователями без подписки.\n",
    "- Пользователи с подпиской  в среднем за одну поездку не превышают 3130 метров.\n",
    "- Месячная выручка от пользователей с подпиской  меньше, чем выручка от пользователей без подписки.\n",
    "\n",
    "Рекомендации. Например, вы можете посоветовать отобрать определённые признаки для прогнозирования в будущем или дать рекомендации о том, как избежать появления дубликатов или пропущенных значений.\n",
    "\n",
    "- Сделать акцент на пользователях без подписки, они формируют основную часть прибыли, и больше влияют на уровень дохода.\n",
    "- Найти закономерности в поездах не более 500м, можно предположить, что редко для пользователя будет предпочтительнее преодолевать такое расстояние, арендуя самокат.\n",
    "- Основной возраст пользователей которые используют самокат, можно использовать в маркетинге, для привлчения новых клиентов.\n",
    "- Возможно расширить продолжительность аренды самокатов, на 1час, на 2часа, сделать разовые платежи за этот период, что повысит возможности использования самокатов для клиентов. Тем самым увеличить прибыль для каждой категории."
   ]
  },
  {
   "cell_type": "markdown",
   "id": "7d813f87",
   "metadata": {},
   "source": [
    "<div class=\"alert alert-block alert-danger\" style=\"border-radius: 15px; box-shadow: 4px 4px 4px; border: 1px solid \">\n",
    "<h2> Комментарий ревьюера v_1: <a class=\"tocSkip\"></h2>\n",
    "    \n",
    "❌ Какой именно ttest требуется? Об этом есть в уроке \"Гипотеза о равенстве средних для зависимых (парных) выборок\". "
   ]
  },
  {
   "cell_type": "markdown",
   "id": "fa19bbc1",
   "metadata": {},
   "source": [
    "<div class=\"alert alert-info\"  style=\"border-radius: 15px; box-shadow: 4px 4px 4px; border: 1px solid \">\n",
    "    \n",
    "<h2>Комментарий студента v_1: <a class=\"tocSkip\"> </h2>\n",
    "\n",
    "Поправил"
   ]
  },
  {
   "cell_type": "markdown",
   "id": "1ca53948",
   "metadata": {},
   "source": [
    "<div class=\"alert alert-warning\" style=\"border-radius: 15px; box-shadow: 4px 4px 4px; border: 1px solid \">\n",
    "<h2> Комментарий ревьюера v_1: <a class=\"tocSkip\"> </h2>\n",
    "    \n",
    "⚠️ \"Она надеется, что из-за этого количество обращений в техподдержку значимо снизилось\". Какая должна быть гипотеза, односторонняя или двухсторонняя?"
   ]
  },
  {
   "cell_type": "markdown",
   "id": "d6b1c0cc",
   "metadata": {},
   "source": [
    "<div class=\"alert alert-info\"  style=\"border-radius: 15px; box-shadow: 4px 4px 4px; border: 1px solid \">\n",
    "    \n",
    "<h2>Комментарий студента v_1: <a class=\"tocSkip\"> </h2>\n",
    "\n",
    "Поправил"
   ]
  },
  {
   "cell_type": "markdown",
   "id": "47df62a9",
   "metadata": {},
   "source": [
    "<div class=\"alert alert-block alert-danger\" style=\"border-radius: 15px; box-shadow: 4px 4px 4px; border: 1px solid \">\n",
    "<h2> Комментарий ревьюера v_1: <a class=\"tocSkip\"></h2>\n",
    "    \n",
    "❌ В итоговом выводе необходимо написать, какие данные были рассмотрены, выявлены ли пропуски и дубликаты, какие результаты получены в шагах 3, 4 и 6. Также стоит резюмировать, являются ли пользователи с подиской более выгодными для сервиса аренды самокато."
   ]
  },
  {
   "cell_type": "markdown",
   "id": "5474e028",
   "metadata": {},
   "source": [
    "<div class=\"alert alert-info\"  style=\"border-radius: 15px; box-shadow: 4px 4px 4px; border: 1px solid \">\n",
    "    \n",
    "<h2>Комментарий студента v_1: <a class=\"tocSkip\"> </h2>\n",
    "\n",
    "Поправил"
   ]
  },
  {
   "cell_type": "markdown",
   "id": "4b6889ae",
   "metadata": {},
   "source": [
    "<div style=\"border:solid lightblue 3px; background:#f7faf8; padding: 20px\">\n",
    "<span style=\"color:darkblue\">Общий вывод по проекту v_1:</span>\n",
    "    \n",
    "Есть замечания в 3, 4, 5 и 6 шагах, в частности, к оформлению визуализаций, которые необходимо доработать.\n",
    "   \n",
    "Также оставил рекомендации в комментариях (для принятия проекта их не должно быть больше трех). Жду проект)"
   ]
  },
  {
   "cell_type": "markdown",
   "id": "58dee59c",
   "metadata": {},
   "source": [
    "<div style=\"border:solid lightblue 3px; background:#f7faf8; padding: 20px\">\n",
    "<span style=\"color:darkblue\">Общий вывод по проекту v_3:</span>\n",
    "    \n",
    "Доработать замечания в 3, 4 и 6 шагах + итоговый вывод. Жду проект)"
   ]
  }
 ],
 "metadata": {
  "ExecuteTimeLog": [
   {
    "duration": 858,
    "start_time": "2023-11-19T17:09:34.440Z"
   },
   {
    "duration": 136,
    "start_time": "2023-11-19T17:09:35.300Z"
   },
   {
    "duration": 0,
    "start_time": "2023-11-19T17:09:35.438Z"
   },
   {
    "duration": 0,
    "start_time": "2023-11-19T17:09:35.440Z"
   },
   {
    "duration": 0,
    "start_time": "2023-11-19T17:09:35.441Z"
   },
   {
    "duration": 0,
    "start_time": "2023-11-19T17:09:35.442Z"
   },
   {
    "duration": 0,
    "start_time": "2023-11-19T17:09:35.443Z"
   },
   {
    "duration": 0,
    "start_time": "2023-11-19T17:09:35.458Z"
   },
   {
    "duration": 0,
    "start_time": "2023-11-19T17:09:35.459Z"
   },
   {
    "duration": 0,
    "start_time": "2023-11-19T17:09:35.461Z"
   },
   {
    "duration": 0,
    "start_time": "2023-11-19T17:09:35.462Z"
   },
   {
    "duration": 0,
    "start_time": "2023-11-19T17:09:35.464Z"
   },
   {
    "duration": 0,
    "start_time": "2023-11-19T17:09:35.465Z"
   },
   {
    "duration": 0,
    "start_time": "2023-11-19T17:09:35.467Z"
   },
   {
    "duration": 0,
    "start_time": "2023-11-19T17:09:35.468Z"
   },
   {
    "duration": 0,
    "start_time": "2023-11-19T17:09:35.470Z"
   },
   {
    "duration": 0,
    "start_time": "2023-11-19T17:09:35.471Z"
   },
   {
    "duration": 0,
    "start_time": "2023-11-19T17:09:35.473Z"
   },
   {
    "duration": 0,
    "start_time": "2023-11-19T17:09:35.474Z"
   },
   {
    "duration": 0,
    "start_time": "2023-11-19T17:09:35.475Z"
   },
   {
    "duration": 0,
    "start_time": "2023-11-19T17:09:35.476Z"
   },
   {
    "duration": 0,
    "start_time": "2023-11-19T17:09:35.478Z"
   },
   {
    "duration": 0,
    "start_time": "2023-11-19T17:09:35.479Z"
   },
   {
    "duration": 0,
    "start_time": "2023-11-19T17:09:35.480Z"
   },
   {
    "duration": 0,
    "start_time": "2023-11-19T17:09:35.482Z"
   },
   {
    "duration": 0,
    "start_time": "2023-11-19T17:09:35.483Z"
   },
   {
    "duration": 0,
    "start_time": "2023-11-19T17:09:35.484Z"
   },
   {
    "duration": 0,
    "start_time": "2023-11-19T17:09:35.485Z"
   },
   {
    "duration": 0,
    "start_time": "2023-11-19T17:09:35.487Z"
   },
   {
    "duration": 0,
    "start_time": "2023-11-19T17:09:35.488Z"
   },
   {
    "duration": 0,
    "start_time": "2023-11-19T17:09:35.489Z"
   },
   {
    "duration": 0,
    "start_time": "2023-11-19T17:09:35.490Z"
   },
   {
    "duration": 0,
    "start_time": "2023-11-19T17:09:35.491Z"
   },
   {
    "duration": 0,
    "start_time": "2023-11-19T17:09:35.492Z"
   },
   {
    "duration": 0,
    "start_time": "2023-11-19T17:09:35.493Z"
   },
   {
    "duration": 0,
    "start_time": "2023-11-19T17:09:35.494Z"
   },
   {
    "duration": 0,
    "start_time": "2023-11-19T17:09:35.495Z"
   },
   {
    "duration": 0,
    "start_time": "2023-11-19T17:09:35.496Z"
   },
   {
    "duration": 0,
    "start_time": "2023-11-19T17:09:35.497Z"
   },
   {
    "duration": 0,
    "start_time": "2023-11-19T17:09:35.498Z"
   },
   {
    "duration": 0,
    "start_time": "2023-11-19T17:09:35.499Z"
   },
   {
    "duration": 0,
    "start_time": "2023-11-19T17:09:35.500Z"
   },
   {
    "duration": 0,
    "start_time": "2023-11-19T17:09:35.501Z"
   },
   {
    "duration": 0,
    "start_time": "2023-11-19T17:09:35.502Z"
   },
   {
    "duration": 828,
    "start_time": "2023-11-19T17:20:21.652Z"
   },
   {
    "duration": 120,
    "start_time": "2023-11-19T17:20:22.482Z"
   },
   {
    "duration": 0,
    "start_time": "2023-11-19T17:20:22.604Z"
   },
   {
    "duration": 0,
    "start_time": "2023-11-19T17:20:22.605Z"
   },
   {
    "duration": 0,
    "start_time": "2023-11-19T17:20:22.606Z"
   },
   {
    "duration": 0,
    "start_time": "2023-11-19T17:20:22.607Z"
   },
   {
    "duration": 0,
    "start_time": "2023-11-19T17:20:22.608Z"
   },
   {
    "duration": 0,
    "start_time": "2023-11-19T17:20:22.609Z"
   },
   {
    "duration": 0,
    "start_time": "2023-11-19T17:20:22.609Z"
   },
   {
    "duration": 0,
    "start_time": "2023-11-19T17:20:22.610Z"
   },
   {
    "duration": 0,
    "start_time": "2023-11-19T17:20:22.611Z"
   },
   {
    "duration": 0,
    "start_time": "2023-11-19T17:20:22.612Z"
   },
   {
    "duration": 0,
    "start_time": "2023-11-19T17:20:22.614Z"
   },
   {
    "duration": 0,
    "start_time": "2023-11-19T17:20:22.615Z"
   },
   {
    "duration": 0,
    "start_time": "2023-11-19T17:20:22.616Z"
   },
   {
    "duration": 0,
    "start_time": "2023-11-19T17:20:22.617Z"
   },
   {
    "duration": 0,
    "start_time": "2023-11-19T17:20:22.618Z"
   },
   {
    "duration": 0,
    "start_time": "2023-11-19T17:20:22.619Z"
   },
   {
    "duration": 0,
    "start_time": "2023-11-19T17:20:22.620Z"
   },
   {
    "duration": 0,
    "start_time": "2023-11-19T17:20:22.620Z"
   },
   {
    "duration": 0,
    "start_time": "2023-11-19T17:20:22.621Z"
   },
   {
    "duration": 0,
    "start_time": "2023-11-19T17:20:22.622Z"
   },
   {
    "duration": 0,
    "start_time": "2023-11-19T17:20:22.623Z"
   },
   {
    "duration": 0,
    "start_time": "2023-11-19T17:20:22.624Z"
   },
   {
    "duration": 0,
    "start_time": "2023-11-19T17:20:22.626Z"
   },
   {
    "duration": 0,
    "start_time": "2023-11-19T17:20:22.627Z"
   },
   {
    "duration": 0,
    "start_time": "2023-11-19T17:20:22.656Z"
   },
   {
    "duration": 0,
    "start_time": "2023-11-19T17:20:22.657Z"
   },
   {
    "duration": 0,
    "start_time": "2023-11-19T17:20:22.658Z"
   },
   {
    "duration": 1,
    "start_time": "2023-11-19T17:20:22.659Z"
   },
   {
    "duration": 0,
    "start_time": "2023-11-19T17:20:22.660Z"
   },
   {
    "duration": 0,
    "start_time": "2023-11-19T17:20:22.662Z"
   },
   {
    "duration": 0,
    "start_time": "2023-11-19T17:20:22.663Z"
   },
   {
    "duration": 0,
    "start_time": "2023-11-19T17:20:22.664Z"
   },
   {
    "duration": 0,
    "start_time": "2023-11-19T17:20:22.665Z"
   },
   {
    "duration": 0,
    "start_time": "2023-11-19T17:20:22.666Z"
   },
   {
    "duration": 0,
    "start_time": "2023-11-19T17:20:22.667Z"
   },
   {
    "duration": 0,
    "start_time": "2023-11-19T17:20:22.669Z"
   },
   {
    "duration": 0,
    "start_time": "2023-11-19T17:20:22.670Z"
   },
   {
    "duration": 0,
    "start_time": "2023-11-19T17:20:22.671Z"
   },
   {
    "duration": 0,
    "start_time": "2023-11-19T17:20:22.672Z"
   },
   {
    "duration": 0,
    "start_time": "2023-11-19T17:20:22.674Z"
   },
   {
    "duration": 0,
    "start_time": "2023-11-19T17:20:22.675Z"
   },
   {
    "duration": 0,
    "start_time": "2023-11-19T17:20:22.676Z"
   },
   {
    "duration": 1223,
    "start_time": "2023-11-20T08:41:21.597Z"
   },
   {
    "duration": 413,
    "start_time": "2023-11-20T08:41:22.821Z"
   },
   {
    "duration": 8,
    "start_time": "2023-11-20T08:41:23.236Z"
   },
   {
    "duration": 13,
    "start_time": "2023-11-20T08:41:23.246Z"
   },
   {
    "duration": 19,
    "start_time": "2023-11-20T08:41:23.261Z"
   },
   {
    "duration": 27,
    "start_time": "2023-11-20T08:41:23.281Z"
   },
   {
    "duration": 9,
    "start_time": "2023-11-20T08:41:23.309Z"
   },
   {
    "duration": 7,
    "start_time": "2023-11-20T08:41:23.319Z"
   },
   {
    "duration": 15,
    "start_time": "2023-11-20T08:41:23.328Z"
   },
   {
    "duration": 17,
    "start_time": "2023-11-20T08:41:23.345Z"
   },
   {
    "duration": 5,
    "start_time": "2023-11-20T08:41:23.363Z"
   },
   {
    "duration": 11,
    "start_time": "2023-11-20T08:41:23.370Z"
   },
   {
    "duration": 17,
    "start_time": "2023-11-20T08:41:23.383Z"
   },
   {
    "duration": 32,
    "start_time": "2023-11-20T08:41:23.401Z"
   },
   {
    "duration": 9,
    "start_time": "2023-11-20T08:41:23.435Z"
   },
   {
    "duration": 10,
    "start_time": "2023-11-20T08:41:23.446Z"
   },
   {
    "duration": 14,
    "start_time": "2023-11-20T08:41:23.457Z"
   },
   {
    "duration": 5,
    "start_time": "2023-11-20T08:41:23.472Z"
   },
   {
    "duration": 157,
    "start_time": "2023-11-20T08:41:23.478Z"
   },
   {
    "duration": 5,
    "start_time": "2023-11-20T08:41:23.637Z"
   },
   {
    "duration": 36,
    "start_time": "2023-11-20T08:41:23.643Z"
   },
   {
    "duration": 145,
    "start_time": "2023-11-20T08:41:23.680Z"
   },
   {
    "duration": 168,
    "start_time": "2023-11-20T08:41:23.826Z"
   },
   {
    "duration": 162,
    "start_time": "2023-11-20T08:41:23.995Z"
   },
   {
    "duration": 24,
    "start_time": "2023-11-20T08:41:24.159Z"
   },
   {
    "duration": 15,
    "start_time": "2023-11-20T08:41:24.184Z"
   },
   {
    "duration": 31,
    "start_time": "2023-11-20T08:41:24.200Z"
   },
   {
    "duration": 180,
    "start_time": "2023-11-20T08:41:24.234Z"
   },
   {
    "duration": 148,
    "start_time": "2023-11-20T08:41:24.416Z"
   },
   {
    "duration": 186,
    "start_time": "2023-11-20T08:41:24.565Z"
   },
   {
    "duration": 157,
    "start_time": "2023-11-20T08:41:24.753Z"
   },
   {
    "duration": 33,
    "start_time": "2023-11-20T08:41:24.911Z"
   },
   {
    "duration": 20,
    "start_time": "2023-11-20T08:41:24.945Z"
   },
   {
    "duration": 68,
    "start_time": "2023-11-20T08:41:24.966Z"
   },
   {
    "duration": 150,
    "start_time": "2023-11-20T08:41:25.036Z"
   },
   {
    "duration": 18,
    "start_time": "2023-11-20T08:41:25.187Z"
   },
   {
    "duration": 20,
    "start_time": "2023-11-20T08:41:25.207Z"
   },
   {
    "duration": 152,
    "start_time": "2023-11-20T08:41:25.228Z"
   },
   {
    "duration": 19,
    "start_time": "2023-11-20T08:41:25.382Z"
   },
   {
    "duration": 12,
    "start_time": "2023-11-20T08:41:25.402Z"
   },
   {
    "duration": 254,
    "start_time": "2023-11-20T08:41:25.416Z"
   },
   {
    "duration": 10,
    "start_time": "2023-11-20T08:41:25.672Z"
   },
   {
    "duration": 8,
    "start_time": "2023-11-20T08:41:25.683Z"
   },
   {
    "duration": 198,
    "start_time": "2023-11-20T08:41:25.693Z"
   },
   {
    "duration": 218,
    "start_time": "2023-11-20T09:20:31.209Z"
   },
   {
    "duration": 7,
    "start_time": "2023-11-20T09:24:43.740Z"
   },
   {
    "duration": 9,
    "start_time": "2023-11-20T09:34:48.642Z"
   },
   {
    "duration": 4,
    "start_time": "2023-11-20T09:36:04.246Z"
   },
   {
    "duration": 98,
    "start_time": "2023-11-20T09:37:36.971Z"
   },
   {
    "duration": 19,
    "start_time": "2023-11-20T09:38:13.023Z"
   },
   {
    "duration": 50,
    "start_time": "2023-11-20T09:39:09.799Z"
   },
   {
    "duration": 97,
    "start_time": "2023-11-20T09:39:53.312Z"
   },
   {
    "duration": 46,
    "start_time": "2023-11-20T09:40:01.097Z"
   },
   {
    "duration": 1304,
    "start_time": "2023-11-20T09:40:10.656Z"
   },
   {
    "duration": 12,
    "start_time": "2023-11-20T09:42:50.552Z"
   },
   {
    "duration": 12,
    "start_time": "2023-11-20T09:44:44.400Z"
   },
   {
    "duration": 1202,
    "start_time": "2023-11-20T09:45:03.480Z"
   },
   {
    "duration": 13,
    "start_time": "2023-11-20T09:46:31.155Z"
   },
   {
    "duration": 204,
    "start_time": "2023-11-20T09:46:51.853Z"
   },
   {
    "duration": 209,
    "start_time": "2023-11-20T09:46:58.174Z"
   },
   {
    "duration": 1123,
    "start_time": "2023-11-20T09:47:55.719Z"
   },
   {
    "duration": 177,
    "start_time": "2023-11-20T09:48:28.081Z"
   },
   {
    "duration": 9,
    "start_time": "2023-11-20T09:48:29.216Z"
   },
   {
    "duration": 10,
    "start_time": "2023-11-20T09:49:14.273Z"
   },
   {
    "duration": 211,
    "start_time": "2023-11-20T09:49:30.264Z"
   },
   {
    "duration": 982,
    "start_time": "2023-11-20T09:49:58.282Z"
   },
   {
    "duration": 195,
    "start_time": "2023-11-20T09:49:59.266Z"
   },
   {
    "duration": 8,
    "start_time": "2023-11-20T09:49:59.462Z"
   },
   {
    "duration": 25,
    "start_time": "2023-11-20T09:49:59.472Z"
   },
   {
    "duration": 33,
    "start_time": "2023-11-20T09:49:59.499Z"
   },
   {
    "duration": 15,
    "start_time": "2023-11-20T09:49:59.534Z"
   },
   {
    "duration": 31,
    "start_time": "2023-11-20T09:49:59.550Z"
   },
   {
    "duration": 10,
    "start_time": "2023-11-20T09:49:59.582Z"
   },
   {
    "duration": 12,
    "start_time": "2023-11-20T09:49:59.593Z"
   },
   {
    "duration": 10,
    "start_time": "2023-11-20T09:49:59.608Z"
   },
   {
    "duration": 10,
    "start_time": "2023-11-20T09:49:59.620Z"
   },
   {
    "duration": 9,
    "start_time": "2023-11-20T09:49:59.631Z"
   },
   {
    "duration": 7,
    "start_time": "2023-11-20T09:49:59.641Z"
   },
   {
    "duration": 23,
    "start_time": "2023-11-20T09:49:59.650Z"
   },
   {
    "duration": 17,
    "start_time": "2023-11-20T09:49:59.674Z"
   },
   {
    "duration": 10,
    "start_time": "2023-11-20T09:49:59.692Z"
   },
   {
    "duration": 12,
    "start_time": "2023-11-20T09:49:59.704Z"
   },
   {
    "duration": 9,
    "start_time": "2023-11-20T09:49:59.717Z"
   },
   {
    "duration": 148,
    "start_time": "2023-11-20T09:49:59.727Z"
   },
   {
    "duration": 7,
    "start_time": "2023-11-20T09:49:59.877Z"
   },
   {
    "duration": 19,
    "start_time": "2023-11-20T09:49:59.885Z"
   },
   {
    "duration": 184,
    "start_time": "2023-11-20T09:49:59.905Z"
   },
   {
    "duration": 158,
    "start_time": "2023-11-20T09:50:00.091Z"
   },
   {
    "duration": 169,
    "start_time": "2023-11-20T09:50:00.251Z"
   },
   {
    "duration": 25,
    "start_time": "2023-11-20T09:50:00.424Z"
   },
   {
    "duration": 31,
    "start_time": "2023-11-20T09:50:00.450Z"
   },
   {
    "duration": 44,
    "start_time": "2023-11-20T09:50:00.483Z"
   },
   {
    "duration": 210,
    "start_time": "2023-11-20T09:50:00.530Z"
   },
   {
    "duration": 166,
    "start_time": "2023-11-20T09:50:00.741Z"
   },
   {
    "duration": 189,
    "start_time": "2023-11-20T09:50:00.908Z"
   },
   {
    "duration": 164,
    "start_time": "2023-11-20T09:50:01.099Z"
   },
   {
    "duration": 241,
    "start_time": "2023-11-20T09:50:01.264Z"
   },
   {
    "duration": 106,
    "start_time": "2023-11-20T09:50:01.507Z"
   },
   {
    "duration": 0,
    "start_time": "2023-11-20T09:50:01.615Z"
   },
   {
    "duration": 0,
    "start_time": "2023-11-20T09:50:01.616Z"
   },
   {
    "duration": 0,
    "start_time": "2023-11-20T09:50:01.617Z"
   },
   {
    "duration": 0,
    "start_time": "2023-11-20T09:50:01.618Z"
   },
   {
    "duration": 0,
    "start_time": "2023-11-20T09:50:01.625Z"
   },
   {
    "duration": 0,
    "start_time": "2023-11-20T09:50:01.626Z"
   },
   {
    "duration": 0,
    "start_time": "2023-11-20T09:50:01.627Z"
   },
   {
    "duration": 0,
    "start_time": "2023-11-20T09:50:01.628Z"
   },
   {
    "duration": 0,
    "start_time": "2023-11-20T09:50:01.629Z"
   },
   {
    "duration": 0,
    "start_time": "2023-11-20T09:50:01.630Z"
   },
   {
    "duration": 0,
    "start_time": "2023-11-20T09:50:01.631Z"
   },
   {
    "duration": 0,
    "start_time": "2023-11-20T09:50:01.632Z"
   },
   {
    "duration": 0,
    "start_time": "2023-11-20T09:50:01.633Z"
   },
   {
    "duration": 13,
    "start_time": "2023-11-20T09:50:17.974Z"
   },
   {
    "duration": 10,
    "start_time": "2023-11-20T09:50:30.583Z"
   },
   {
    "duration": 1098,
    "start_time": "2023-11-20T09:51:06.281Z"
   },
   {
    "duration": 173,
    "start_time": "2023-11-20T09:51:07.381Z"
   },
   {
    "duration": 8,
    "start_time": "2023-11-20T09:51:07.556Z"
   },
   {
    "duration": 8,
    "start_time": "2023-11-20T09:51:07.565Z"
   },
   {
    "duration": 14,
    "start_time": "2023-11-20T09:51:07.574Z"
   },
   {
    "duration": 12,
    "start_time": "2023-11-20T09:51:07.589Z"
   },
   {
    "duration": 10,
    "start_time": "2023-11-20T09:51:07.602Z"
   },
   {
    "duration": 7,
    "start_time": "2023-11-20T09:51:07.625Z"
   },
   {
    "duration": 27,
    "start_time": "2023-11-20T09:51:07.633Z"
   },
   {
    "duration": 11,
    "start_time": "2023-11-20T09:51:07.662Z"
   },
   {
    "duration": 7,
    "start_time": "2023-11-20T09:51:07.674Z"
   },
   {
    "duration": 12,
    "start_time": "2023-11-20T09:51:07.682Z"
   },
   {
    "duration": 5,
    "start_time": "2023-11-20T09:51:07.695Z"
   },
   {
    "duration": 12,
    "start_time": "2023-11-20T09:51:07.701Z"
   },
   {
    "duration": 20,
    "start_time": "2023-11-20T09:51:07.724Z"
   },
   {
    "duration": 15,
    "start_time": "2023-11-20T09:51:07.745Z"
   },
   {
    "duration": 20,
    "start_time": "2023-11-20T09:51:07.762Z"
   },
   {
    "duration": 20,
    "start_time": "2023-11-20T09:51:07.784Z"
   },
   {
    "duration": 147,
    "start_time": "2023-11-20T09:51:07.806Z"
   },
   {
    "duration": 6,
    "start_time": "2023-11-20T09:51:07.955Z"
   },
   {
    "duration": 21,
    "start_time": "2023-11-20T09:51:07.962Z"
   },
   {
    "duration": 167,
    "start_time": "2023-11-20T09:51:07.985Z"
   },
   {
    "duration": 146,
    "start_time": "2023-11-20T09:51:08.154Z"
   },
   {
    "duration": 162,
    "start_time": "2023-11-20T09:51:08.301Z"
   },
   {
    "duration": 25,
    "start_time": "2023-11-20T09:51:08.464Z"
   },
   {
    "duration": 15,
    "start_time": "2023-11-20T09:51:08.491Z"
   },
   {
    "duration": 30,
    "start_time": "2023-11-20T09:51:08.507Z"
   },
   {
    "duration": 171,
    "start_time": "2023-11-20T09:51:08.540Z"
   },
   {
    "duration": 147,
    "start_time": "2023-11-20T09:51:08.713Z"
   },
   {
    "duration": 165,
    "start_time": "2023-11-20T09:51:08.862Z"
   },
   {
    "duration": 137,
    "start_time": "2023-11-20T09:51:09.029Z"
   },
   {
    "duration": 24,
    "start_time": "2023-11-20T09:51:09.167Z"
   },
   {
    "duration": 4,
    "start_time": "2023-11-20T09:51:09.192Z"
   },
   {
    "duration": 36,
    "start_time": "2023-11-20T09:51:09.198Z"
   },
   {
    "duration": 165,
    "start_time": "2023-11-20T09:51:09.235Z"
   },
   {
    "duration": 30,
    "start_time": "2023-11-20T09:51:09.401Z"
   },
   {
    "duration": 6,
    "start_time": "2023-11-20T09:51:09.432Z"
   },
   {
    "duration": 141,
    "start_time": "2023-11-20T09:51:09.439Z"
   },
   {
    "duration": 20,
    "start_time": "2023-11-20T09:51:09.582Z"
   },
   {
    "duration": 4,
    "start_time": "2023-11-20T09:51:09.604Z"
   },
   {
    "duration": 204,
    "start_time": "2023-11-20T09:51:09.625Z"
   },
   {
    "duration": 10,
    "start_time": "2023-11-20T09:51:09.831Z"
   },
   {
    "duration": 5,
    "start_time": "2023-11-20T09:51:09.842Z"
   },
   {
    "duration": 191,
    "start_time": "2023-11-20T09:51:09.848Z"
   },
   {
    "duration": 1031,
    "start_time": "2023-11-20T09:57:43.038Z"
   },
   {
    "duration": 174,
    "start_time": "2023-11-20T09:57:44.071Z"
   },
   {
    "duration": 8,
    "start_time": "2023-11-20T09:57:44.247Z"
   },
   {
    "duration": 10,
    "start_time": "2023-11-20T09:57:44.257Z"
   },
   {
    "duration": 15,
    "start_time": "2023-11-20T09:57:44.268Z"
   },
   {
    "duration": 15,
    "start_time": "2023-11-20T09:57:44.285Z"
   },
   {
    "duration": 23,
    "start_time": "2023-11-20T09:57:44.302Z"
   },
   {
    "duration": 7,
    "start_time": "2023-11-20T09:57:44.327Z"
   },
   {
    "duration": 10,
    "start_time": "2023-11-20T09:57:44.336Z"
   },
   {
    "duration": 10,
    "start_time": "2023-11-20T09:57:44.350Z"
   },
   {
    "duration": 6,
    "start_time": "2023-11-20T09:57:44.361Z"
   },
   {
    "duration": 10,
    "start_time": "2023-11-20T09:57:44.369Z"
   },
   {
    "duration": 6,
    "start_time": "2023-11-20T09:57:44.381Z"
   },
   {
    "duration": 41,
    "start_time": "2023-11-20T09:57:44.388Z"
   },
   {
    "duration": 8,
    "start_time": "2023-11-20T09:57:44.431Z"
   },
   {
    "duration": 10,
    "start_time": "2023-11-20T09:57:44.440Z"
   },
   {
    "duration": 8,
    "start_time": "2023-11-20T09:57:44.452Z"
   },
   {
    "duration": 6,
    "start_time": "2023-11-20T09:57:44.462Z"
   },
   {
    "duration": 183,
    "start_time": "2023-11-20T09:57:44.469Z"
   },
   {
    "duration": 7,
    "start_time": "2023-11-20T09:57:44.654Z"
   },
   {
    "duration": 20,
    "start_time": "2023-11-20T09:57:44.662Z"
   },
   {
    "duration": 183,
    "start_time": "2023-11-20T09:57:44.684Z"
   },
   {
    "duration": 143,
    "start_time": "2023-11-20T09:57:44.869Z"
   },
   {
    "duration": 161,
    "start_time": "2023-11-20T09:57:45.014Z"
   },
   {
    "duration": 24,
    "start_time": "2023-11-20T09:57:45.177Z"
   },
   {
    "duration": 31,
    "start_time": "2023-11-20T09:57:45.203Z"
   },
   {
    "duration": 15,
    "start_time": "2023-11-20T09:57:45.236Z"
   },
   {
    "duration": 171,
    "start_time": "2023-11-20T09:57:45.254Z"
   },
   {
    "duration": 146,
    "start_time": "2023-11-20T09:57:45.426Z"
   },
   {
    "duration": 174,
    "start_time": "2023-11-20T09:57:45.574Z"
   },
   {
    "duration": 148,
    "start_time": "2023-11-20T09:57:45.750Z"
   },
   {
    "duration": 32,
    "start_time": "2023-11-20T09:57:45.899Z"
   },
   {
    "duration": 18,
    "start_time": "2023-11-20T09:57:45.932Z"
   },
   {
    "duration": 48,
    "start_time": "2023-11-20T09:57:45.952Z"
   },
   {
    "duration": 154,
    "start_time": "2023-11-20T09:57:46.001Z"
   },
   {
    "duration": 17,
    "start_time": "2023-11-20T09:57:46.157Z"
   },
   {
    "duration": 6,
    "start_time": "2023-11-20T09:57:46.175Z"
   },
   {
    "duration": 197,
    "start_time": "2023-11-20T09:57:46.182Z"
   },
   {
    "duration": 17,
    "start_time": "2023-11-20T09:57:46.381Z"
   },
   {
    "duration": 6,
    "start_time": "2023-11-20T09:57:46.400Z"
   },
   {
    "duration": 212,
    "start_time": "2023-11-20T09:57:46.407Z"
   },
   {
    "duration": 12,
    "start_time": "2023-11-20T09:57:46.621Z"
   },
   {
    "duration": 6,
    "start_time": "2023-11-20T09:57:46.635Z"
   },
   {
    "duration": 184,
    "start_time": "2023-11-20T09:57:46.642Z"
   },
   {
    "duration": 1101,
    "start_time": "2023-11-20T20:21:48.571Z"
   },
   {
    "duration": 178,
    "start_time": "2023-11-20T20:21:49.676Z"
   },
   {
    "duration": 8,
    "start_time": "2023-11-20T20:21:49.856Z"
   },
   {
    "duration": 6,
    "start_time": "2023-11-20T20:21:49.866Z"
   },
   {
    "duration": 11,
    "start_time": "2023-11-20T20:21:49.874Z"
   },
   {
    "duration": 12,
    "start_time": "2023-11-20T20:21:49.886Z"
   },
   {
    "duration": 18,
    "start_time": "2023-11-20T20:21:49.899Z"
   },
   {
    "duration": 7,
    "start_time": "2023-11-20T20:21:49.919Z"
   },
   {
    "duration": 13,
    "start_time": "2023-11-20T20:21:49.929Z"
   },
   {
    "duration": 11,
    "start_time": "2023-11-20T20:21:49.943Z"
   },
   {
    "duration": 7,
    "start_time": "2023-11-20T20:21:49.955Z"
   },
   {
    "duration": 6,
    "start_time": "2023-11-20T20:21:49.963Z"
   },
   {
    "duration": 42,
    "start_time": "2023-11-20T20:21:49.970Z"
   },
   {
    "duration": 7,
    "start_time": "2023-11-20T20:21:50.013Z"
   },
   {
    "duration": 15,
    "start_time": "2023-11-20T20:21:50.021Z"
   },
   {
    "duration": 8,
    "start_time": "2023-11-20T20:21:50.038Z"
   },
   {
    "duration": 10,
    "start_time": "2023-11-20T20:21:50.048Z"
   },
   {
    "duration": 9,
    "start_time": "2023-11-20T20:21:50.060Z"
   },
   {
    "duration": 5,
    "start_time": "2023-11-20T20:21:50.070Z"
   },
   {
    "duration": 206,
    "start_time": "2023-11-20T20:21:50.077Z"
   },
   {
    "duration": 6,
    "start_time": "2023-11-20T20:21:50.284Z"
   },
   {
    "duration": 103,
    "start_time": "2023-11-20T20:21:50.292Z"
   },
   {
    "duration": 188,
    "start_time": "2023-11-20T20:21:50.397Z"
   },
   {
    "duration": 7,
    "start_time": "2023-11-20T20:21:50.587Z"
   },
   {
    "duration": 180,
    "start_time": "2023-11-20T20:21:50.596Z"
   },
   {
    "duration": 9,
    "start_time": "2023-11-20T20:21:50.777Z"
   },
   {
    "duration": 144,
    "start_time": "2023-11-20T20:21:50.790Z"
   },
   {
    "duration": 9,
    "start_time": "2023-11-20T20:21:50.935Z"
   },
   {
    "duration": 166,
    "start_time": "2023-11-20T20:21:50.945Z"
   },
   {
    "duration": 10,
    "start_time": "2023-11-20T20:21:51.112Z"
   },
   {
    "duration": 151,
    "start_time": "2023-11-20T20:21:51.124Z"
   },
   {
    "duration": 8,
    "start_time": "2023-11-20T20:21:51.276Z"
   },
   {
    "duration": 37,
    "start_time": "2023-11-20T20:21:51.286Z"
   },
   {
    "duration": 8,
    "start_time": "2023-11-20T20:21:51.325Z"
   },
   {
    "duration": 21,
    "start_time": "2023-11-20T20:21:51.335Z"
   },
   {
    "duration": 12,
    "start_time": "2023-11-20T20:21:51.358Z"
   },
   {
    "duration": 15,
    "start_time": "2023-11-20T20:21:51.372Z"
   },
   {
    "duration": 35,
    "start_time": "2023-11-20T20:21:51.389Z"
   },
   {
    "duration": 7,
    "start_time": "2023-11-20T20:21:51.426Z"
   },
   {
    "duration": 25,
    "start_time": "2023-11-20T20:21:51.434Z"
   },
   {
    "duration": 283,
    "start_time": "2023-11-20T20:21:51.461Z"
   },
   {
    "duration": 10,
    "start_time": "2023-11-20T20:21:51.745Z"
   },
   {
    "duration": 18,
    "start_time": "2023-11-20T20:21:51.757Z"
   },
   {
    "duration": 19,
    "start_time": "2023-11-20T20:21:51.777Z"
   },
   {
    "duration": 14,
    "start_time": "2023-11-20T20:21:51.798Z"
   },
   {
    "duration": 16,
    "start_time": "2023-11-20T20:21:51.814Z"
   },
   {
    "duration": 366,
    "start_time": "2023-11-20T20:21:51.832Z"
   },
   {
    "duration": 11,
    "start_time": "2023-11-20T20:21:52.200Z"
   },
   {
    "duration": 49,
    "start_time": "2023-11-20T20:21:52.212Z"
   },
   {
    "duration": 19,
    "start_time": "2023-11-20T20:21:52.263Z"
   },
   {
    "duration": 6,
    "start_time": "2023-11-20T20:21:52.283Z"
   },
   {
    "duration": 22,
    "start_time": "2023-11-20T20:21:52.290Z"
   },
   {
    "duration": 6,
    "start_time": "2023-11-20T20:21:52.313Z"
   },
   {
    "duration": 7,
    "start_time": "2023-11-20T20:21:52.320Z"
   },
   {
    "duration": 7,
    "start_time": "2023-11-20T20:21:52.328Z"
   },
   {
    "duration": 95,
    "start_time": "2023-11-20T20:28:15.222Z"
   },
   {
    "duration": 132,
    "start_time": "2023-11-20T20:28:44.014Z"
   },
   {
    "duration": 80,
    "start_time": "2023-11-20T20:28:50.694Z"
   },
   {
    "duration": 93,
    "start_time": "2023-11-20T20:30:43.638Z"
   },
   {
    "duration": 186,
    "start_time": "2023-11-20T20:36:03.006Z"
   },
   {
    "duration": 4,
    "start_time": "2023-11-20T20:37:29.244Z"
   },
   {
    "duration": 10,
    "start_time": "2023-11-20T20:46:08.206Z"
   },
   {
    "duration": 93,
    "start_time": "2023-11-20T20:48:48.032Z"
   },
   {
    "duration": 5,
    "start_time": "2023-11-20T20:48:51.311Z"
   },
   {
    "duration": 5,
    "start_time": "2023-11-20T20:51:26.039Z"
   },
   {
    "duration": 17,
    "start_time": "2023-11-20T20:51:40.392Z"
   },
   {
    "duration": 23,
    "start_time": "2023-11-20T20:51:41.439Z"
   },
   {
    "duration": 5,
    "start_time": "2023-11-20T20:51:50.312Z"
   },
   {
    "duration": 285,
    "start_time": "2023-11-20T20:53:14.192Z"
   },
   {
    "duration": 5,
    "start_time": "2023-11-20T20:53:41.311Z"
   },
   {
    "duration": 1094,
    "start_time": "2023-11-20T21:00:44.901Z"
   },
   {
    "duration": 172,
    "start_time": "2023-11-20T21:00:45.997Z"
   },
   {
    "duration": 9,
    "start_time": "2023-11-20T21:00:46.171Z"
   },
   {
    "duration": 12,
    "start_time": "2023-11-20T21:00:46.181Z"
   },
   {
    "duration": 18,
    "start_time": "2023-11-20T21:00:46.195Z"
   },
   {
    "duration": 13,
    "start_time": "2023-11-20T21:00:46.215Z"
   },
   {
    "duration": 9,
    "start_time": "2023-11-20T21:00:46.230Z"
   },
   {
    "duration": 9,
    "start_time": "2023-11-20T21:00:46.241Z"
   },
   {
    "duration": 11,
    "start_time": "2023-11-20T21:00:46.252Z"
   },
   {
    "duration": 11,
    "start_time": "2023-11-20T21:00:46.266Z"
   },
   {
    "duration": 7,
    "start_time": "2023-11-20T21:00:46.311Z"
   },
   {
    "duration": 6,
    "start_time": "2023-11-20T21:00:46.319Z"
   },
   {
    "duration": 14,
    "start_time": "2023-11-20T21:00:46.327Z"
   },
   {
    "duration": 11,
    "start_time": "2023-11-20T21:00:46.342Z"
   },
   {
    "duration": 9,
    "start_time": "2023-11-20T21:00:46.354Z"
   },
   {
    "duration": 10,
    "start_time": "2023-11-20T21:00:46.365Z"
   },
   {
    "duration": 36,
    "start_time": "2023-11-20T21:00:46.377Z"
   },
   {
    "duration": 8,
    "start_time": "2023-11-20T21:00:46.414Z"
   },
   {
    "duration": 5,
    "start_time": "2023-11-20T21:00:46.424Z"
   },
   {
    "duration": 197,
    "start_time": "2023-11-20T21:00:46.430Z"
   },
   {
    "duration": 6,
    "start_time": "2023-11-20T21:00:46.629Z"
   },
   {
    "duration": 109,
    "start_time": "2023-11-20T21:00:46.636Z"
   },
   {
    "duration": 186,
    "start_time": "2023-11-20T21:00:46.746Z"
   },
   {
    "duration": 8,
    "start_time": "2023-11-20T21:00:46.933Z"
   },
   {
    "duration": 178,
    "start_time": "2023-11-20T21:00:46.942Z"
   },
   {
    "duration": 8,
    "start_time": "2023-11-20T21:00:47.122Z"
   },
   {
    "duration": 145,
    "start_time": "2023-11-20T21:00:47.131Z"
   },
   {
    "duration": 9,
    "start_time": "2023-11-20T21:00:47.279Z"
   },
   {
    "duration": 183,
    "start_time": "2023-11-20T21:00:47.290Z"
   },
   {
    "duration": 11,
    "start_time": "2023-11-20T21:00:47.475Z"
   },
   {
    "duration": 165,
    "start_time": "2023-11-20T21:00:47.487Z"
   },
   {
    "duration": 8,
    "start_time": "2023-11-20T21:00:47.654Z"
   },
   {
    "duration": 28,
    "start_time": "2023-11-20T21:00:47.664Z"
   },
   {
    "duration": 10,
    "start_time": "2023-11-20T21:00:47.711Z"
   },
   {
    "duration": 29,
    "start_time": "2023-11-20T21:00:47.722Z"
   },
   {
    "duration": 13,
    "start_time": "2023-11-20T21:00:47.753Z"
   },
   {
    "duration": 18,
    "start_time": "2023-11-20T21:00:47.768Z"
   },
   {
    "duration": 33,
    "start_time": "2023-11-20T21:00:47.787Z"
   },
   {
    "duration": 8,
    "start_time": "2023-11-20T21:00:47.822Z"
   },
   {
    "duration": 8,
    "start_time": "2023-11-20T21:00:47.832Z"
   },
   {
    "duration": 298,
    "start_time": "2023-11-20T21:00:47.842Z"
   },
   {
    "duration": 8,
    "start_time": "2023-11-20T21:00:48.141Z"
   },
   {
    "duration": 7,
    "start_time": "2023-11-20T21:00:48.151Z"
   },
   {
    "duration": 6,
    "start_time": "2023-11-20T21:00:48.160Z"
   },
   {
    "duration": 7,
    "start_time": "2023-11-20T21:00:48.167Z"
   },
   {
    "duration": 36,
    "start_time": "2023-11-20T21:00:48.176Z"
   },
   {
    "duration": 371,
    "start_time": "2023-11-20T21:00:48.214Z"
   },
   {
    "duration": 4,
    "start_time": "2023-11-20T21:00:48.587Z"
   },
   {
    "duration": 47,
    "start_time": "2023-11-20T21:00:48.593Z"
   },
   {
    "duration": 17,
    "start_time": "2023-11-20T21:00:48.642Z"
   },
   {
    "duration": 4,
    "start_time": "2023-11-20T21:00:48.661Z"
   },
   {
    "duration": 6,
    "start_time": "2023-11-20T21:00:48.667Z"
   },
   {
    "duration": 8,
    "start_time": "2023-11-20T21:00:48.675Z"
   },
   {
    "duration": 29,
    "start_time": "2023-11-20T21:00:48.684Z"
   },
   {
    "duration": 5,
    "start_time": "2023-11-20T21:00:48.715Z"
   }
  ],
  "kernelspec": {
   "display_name": "Python 3 (ipykernel)",
   "language": "python",
   "name": "python3"
  },
  "language_info": {
   "codemirror_mode": {
    "name": "ipython",
    "version": 3
   },
   "file_extension": ".py",
   "mimetype": "text/x-python",
   "name": "python",
   "nbconvert_exporter": "python",
   "pygments_lexer": "ipython3",
   "version": "3.11.5"
  },
  "toc": {
   "base_numbering": 1,
   "nav_menu": {},
   "number_sections": true,
   "sideBar": true,
   "skip_h1_title": true,
   "title_cell": "Table of Contents",
   "title_sidebar": "Contents",
   "toc_cell": false,
   "toc_position": {},
   "toc_section_display": true,
   "toc_window_display": false
  }
 },
 "nbformat": 4,
 "nbformat_minor": 5
}
