{
 "cells": [
  {
   "cell_type": "markdown",
   "metadata": {
    "deletable": false,
    "editable": false,
    "id": "E0vqbgi9ay0H"
   },
   "source": [
    "# Яндекс Музыка"
   ]
  },
  {
   "cell_type": "markdown",
   "metadata": {
    "deletable": false,
    "editable": false,
    "id": "VUC88oWjTJw2"
   },
   "source": [
    "Сравнение Москвы и Петербурга окружено мифами. Например:\n",
    " * Москва — мегаполис, подчинённый жёсткому ритму рабочей недели;\n",
    " * Петербург — культурная столица, со своими вкусами.\n",
    "\n",
    "На данных Яндекс Музыки вы сравните поведение пользователей двух столиц.\n",
    "\n",
    "**Цель исследования** — проверьте три гипотезы:\n",
    "1. Активность пользователей зависит от дня недели. Причём в Москве и Петербурге это проявляется по-разному.\n",
    "2. В понедельник утром в Москве преобладают одни жанры, а в Петербурге — другие. Так же и вечером пятницы преобладают разные жанры — в зависимости от города.\n",
    "3. Москва и Петербург предпочитают разные жанры музыки. В Москве чаще слушают поп-музыку, в Петербурге — русский рэп.\n",
    "\n",
    "**Ход исследования**\n",
    "\n",
    "Данные о поведении пользователей вы получите из файла `yandex_music_project.csv`. О качестве данных ничего не известно. Поэтому перед проверкой гипотез понадобится обзор данных.\n",
    "\n",
    "Вы проверите данные на ошибки и оцените их влияние на исследование. Затем, на этапе предобработки вы поищете возможность исправить самые критичные ошибки данных.\n",
    "\n",
    "Таким образом, исследование пройдёт в три этапа:\n",
    " 1. Обзор данных.\n",
    " 2. Предобработка данных.\n",
    " 3. Проверка гипотез.\n",
    "\n"
   ]
  },
  {
   "cell_type": "markdown",
   "metadata": {
    "deletable": false,
    "editable": false,
    "id": "Ml1hmfXC_Zcs"
   },
   "source": [
    "## Обзор данных\n",
    "\n",
    "Составьте первое представление о данных Яндекс Музыки.\n",
    "\n",
    "\n"
   ]
  },
  {
   "cell_type": "markdown",
   "metadata": {
    "deletable": false,
    "editable": false,
    "id": "57eAOGIz_Zcs",
    "tags": [
     "start_task"
    ]
   },
   "source": [
    "**Задание 1**\n",
    "\n",
    "Основной инструмент аналитика — `pandas`. Импортируйте эту библиотеку."
   ]
  },
  {
   "cell_type": "code",
   "execution_count": 1,
   "metadata": {
    "deletable": false,
    "id": "AXN7PHPN_Zcs"
   },
   "outputs": [],
   "source": [
    "import pandas as pd"
   ]
  },
  {
   "cell_type": "markdown",
   "metadata": {
    "deletable": false,
    "editable": false,
    "id": "SG23P8tt_Zcs",
    "tags": [
     "start_task"
    ]
   },
   "source": [
    "**Задание 2**\n",
    "\n",
    "Прочитайте файл `yandex_music_project.csv` из папки `/datasets` и сохраните его в переменной `df`:"
   ]
  },
  {
   "cell_type": "code",
   "execution_count": 2,
   "metadata": {
    "deletable": false,
    "id": "fFVu7vqh_Zct"
   },
   "outputs": [],
   "source": [
    "df = pd.read_csv('/datasets/yandex_music_project.csv')"
   ]
  },
  {
   "cell_type": "markdown",
   "metadata": {
    "deletable": false,
    "editable": false,
    "id": "rDoOMd3uTqnZ",
    "tags": [
     "start_task"
    ]
   },
   "source": [
    "**Задание 3**\n",
    "\n",
    "\n",
    "Выведите на экран первые десять строк таблицы:"
   ]
  },
  {
   "cell_type": "code",
   "execution_count": 3,
   "metadata": {
    "deletable": false,
    "id": "oWTVX3gW_Zct"
   },
   "outputs": [
    {
     "data": {
      "text/html": [
       "<div>\n",
       "<style scoped>\n",
       "    .dataframe tbody tr th:only-of-type {\n",
       "        vertical-align: middle;\n",
       "    }\n",
       "\n",
       "    .dataframe tbody tr th {\n",
       "        vertical-align: top;\n",
       "    }\n",
       "\n",
       "    .dataframe thead th {\n",
       "        text-align: right;\n",
       "    }\n",
       "</style>\n",
       "<table border=\"1\" class=\"dataframe\">\n",
       "  <thead>\n",
       "    <tr style=\"text-align: right;\">\n",
       "      <th></th>\n",
       "      <th>userID</th>\n",
       "      <th>Track</th>\n",
       "      <th>artist</th>\n",
       "      <th>genre</th>\n",
       "      <th>City</th>\n",
       "      <th>time</th>\n",
       "      <th>Day</th>\n",
       "    </tr>\n",
       "  </thead>\n",
       "  <tbody>\n",
       "    <tr>\n",
       "      <th>0</th>\n",
       "      <td>FFB692EC</td>\n",
       "      <td>Kamigata To Boots</td>\n",
       "      <td>The Mass Missile</td>\n",
       "      <td>rock</td>\n",
       "      <td>Saint-Petersburg</td>\n",
       "      <td>20:28:33</td>\n",
       "      <td>Wednesday</td>\n",
       "    </tr>\n",
       "    <tr>\n",
       "      <th>1</th>\n",
       "      <td>55204538</td>\n",
       "      <td>Delayed Because of Accident</td>\n",
       "      <td>Andreas Rönnberg</td>\n",
       "      <td>rock</td>\n",
       "      <td>Moscow</td>\n",
       "      <td>14:07:09</td>\n",
       "      <td>Friday</td>\n",
       "    </tr>\n",
       "    <tr>\n",
       "      <th>2</th>\n",
       "      <td>20EC38</td>\n",
       "      <td>Funiculì funiculà</td>\n",
       "      <td>Mario Lanza</td>\n",
       "      <td>pop</td>\n",
       "      <td>Saint-Petersburg</td>\n",
       "      <td>20:58:07</td>\n",
       "      <td>Wednesday</td>\n",
       "    </tr>\n",
       "    <tr>\n",
       "      <th>3</th>\n",
       "      <td>A3DD03C9</td>\n",
       "      <td>Dragons in the Sunset</td>\n",
       "      <td>Fire + Ice</td>\n",
       "      <td>folk</td>\n",
       "      <td>Saint-Petersburg</td>\n",
       "      <td>08:37:09</td>\n",
       "      <td>Monday</td>\n",
       "    </tr>\n",
       "    <tr>\n",
       "      <th>4</th>\n",
       "      <td>E2DC1FAE</td>\n",
       "      <td>Soul People</td>\n",
       "      <td>Space Echo</td>\n",
       "      <td>dance</td>\n",
       "      <td>Moscow</td>\n",
       "      <td>08:34:34</td>\n",
       "      <td>Monday</td>\n",
       "    </tr>\n",
       "    <tr>\n",
       "      <th>5</th>\n",
       "      <td>842029A1</td>\n",
       "      <td>Преданная</td>\n",
       "      <td>IMPERVTOR</td>\n",
       "      <td>rusrap</td>\n",
       "      <td>Saint-Petersburg</td>\n",
       "      <td>13:09:41</td>\n",
       "      <td>Friday</td>\n",
       "    </tr>\n",
       "    <tr>\n",
       "      <th>6</th>\n",
       "      <td>4CB90AA5</td>\n",
       "      <td>True</td>\n",
       "      <td>Roman Messer</td>\n",
       "      <td>dance</td>\n",
       "      <td>Moscow</td>\n",
       "      <td>13:00:07</td>\n",
       "      <td>Wednesday</td>\n",
       "    </tr>\n",
       "    <tr>\n",
       "      <th>7</th>\n",
       "      <td>F03E1C1F</td>\n",
       "      <td>Feeling This Way</td>\n",
       "      <td>Polina Griffith</td>\n",
       "      <td>dance</td>\n",
       "      <td>Moscow</td>\n",
       "      <td>20:47:49</td>\n",
       "      <td>Wednesday</td>\n",
       "    </tr>\n",
       "    <tr>\n",
       "      <th>8</th>\n",
       "      <td>8FA1D3BE</td>\n",
       "      <td>И вновь продолжается бой</td>\n",
       "      <td>NaN</td>\n",
       "      <td>ruspop</td>\n",
       "      <td>Moscow</td>\n",
       "      <td>09:17:40</td>\n",
       "      <td>Friday</td>\n",
       "    </tr>\n",
       "    <tr>\n",
       "      <th>9</th>\n",
       "      <td>E772D5C0</td>\n",
       "      <td>Pessimist</td>\n",
       "      <td>NaN</td>\n",
       "      <td>dance</td>\n",
       "      <td>Saint-Petersburg</td>\n",
       "      <td>21:20:49</td>\n",
       "      <td>Wednesday</td>\n",
       "    </tr>\n",
       "  </tbody>\n",
       "</table>\n",
       "</div>"
      ],
      "text/plain": [
       "     userID                        Track            artist   genre  \\\n",
       "0  FFB692EC            Kamigata To Boots  The Mass Missile    rock   \n",
       "1  55204538  Delayed Because of Accident  Andreas Rönnberg    rock   \n",
       "2    20EC38            Funiculì funiculà       Mario Lanza     pop   \n",
       "3  A3DD03C9        Dragons in the Sunset        Fire + Ice    folk   \n",
       "4  E2DC1FAE                  Soul People        Space Echo   dance   \n",
       "5  842029A1                    Преданная         IMPERVTOR  rusrap   \n",
       "6  4CB90AA5                         True      Roman Messer   dance   \n",
       "7  F03E1C1F             Feeling This Way   Polina Griffith   dance   \n",
       "8  8FA1D3BE     И вновь продолжается бой               NaN  ruspop   \n",
       "9  E772D5C0                    Pessimist               NaN   dance   \n",
       "\n",
       "             City        time        Day  \n",
       "0  Saint-Petersburg  20:28:33  Wednesday  \n",
       "1            Moscow  14:07:09     Friday  \n",
       "2  Saint-Petersburg  20:58:07  Wednesday  \n",
       "3  Saint-Petersburg  08:37:09     Monday  \n",
       "4            Moscow  08:34:34     Monday  \n",
       "5  Saint-Petersburg  13:09:41     Friday  \n",
       "6            Moscow  13:00:07  Wednesday  \n",
       "7            Moscow  20:47:49  Wednesday  \n",
       "8            Moscow  09:17:40     Friday  \n",
       "9  Saint-Petersburg  21:20:49  Wednesday  "
      ]
     },
     "execution_count": 3,
     "metadata": {},
     "output_type": "execute_result"
    }
   ],
   "source": [
    "df.head(10)"
   ]
  },
  {
   "cell_type": "markdown",
   "metadata": {
    "deletable": false,
    "editable": false,
    "id": "EO73Kwic_Zct",
    "tags": [
     "start_task"
    ]
   },
   "source": [
    "**Задание 4**\n",
    "\n",
    "\n",
    "Одной командой получить общую информацию о таблице c помощью метода `info()`:"
   ]
  },
  {
   "cell_type": "code",
   "execution_count": 4,
   "metadata": {
    "deletable": false,
    "id": "DSf2kIb-_Zct"
   },
   "outputs": [
    {
     "name": "stdout",
     "output_type": "stream",
     "text": [
      "<class 'pandas.core.frame.DataFrame'>\n",
      "RangeIndex: 65079 entries, 0 to 65078\n",
      "Data columns (total 7 columns):\n",
      " #   Column    Non-Null Count  Dtype \n",
      "---  ------    --------------  ----- \n",
      " 0     userID  65079 non-null  object\n",
      " 1   Track     63848 non-null  object\n",
      " 2   artist    57876 non-null  object\n",
      " 3   genre     63881 non-null  object\n",
      " 4     City    65079 non-null  object\n",
      " 5   time      65079 non-null  object\n",
      " 6   Day       65079 non-null  object\n",
      "dtypes: object(7)\n",
      "memory usage: 3.5+ MB\n"
     ]
    }
   ],
   "source": [
    "df.info()"
   ]
  },
  {
   "cell_type": "markdown",
   "metadata": {
    "deletable": false,
    "editable": false,
    "id": "TaQ2Iwbr_Zct"
   },
   "source": [
    "Итак, в таблице семь столбцов. Тип данных во всех столбцах — `object`.\n",
    "\n",
    "Согласно документации к данным:\n",
    "* `userID` — идентификатор пользователя;\n",
    "* `Track` — название трека;  \n",
    "* `artist` — имя исполнителя;\n",
    "* `genre` — название жанра;\n",
    "* `City` — город пользователя;\n",
    "* `time` — время начала прослушивания;\n",
    "* `Day` — день недели.\n",
    "\n",
    "Количество значений в столбцах различается. Значит, в данных есть пропущенные значения."
   ]
  },
  {
   "cell_type": "markdown",
   "metadata": {
    "deletable": false,
    "editable": false,
    "id": "4P0UCWzswgEm",
    "tags": [
     "start_task"
    ]
   },
   "source": [
    "**Задание 5**\n",
    "\n",
    "**Вопрос со свободной формой ответа**\n",
    "\n",
    "В названиях колонок видны три нарушения стиля:\n",
    "1. Строчные буквы сочетаются с прописными.\n",
    "2. Встречаются пробелы."
   ]
  },
  {
   "cell_type": "code",
   "execution_count": 5,
   "metadata": {
    "id": "c137-ZstwgEm"
   },
   "outputs": [],
   "source": [
    "# Название юзера не разделено нижним подчекриванием. Напишите ваш ответ здесь комментарием. Не удаляйте символ #. Не меняйте тип этой ячейки на Markdown."
   ]
  },
  {
   "cell_type": "markdown",
   "metadata": {
    "deletable": false,
    "editable": false,
    "id": "MCB6-dXG_Zct"
   },
   "source": [
    "**Выводы**\n",
    "\n",
    "В каждой строке таблицы — данные о прослушанном треке. Часть колонок описывает саму композицию: название, исполнителя и жанр. Остальные данные рассказывают о пользователе: из какого он города, когда он слушал музыку.\n",
    "\n",
    "Предварительно можно утверждать, что данных достаточно для проверки гипотез. Но встречаются пропуски в данных, а в названиях колонок — расхождения с хорошим стилем.\n",
    "\n",
    "Чтобы двигаться дальше, нужно устранить проблемы в данных."
   ]
  },
  {
   "cell_type": "markdown",
   "metadata": {
    "deletable": false,
    "editable": false,
    "id": "SjYF6Ub9_Zct"
   },
   "source": [
    "## Предобработка данных\n",
    "Исправьте стиль в заголовках столбцов, исключите пропуски. Затем проверьте данные на дубликаты."
   ]
  },
  {
   "cell_type": "markdown",
   "metadata": {
    "deletable": false,
    "editable": false,
    "id": "dIaKXr29_Zct",
    "tags": [
     "start_task"
    ]
   },
   "source": [
    "### Стиль заголовков\n",
    "\n",
    "**Задание 6**\n",
    "\n",
    "Выведите на экран названия столбцов:"
   ]
  },
  {
   "cell_type": "code",
   "execution_count": 6,
   "metadata": {
    "deletable": false,
    "id": "oKOTdF_Q_Zct"
   },
   "outputs": [
    {
     "data": {
      "text/plain": [
       "Index(['  userID', 'Track', 'artist', 'genre', '  City  ', 'time', 'Day'], dtype='object')"
      ]
     },
     "execution_count": 6,
     "metadata": {},
     "output_type": "execute_result"
    }
   ],
   "source": [
    "df.columns"
   ]
  },
  {
   "cell_type": "markdown",
   "metadata": {
    "deletable": false,
    "editable": false,
    "id": "zj5534cv_Zct",
    "tags": [
     "start_task"
    ]
   },
   "source": [
    "**Задание 7**\n",
    "\n",
    "\n",
    "Приведите названия в соответствие с хорошим стилем:\n",
    "* несколько слов в названии запишите в «змеином_регистре»,\n",
    "* все символы сделайте строчными,\n",
    "* устраните пробелы.\n",
    "\n",
    "Для этого переименуйте колонки так:\n",
    "* `'  userID'` → `'user_id'`;\n",
    "* `'Track'` → `'track'`;\n",
    "* `'  City  '` → `'city'`;\n",
    "* `'Day'` → `'day'`."
   ]
  },
  {
   "cell_type": "code",
   "execution_count": 7,
   "metadata": {
    "deletable": false,
    "id": "ISlFqs5y_Zct"
   },
   "outputs": [],
   "source": [
    "df = df.rename(columns={'  userID': 'user_id', 'Track': 'track', '  City  ': 'city', 'Day': 'day'}) "
   ]
  },
  {
   "cell_type": "markdown",
   "metadata": {
    "deletable": false,
    "editable": false,
    "id": "1dqbh00J_Zct",
    "tags": [
     "start_task"
    ]
   },
   "source": [
    "**Задание 8**\n",
    "\n",
    "\n",
    "Проверьте результат. Для этого ещё раз выведите на экран названия столбцов:"
   ]
  },
  {
   "cell_type": "code",
   "execution_count": 8,
   "metadata": {
    "deletable": false,
    "id": "d4NOAmTW_Zct"
   },
   "outputs": [
    {
     "data": {
      "text/plain": [
       "Index(['user_id', 'track', 'artist', 'genre', 'city', 'time', 'day'], dtype='object')"
      ]
     },
     "execution_count": 8,
     "metadata": {},
     "output_type": "execute_result"
    }
   ],
   "source": [
    "df.columns"
   ]
  },
  {
   "cell_type": "markdown",
   "metadata": {
    "deletable": false,
    "editable": false,
    "id": "5ISfbcfY_Zct",
    "tags": [
     "start_task"
    ]
   },
   "source": [
    "### Пропуски значений\n",
    "\n",
    "**Задание 9**\n",
    "\n",
    "Сначала посчитайте, сколько в таблице пропущенных значений. Для этого достаточно двух методов `pandas`:"
   ]
  },
  {
   "cell_type": "code",
   "execution_count": 9,
   "metadata": {
    "deletable": false,
    "id": "RskX29qr_Zct"
   },
   "outputs": [
    {
     "data": {
      "text/plain": [
       "user_id       0\n",
       "track      1231\n",
       "artist     7203\n",
       "genre      1198\n",
       "city          0\n",
       "time          0\n",
       "day           0\n",
       "dtype: int64"
      ]
     },
     "execution_count": 9,
     "metadata": {},
     "output_type": "execute_result"
    }
   ],
   "source": [
    "df.isna().sum()"
   ]
  },
  {
   "cell_type": "markdown",
   "metadata": {
    "deletable": false,
    "editable": false,
    "id": "qubhgnlO_Zct"
   },
   "source": [
    "Не все пропущенные значения влияют на исследование. Так, в `track` и `artist` пропуски не важны для вашей работы. Достаточно заменить их явными обозначениями.\n",
    "\n",
    "Но пропуски в `genre` могут помешать сравнить музыкальные вкусы в Москве и Санкт-Петербурге. На практике было бы правильно установить причину пропусков и восстановить данные. Такой возможности нет в учебном проекте. Поэтому придётся:\n",
    "* заполнить и эти пропуски явными обозначениями;\n",
    "* оценить, насколько они повредят расчётам."
   ]
  },
  {
   "cell_type": "markdown",
   "metadata": {
    "deletable": false,
    "editable": false,
    "id": "fSv2laPA_Zct",
    "tags": [
     "start_task"
    ]
   },
   "source": [
    "**Задание 10**\n",
    "\n",
    "Замените пропущенные значения в столбцах `track`, `artist` и `genre` на строку `'unknown'`. Для этого создайте список `columns_to_replace`, переберите его элементы циклом `for` и для каждого столбца выполните замену пропущенных значений:"
   ]
  },
  {
   "cell_type": "code",
   "execution_count": 10,
   "metadata": {
    "deletable": false,
    "id": "KplB5qWs_Zct"
   },
   "outputs": [],
   "source": [
    "columns_to_replace = ['track', 'artist', 'genre']\n",
    "for column in columns_to_replace:\n",
    "    df[column] = df[column].fillna('unknown') \n",
    "    "
   ]
  },
  {
   "cell_type": "markdown",
   "metadata": {
    "deletable": false,
    "editable": false,
    "id": "Ilsm-MZo_Zct",
    "tags": [
     "start_task"
    ]
   },
   "source": [
    "**Задание 11**\n",
    "\n",
    "Убедитесь, что в таблице не осталось пропусков. Для этого ещё раз посчитайте пропущенные значения."
   ]
  },
  {
   "cell_type": "code",
   "execution_count": 11,
   "metadata": {
    "deletable": false,
    "id": "Tq4nYRX4_Zct"
   },
   "outputs": [
    {
     "data": {
      "text/plain": [
       "user_id    0\n",
       "track      0\n",
       "artist     0\n",
       "genre      0\n",
       "city       0\n",
       "time       0\n",
       "day        0\n",
       "dtype: int64"
      ]
     },
     "execution_count": 11,
     "metadata": {},
     "output_type": "execute_result"
    }
   ],
   "source": [
    "df.isna().sum()"
   ]
  },
  {
   "cell_type": "markdown",
   "metadata": {
    "deletable": false,
    "editable": false,
    "id": "BWKRtBJ3_Zct",
    "tags": [
     "start_task"
    ]
   },
   "source": [
    "### Дубликаты\n",
    "\n",
    "**Задание 12**\n",
    "\n",
    "Посчитайте явные дубликаты в таблице одной командой:"
   ]
  },
  {
   "cell_type": "code",
   "execution_count": 12,
   "metadata": {
    "deletable": false,
    "id": "36eES_S0_Zct"
   },
   "outputs": [
    {
     "data": {
      "text/plain": [
       "3826"
      ]
     },
     "execution_count": 12,
     "metadata": {},
     "output_type": "execute_result"
    }
   ],
   "source": [
    "df.duplicated().sum()"
   ]
  },
  {
   "cell_type": "markdown",
   "metadata": {
    "deletable": false,
    "editable": false,
    "id": "Ot25h6XR_Zct",
    "tags": [
     "start_task"
    ]
   },
   "source": [
    "**Задание 13**\n",
    "\n",
    "Вызовите специальный метод `pandas`, чтобы удалить явные дубликаты:"
   ]
  },
  {
   "cell_type": "code",
   "execution_count": 13,
   "metadata": {
    "deletable": false,
    "id": "exFHq6tt_Zct"
   },
   "outputs": [],
   "source": [
    "df = df.drop_duplicates() "
   ]
  },
  {
   "cell_type": "markdown",
   "metadata": {
    "deletable": false,
    "editable": false,
    "id": "Im2YwBEG_Zct",
    "tags": [
     "start_task"
    ]
   },
   "source": [
    "**Задание 14**\n",
    "\n",
    "Ещё раз посчитайте явные дубликаты в таблице — убедитесь, что полностью от них избавились:"
   ]
  },
  {
   "cell_type": "code",
   "execution_count": 14,
   "metadata": {
    "deletable": false,
    "id": "-8PuNWQ0_Zct"
   },
   "outputs": [
    {
     "data": {
      "text/plain": [
       "0"
      ]
     },
     "execution_count": 14,
     "metadata": {},
     "output_type": "execute_result"
    }
   ],
   "source": [
    "df.duplicated().sum()"
   ]
  },
  {
   "cell_type": "markdown",
   "metadata": {
    "deletable": false,
    "editable": false,
    "id": "QlFBsxAr_Zct"
   },
   "source": [
    "Теперь избавьтесь от неявных дубликатов в колонке `genre`. Например, название одного и того же жанра может быть записано немного по-разному. Такие ошибки тоже повлияют на результат исследования."
   ]
  },
  {
   "cell_type": "markdown",
   "metadata": {
    "deletable": false,
    "editable": false,
    "id": "eSjWwsOh_Zct",
    "tags": [
     "start_task"
    ]
   },
   "source": [
    "**Задание 15**\n",
    "\n",
    "Выведите на экран список уникальных названий жанров, отсортированный в алфавитном порядке. Для этого:\n",
    "* извлеките нужный столбец датафрейма;\n",
    "* примените к нему метод сортировки;\n",
    "* для отсортированного столбца вызовите метод, который вернёт уникальные значения из столбца."
   ]
  },
  {
   "cell_type": "code",
   "execution_count": 15,
   "metadata": {
    "deletable": false,
    "id": "JIUcqzZN_Zct"
   },
   "outputs": [
    {
     "data": {
      "text/plain": [
       "array(['acid', 'acoustic', 'action', 'adult', 'africa', 'afrikaans',\n",
       "       'alternative', 'alternativepunk', 'ambient', 'americana',\n",
       "       'animated', 'anime', 'arabesk', 'arabic', 'arena',\n",
       "       'argentinetango', 'art', 'audiobook', 'author', 'avantgarde',\n",
       "       'axé', 'baile', 'balkan', 'beats', 'bigroom', 'black', 'bluegrass',\n",
       "       'blues', 'bollywood', 'bossa', 'brazilian', 'breakbeat', 'breaks',\n",
       "       'broadway', 'cantautori', 'cantopop', 'canzone', 'caribbean',\n",
       "       'caucasian', 'celtic', 'chamber', 'chanson', 'children', 'chill',\n",
       "       'chinese', 'choral', 'christian', 'christmas', 'classical',\n",
       "       'classicmetal', 'club', 'colombian', 'comedy', 'conjazz',\n",
       "       'contemporary', 'country', 'cuban', 'dance', 'dancehall',\n",
       "       'dancepop', 'dark', 'death', 'deep', 'deutschrock', 'deutschspr',\n",
       "       'dirty', 'disco', 'dnb', 'documentary', 'downbeat', 'downtempo',\n",
       "       'drum', 'dub', 'dubstep', 'eastern', 'easy', 'electronic',\n",
       "       'electropop', 'emo', 'entehno', 'epicmetal', 'estrada', 'ethnic',\n",
       "       'eurofolk', 'european', 'experimental', 'extrememetal', 'fado',\n",
       "       'fairytail', 'film', 'fitness', 'flamenco', 'folk', 'folklore',\n",
       "       'folkmetal', 'folkrock', 'folktronica', 'forró', 'frankreich',\n",
       "       'französisch', 'french', 'funk', 'future', 'gangsta', 'garage',\n",
       "       'german', 'ghazal', 'gitarre', 'glitch', 'gospel', 'gothic',\n",
       "       'grime', 'grunge', 'gypsy', 'handsup', \"hard'n'heavy\", 'hardcore',\n",
       "       'hardstyle', 'hardtechno', 'hip', 'hip-hop', 'hiphop',\n",
       "       'historisch', 'holiday', 'hop', 'horror', 'house', 'hymn', 'idm',\n",
       "       'independent', 'indian', 'indie', 'indipop', 'industrial',\n",
       "       'inspirational', 'instrumental', 'international', 'irish', 'jam',\n",
       "       'japanese', 'jazz', 'jewish', 'jpop', 'jungle', 'k-pop',\n",
       "       'karadeniz', 'karaoke', 'kayokyoku', 'korean', 'laiko', 'latin',\n",
       "       'latino', 'leftfield', 'local', 'lounge', 'loungeelectronic',\n",
       "       'lovers', 'malaysian', 'mandopop', 'marschmusik', 'meditative',\n",
       "       'mediterranean', 'melodic', 'metal', 'metalcore', 'mexican',\n",
       "       'middle', 'minimal', 'miscellaneous', 'modern', 'mood', 'mpb',\n",
       "       'muslim', 'native', 'neoklassik', 'neue', 'new', 'newage',\n",
       "       'newwave', 'nu', 'nujazz', 'numetal', 'oceania', 'old', 'opera',\n",
       "       'orchestral', 'other', 'piano', 'podcasts', 'pop', 'popdance',\n",
       "       'popelectronic', 'popeurodance', 'poprussian', 'post',\n",
       "       'posthardcore', 'postrock', 'power', 'progmetal', 'progressive',\n",
       "       'psychedelic', 'punjabi', 'punk', 'quebecois', 'ragga', 'ram',\n",
       "       'rancheras', 'rap', 'rave', 'reggae', 'reggaeton', 'regional',\n",
       "       'relax', 'religious', 'retro', 'rhythm', 'rnb', 'rnr', 'rock',\n",
       "       'rockabilly', 'rockalternative', 'rockindie', 'rockother',\n",
       "       'romance', 'roots', 'ruspop', 'rusrap', 'rusrock', 'russian',\n",
       "       'salsa', 'samba', 'scenic', 'schlager', 'self', 'sertanejo',\n",
       "       'shanson', 'shoegazing', 'showtunes', 'singer', 'ska', 'skarock',\n",
       "       'slow', 'smooth', 'soft', 'soul', 'soulful', 'sound', 'soundtrack',\n",
       "       'southern', 'specialty', 'speech', 'spiritual', 'sport',\n",
       "       'stonerrock', 'surf', 'swing', 'synthpop', 'synthrock',\n",
       "       'sängerportrait', 'tango', 'tanzorchester', 'taraftar', 'tatar',\n",
       "       'tech', 'techno', 'teen', 'thrash', 'top', 'traditional',\n",
       "       'tradjazz', 'trance', 'tribal', 'trip', 'triphop', 'tropical',\n",
       "       'türk', 'türkçe', 'ukrrock', 'unknown', 'urban', 'uzbek',\n",
       "       'variété', 'vi', 'videogame', 'vocal', 'western', 'world',\n",
       "       'worldbeat', 'ïîï', 'электроника'], dtype=object)"
      ]
     },
     "execution_count": 15,
     "metadata": {},
     "output_type": "execute_result"
    }
   ],
   "source": [
    "df['genre'].sort_values(ascending=True).unique()\n"
   ]
  },
  {
   "cell_type": "markdown",
   "metadata": {
    "deletable": false,
    "editable": false,
    "id": "qej-Qmuo_Zct",
    "tags": [
     "start_task"
    ]
   },
   "source": [
    "**Задание 16**\n",
    "\n",
    "Просмотрите список и найдите неявные дубликаты названия `hiphop`. Это могут быть названия с ошибками или альтернативные названия того же жанра.\n",
    "\n",
    "Вы увидите следующие неявные дубликаты:\n",
    "* *hip*,\n",
    "* *hop*,\n",
    "* *hip-hop*.\n",
    "\n",
    "Чтобы очистить от них таблицу, используйте метод `replace()` с двумя аргументами: списком строк-дубликатов (включающий *hip*, *hop* и *hip-hop*) и строкой с правильным значением. Вам нужно исправить колонку `genre` в таблице `df`: заменить каждое значение из списка дубликатов на верное. Вместо `hip`, `hop` и `hip-hop` в таблице должно быть значение `hiphop`:"
   ]
  },
  {
   "cell_type": "code",
   "execution_count": 16,
   "metadata": {
    "deletable": false,
    "id": "ErNDkmns_Zct"
   },
   "outputs": [],
   "source": [
    "df['genre'] = df['genre'].replace('hip','hiphop')\n",
    "df['genre'] = df['genre'].replace('hop','hiphop')\n",
    "df['genre'] = df['genre'].replace('hip-hop','hiphop')"
   ]
  },
  {
   "cell_type": "markdown",
   "metadata": {
    "deletable": false,
    "editable": false,
    "id": "zQKF16_RG15m",
    "tags": [
     "start_task"
    ]
   },
   "source": [
    "**Задание 17**\n",
    "\n",
    "Проверьте, что заменили неправильные названия:\n",
    "\n",
    "*   *hip*,\n",
    "*   *hop*,\n",
    "*   *hip-hop*.\n",
    "\n",
    "Выведите отсортированный список уникальных значений столбца `genre`:"
   ]
  },
  {
   "cell_type": "code",
   "execution_count": 17,
   "metadata": {
    "deletable": false,
    "id": "wvixALnFG15m"
   },
   "outputs": [
    {
     "data": {
      "text/plain": [
       "array(['acid', 'acoustic', 'action', 'adult', 'africa', 'afrikaans',\n",
       "       'alternative', 'alternativepunk', 'ambient', 'americana',\n",
       "       'animated', 'anime', 'arabesk', 'arabic', 'arena',\n",
       "       'argentinetango', 'art', 'audiobook', 'author', 'avantgarde',\n",
       "       'axé', 'baile', 'balkan', 'beats', 'bigroom', 'black', 'bluegrass',\n",
       "       'blues', 'bollywood', 'bossa', 'brazilian', 'breakbeat', 'breaks',\n",
       "       'broadway', 'cantautori', 'cantopop', 'canzone', 'caribbean',\n",
       "       'caucasian', 'celtic', 'chamber', 'chanson', 'children', 'chill',\n",
       "       'chinese', 'choral', 'christian', 'christmas', 'classical',\n",
       "       'classicmetal', 'club', 'colombian', 'comedy', 'conjazz',\n",
       "       'contemporary', 'country', 'cuban', 'dance', 'dancehall',\n",
       "       'dancepop', 'dark', 'death', 'deep', 'deutschrock', 'deutschspr',\n",
       "       'dirty', 'disco', 'dnb', 'documentary', 'downbeat', 'downtempo',\n",
       "       'drum', 'dub', 'dubstep', 'eastern', 'easy', 'electronic',\n",
       "       'electropop', 'emo', 'entehno', 'epicmetal', 'estrada', 'ethnic',\n",
       "       'eurofolk', 'european', 'experimental', 'extrememetal', 'fado',\n",
       "       'fairytail', 'film', 'fitness', 'flamenco', 'folk', 'folklore',\n",
       "       'folkmetal', 'folkrock', 'folktronica', 'forró', 'frankreich',\n",
       "       'französisch', 'french', 'funk', 'future', 'gangsta', 'garage',\n",
       "       'german', 'ghazal', 'gitarre', 'glitch', 'gospel', 'gothic',\n",
       "       'grime', 'grunge', 'gypsy', 'handsup', \"hard'n'heavy\", 'hardcore',\n",
       "       'hardstyle', 'hardtechno', 'hiphop', 'historisch', 'holiday',\n",
       "       'horror', 'house', 'hymn', 'idm', 'independent', 'indian', 'indie',\n",
       "       'indipop', 'industrial', 'inspirational', 'instrumental',\n",
       "       'international', 'irish', 'jam', 'japanese', 'jazz', 'jewish',\n",
       "       'jpop', 'jungle', 'k-pop', 'karadeniz', 'karaoke', 'kayokyoku',\n",
       "       'korean', 'laiko', 'latin', 'latino', 'leftfield', 'local',\n",
       "       'lounge', 'loungeelectronic', 'lovers', 'malaysian', 'mandopop',\n",
       "       'marschmusik', 'meditative', 'mediterranean', 'melodic', 'metal',\n",
       "       'metalcore', 'mexican', 'middle', 'minimal', 'miscellaneous',\n",
       "       'modern', 'mood', 'mpb', 'muslim', 'native', 'neoklassik', 'neue',\n",
       "       'new', 'newage', 'newwave', 'nu', 'nujazz', 'numetal', 'oceania',\n",
       "       'old', 'opera', 'orchestral', 'other', 'piano', 'podcasts', 'pop',\n",
       "       'popdance', 'popelectronic', 'popeurodance', 'poprussian', 'post',\n",
       "       'posthardcore', 'postrock', 'power', 'progmetal', 'progressive',\n",
       "       'psychedelic', 'punjabi', 'punk', 'quebecois', 'ragga', 'ram',\n",
       "       'rancheras', 'rap', 'rave', 'reggae', 'reggaeton', 'regional',\n",
       "       'relax', 'religious', 'retro', 'rhythm', 'rnb', 'rnr', 'rock',\n",
       "       'rockabilly', 'rockalternative', 'rockindie', 'rockother',\n",
       "       'romance', 'roots', 'ruspop', 'rusrap', 'rusrock', 'russian',\n",
       "       'salsa', 'samba', 'scenic', 'schlager', 'self', 'sertanejo',\n",
       "       'shanson', 'shoegazing', 'showtunes', 'singer', 'ska', 'skarock',\n",
       "       'slow', 'smooth', 'soft', 'soul', 'soulful', 'sound', 'soundtrack',\n",
       "       'southern', 'specialty', 'speech', 'spiritual', 'sport',\n",
       "       'stonerrock', 'surf', 'swing', 'synthpop', 'synthrock',\n",
       "       'sängerportrait', 'tango', 'tanzorchester', 'taraftar', 'tatar',\n",
       "       'tech', 'techno', 'teen', 'thrash', 'top', 'traditional',\n",
       "       'tradjazz', 'trance', 'tribal', 'trip', 'triphop', 'tropical',\n",
       "       'türk', 'türkçe', 'ukrrock', 'unknown', 'urban', 'uzbek',\n",
       "       'variété', 'vi', 'videogame', 'vocal', 'western', 'world',\n",
       "       'worldbeat', 'ïîï', 'электроника'], dtype=object)"
      ]
     },
     "execution_count": 17,
     "metadata": {},
     "output_type": "execute_result"
    }
   ],
   "source": [
    "df['genre'].sort_values(ascending=True).unique()"
   ]
  },
  {
   "cell_type": "markdown",
   "metadata": {
    "deletable": false,
    "editable": false,
    "id": "jz6a9-7HQUDd"
   },
   "source": [
    "**Выводы**\n",
    "\n",
    "Предобработка обнаружила три проблемы в данных:\n",
    "\n",
    "- нарушения в стиле заголовков,\n",
    "- пропущенные значения,\n",
    "- дубликаты — явные и неявные.\n",
    "\n",
    "Вы исправили заголовки, чтобы упростить работу с таблицей. Без дубликатов исследование станет более точным.\n",
    "\n",
    "Пропущенные значения вы заменили на `'unknown'`. Ещё предстоит увидеть, не повредят ли исследованию пропуски в колонке `genre`.\n",
    "\n",
    "Теперь можно перейти к проверке гипотез."
   ]
  },
  {
   "cell_type": "markdown",
   "metadata": {
    "deletable": false,
    "editable": false,
    "id": "WttZHXH0SqKk"
   },
   "source": [
    "## Проверка гипотез"
   ]
  },
  {
   "cell_type": "markdown",
   "metadata": {
    "deletable": false,
    "editable": false,
    "id": "Im936VVi_Zcu"
   },
   "source": [
    "### Сравнение поведения пользователей двух столиц"
   ]
  },
  {
   "cell_type": "markdown",
   "metadata": {
    "deletable": false,
    "editable": false,
    "id": "nwt_MuaL_Zcu"
   },
   "source": [
    "Первая гипотеза утверждает, что пользователи по-разному слушают музыку в Москве и Санкт-Петербурге. Проверьте это предположение по данным о трёх днях недели — понедельнике, среде и пятнице. Для этого:\n",
    "\n",
    "* Разделите пользователей Москвы и Санкт-Петербурга.\n",
    "* Сравните, сколько треков послушала каждая группа пользователей в понедельник, среду и пятницу.\n"
   ]
  },
  {
   "cell_type": "markdown",
   "metadata": {
    "deletable": false,
    "editable": false,
    "id": "8Dw_YMmT_Zcu",
    "tags": [
     "start_task"
    ]
   },
   "source": [
    "**Задание 18**\n",
    "\n",
    "Для тренировки сначала выполните каждый из расчётов по отдельности.\n",
    "\n",
    "Оцените активность пользователей в каждом городе. Сгруппируйте данные по городу и посчитайте прослушивания в каждой группе.\n",
    "\n"
   ]
  },
  {
   "cell_type": "code",
   "execution_count": 18,
   "metadata": {
    "deletable": false,
    "id": "0_Qs96oh_Zcu"
   },
   "outputs": [
    {
     "data": {
      "text/plain": [
       "city\n",
       "Moscow              42741\n",
       "Saint-Petersburg    18512\n",
       "Name: user_id, dtype: int64"
      ]
     },
     "execution_count": 18,
     "metadata": {},
     "output_type": "execute_result"
    }
   ],
   "source": [
    "df.groupby('city')['user_id'].count()"
   ]
  },
  {
   "cell_type": "markdown",
   "metadata": {
    "deletable": false,
    "editable": false,
    "id": "dzli3w8o_Zcu",
    "tags": [
     "start_task"
    ]
   },
   "source": [
    "В Москве прослушиваний больше, чем в Петербурге. Из этого не следует, что московские пользователи чаще слушают музыку. Просто самих пользователей в Москве больше.\n",
    "\n",
    "**Задание 19**\n",
    "\n",
    "Теперь сгруппируйте данные по дню недели и посчитайте прослушивания в понедельник, среду и пятницу. Учтите, что в данных есть информация о прослушиваниях только за эти дни.\n"
   ]
  },
  {
   "cell_type": "code",
   "execution_count": 19,
   "metadata": {
    "deletable": false,
    "id": "uZMKjiJz_Zcu"
   },
   "outputs": [
    {
     "data": {
      "text/plain": [
       "day\n",
       "Friday       21840\n",
       "Monday       21354\n",
       "Wednesday    18059\n",
       "Name: user_id, dtype: int64"
      ]
     },
     "execution_count": 19,
     "metadata": {},
     "output_type": "execute_result"
    }
   ],
   "source": [
    "df.groupby('day')['user_id'].count()\n"
   ]
  },
  {
   "cell_type": "markdown",
   "metadata": {
    "deletable": false,
    "editable": false,
    "id": "cC2tNrlL_Zcu"
   },
   "source": [
    "В среднем пользователи из двух городов менее активны по средам. Но картина может измениться, если рассмотреть каждый город в отдельности."
   ]
  },
  {
   "cell_type": "markdown",
   "metadata": {
    "deletable": false,
    "editable": false,
    "id": "POzs8bGa_Zcu",
    "tags": [
     "start_task"
    ]
   },
   "source": [
    "**Задание 20**\n",
    "\n",
    "\n",
    "Вы видели, как работает группировка по городу и по дням недели. Теперь напишите функцию, которая объединит два эти расчёта.\n",
    "\n",
    "Создайте функцию `number_tracks()`, которая посчитает прослушивания для заданного дня и города. Ей понадобятся два параметра:\n",
    "* день недели,\n",
    "* название города.\n",
    "\n",
    "В функции сохраните в переменную строки исходной таблицы, у которых значение:\n",
    "  * в колонке `day` равно параметру `day`,\n",
    "  * в колонке `city` равно параметру `city`.\n",
    "\n",
    "Для этого примените последовательную фильтрацию с логической индексацией (или сложные логические выражения в одну строку, если вы уже знакомы с ними).\n",
    "\n",
    "Затем посчитайте значения в столбце `user_id` получившейся таблицы. Результат сохраните в новую переменную. Верните эту переменную из функции."
   ]
  },
  {
   "cell_type": "code",
   "execution_count": 20,
   "metadata": {
    "deletable": false,
    "id": "Nz3GdQB1_Zcu"
   },
   "outputs": [],
   "source": [
    "def number_tracks(day,city):\n",
    "    track_list = df[df['day']==day]\n",
    "    track_list = track_list[track_list['city']==city]\n",
    "    track_list_count = track_list.groupby('user_id')['day'].count().sum()\n",
    "    return track_list_count \n",
    "        \n",
    "# <создание функции number_tracks()>\n",
    "# Объявляется функция с двумя параметрами: day, city.\n",
    "# В переменной track_list сохраняются те строки таблицы df, для которых\n",
    "# значение в столбце 'day' равно параметру day и одновременно значение\n",
    "# в столбце 'city' равно параметру city (используйте последовательную фильтрацию\n",
    "# с помощью логической индексации или сложные логические выражения в одну строку, если вы уже знакомы с ними).\n",
    "# В переменной track_list_count сохраняется число значений столбца 'user_id',\n",
    "# рассчитанное методом count() для таблицы track_list.\n",
    "# Функция возвращает число - значение track_list_count.\n",
    "\n",
    "# Функция для подсчёта прослушиваний для конкретного города и дня.\n",
    "# С помощью последовательной фильтрации с логической индексацией она\n",
    "# сначала получит из исходной таблицы строки с нужным днём,\n",
    "# затем из результата отфильтрует строки с нужным городом,\n",
    "# методом count() посчитает количество значений в колонке user_id.\n",
    "# Это количество функция вернёт в качестве результата"
   ]
  },
  {
   "cell_type": "markdown",
   "metadata": {
    "deletable": false,
    "editable": false,
    "id": "ytf7xFrFJQ2r",
    "tags": [
     "start_task"
    ]
   },
   "source": [
    "**Задание 21**\n",
    "\n",
    "Вызовите `number_tracks()` шесть раз, меняя значение параметров — так, чтобы получить данные для каждого города в каждый из трёх дней."
   ]
  },
  {
   "cell_type": "code",
   "execution_count": 21,
   "metadata": {
    "deletable": false,
    "id": "rJcRATNQ_Zcu"
   },
   "outputs": [
    {
     "data": {
      "text/plain": [
       "15740"
      ]
     },
     "execution_count": 21,
     "metadata": {},
     "output_type": "execute_result"
    }
   ],
   "source": [
    "number_tracks('Monday', 'Moscow')# количество прослушиваний в Москве по понедельникам"
   ]
  },
  {
   "cell_type": "code",
   "execution_count": 22,
   "metadata": {
    "deletable": false,
    "id": "hq_ncZ5T_Zcu"
   },
   "outputs": [
    {
     "data": {
      "text/plain": [
       "5614"
      ]
     },
     "execution_count": 22,
     "metadata": {},
     "output_type": "execute_result"
    }
   ],
   "source": [
    "number_tracks('Monday', 'Saint-Petersburg')# количество прослушиваний в Санкт-Петербурге по понедельникам"
   ]
  },
  {
   "cell_type": "code",
   "execution_count": 23,
   "metadata": {
    "deletable": false,
    "id": "_NTy2VPU_Zcu"
   },
   "outputs": [
    {
     "data": {
      "text/plain": [
       "11056"
      ]
     },
     "execution_count": 23,
     "metadata": {},
     "output_type": "execute_result"
    }
   ],
   "source": [
    "number_tracks('Wednesday', 'Moscow')# количество прослушиваний в Москве по средам"
   ]
  },
  {
   "cell_type": "code",
   "execution_count": 24,
   "metadata": {
    "deletable": false,
    "id": "j2y3TAwo_Zcu"
   },
   "outputs": [
    {
     "data": {
      "text/plain": [
       "7003"
      ]
     },
     "execution_count": 24,
     "metadata": {},
     "output_type": "execute_result"
    }
   ],
   "source": [
    "number_tracks('Wednesday', 'Saint-Petersburg')# количество прослушиваний в Санкт-Петербурге по средам"
   ]
  },
  {
   "cell_type": "code",
   "execution_count": 25,
   "metadata": {
    "deletable": false,
    "id": "vYDw5u_K_Zcu"
   },
   "outputs": [
    {
     "data": {
      "text/plain": [
       "15945"
      ]
     },
     "execution_count": 25,
     "metadata": {},
     "output_type": "execute_result"
    }
   ],
   "source": [
    "number_tracks('Friday', 'Moscow')# количество прослушиваний в Москве по пятницам"
   ]
  },
  {
   "cell_type": "code",
   "execution_count": 26,
   "metadata": {
    "deletable": false,
    "id": "8_yzFtW3_Zcu"
   },
   "outputs": [
    {
     "data": {
      "text/plain": [
       "5895"
      ]
     },
     "execution_count": 26,
     "metadata": {},
     "output_type": "execute_result"
    }
   ],
   "source": [
    "number_tracks('Friday', 'Saint-Petersburg')# количество прослушиваний в Санкт-Петербурге по пятницам"
   ]
  },
  {
   "cell_type": "markdown",
   "metadata": {
    "deletable": false,
    "editable": false,
    "id": "7QXffbO-_Zcu",
    "tags": [
     "start_task"
    ]
   },
   "source": [
    "**Задание 22**\n",
    "\n",
    "С помощью конструктора `pd.DataFrame` создайте таблицу, где\n",
    "* названия колонок — `['city', 'monday', 'wednesday', 'friday']`;\n",
    "* данные — результаты, которые вы получили с помощью `number_tracks`."
   ]
  },
  {
   "cell_type": "code",
   "execution_count": 27,
   "metadata": {
    "deletable": false,
    "id": "APAcLpOr_Zcu"
   },
   "outputs": [
    {
     "data": {
      "text/html": [
       "<div>\n",
       "<style scoped>\n",
       "    .dataframe tbody tr th:only-of-type {\n",
       "        vertical-align: middle;\n",
       "    }\n",
       "\n",
       "    .dataframe tbody tr th {\n",
       "        vertical-align: top;\n",
       "    }\n",
       "\n",
       "    .dataframe thead th {\n",
       "        text-align: right;\n",
       "    }\n",
       "</style>\n",
       "<table border=\"1\" class=\"dataframe\">\n",
       "  <thead>\n",
       "    <tr style=\"text-align: right;\">\n",
       "      <th></th>\n",
       "      <th>city</th>\n",
       "      <th>monday</th>\n",
       "      <th>wednesday</th>\n",
       "      <th>friday</th>\n",
       "    </tr>\n",
       "  </thead>\n",
       "  <tbody>\n",
       "    <tr>\n",
       "      <th>0</th>\n",
       "      <td>Moscow</td>\n",
       "      <td>15740</td>\n",
       "      <td>11056</td>\n",
       "      <td>15945</td>\n",
       "    </tr>\n",
       "    <tr>\n",
       "      <th>1</th>\n",
       "      <td>Saint-Petersburg</td>\n",
       "      <td>5614</td>\n",
       "      <td>7003</td>\n",
       "      <td>5895</td>\n",
       "    </tr>\n",
       "  </tbody>\n",
       "</table>\n",
       "</div>"
      ],
      "text/plain": [
       "               city  monday  wednesday  friday\n",
       "0            Moscow   15740      11056   15945\n",
       "1  Saint-Petersburg    5614       7003    5895"
      ]
     },
     "execution_count": 27,
     "metadata": {},
     "output_type": "execute_result"
    }
   ],
   "source": [
    "data = [['Moscow',15740,11056,15945],\n",
    "       ['Saint-Petersburg',5614,7003,5895]]\n",
    "\n",
    "columns = ['city', 'monday', 'wednesday', 'friday']\n",
    "\n",
    "table = pd.DataFrame(data=data, columns=columns)\n",
    "table# Таблица с результатами"
   ]
  },
  {
   "cell_type": "markdown",
   "metadata": {
    "deletable": false,
    "editable": false,
    "id": "-EgPIHYu_Zcu"
   },
   "source": [
    "**Выводы**\n",
    "\n",
    "Данные показывают разницу поведения пользователей:\n",
    "\n",
    "- В Москве пик прослушиваний приходится на понедельник и пятницу, а в среду заметен спад.\n",
    "- В Петербурге, наоборот, больше слушают музыку по средам. Активность в понедельник и пятницу здесь почти в равной мере уступает среде.\n",
    "\n",
    "Значит, данные говорят в пользу первой гипотезы."
   ]
  },
  {
   "cell_type": "markdown",
   "metadata": {
    "deletable": false,
    "editable": false,
    "id": "atZAxtq4_Zcu"
   },
   "source": [
    "### Музыка в начале и в конце недели"
   ]
  },
  {
   "cell_type": "markdown",
   "metadata": {
    "deletable": false,
    "editable": false,
    "id": "eXrQqXFH_Zcu"
   },
   "source": [
    "Согласно второй гипотезе, утром в понедельник в Москве преобладают одни жанры, а в Петербурге — другие. Так же и вечером пятницы преобладают разные жанры — в зависимости от города."
   ]
  },
  {
   "cell_type": "markdown",
   "metadata": {
    "deletable": false,
    "editable": false,
    "id": "S8UcW6Hw_Zcu",
    "tags": [
     "start_task"
    ]
   },
   "source": [
    "**Задание 23**\n",
    "\n",
    "Сохраните таблицы с данными в две переменные:\n",
    "* по Москве — в `moscow_general`;\n",
    "* по Санкт-Петербургу — в `spb_general`."
   ]
  },
  {
   "cell_type": "code",
   "execution_count": 28,
   "metadata": {
    "deletable": false,
    "id": "qeaFfM_P_Zcu"
   },
   "outputs": [],
   "source": [
    "moscow_general = df[df['city']=='Moscow']# получение таблицы moscow_general из тех строк таблицы df,\n",
    "# для которых значение в столбце 'city' равно 'Moscow'\n"
   ]
  },
  {
   "cell_type": "code",
   "execution_count": 29,
   "metadata": {
    "deletable": false,
    "id": "ORaVRKto_Zcu"
   },
   "outputs": [],
   "source": [
    "spb_general = df[df['city']=='Saint-Petersburg']# получение таблицы spb_general из тех строк таблицы df,\n",
    "# для которых значение в столбце 'city' равно 'Saint-Petersburg'\n"
   ]
  },
  {
   "cell_type": "markdown",
   "metadata": {
    "deletable": false,
    "id": "MEJV-CX2_Zcu",
    "tags": [
     "start_task"
    ]
   },
   "source": [
    "**Задание 24**\n",
    "\n",
    "Создайте функцию `genre_weekday()` с четырьмя параметрами:\n",
    "* таблица (датафрейм) с данными,\n",
    "* день недели,\n",
    "* начальная временная метка в формате 'hh:mm',\n",
    "* последняя временная метка в формате 'hh:mm'.\n",
    "\n",
    "Функция должна вернуть информацию о топ-10 жанров тех треков, которые прослушивали в указанный день, в промежутке между двумя отметками времени."
   ]
  },
  {
   "cell_type": "code",
   "execution_count": 30,
   "metadata": {
    "deletable": false,
    "id": "laJT9BYl_Zcu"
   },
   "outputs": [],
   "source": [
    "# Объявление функции genre_weekday() с параметрами df, day, time1, time2,\n",
    "# которая возвращает информацию о самых популярных жанрах в указанный день в\n",
    "# заданное время:\n",
    "# 1) в переменную genre_df сохраняются те строки переданного датафрейма df, для\n",
    "#    которых одновременно:\n",
    "#    - значение в столбце day равно значению аргумента day\n",
    "#    - значение в столбце time больше значения аргумента time1\n",
    "#    - значение в столбце time меньше значения аргумента time2\n",
    "#    Используйте последовательную фильтрацию с помощью логической индексации.\n",
    "# 2) сгруппировать датафрейм genre_df по столбцу genre, взять один из его\n",
    "#    столбцов и посчитать методом count() количество записей для каждого из\n",
    "#    присутствующих жанров, получившийся Series записать в переменную\n",
    "#    genre_df_grouped\n",
    "# 3) отсортировать genre_df_grouped по убыванию встречаемости и сохранить\n",
    "#    в переменную genre_df_sorted\n",
    "# 4) вернуть Series из 10 первых значений genre_df_sorted, это будут топ-10\n",
    "#    популярных жанров (в указанный день, в заданное время)\n",
    "\n",
    "def genre_weekday(df, day, time1, time2):\n",
    "    # последовательная фильтрация\n",
    "    # оставляем в genre_df только те строки df, у которых день равен day\n",
    "    genre_df = df[df['day'] == day]\n",
    "    # оставляем в genre_df только те строки genre_df, у которых время меньше time2\n",
    "    genre_df = genre_df[genre_df['time'] < time2]\n",
    "    # оставляем в genre_df только те строки genre_df, у которых время больше time1\n",
    "    genre_df = genre_df[genre_df['time'] > time1]\n",
    "    # сгруппируем отфильтрованный датафрейм по столбцу с названиями жанров, возьмём столбец genre и посчитаем кол-во строк для каждого жанра методом count()\n",
    "    genre_df_grouped = genre_df.groupby('genre')['genre'].count()\n",
    "    # отсортируем результат по убыванию (чтобы в начале Series оказались самые популярные жанры)\n",
    "    genre_df_sorted = genre_df_grouped.sort_values(ascending=False)\n",
    "    # вернём Series с 10 самыми популярными жанрами в указанный отрезок времени заданного дня\n",
    "    return genre_df_sorted[:10]\n",
    "\n",
    "\n",
    " "
   ]
  },
  {
   "cell_type": "markdown",
   "metadata": {
    "deletable": false,
    "editable": false,
    "id": "la2s2_PF_Zcu",
    "tags": [
     "start_task"
    ]
   },
   "source": [
    "**Задание 25**\n",
    "\n",
    "\n",
    "Cравните результаты функции `genre_weekday()` для Москвы и Санкт-Петербурга в понедельник утром (с 7:00 до 11:00) и в пятницу вечером (с 17:00 до 23:00):"
   ]
  },
  {
   "cell_type": "code",
   "execution_count": 31,
   "metadata": {
    "deletable": false,
    "id": "yz7itPUQ_Zcu"
   },
   "outputs": [
    {
     "data": {
      "text/plain": [
       "genre\n",
       "pop            781\n",
       "dance          549\n",
       "electronic     480\n",
       "rock           474\n",
       "hiphop         286\n",
       "ruspop         186\n",
       "world          181\n",
       "rusrap         175\n",
       "alternative    164\n",
       "unknown        161\n",
       "Name: genre, dtype: int64"
      ]
     },
     "execution_count": 31,
     "metadata": {},
     "output_type": "execute_result"
    }
   ],
   "source": [
    "genre_weekday(moscow_general, 'Monday', '07:00', '11:00')\n",
    "# вызов функции для утра понедельника в Москве (вместо df — таблица moscow_general)\n",
    "# объекты, хранящие время, являются строками и сравниваются как строки\n",
    "# пример вызова: genre_weekday(moscow_general, 'Monday', '07:00', '11:00')"
   ]
  },
  {
   "cell_type": "code",
   "execution_count": 32,
   "metadata": {
    "deletable": false,
    "id": "kwUcHPdy_Zcu"
   },
   "outputs": [
    {
     "data": {
      "text/plain": [
       "genre\n",
       "pop            218\n",
       "dance          182\n",
       "rock           162\n",
       "electronic     147\n",
       "hiphop          80\n",
       "ruspop          64\n",
       "alternative     58\n",
       "rusrap          55\n",
       "jazz            44\n",
       "classical       40\n",
       "Name: genre, dtype: int64"
      ]
     },
     "execution_count": 32,
     "metadata": {},
     "output_type": "execute_result"
    }
   ],
   "source": [
    "genre_weekday(spb_general, 'Monday', '07:00', '11:00')\n",
    "# вызов функции для утра понедельника в Петербурге (вместо df — таблица spb_general)"
   ]
  },
  {
   "cell_type": "code",
   "execution_count": 33,
   "metadata": {
    "deletable": false,
    "id": "EzXVRE1o_Zcu"
   },
   "outputs": [
    {
     "data": {
      "text/plain": [
       "genre\n",
       "pop            713\n",
       "rock           517\n",
       "dance          495\n",
       "electronic     482\n",
       "hiphop         273\n",
       "world          208\n",
       "ruspop         170\n",
       "alternative    163\n",
       "classical      163\n",
       "rusrap         142\n",
       "Name: genre, dtype: int64"
      ]
     },
     "execution_count": 33,
     "metadata": {},
     "output_type": "execute_result"
    }
   ],
   "source": [
    "genre_weekday(moscow_general, 'Friday','17:00','23:00') # вызов функции для вечера пятницы в Москве"
   ]
  },
  {
   "cell_type": "code",
   "execution_count": 34,
   "metadata": {
    "deletable": false,
    "id": "JZaEKu5v_Zcu"
   },
   "outputs": [
    {
     "data": {
      "text/plain": [
       "genre\n",
       "pop            256\n",
       "electronic     216\n",
       "rock           216\n",
       "dance          210\n",
       "hiphop          97\n",
       "alternative     63\n",
       "jazz            61\n",
       "classical       60\n",
       "rusrap          59\n",
       "world           54\n",
       "Name: genre, dtype: int64"
      ]
     },
     "execution_count": 34,
     "metadata": {},
     "output_type": "execute_result"
    }
   ],
   "source": [
    "genre_weekday(spb_general, 'Friday','17:00','23:00') # вызов функции для вечера пятницы в Петербурге"
   ]
  },
  {
   "cell_type": "markdown",
   "metadata": {
    "deletable": false,
    "editable": false,
    "id": "wrCe4MNX_Zcu"
   },
   "source": [
    "**Выводы**\n",
    "\n",
    "Если сравнить топ-10 жанров в понедельник утром, можно сделать такие выводы:\n",
    "\n",
    "1. В Москве и Петербурге слушают похожую музыку. Единственное различие — в московский рейтинг вошёл жанр “world”, а в петербургский — джаз и классика.\n",
    "\n",
    "2. В Москве пропущенных значений оказалось так много, что значение `'unknown'` заняло десятое место среди самых популярных жанров. Значит, пропущенные значения занимают существенную долю в данных и угрожают достоверности исследования.\n",
    "\n",
    "Вечер пятницы не меняет эту картину. Некоторые жанры поднимаются немного выше, другие спускаются, но в целом топ-10 остаётся тем же самым.\n",
    "\n",
    "Таким образом, вторая гипотеза подтвердилась лишь частично:\n",
    "* Пользователи слушают похожую музыку в начале недели и в конце.\n",
    "* Разница между Москвой и Петербургом не слишком выражена. В Москве чаще слушают русскую популярную музыку, в Петербурге — джаз.\n",
    "\n",
    "Однако пропуски в данных ставят под сомнение этот результат. В Москве их так много, что рейтинг топ-10 мог бы выглядеть иначе, если бы не утерянные  данные о жанрах."
   ]
  },
  {
   "cell_type": "markdown",
   "metadata": {
    "deletable": false,
    "editable": false,
    "id": "JolODAqr_Zcu"
   },
   "source": [
    "### Жанровые предпочтения в Москве и Петербурге\n",
    "\n",
    "Гипотеза: Петербург — столица рэпа, музыку этого жанра там слушают чаще, чем в Москве.  А Москва — город контрастов, в котором, тем не менее, преобладает поп-музыка."
   ]
  },
  {
   "cell_type": "markdown",
   "metadata": {
    "deletable": false,
    "editable": false,
    "id": "DlegSvaT_Zcu",
    "tags": [
     "start_task"
    ]
   },
   "source": [
    "**Задание 26**\n",
    "\n",
    "Сгруппируйте таблицу `moscow_general` по жанру и посчитайте прослушивания треков каждого жанра методом `count()`. Затем отсортируйте результат в порядке убывания и сохраните его в таблице `moscow_genres`."
   ]
  },
  {
   "cell_type": "code",
   "execution_count": 39,
   "metadata": {
    "deletable": false,
    "id": "r19lIPke_Zcu"
   },
   "outputs": [],
   "source": [
    "moscow_genres = moscow_general.groupby('genre')['genre'].count().sort_values(ascending=False)\n",
    "# одной строкой: группировка таблицы moscow_general по столбцу 'genre',\n",
    "# подсчёт числа значений 'genre' в этой группировке методом count(),\n",
    "# сортировка получившегося Series в порядке убывания и сохранение в moscow_genres\n"
   ]
  },
  {
   "cell_type": "markdown",
   "metadata": {
    "deletable": false,
    "editable": false,
    "id": "6kMuomxTiIr8",
    "tags": [
     "start_task"
    ]
   },
   "source": [
    "**Задание 27**\n",
    "\n",
    "Выведите на экран первые десять строк `moscow_genres`:"
   ]
  },
  {
   "cell_type": "code",
   "execution_count": 40,
   "metadata": {
    "deletable": false,
    "id": "WhCSooF8_Zcv"
   },
   "outputs": [
    {
     "data": {
      "text/plain": [
       "genre\n",
       "pop            5892\n",
       "dance          4435\n",
       "rock           3965\n",
       "electronic     3786\n",
       "hiphop         2096\n",
       "classical      1616\n",
       "world          1432\n",
       "alternative    1379\n",
       "ruspop         1372\n",
       "rusrap         1161\n",
       "Name: genre, dtype: int64"
      ]
     },
     "execution_count": 40,
     "metadata": {},
     "output_type": "execute_result"
    }
   ],
   "source": [
    "moscow_genres.head(10)# просмотр первых 10 строк moscow_genres"
   ]
  },
  {
   "cell_type": "markdown",
   "metadata": {
    "deletable": false,
    "editable": false,
    "id": "cnPG2vnN_Zcv",
    "tags": [
     "start_task"
    ]
   },
   "source": [
    "**Задание 28**\n",
    "\n",
    "\n",
    "Теперь повторите то же и для Петербурга.\n",
    "\n",
    "Сгруппируйте таблицу `spb_general` по жанру. Посчитайте прослушивания треков каждого жанра. Результат отсортируйте в порядке убывания и сохраните в таблице `spb_genres`:\n"
   ]
  },
  {
   "cell_type": "code",
   "execution_count": 42,
   "metadata": {
    "deletable": false,
    "id": "gluLIpE7_Zcv"
   },
   "outputs": [],
   "source": [
    "spb_genres = spb_general.groupby('genre')['genre'].count().sort_values(ascending=False)\n",
    "# одной строкой: группировка таблицы spb_general по столбцу 'genre',\n",
    "# подсчёт числа значений 'genre' в этой группировке методом count(),\n",
    "# сортировка получившегося Series в порядке убывания и сохранение в spb_genres"
   ]
  },
  {
   "cell_type": "markdown",
   "metadata": {
    "deletable": false,
    "editable": false,
    "id": "5Doha_ODgyQ8",
    "tags": [
     "start_task"
    ]
   },
   "source": [
    "**Задание 29**\n",
    "\n",
    "Выведите на экран первые десять строк `spb_genres`:"
   ]
  },
  {
   "cell_type": "code",
   "execution_count": 43,
   "metadata": {
    "deletable": false,
    "id": "uaGJHjVU_Zcv"
   },
   "outputs": [
    {
     "data": {
      "text/plain": [
       "genre\n",
       "pop            2431\n",
       "dance          1932\n",
       "rock           1879\n",
       "electronic     1736\n",
       "hiphop          960\n",
       "alternative     649\n",
       "classical       646\n",
       "rusrap          564\n",
       "ruspop          538\n",
       "world           515\n",
       "Name: genre, dtype: int64"
      ]
     },
     "execution_count": 43,
     "metadata": {},
     "output_type": "execute_result"
    }
   ],
   "source": [
    "spb_genres.head(10)# просмотр первых 10 строк spb_genres"
   ]
  },
  {
   "cell_type": "markdown",
   "metadata": {
    "deletable": false,
    "editable": false,
    "id": "RY51YJYu_Zcv"
   },
   "source": [
    "**Выводы**"
   ]
  },
  {
   "cell_type": "markdown",
   "metadata": {
    "deletable": false,
    "editable": false,
    "id": "nVhnJEm__Zcv"
   },
   "source": [
    "Гипотеза частично подтвердилась:\n",
    "* Поп-музыка — самый популярный жанр в Москве, как и предполагала гипотеза. Более того, в топ-10 жанров встречается близкий жанр — русская популярная музыка.\n",
    "* Вопреки ожиданиям, рэп одинаково популярен в Москве и Петербурге.\n"
   ]
  },
  {
   "cell_type": "markdown",
   "metadata": {
    "deletable": false,
    "editable": false,
    "id": "ykKQ0N65_Zcv"
   },
   "source": [
    "## Итоги исследования"
   ]
  },
  {
   "cell_type": "markdown",
   "metadata": {
    "deletable": false,
    "editable": false,
    "id": "tjUwbHb3_Zcv"
   },
   "source": [
    "Вы проверили три гипотезы и установили:\n",
    "\n",
    "1. День недели по-разному влияет на активность пользователей в Москве и Петербурге.\n",
    "\n",
    "Первая гипотеза полностью подтвердилась.\n",
    "\n",
    "2. Музыкальные предпочтения не сильно меняются в течение недели — будь то Москва или Петербург. Небольшие различия заметны в начале недели, по понедельникам:\n",
    "* в Москве слушают музыку жанра “world”,\n",
    "* в Петербурге — джаз и классику.\n",
    "\n",
    "Таким образом, вторая гипотеза подтвердилась лишь отчасти. Этот результат мог оказаться иным, если бы не пропуски в данных.\n",
    "\n",
    "3. Во вкусах пользователей Москвы и Петербурга больше общего, чем различий. Вопреки ожиданиям, предпочтения жанров в Петербурге напоминают московские.\n",
    "\n",
    "Третья гипотеза не подтвердилась. Если различия в предпочтениях и существуют, на основной массе пользователей они незаметны.\n",
    "\n",
    "**На практике исследования содержат проверки статистических гипотез.**\n",
    "Из данных одного сервиса не всегда можно сделать вывод о всех жителях города.\n",
    "Проверки статистических гипотез покажут, насколько они достоверны, исходя из имеющихся данных.\n",
    "С методами проверок гипотез вы ещё познакомитесь в следующих темах."
   ]
  }
 ],
 "metadata": {
  "ExecuteTimeLog": [
   {
    "duration": 424,
    "start_time": "2023-10-28T08:00:21.996Z"
   },
   {
    "duration": 137,
    "start_time": "2023-10-28T08:01:57.906Z"
   },
   {
    "duration": 174,
    "start_time": "2023-10-28T08:02:20.608Z"
   },
   {
    "duration": 16,
    "start_time": "2023-10-28T08:03:02.257Z"
   },
   {
    "duration": 30,
    "start_time": "2023-10-28T08:03:35.013Z"
   },
   {
    "duration": 5,
    "start_time": "2023-10-28T08:08:13.900Z"
   },
   {
    "duration": 12,
    "start_time": "2023-10-28T08:15:46.198Z"
   },
   {
    "duration": 4,
    "start_time": "2023-10-28T08:16:20.060Z"
   },
   {
    "duration": 27,
    "start_time": "2023-10-28T08:17:48.645Z"
   },
   {
    "duration": 31,
    "start_time": "2023-10-28T08:30:35.877Z"
   },
   {
    "duration": 26,
    "start_time": "2023-10-28T08:31:13.878Z"
   },
   {
    "duration": 11,
    "start_time": "2023-10-28T08:31:37.706Z"
   },
   {
    "duration": 67,
    "start_time": "2023-10-28T08:31:59.056Z"
   },
   {
    "duration": 67,
    "start_time": "2023-10-28T08:32:16.471Z"
   },
   {
    "duration": 88,
    "start_time": "2023-10-28T08:34:37.682Z"
   },
   {
    "duration": 73,
    "start_time": "2023-10-28T08:35:28.401Z"
   },
   {
    "duration": 9,
    "start_time": "2023-10-28T08:36:04.281Z"
   },
   {
    "duration": 79,
    "start_time": "2023-10-28T08:36:09.111Z"
   },
   {
    "duration": 6,
    "start_time": "2023-10-28T08:36:12.762Z"
   },
   {
    "duration": 78,
    "start_time": "2023-10-28T08:36:18.050Z"
   },
   {
    "duration": 79,
    "start_time": "2023-10-28T08:36:58.119Z"
   },
   {
    "duration": 84,
    "start_time": "2023-10-28T08:37:03.757Z"
   },
   {
    "duration": 70,
    "start_time": "2023-10-28T08:38:57.975Z"
   },
   {
    "duration": 67,
    "start_time": "2023-10-28T08:39:16.927Z"
   },
   {
    "duration": 9,
    "start_time": "2023-10-28T08:41:41.331Z"
   },
   {
    "duration": 8,
    "start_time": "2023-10-28T08:42:01.817Z"
   },
   {
    "duration": 87,
    "start_time": "2023-10-28T08:42:13.349Z"
   },
   {
    "duration": 9,
    "start_time": "2023-10-28T08:42:39.141Z"
   },
   {
    "duration": 71,
    "start_time": "2023-10-28T08:42:51.118Z"
   },
   {
    "duration": 6,
    "start_time": "2023-10-28T08:43:26.078Z"
   },
   {
    "duration": 7,
    "start_time": "2023-10-28T08:43:48.350Z"
   },
   {
    "duration": 3,
    "start_time": "2023-10-28T08:45:33.201Z"
   },
   {
    "duration": 2,
    "start_time": "2023-10-28T08:45:36.582Z"
   },
   {
    "duration": 8,
    "start_time": "2023-10-28T08:46:51.348Z"
   },
   {
    "duration": 6,
    "start_time": "2023-10-28T08:47:28.524Z"
   },
   {
    "duration": 6,
    "start_time": "2023-10-28T08:47:39.923Z"
   },
   {
    "duration": 52,
    "start_time": "2023-10-28T08:48:04.301Z"
   },
   {
    "duration": 38,
    "start_time": "2023-10-28T08:48:34.813Z"
   },
   {
    "duration": 40,
    "start_time": "2023-10-28T08:49:06.132Z"
   },
   {
    "duration": 8,
    "start_time": "2023-10-28T08:52:35.302Z"
   },
   {
    "duration": 9,
    "start_time": "2023-10-28T08:52:51.842Z"
   },
   {
    "duration": 11,
    "start_time": "2023-10-28T08:53:18.912Z"
   },
   {
    "duration": 9,
    "start_time": "2023-10-28T08:54:42.050Z"
   },
   {
    "duration": 41,
    "start_time": "2023-10-28T08:56:09.302Z"
   },
   {
    "duration": 7,
    "start_time": "2023-10-28T08:58:17.592Z"
   },
   {
    "duration": 33,
    "start_time": "2023-10-28T08:58:44.189Z"
   },
   {
    "duration": 13,
    "start_time": "2023-10-28T08:59:45.619Z"
   },
   {
    "duration": 10,
    "start_time": "2023-10-28T09:00:03.062Z"
   },
   {
    "duration": 35,
    "start_time": "2023-10-28T09:00:07.966Z"
   },
   {
    "duration": 28,
    "start_time": "2023-10-28T09:00:23.354Z"
   },
   {
    "duration": 28,
    "start_time": "2023-10-28T09:00:27.713Z"
   },
   {
    "duration": 4388,
    "start_time": "2023-10-28T09:01:45.433Z"
   },
   {
    "duration": 34,
    "start_time": "2023-10-28T09:02:17.102Z"
   },
   {
    "duration": 4,
    "start_time": "2023-10-28T09:03:24.550Z"
   },
   {
    "duration": 7,
    "start_time": "2023-10-28T09:03:37.610Z"
   },
   {
    "duration": 4,
    "start_time": "2023-10-28T09:04:15.915Z"
   },
   {
    "duration": 32,
    "start_time": "2023-10-28T09:05:34.182Z"
   },
   {
    "duration": 31,
    "start_time": "2023-10-28T09:06:02.477Z"
   },
   {
    "duration": 35,
    "start_time": "2023-10-28T09:06:52.745Z"
   },
   {
    "duration": 12,
    "start_time": "2023-10-28T09:07:13.385Z"
   },
   {
    "duration": 12,
    "start_time": "2023-10-28T09:07:34.514Z"
   },
   {
    "duration": 12,
    "start_time": "2023-10-28T09:08:13.126Z"
   },
   {
    "duration": 10,
    "start_time": "2023-10-28T09:10:17.485Z"
   },
   {
    "duration": 4,
    "start_time": "2023-10-28T09:10:47.033Z"
   },
   {
    "duration": 33,
    "start_time": "2023-10-28T09:10:56.254Z"
   },
   {
    "duration": 12,
    "start_time": "2023-10-28T09:11:22.100Z"
   },
   {
    "duration": 4,
    "start_time": "2023-10-28T09:35:11.016Z"
   },
   {
    "duration": 4,
    "start_time": "2023-10-28T09:41:22.970Z"
   },
   {
    "duration": 37,
    "start_time": "2023-10-28T09:43:32.884Z"
   },
   {
    "duration": 4,
    "start_time": "2023-10-28T09:44:10.859Z"
   },
   {
    "duration": 11,
    "start_time": "2023-10-28T09:45:25.801Z"
   },
   {
    "duration": 2,
    "start_time": "2023-10-28T09:45:52.148Z"
   },
   {
    "duration": 8,
    "start_time": "2023-10-28T09:46:20.312Z"
   },
   {
    "duration": 13,
    "start_time": "2023-10-28T09:46:38.835Z"
   },
   {
    "duration": 9,
    "start_time": "2023-10-28T09:46:59.857Z"
   },
   {
    "duration": 10,
    "start_time": "2023-10-28T09:47:33.667Z"
   },
   {
    "duration": 77,
    "start_time": "2023-10-28T09:47:38.289Z"
   },
   {
    "duration": 15,
    "start_time": "2023-10-28T09:47:46.086Z"
   },
   {
    "duration": 3,
    "start_time": "2023-10-28T09:47:53.069Z"
   },
   {
    "duration": 9,
    "start_time": "2023-10-28T09:47:57.909Z"
   },
   {
    "duration": 107,
    "start_time": "2023-10-28T09:48:57.770Z"
   },
   {
    "duration": 9,
    "start_time": "2023-10-28T09:49:25.518Z"
   },
   {
    "duration": 9,
    "start_time": "2023-10-28T09:49:43.713Z"
   },
   {
    "duration": 12,
    "start_time": "2023-10-28T09:50:00.609Z"
   },
   {
    "duration": 3,
    "start_time": "2023-10-28T09:50:26.411Z"
   },
   {
    "duration": 92,
    "start_time": "2023-10-28T09:50:28.123Z"
   },
   {
    "duration": 96,
    "start_time": "2023-10-28T09:50:33.282Z"
   },
   {
    "duration": 280,
    "start_time": "2023-10-28T09:50:43.510Z"
   },
   {
    "duration": 96,
    "start_time": "2023-10-28T09:51:19.130Z"
   },
   {
    "duration": 72,
    "start_time": "2023-10-28T09:51:21.764Z"
   },
   {
    "duration": 78,
    "start_time": "2023-10-28T09:51:37.599Z"
   },
   {
    "duration": 55,
    "start_time": "2023-10-28T09:52:04.258Z"
   },
   {
    "duration": 76,
    "start_time": "2023-10-28T09:52:15.565Z"
   },
   {
    "duration": 94,
    "start_time": "2023-10-28T09:52:43.586Z"
   },
   {
    "duration": 74,
    "start_time": "2023-10-28T09:52:48.768Z"
   },
   {
    "duration": 52,
    "start_time": "2023-10-28T09:53:13.815Z"
   },
   {
    "duration": 79,
    "start_time": "2023-10-28T09:53:20.024Z"
   },
   {
    "duration": 361,
    "start_time": "2023-10-28T09:53:30.963Z"
   },
   {
    "duration": 4,
    "start_time": "2023-10-28T09:58:05.660Z"
   },
   {
    "duration": 13,
    "start_time": "2023-10-28T09:58:29.726Z"
   },
   {
    "duration": 10,
    "start_time": "2023-10-28T09:58:49.940Z"
   },
   {
    "duration": 10,
    "start_time": "2023-10-28T09:59:09.006Z"
   },
   {
    "duration": 13,
    "start_time": "2023-10-28T09:59:13.398Z"
   },
   {
    "duration": 11,
    "start_time": "2023-10-28T09:59:35.433Z"
   },
   {
    "duration": 12,
    "start_time": "2023-10-28T09:59:42.865Z"
   },
   {
    "duration": 5,
    "start_time": "2023-10-28T10:00:59.081Z"
   },
   {
    "duration": 2,
    "start_time": "2023-10-28T10:00:59.315Z"
   },
   {
    "duration": 3,
    "start_time": "2023-10-28T10:01:19.932Z"
   },
   {
    "duration": 4,
    "start_time": "2023-10-28T10:03:38.138Z"
   },
   {
    "duration": 10,
    "start_time": "2023-10-28T10:04:35.985Z"
   },
   {
    "duration": 7,
    "start_time": "2023-10-28T10:06:09.764Z"
   },
   {
    "duration": 6,
    "start_time": "2023-10-28T10:06:27.878Z"
   },
   {
    "duration": 8,
    "start_time": "2023-10-28T10:07:04.999Z"
   },
   {
    "duration": 6,
    "start_time": "2023-10-28T10:07:06.711Z"
   },
   {
    "duration": 8,
    "start_time": "2023-10-28T10:07:23.793Z"
   },
   {
    "duration": 15,
    "start_time": "2023-10-28T10:08:52.945Z"
   },
   {
    "duration": 6,
    "start_time": "2023-10-28T10:09:07.039Z"
   },
   {
    "duration": 7,
    "start_time": "2023-10-28T10:09:38.234Z"
   },
   {
    "duration": 13,
    "start_time": "2023-10-28T10:10:19.098Z"
   },
   {
    "duration": 11,
    "start_time": "2023-10-28T10:10:24.941Z"
   },
   {
    "duration": 29,
    "start_time": "2023-10-28T10:10:34.748Z"
   },
   {
    "duration": 4,
    "start_time": "2023-10-28T10:10:56.885Z"
   },
   {
    "duration": 7,
    "start_time": "2023-10-28T10:11:15.577Z"
   },
   {
    "duration": 14,
    "start_time": "2023-10-28T10:11:25.906Z"
   },
   {
    "duration": 3,
    "start_time": "2023-10-28T10:11:50.800Z"
   },
   {
    "duration": 28,
    "start_time": "2023-10-28T10:11:52.770Z"
   },
   {
    "duration": 28,
    "start_time": "2023-10-28T10:12:18.610Z"
   },
   {
    "duration": 37,
    "start_time": "2023-10-28T10:12:46.902Z"
   },
   {
    "duration": 26,
    "start_time": "2023-10-28T10:12:50.064Z"
   },
   {
    "duration": 27,
    "start_time": "2023-10-28T10:13:57.319Z"
   },
   {
    "duration": 26,
    "start_time": "2023-10-28T10:13:58.094Z"
   },
   {
    "duration": 22,
    "start_time": "2023-10-28T10:13:58.480Z"
   },
   {
    "duration": 19,
    "start_time": "2023-10-28T10:13:58.830Z"
   },
   {
    "duration": 36,
    "start_time": "2023-10-28T10:13:59.217Z"
   },
   {
    "duration": 20,
    "start_time": "2023-10-28T10:13:59.757Z"
   },
   {
    "duration": 8,
    "start_time": "2023-10-28T10:15:56.941Z"
   },
   {
    "duration": 7,
    "start_time": "2023-10-28T10:17:57.350Z"
   },
   {
    "duration": 8,
    "start_time": "2023-10-28T10:18:16.653Z"
   },
   {
    "duration": 81,
    "start_time": "2023-10-28T10:24:25.653Z"
   },
   {
    "duration": 9,
    "start_time": "2023-10-28T10:24:41.055Z"
   },
   {
    "duration": 6,
    "start_time": "2023-10-28T10:43:41.398Z"
   },
   {
    "duration": 11,
    "start_time": "2023-10-28T10:47:11.142Z"
   },
   {
    "duration": 4,
    "start_time": "2023-10-28T10:47:17.287Z"
   },
   {
    "duration": 4,
    "start_time": "2023-10-28T10:47:17.869Z"
   },
   {
    "duration": 5,
    "start_time": "2023-10-28T10:47:18.768Z"
   },
   {
    "duration": 13,
    "start_time": "2023-10-28T10:50:15.892Z"
   },
   {
    "duration": 11,
    "start_time": "2023-10-28T10:50:24.030Z"
   },
   {
    "duration": 11,
    "start_time": "2023-10-28T10:50:37.878Z"
   },
   {
    "duration": 1711,
    "start_time": "2023-10-28T10:51:33.469Z"
   },
   {
    "duration": 10,
    "start_time": "2023-10-28T10:52:20.852Z"
   },
   {
    "duration": 5,
    "start_time": "2023-10-28T10:52:41.100Z"
   },
   {
    "duration": 1583,
    "start_time": "2023-10-28T10:53:24.646Z"
   },
   {
    "duration": 7,
    "start_time": "2023-10-28T10:53:45.553Z"
   },
   {
    "duration": 10,
    "start_time": "2023-10-28T10:54:24.258Z"
   },
   {
    "duration": 9,
    "start_time": "2023-10-28T10:54:56.617Z"
   },
   {
    "duration": 8,
    "start_time": "2023-10-28T10:55:05.100Z"
   },
   {
    "duration": 9,
    "start_time": "2023-10-28T10:55:07.852Z"
   },
   {
    "duration": 2,
    "start_time": "2023-10-28T10:55:18.300Z"
   },
   {
    "duration": 199,
    "start_time": "2023-10-28T10:55:18.304Z"
   },
   {
    "duration": 10,
    "start_time": "2023-10-28T10:55:18.506Z"
   },
   {
    "duration": 34,
    "start_time": "2023-10-28T10:55:18.518Z"
   },
   {
    "duration": 3,
    "start_time": "2023-10-28T10:55:18.555Z"
   },
   {
    "duration": 14,
    "start_time": "2023-10-28T10:55:18.559Z"
   },
   {
    "duration": 16,
    "start_time": "2023-10-28T10:55:18.575Z"
   },
   {
    "duration": 17,
    "start_time": "2023-10-28T10:55:18.593Z"
   },
   {
    "duration": 52,
    "start_time": "2023-10-28T10:55:18.612Z"
   },
   {
    "duration": 22,
    "start_time": "2023-10-28T10:55:18.666Z"
   },
   {
    "duration": 33,
    "start_time": "2023-10-28T10:55:18.690Z"
   },
   {
    "duration": 81,
    "start_time": "2023-10-28T10:55:18.724Z"
   },
   {
    "duration": 91,
    "start_time": "2023-10-28T10:55:18.806Z"
   },
   {
    "duration": 62,
    "start_time": "2023-10-28T10:55:18.900Z"
   },
   {
    "duration": 63,
    "start_time": "2023-10-28T10:55:18.964Z"
   },
   {
    "duration": 14,
    "start_time": "2023-10-28T10:55:19.029Z"
   },
   {
    "duration": 45,
    "start_time": "2023-10-28T10:55:19.045Z"
   },
   {
    "duration": 26,
    "start_time": "2023-10-28T10:55:19.092Z"
   },
   {
    "duration": 21,
    "start_time": "2023-10-28T10:55:19.120Z"
   },
   {
    "duration": 5,
    "start_time": "2023-10-28T10:55:19.143Z"
   },
   {
    "duration": 40,
    "start_time": "2023-10-28T10:55:19.150Z"
   },
   {
    "duration": 53,
    "start_time": "2023-10-28T10:55:19.192Z"
   },
   {
    "duration": 38,
    "start_time": "2023-10-28T10:55:19.247Z"
   },
   {
    "duration": 23,
    "start_time": "2023-10-28T10:55:19.287Z"
   },
   {
    "duration": 32,
    "start_time": "2023-10-28T10:55:19.313Z"
   },
   {
    "duration": 27,
    "start_time": "2023-10-28T10:55:19.347Z"
   },
   {
    "duration": 21,
    "start_time": "2023-10-28T10:55:19.376Z"
   },
   {
    "duration": 16,
    "start_time": "2023-10-28T10:55:19.413Z"
   },
   {
    "duration": 27,
    "start_time": "2023-10-28T10:55:19.431Z"
   },
   {
    "duration": 18,
    "start_time": "2023-10-28T10:55:19.461Z"
   },
   {
    "duration": 6,
    "start_time": "2023-10-28T10:55:19.481Z"
   },
   {
    "duration": 11,
    "start_time": "2023-10-28T10:55:19.490Z"
   },
   {
    "duration": 2,
    "start_time": "2023-10-28T10:55:19.507Z"
   },
   {
    "duration": 17,
    "start_time": "2023-10-28T10:55:19.511Z"
   },
   {
    "duration": 17,
    "start_time": "2023-10-28T10:55:19.529Z"
   },
   {
    "duration": 37,
    "start_time": "2023-10-28T10:55:19.548Z"
   },
   {
    "duration": 17,
    "start_time": "2023-10-28T10:55:19.587Z"
   },
   {
    "duration": 12,
    "start_time": "2023-10-28T10:55:19.606Z"
   },
   {
    "duration": 9,
    "start_time": "2023-10-28T10:56:42.796Z"
   },
   {
    "duration": 46,
    "start_time": "2023-10-28T10:56:55.082Z"
   },
   {
    "duration": 10,
    "start_time": "2023-10-28T10:57:17.023Z"
   },
   {
    "duration": 9,
    "start_time": "2023-10-28T10:58:08.084Z"
   },
   {
    "duration": 11,
    "start_time": "2023-10-28T10:58:14.212Z"
   },
   {
    "duration": 321,
    "start_time": "2023-10-28T10:59:37.000Z"
   },
   {
    "duration": 4,
    "start_time": "2023-10-28T10:59:40.890Z"
   },
   {
    "duration": 41,
    "start_time": "2023-10-28T11:00:00.380Z"
   },
   {
    "duration": 8,
    "start_time": "2023-10-28T11:00:38.005Z"
   },
   {
    "duration": 13,
    "start_time": "2023-10-28T11:00:44.269Z"
   },
   {
    "duration": 5,
    "start_time": "2023-10-28T11:01:32.751Z"
   },
   {
    "duration": 47,
    "start_time": "2023-10-28T11:01:52.762Z"
   },
   {
    "duration": 4,
    "start_time": "2023-10-28T11:01:59.998Z"
   },
   {
    "duration": 6,
    "start_time": "2023-10-28T11:02:27.878Z"
   },
   {
    "duration": 10,
    "start_time": "2023-10-28T11:02:48.053Z"
   },
   {
    "duration": 4,
    "start_time": "2023-10-28T11:03:18.082Z"
   },
   {
    "duration": 22,
    "start_time": "2023-10-28T11:03:54.823Z"
   },
   {
    "duration": 17,
    "start_time": "2023-10-28T11:04:48.402Z"
   },
   {
    "duration": 29,
    "start_time": "2023-10-28T11:05:30.903Z"
   },
   {
    "duration": 27,
    "start_time": "2023-10-28T11:05:50.731Z"
   },
   {
    "duration": 42,
    "start_time": "2023-10-28T11:06:13.068Z"
   },
   {
    "duration": 5,
    "start_time": "2023-10-28T11:06:45.236Z"
   },
   {
    "duration": 5,
    "start_time": "2023-10-28T11:07:48.364Z"
   },
   {
    "duration": 43,
    "start_time": "2023-10-28T11:10:05.074Z"
   },
   {
    "duration": 7,
    "start_time": "2023-10-28T11:10:09.757Z"
   },
   {
    "duration": 56,
    "start_time": "2023-10-28T11:10:45.776Z"
   },
   {
    "duration": 5,
    "start_time": "2023-10-28T11:11:23.594Z"
   },
   {
    "duration": 56,
    "start_time": "2023-10-28T11:11:40.419Z"
   },
   {
    "duration": 109,
    "start_time": "2023-10-28T11:12:29.440Z"
   },
   {
    "duration": 69,
    "start_time": "2023-10-28T11:12:47.318Z"
   },
   {
    "duration": 36,
    "start_time": "2023-10-28T11:13:50.262Z"
   },
   {
    "duration": 34,
    "start_time": "2023-10-28T11:13:56.612Z"
   },
   {
    "duration": 7,
    "start_time": "2023-10-28T11:14:25.429Z"
   },
   {
    "duration": 140,
    "start_time": "2023-10-28T11:14:28.639Z"
   },
   {
    "duration": 122,
    "start_time": "2023-10-28T11:14:45.435Z"
   },
   {
    "duration": 72,
    "start_time": "2023-10-28T11:14:59.470Z"
   },
   {
    "duration": 65,
    "start_time": "2023-10-28T11:15:28.691Z"
   },
   {
    "duration": 15,
    "start_time": "2023-10-28T11:15:50.913Z"
   },
   {
    "duration": 10,
    "start_time": "2023-10-28T11:16:37.968Z"
   },
   {
    "duration": 12,
    "start_time": "2023-10-28T11:16:51.171Z"
   },
   {
    "duration": 92,
    "start_time": "2023-10-28T11:17:28.328Z"
   },
   {
    "duration": 81,
    "start_time": "2023-10-28T11:17:42.492Z"
   },
   {
    "duration": 5,
    "start_time": "2023-10-28T11:20:47.396Z"
   },
   {
    "duration": 13,
    "start_time": "2023-10-28T11:24:42.234Z"
   },
   {
    "duration": 18,
    "start_time": "2023-10-28T11:24:52.299Z"
   },
   {
    "duration": 18,
    "start_time": "2023-10-28T11:24:59.474Z"
   },
   {
    "duration": 21,
    "start_time": "2023-10-28T11:25:35.566Z"
   },
   {
    "duration": 21,
    "start_time": "2023-10-28T11:25:44.669Z"
   },
   {
    "duration": 23,
    "start_time": "2023-10-28T11:26:02.208Z"
   },
   {
    "duration": 18,
    "start_time": "2023-10-28T11:26:06.271Z"
   },
   {
    "duration": 17,
    "start_time": "2023-10-28T11:26:09.527Z"
   },
   {
    "duration": 15,
    "start_time": "2023-10-28T11:26:16.332Z"
   },
   {
    "duration": 27,
    "start_time": "2023-10-28T11:26:25.932Z"
   },
   {
    "duration": 13,
    "start_time": "2023-10-28T11:26:33.948Z"
   },
   {
    "duration": 31,
    "start_time": "2023-10-28T11:26:47.215Z"
   },
   {
    "duration": 7,
    "start_time": "2023-10-28T11:27:09.415Z"
   },
   {
    "duration": 26,
    "start_time": "2023-10-28T11:27:15.202Z"
   },
   {
    "duration": 21,
    "start_time": "2023-10-28T11:27:30.492Z"
   },
   {
    "duration": 11,
    "start_time": "2023-10-28T11:27:35.244Z"
   },
   {
    "duration": 18,
    "start_time": "2023-10-28T11:27:39.256Z"
   },
   {
    "duration": 13,
    "start_time": "2023-10-28T11:27:44.826Z"
   },
   {
    "duration": 11,
    "start_time": "2023-10-28T11:27:53.573Z"
   },
   {
    "duration": 11,
    "start_time": "2023-10-28T11:27:56.687Z"
   },
   {
    "duration": 11,
    "start_time": "2023-10-28T11:28:15.357Z"
   },
   {
    "duration": 12,
    "start_time": "2023-10-28T11:28:34.459Z"
   },
   {
    "duration": 10,
    "start_time": "2023-10-28T11:28:48.281Z"
   },
   {
    "duration": 15,
    "start_time": "2023-10-28T11:28:52.932Z"
   },
   {
    "duration": 17,
    "start_time": "2023-10-28T11:29:02.606Z"
   },
   {
    "duration": 26,
    "start_time": "2023-10-28T11:29:13.781Z"
   },
   {
    "duration": 36,
    "start_time": "2023-10-28T11:29:21.637Z"
   },
   {
    "duration": 28,
    "start_time": "2023-10-28T11:29:30.675Z"
   },
   {
    "duration": 17,
    "start_time": "2023-10-28T11:30:02.137Z"
   },
   {
    "duration": 25,
    "start_time": "2023-10-28T11:30:22.706Z"
   },
   {
    "duration": 8,
    "start_time": "2023-10-28T11:30:58.774Z"
   },
   {
    "duration": 9,
    "start_time": "2023-10-28T11:31:00.774Z"
   },
   {
    "duration": 61,
    "start_time": "2023-10-28T11:31:24.014Z"
   },
   {
    "duration": 6,
    "start_time": "2023-10-28T11:31:33.022Z"
   },
   {
    "duration": 3,
    "start_time": "2023-10-28T11:31:38.744Z"
   },
   {
    "duration": 235,
    "start_time": "2023-10-28T11:31:38.749Z"
   },
   {
    "duration": 10,
    "start_time": "2023-10-28T11:31:38.986Z"
   },
   {
    "duration": 72,
    "start_time": "2023-10-28T11:31:38.998Z"
   },
   {
    "duration": 41,
    "start_time": "2023-10-28T11:31:39.072Z"
   },
   {
    "duration": 58,
    "start_time": "2023-10-28T11:31:39.115Z"
   },
   {
    "duration": 93,
    "start_time": "2023-10-28T11:31:39.175Z"
   },
   {
    "duration": 25,
    "start_time": "2023-10-28T11:31:39.269Z"
   },
   {
    "duration": 47,
    "start_time": "2023-10-28T11:31:39.295Z"
   },
   {
    "duration": 32,
    "start_time": "2023-10-28T11:31:39.343Z"
   },
   {
    "duration": 30,
    "start_time": "2023-10-28T11:31:39.376Z"
   },
   {
    "duration": 85,
    "start_time": "2023-10-28T11:31:39.409Z"
   },
   {
    "duration": 86,
    "start_time": "2023-10-28T11:31:39.495Z"
   },
   {
    "duration": 74,
    "start_time": "2023-10-28T11:31:39.584Z"
   },
   {
    "duration": 53,
    "start_time": "2023-10-28T11:31:39.660Z"
   },
   {
    "duration": 12,
    "start_time": "2023-10-28T11:31:39.718Z"
   },
   {
    "duration": 45,
    "start_time": "2023-10-28T11:31:39.731Z"
   },
   {
    "duration": 37,
    "start_time": "2023-10-28T11:31:39.777Z"
   },
   {
    "duration": 18,
    "start_time": "2023-10-28T11:31:39.817Z"
   },
   {
    "duration": 55,
    "start_time": "2023-10-28T11:31:39.837Z"
   },
   {
    "duration": 41,
    "start_time": "2023-10-28T11:31:39.909Z"
   },
   {
    "duration": 74,
    "start_time": "2023-10-28T11:31:39.952Z"
   },
   {
    "duration": 31,
    "start_time": "2023-10-28T11:31:40.030Z"
   },
   {
    "duration": 37,
    "start_time": "2023-10-28T11:31:40.063Z"
   },
   {
    "duration": 50,
    "start_time": "2023-10-28T11:31:40.102Z"
   },
   {
    "duration": 20,
    "start_time": "2023-10-28T11:31:40.154Z"
   },
   {
    "duration": 11,
    "start_time": "2023-10-28T11:31:40.176Z"
   },
   {
    "duration": 27,
    "start_time": "2023-10-28T11:31:40.189Z"
   },
   {
    "duration": 30,
    "start_time": "2023-10-28T11:31:40.219Z"
   },
   {
    "duration": 54,
    "start_time": "2023-10-28T11:31:40.251Z"
   },
   {
    "duration": 23,
    "start_time": "2023-10-28T11:31:40.308Z"
   },
   {
    "duration": 18,
    "start_time": "2023-10-28T11:31:40.333Z"
   },
   {
    "duration": 12,
    "start_time": "2023-10-28T11:31:40.353Z"
   },
   {
    "duration": 18,
    "start_time": "2023-10-28T11:31:40.367Z"
   },
   {
    "duration": 21,
    "start_time": "2023-10-28T11:31:40.387Z"
   },
   {
    "duration": 13,
    "start_time": "2023-10-28T11:31:40.410Z"
   },
   {
    "duration": 10,
    "start_time": "2023-10-28T11:31:40.425Z"
   },
   {
    "duration": 18,
    "start_time": "2023-10-28T11:31:40.436Z"
   },
   {
    "duration": 24,
    "start_time": "2023-10-28T11:31:51.605Z"
   },
   {
    "duration": 15,
    "start_time": "2023-10-28T11:32:00.268Z"
   },
   {
    "duration": 10,
    "start_time": "2023-10-28T11:32:31.179Z"
   },
   {
    "duration": 7,
    "start_time": "2023-10-28T11:33:15.238Z"
   },
   {
    "duration": 4,
    "start_time": "2023-10-28T11:34:59.599Z"
   },
   {
    "duration": 207,
    "start_time": "2023-10-28T11:34:59.606Z"
   },
   {
    "duration": 11,
    "start_time": "2023-10-28T11:34:59.816Z"
   },
   {
    "duration": 75,
    "start_time": "2023-10-28T11:34:59.828Z"
   },
   {
    "duration": 16,
    "start_time": "2023-10-28T11:34:59.912Z"
   },
   {
    "duration": 18,
    "start_time": "2023-10-28T11:34:59.935Z"
   },
   {
    "duration": 20,
    "start_time": "2023-10-28T11:34:59.955Z"
   },
   {
    "duration": 11,
    "start_time": "2023-10-28T11:34:59.978Z"
   },
   {
    "duration": 85,
    "start_time": "2023-10-28T11:34:59.991Z"
   },
   {
    "duration": 64,
    "start_time": "2023-10-28T11:35:00.078Z"
   },
   {
    "duration": 99,
    "start_time": "2023-10-28T11:35:00.143Z"
   },
   {
    "duration": 184,
    "start_time": "2023-10-28T11:35:00.243Z"
   },
   {
    "duration": 86,
    "start_time": "2023-10-28T11:35:00.429Z"
   },
   {
    "duration": 59,
    "start_time": "2023-10-28T11:35:00.518Z"
   },
   {
    "duration": 80,
    "start_time": "2023-10-28T11:35:00.578Z"
   },
   {
    "duration": 196,
    "start_time": "2023-10-28T11:35:00.660Z"
   },
   {
    "duration": 88,
    "start_time": "2023-10-28T11:35:00.858Z"
   },
   {
    "duration": 24,
    "start_time": "2023-10-28T11:35:00.947Z"
   },
   {
    "duration": 57,
    "start_time": "2023-10-28T11:35:00.973Z"
   },
   {
    "duration": 64,
    "start_time": "2023-10-28T11:35:01.032Z"
   },
   {
    "duration": 109,
    "start_time": "2023-10-28T11:35:01.098Z"
   },
   {
    "duration": 95,
    "start_time": "2023-10-28T11:35:01.209Z"
   },
   {
    "duration": 424,
    "start_time": "2023-10-28T11:35:01.306Z"
   },
   {
    "duration": 253,
    "start_time": "2023-10-28T11:35:01.733Z"
   },
   {
    "duration": 235,
    "start_time": "2023-10-28T11:35:01.989Z"
   },
   {
    "duration": 99,
    "start_time": "2023-10-28T11:35:02.226Z"
   },
   {
    "duration": 70,
    "start_time": "2023-10-28T11:35:02.327Z"
   },
   {
    "duration": 448,
    "start_time": "2023-10-28T11:35:02.399Z"
   },
   {
    "duration": 115,
    "start_time": "2023-10-28T11:35:02.849Z"
   },
   {
    "duration": 18,
    "start_time": "2023-10-28T11:35:02.968Z"
   },
   {
    "duration": 32,
    "start_time": "2023-10-28T11:35:02.989Z"
   },
   {
    "duration": 34,
    "start_time": "2023-10-28T11:35:03.024Z"
   },
   {
    "duration": 38,
    "start_time": "2023-10-28T11:35:03.060Z"
   },
   {
    "duration": 22,
    "start_time": "2023-10-28T11:35:03.100Z"
   },
   {
    "duration": 22,
    "start_time": "2023-10-28T11:35:03.125Z"
   },
   {
    "duration": 40,
    "start_time": "2023-10-28T11:35:03.149Z"
   },
   {
    "duration": 35,
    "start_time": "2023-10-28T11:35:03.191Z"
   },
   {
    "duration": 38,
    "start_time": "2023-10-28T11:35:03.228Z"
   },
   {
    "duration": 56,
    "start_time": "2023-10-28T15:31:12.796Z"
   },
   {
    "duration": 6,
    "start_time": "2023-10-28T15:31:35.084Z"
   },
   {
    "duration": 7,
    "start_time": "2023-10-28T15:31:56.598Z"
   },
   {
    "duration": 6,
    "start_time": "2023-10-28T15:32:03.569Z"
   },
   {
    "duration": 7,
    "start_time": "2023-10-28T15:32:05.848Z"
   },
   {
    "duration": 405,
    "start_time": "2023-10-28T15:32:16.760Z"
   },
   {
    "duration": 265,
    "start_time": "2023-10-28T15:32:17.167Z"
   },
   {
    "duration": 19,
    "start_time": "2023-10-28T15:32:17.433Z"
   },
   {
    "duration": 41,
    "start_time": "2023-10-28T15:32:17.454Z"
   },
   {
    "duration": 2,
    "start_time": "2023-10-28T15:32:17.497Z"
   },
   {
    "duration": 8,
    "start_time": "2023-10-28T15:32:17.501Z"
   },
   {
    "duration": 14,
    "start_time": "2023-10-28T15:32:17.511Z"
   },
   {
    "duration": 7,
    "start_time": "2023-10-28T15:32:17.533Z"
   },
   {
    "duration": 30,
    "start_time": "2023-10-28T15:32:17.541Z"
   },
   {
    "duration": 24,
    "start_time": "2023-10-28T15:32:17.572Z"
   },
   {
    "duration": 44,
    "start_time": "2023-10-28T15:32:17.598Z"
   },
   {
    "duration": 93,
    "start_time": "2023-10-28T15:32:17.645Z"
   },
   {
    "duration": 97,
    "start_time": "2023-10-28T15:32:17.740Z"
   },
   {
    "duration": 63,
    "start_time": "2023-10-28T15:32:17.841Z"
   },
   {
    "duration": 54,
    "start_time": "2023-10-28T15:32:17.905Z"
   },
   {
    "duration": 11,
    "start_time": "2023-10-28T15:32:17.961Z"
   },
   {
    "duration": 64,
    "start_time": "2023-10-28T15:32:17.973Z"
   },
   {
    "duration": 12,
    "start_time": "2023-10-28T15:32:18.039Z"
   },
   {
    "duration": 12,
    "start_time": "2023-10-28T15:32:18.052Z"
   },
   {
    "duration": 15,
    "start_time": "2023-10-28T15:32:18.065Z"
   },
   {
    "duration": 56,
    "start_time": "2023-10-28T15:32:18.082Z"
   },
   {
    "duration": 23,
    "start_time": "2023-10-28T15:32:18.139Z"
   },
   {
    "duration": 23,
    "start_time": "2023-10-28T15:32:18.163Z"
   },
   {
    "duration": 37,
    "start_time": "2023-10-28T15:32:18.188Z"
   },
   {
    "duration": 34,
    "start_time": "2023-10-28T15:32:18.230Z"
   },
   {
    "duration": 20,
    "start_time": "2023-10-28T15:32:18.266Z"
   },
   {
    "duration": 8,
    "start_time": "2023-10-28T15:32:18.287Z"
   },
   {
    "duration": 41,
    "start_time": "2023-10-28T15:32:18.297Z"
   },
   {
    "duration": 10,
    "start_time": "2023-10-28T15:32:18.339Z"
   },
   {
    "duration": 23,
    "start_time": "2023-10-28T15:32:18.351Z"
   },
   {
    "duration": 23,
    "start_time": "2023-10-28T15:32:18.375Z"
   },
   {
    "duration": 31,
    "start_time": "2023-10-28T15:32:18.400Z"
   },
   {
    "duration": 14,
    "start_time": "2023-10-28T15:32:18.433Z"
   },
   {
    "duration": 36,
    "start_time": "2023-10-28T15:32:18.449Z"
   },
   {
    "duration": 6,
    "start_time": "2023-10-28T15:32:18.487Z"
   },
   {
    "duration": 20,
    "start_time": "2023-10-28T15:32:18.494Z"
   },
   {
    "duration": 31,
    "start_time": "2023-10-28T15:32:18.515Z"
   },
   {
    "duration": 26,
    "start_time": "2023-10-28T15:32:18.548Z"
   },
   {
    "duration": 5,
    "start_time": "2023-10-28T15:34:33.349Z"
   },
   {
    "duration": 33,
    "start_time": "2023-10-28T15:55:50.050Z"
   },
   {
    "duration": 5,
    "start_time": "2023-10-28T15:56:32.198Z"
   },
   {
    "duration": 17,
    "start_time": "2023-10-28T15:56:36.984Z"
   },
   {
    "duration": 14,
    "start_time": "2023-10-28T15:58:13.250Z"
   },
   {
    "duration": 26,
    "start_time": "2023-10-28T15:59:02.524Z"
   },
   {
    "duration": 13,
    "start_time": "2023-10-28T15:59:04.188Z"
   },
   {
    "duration": 20,
    "start_time": "2023-10-28T16:00:20.714Z"
   },
   {
    "duration": 20,
    "start_time": "2023-10-28T16:00:21.958Z"
   },
   {
    "duration": 17,
    "start_time": "2023-10-28T16:00:22.268Z"
   },
   {
    "duration": 40,
    "start_time": "2023-10-28T16:04:33.511Z"
   },
   {
    "duration": 31,
    "start_time": "2023-10-28T16:05:31.948Z"
   },
   {
    "duration": 36,
    "start_time": "2023-10-28T16:05:51.204Z"
   },
   {
    "duration": 10,
    "start_time": "2023-10-28T16:06:28.085Z"
   },
   {
    "duration": 9,
    "start_time": "2023-10-28T16:07:14.272Z"
   },
   {
    "duration": 13,
    "start_time": "2023-10-28T16:07:22.772Z"
   },
   {
    "duration": 7,
    "start_time": "2023-10-28T16:07:56.920Z"
   },
   {
    "duration": 11,
    "start_time": "2023-10-28T16:08:27.486Z"
   },
   {
    "duration": 5,
    "start_time": "2023-10-28T16:09:07.167Z"
   },
   {
    "duration": 36,
    "start_time": "2023-10-28T16:09:56.412Z"
   },
   {
    "duration": 29,
    "start_time": "2023-10-28T16:10:10.107Z"
   },
   {
    "duration": 8,
    "start_time": "2023-10-28T16:10:20.612Z"
   },
   {
    "duration": 11,
    "start_time": "2023-10-28T16:11:40.319Z"
   },
   {
    "duration": 5,
    "start_time": "2023-10-28T16:11:43.013Z"
   },
   {
    "duration": 32,
    "start_time": "2023-10-28T16:14:20.268Z"
   },
   {
    "duration": 8,
    "start_time": "2023-10-28T16:14:21.502Z"
   },
   {
    "duration": 25,
    "start_time": "2023-10-28T16:16:05.616Z"
   },
   {
    "duration": 8,
    "start_time": "2023-10-28T16:16:07.904Z"
   },
   {
    "duration": 402,
    "start_time": "2023-10-28T16:16:54.345Z"
   },
   {
    "duration": 187,
    "start_time": "2023-10-28T16:16:54.749Z"
   },
   {
    "duration": 16,
    "start_time": "2023-10-28T16:16:54.938Z"
   },
   {
    "duration": 258,
    "start_time": "2023-10-28T16:16:54.955Z"
   },
   {
    "duration": 75,
    "start_time": "2023-10-28T16:16:55.215Z"
   },
   {
    "duration": 120,
    "start_time": "2023-10-28T16:16:55.292Z"
   },
   {
    "duration": 65,
    "start_time": "2023-10-28T16:16:55.414Z"
   },
   {
    "duration": 84,
    "start_time": "2023-10-28T16:16:55.481Z"
   },
   {
    "duration": 131,
    "start_time": "2023-10-28T16:16:55.567Z"
   },
   {
    "duration": 124,
    "start_time": "2023-10-28T16:16:55.700Z"
   },
   {
    "duration": 82,
    "start_time": "2023-10-28T16:16:55.826Z"
   },
   {
    "duration": 181,
    "start_time": "2023-10-28T16:16:55.910Z"
   },
   {
    "duration": 156,
    "start_time": "2023-10-28T16:16:56.093Z"
   },
   {
    "duration": 84,
    "start_time": "2023-10-28T16:16:56.252Z"
   },
   {
    "duration": 146,
    "start_time": "2023-10-28T16:16:56.338Z"
   },
   {
    "duration": 10,
    "start_time": "2023-10-28T16:16:56.485Z"
   },
   {
    "duration": 99,
    "start_time": "2023-10-28T16:16:56.497Z"
   },
   {
    "duration": 12,
    "start_time": "2023-10-28T16:16:56.597Z"
   },
   {
    "duration": 38,
    "start_time": "2023-10-28T16:16:56.611Z"
   },
   {
    "duration": 14,
    "start_time": "2023-10-28T16:16:56.651Z"
   },
   {
    "duration": 79,
    "start_time": "2023-10-28T16:16:56.666Z"
   },
   {
    "duration": 79,
    "start_time": "2023-10-28T16:16:56.747Z"
   },
   {
    "duration": 76,
    "start_time": "2023-10-28T16:16:56.828Z"
   },
   {
    "duration": 56,
    "start_time": "2023-10-28T16:16:56.906Z"
   },
   {
    "duration": 110,
    "start_time": "2023-10-28T16:16:56.964Z"
   },
   {
    "duration": 36,
    "start_time": "2023-10-28T16:16:57.075Z"
   },
   {
    "duration": 136,
    "start_time": "2023-10-28T16:16:57.113Z"
   },
   {
    "duration": 105,
    "start_time": "2023-10-28T16:16:57.252Z"
   },
   {
    "duration": 40,
    "start_time": "2023-10-28T16:16:57.359Z"
   },
   {
    "duration": 37,
    "start_time": "2023-10-28T16:16:57.401Z"
   },
   {
    "duration": 71,
    "start_time": "2023-10-28T16:16:57.440Z"
   },
   {
    "duration": 18,
    "start_time": "2023-10-28T16:16:57.513Z"
   },
   {
    "duration": 45,
    "start_time": "2023-10-28T16:16:57.533Z"
   },
   {
    "duration": 44,
    "start_time": "2023-10-28T16:16:57.579Z"
   },
   {
    "duration": 31,
    "start_time": "2023-10-28T16:16:57.625Z"
   },
   {
    "duration": 61,
    "start_time": "2023-10-28T16:16:57.658Z"
   },
   {
    "duration": 47,
    "start_time": "2023-10-28T16:16:57.721Z"
   },
   {
    "duration": 23,
    "start_time": "2023-10-28T16:16:57.770Z"
   },
   {
    "duration": 26,
    "start_time": "2023-10-28T16:18:44.283Z"
   },
   {
    "duration": 90,
    "start_time": "2023-10-28T16:19:09.144Z"
   },
   {
    "duration": 9,
    "start_time": "2023-10-28T16:19:10.930Z"
   },
   {
    "duration": 24,
    "start_time": "2023-10-28T16:19:32.505Z"
   },
   {
    "duration": 10,
    "start_time": "2023-10-28T16:19:33.279Z"
   },
   {
    "duration": 11,
    "start_time": "2023-10-28T16:20:10.349Z"
   },
   {
    "duration": 85,
    "start_time": "2023-10-28T16:20:34.995Z"
   },
   {
    "duration": 10,
    "start_time": "2023-10-28T16:21:38.092Z"
   },
   {
    "duration": 9,
    "start_time": "2023-10-28T16:21:40.763Z"
   },
   {
    "duration": 16,
    "start_time": "2023-10-28T16:21:58.632Z"
   },
   {
    "duration": 6,
    "start_time": "2023-10-28T16:21:59.253Z"
   },
   {
    "duration": 390,
    "start_time": "2023-10-28T16:22:26.163Z"
   },
   {
    "duration": 192,
    "start_time": "2023-10-28T16:22:26.555Z"
   },
   {
    "duration": 19,
    "start_time": "2023-10-28T16:22:26.748Z"
   },
   {
    "duration": 33,
    "start_time": "2023-10-28T16:22:26.770Z"
   },
   {
    "duration": 3,
    "start_time": "2023-10-28T16:22:26.825Z"
   },
   {
    "duration": 13,
    "start_time": "2023-10-28T16:22:26.830Z"
   },
   {
    "duration": 14,
    "start_time": "2023-10-28T16:22:26.845Z"
   },
   {
    "duration": 7,
    "start_time": "2023-10-28T16:22:26.861Z"
   },
   {
    "duration": 71,
    "start_time": "2023-10-28T16:22:26.870Z"
   },
   {
    "duration": 22,
    "start_time": "2023-10-28T16:22:26.943Z"
   },
   {
    "duration": 29,
    "start_time": "2023-10-28T16:22:26.967Z"
   },
   {
    "duration": 91,
    "start_time": "2023-10-28T16:22:26.998Z"
   },
   {
    "duration": 87,
    "start_time": "2023-10-28T16:22:27.091Z"
   },
   {
    "duration": 77,
    "start_time": "2023-10-28T16:22:27.181Z"
   },
   {
    "duration": 44,
    "start_time": "2023-10-28T16:22:27.260Z"
   },
   {
    "duration": 26,
    "start_time": "2023-10-28T16:22:27.306Z"
   },
   {
    "duration": 42,
    "start_time": "2023-10-28T16:22:27.334Z"
   },
   {
    "duration": 17,
    "start_time": "2023-10-28T16:22:27.377Z"
   },
   {
    "duration": 39,
    "start_time": "2023-10-28T16:22:27.396Z"
   },
   {
    "duration": 4,
    "start_time": "2023-10-28T16:22:27.437Z"
   },
   {
    "duration": 33,
    "start_time": "2023-10-28T16:22:27.443Z"
   },
   {
    "duration": 47,
    "start_time": "2023-10-28T16:22:27.478Z"
   },
   {
    "duration": 25,
    "start_time": "2023-10-28T16:22:27.527Z"
   },
   {
    "duration": 20,
    "start_time": "2023-10-28T16:22:27.554Z"
   },
   {
    "duration": 51,
    "start_time": "2023-10-28T16:22:27.575Z"
   },
   {
    "duration": 20,
    "start_time": "2023-10-28T16:22:27.628Z"
   },
   {
    "duration": 9,
    "start_time": "2023-10-28T16:22:27.649Z"
   },
   {
    "duration": 13,
    "start_time": "2023-10-28T16:22:27.659Z"
   },
   {
    "duration": 10,
    "start_time": "2023-10-28T16:22:27.674Z"
   },
   {
    "duration": 5,
    "start_time": "2023-10-28T16:22:27.685Z"
   },
   {
    "duration": 49,
    "start_time": "2023-10-28T16:22:27.691Z"
   },
   {
    "duration": 12,
    "start_time": "2023-10-28T16:22:27.741Z"
   },
   {
    "duration": 19,
    "start_time": "2023-10-28T16:22:27.755Z"
   },
   {
    "duration": 13,
    "start_time": "2023-10-28T16:22:27.775Z"
   },
   {
    "duration": 38,
    "start_time": "2023-10-28T16:22:27.790Z"
   },
   {
    "duration": 5,
    "start_time": "2023-10-28T16:22:27.829Z"
   },
   {
    "duration": 5,
    "start_time": "2023-10-28T16:22:27.835Z"
   },
   {
    "duration": 5,
    "start_time": "2023-10-28T16:22:27.841Z"
   },
   {
    "duration": 10,
    "start_time": "2023-10-28T16:24:36.144Z"
   },
   {
    "duration": 5,
    "start_time": "2023-10-28T16:24:36.842Z"
   },
   {
    "duration": 66,
    "start_time": "2023-10-28T16:25:24.815Z"
   },
   {
    "duration": 7,
    "start_time": "2023-10-28T16:25:27.823Z"
   },
   {
    "duration": 5,
    "start_time": "2023-10-28T16:25:28.598Z"
   }
  ],
  "colab": {
   "collapsed_sections": [
    "E0vqbgi9ay0H",
    "VUC88oWjTJw2"
   ],
   "provenance": []
  },
  "kernelspec": {
   "display_name": "Python 3 (ipykernel)",
   "language": "python",
   "name": "python3"
  },
  "language_info": {
   "codemirror_mode": {
    "name": "ipython",
    "version": 3
   },
   "file_extension": ".py",
   "mimetype": "text/x-python",
   "name": "python",
   "nbconvert_exporter": "python",
   "pygments_lexer": "ipython3",
   "version": "3.9.5"
  },
  "toc": {
   "base_numbering": 1,
   "nav_menu": {
    "height": "215px",
    "width": "403px"
   },
   "number_sections": true,
   "sideBar": true,
   "skip_h1_title": true,
   "title_cell": "Table of Contents",
   "title_sidebar": "Contents",
   "toc_cell": false,
   "toc_position": {
    "height": "calc(100% - 180px)",
    "left": "10px",
    "top": "150px",
    "width": "285.825px"
   },
   "toc_section_display": true,
   "toc_window_display": false
  }
 },
 "nbformat": 4,
 "nbformat_minor": 1
}
